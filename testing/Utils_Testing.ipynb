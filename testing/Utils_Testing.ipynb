{
 "cells": [
  {
   "cell_type": "code",
   "execution_count": 65,
   "metadata": {},
   "outputs": [
    {
     "name": "stdout",
     "output_type": "stream",
     "text": [
      "The autoreload extension is already loaded. To reload it, use:\n",
      "  %reload_ext autoreload\n"
     ]
    }
   ],
   "source": [
    "import sys\n",
    "sys.path.append('../../AMBRA_Utils/')\n",
    "\n",
    "import utils\n",
    "\n",
    "import ipywidgets as wdg\n",
    "from IPython.display import display\n",
    "\n",
    "%load_ext autoreload\n",
    "%autoreload 2"
   ]
  },
  {
   "cell_type": "code",
   "execution_count": 66,
   "metadata": {},
   "outputs": [
    {
     "data": {
      "application/vnd.jupyter.widget-view+json": {
       "model_id": "ad096fbcd5fe4ccf841315735ee4d35f",
       "version_major": 2,
       "version_minor": 0
      },
      "text/plain": [
       "VBox(children=(Text(value='malonetc@ucmail.uc.edu', placeholder='Username'), Password(placeholder='Password'))…"
      ]
     },
     "metadata": {},
     "output_type": "display_data"
    }
   ],
   "source": [
    "uname_wdg = wdg.Text(placeholder='Username', value='malonetc@ucmail.uc.edu')\n",
    "pwd_wdg = wdg.Password(placeholder='Password')\n",
    "\n",
    "login_box = wdg.VBox([uname_wdg, pwd_wdg])\n",
    "    \n",
    "display(login_box)"
   ]
  },
  {
   "cell_type": "code",
   "execution_count": 67,
   "metadata": {},
   "outputs": [],
   "source": [
    "ambra = utils.Utils(uname_wdg.value, pwd_wdg.value)"
   ]
  },
  {
   "cell_type": "code",
   "execution_count": 68,
   "metadata": {},
   "outputs": [
    {
     "data": {
      "text/plain": [
       "{'ROSE': '1e72b29d-a0a3-405f-ada9-69a2628cee94',\n",
       " 'APRISE': '437302f0-be9e-4e3b-a7f0-8ee2eb342ce8',\n",
       " 'IRSD': 'd1674f7a-6bc2-459f-9f32-3bf1fcd98fd6',\n",
       " 'MOST': 'bcfd0348-5ac8-4710-bd87-c78d66743114',\n",
       " 'UC Research Clearinghouse': 'bf1383a9-7fb5-4f46-8702-b5942dec7d99',\n",
       " 'FASTEST': '69ce2e78-1567-4f2a-8e1c-065ddba4c199',\n",
       " 'SENSE': '934eeb18-a618-4a5f-bf31-2be57c7c7b10',\n",
       " 'AI-BAC': 'c9733518-453b-4ddb-beab-e86210849346'}"
      ]
     },
     "execution_count": 68,
     "metadata": {},
     "output_type": "execute_result"
    }
   ],
   "source": [
    "ambra.get_account_uuids()"
   ]
  },
  {
   "cell_type": "code",
   "execution_count": 8,
   "metadata": {},
   "outputs": [],
   "source": [
    "# ambra.get_user_namespaces()"
   ]
  },
  {
   "cell_type": "code",
   "execution_count": 9,
   "metadata": {},
   "outputs": [
    {
     "name": "stdout",
     "output_type": "stream",
     "text": [
      "21-394355 CT 20200127 220\n",
      "21-394355 CT 20200127 220\n",
      "21-394355 CT 20200127 220\n",
      "21-394355 CT 20200127 220\n",
      "21-394355 CT 20200126 221\n",
      "21-394355 CT 20200126 221\n",
      "21-394355 CT 20200126 221\n",
      "21-394355 CT 20200126 221\n",
      "21-394355 CT 20200121 218\n",
      "21-394355 CT 20200121 218\n",
      "21-394355 CT 20200121 218\n",
      "21-394355 CT 20200121 218\n",
      "21-394355 CT 20200120 860\n",
      "21-394355 CT 20200120 860\n",
      "21-394355 CT 20200120 860\n",
      "21-394355 CT 20200120 860\n",
      "21-394355 MR 20200122 1174\n",
      "21-394355 MR 20200122 1174\n",
      "21-394355 MR 20200122 1174\n",
      "21-394355 MR 20200122 1174\n",
      "21-394355 CT 20200127 220\n",
      "21-394355 CT 20200126 221\n",
      "21-394355 CT 20200121 218\n",
      "21-394355 CT 20200120 860\n",
      "21-394355 MR 20200122 1174\n",
      "21-394355 MR 20200124 4840\n",
      "21-394355 MR 20200124 4840\n",
      "21-394355 MR 20200124 4840\n",
      "21-394355 MR 20200124 4840\n",
      "21-394355 MR 20200124 4840\n"
     ]
    }
   ],
   "source": [
    "studies = ambra.get_studies_by_id('21-394355')\n",
    "for study in studies:\n",
    "    print(study.patientid, study.modality, study.study_date, study.image_count)"
   ]
  },
  {
   "cell_type": "code",
   "execution_count": null,
   "metadata": {},
   "outputs": [],
   "source": []
  },
  {
   "cell_type": "code",
   "execution_count": 59,
   "metadata": {
    "scrolled": false
   },
   "outputs": [
    {
     "name": "stdout",
     "output_type": "stream",
     "text": [
      "patientid\t21-394355\n",
      "radreports\t[]\n",
      "study_uid\t1.2.840.113619.2.416.48378590212684471798638022764392501886\n",
      "is_locked\t0\n",
      "created\t2020-06-11 11:07:42.617748-07\n",
      "patientid_other\t\n",
      "patient_birth_time\t\n",
      "local_storage_vm\t\n",
      "patient_ethnic_group\t\n",
      "hl7\t[]\n",
      "patient_age\t072Y\n",
      "study_status\tNone\n",
      "patient_occupation\t\n",
      "patient_birth_date\t\n",
      "is_frozen\t0\n",
      "patient_size\t0.0\n",
      "star\t0\n",
      "must_approve\t0\n",
      "source\tshare\n",
      "patient_institution_residence\tNone\n",
      "modality\tCT\n",
      "viewer_link\thttps://access.dicomgrid.com/viewer/#study/e754aaaf-b7bd-4756-9e14-926c007915dc/1.2.840.113619.2.416.48378590212684471798638022764392501886/74c3e511-2dcd-4c49-9e83-863094fc84fa\n",
      "patient_name_other\tNone\n",
      "image_count\t220\n",
      "study_date\t20200127\n",
      "customfields\t[{'name': 'Site Number', 'uuid': 'ba7aef15-af21-4523-9af3-16cf54913dc4', 'type': 'number', 'options': '{\"values\":[\"\"],\"show_when\":{},\"validate\":\"\",\"validate_error\":\"\",\"hint\":\"\",\"max_length\":\"\",\"field_label\":\"\",\"admin_only\":\"\",\"search_source\":\"\"}', 'required': 0, 'value': '21'}, {'name': 'Subject Number', 'uuid': 'ed171501-32d7-460d-9068-f8c9ae37f952', 'value': '21-394355', 'options': '{\"values\":[],\"suggested_values\":[],\"hint_values\":[],\"show_when\":{},\"validate\":\"/^\\\\\\\\d{2}-\\\\\\\\d{6}$/\",\"validate_error\":\"Must be in format 00-000000\",\"hint\":\"Subject number is 8 digits, 2 digit site number and a 6 digit subject number, separated by a hyphen\",\"max_length\":\"\",\"field_label\":\"\",\"admin_only\":\"\",\"search_source\":\"\"}', 'required': 1, 'type': 'text'}, {'name': 'Comments', 'uuid': '22fd4222-f387-4938-a622-ebed9bc63b97', 'required': 0, 'options': '{\"values\":[\"\"],\"show_when\":{},\"validate\":\"\",\"validate_error\":\"\",\"hint\":\"Please enter any deviations here.\",\"max_length\":\"\",\"field_label\":\"\",\"admin_only\":\"\",\"search_source\":\"\"}', 'type': 'memo', 'value': 'Clinical Sequences'}, {'required': 0, 'options': '{\"values\":[\"\"],\"show_when\":{},\"validate\":\"\",\"validate_error\":\"\",\"hint\":\"\",\"max_length\":\"\",\"field_label\":\"\",\"admin_only\":\"\",\"search_source\":\"\"}', 'type': 'text', 'value': '', 'uuid': '2c1d145e-d4ec-4ac1-8806-c80f1003bb23', 'name': 'reject_message'}]\n",
      "accession_number\t\n",
      "patient_address\tNone\n",
      "patient_sex\tO\n",
      "phantom\t0\n",
      "phi_namespace_name\tUniversity of Cincinnati - Site 21\n",
      "updated\t2020-06-11 11:07:45.422473-07\n",
      "patient_weight\t0.0\n",
      "source_ae_title\tALI_SCU\n",
      "size\t42509182\n",
      "referring_physician\tShah^Sanjit\n",
      "thin\t0\n",
      "patient_current_location\tNone\n",
      "permissions\t{'study_upload_validate': 0, 'study_field_modality': 'F', 'radreport_view': 1, 'appointment_edit': 0, 'namespace_question': 0, 'role_edit': 0, 'study_report_view_unapproved': 0, 'study_comment_edit': 0, 'study_report_hl7_view_approved': 1, 'hl7_transform_view': 0, 'user_modify_sharecode': 1, 'study_star': 0, 'study_share_share_code': 0, 'route_view': 0, 'study_field_customfield_ed171501-32d7-460d-9068-f8c9ae37f952': 'F', 'study_field_accession_number': 'F', 'study_edit_unapproved': 1, 'study_search_require_patient_sex': 0, 'can_proxy_login': 0, 'study_tag': 0, 'study_duplicate': 0, 'meeting_view': 0, 'study_delete_image': 1, 'study_share_user': 0, 'purge_edit': 0, 'study_share_rsna': 0, 'study_push': 1, 'validate_edit': 0, 'analytics_view': 1, 'node_connect': 0, 'location_view': 1, 'study_share': 1, 'study_view': 1, 'destination_search_mwl': 0, 'destination_search': 0, 'hl7_message_view': 0, 'study_report_delete_unapproved': 1, 'node_edit_own': 0, 'study_status_edit': 1, 'study_comment_view': 0, 'study_browse': 1, 'order_edit': 0, 'study_field_patientid': 'F', 'route_edit': 0, 'study_report_hl7_view_unapproved': 0, 'study_search_require_patientid': 0, 'study_search_require_accession_number': 0, 'account_user_invite': 1, 'study_edit': 1, 'study_search_require_patient_birth_date': 0, 'keyimage_edit': 1, 'customcode_view': 0, 'dictionary_view': 0, 'study_report_upload': 1, 'customcode_edit': 0, 'user_modify_defaults': 1, 'dicomdata_view': 0, 'destination_view': 0, 'study_share_location': 0, 'study_report_upload_approved': 1, 'study_share_account': 0, 'radreport_edit': 1, 'link_edit_pin': 0, 'appointment_view_only_own': 0, 'study_search_require_patient_name': 0, 'account_edit': 1, 'study_field_customfield_ba7aef15-af21-4523-9af3-16cf54913dc4': 'O', 'case_view_only_own': 0, 'study_field_patient_birth_date': 'F', 'study_report_view_approved': 1, 'study_split': 0, 'audit_view': 1, 'study_manual_route': 0, 'study_download_viewer': 0, 'validate_view': 0, 'node_view': 0, 'study_audio_play': 0, 'patient_view': 0, 'study_report_view_only_own': 0, 'location_edit': 0, 'channel_study': 1, 'group_edit': 1, 'case_delete': 0, 'link_direct': 0, 'study_timing_view': 0, 'study_approve': 1, 'study_share_email': 0, 'link_view': 0, 'node_edit': 0, 'user_view_others_notifications': 0, 'ui_json': '', 'viewer_config': '', 'user_edit': 1, 'appointment_view': 0, 'hl7_template_edit': 0, 'radreport_view_only_own': 0, 'study_field_referring_physician': 'F', 'study_download': 1, 'study_edit_approved': 1, 'filter_share': 0, 'account_view': 1, 'link_edit': 0, 'radreport_html_format': 1, 'study_thin': 0, 'study_audio_record': 0, 'node_approve_connect': 0, 'hl7_message_delete': 0, 'customfield_edit': 0, 'dicomdata_edit': 0, 'patient_edit': 0, 'webhook_edit': 0, 'study_move': 0, 'study_status_view': 1, 'webhook_view': 0, 'study_merge': 0, 'order_view': 0, 'study_download_iso': 0, 'user_modify_others_notifications': 0, 'study_field_patient_sex': 'F', 'role_view': 1, 'viewer3_config': '', 'study_report_view': 1, 'study_delete': 1, 'user_modify_others_email': 0, 'account_user_edit': 1, 'study_field_customfield_2c1d145e-d4ec-4ac1-8806-c80f1003bb23': 'H', 'account_user_view': 1, 'study_freeze': 0, 'user_modify_notifications': 1, 'study_field_study_date': 'F', 'study_share_npi': 0, 'keyimage_view': 1, 'hl7_transform_edit': 0, 'customfield_view': 1, 'dictionary_edit': 0, 'message_edit': 0, 'study_report_delete': 0, 'study_field_study_description': 'F', 'hl7_template_view': 0, 'study_field_patient_name': 'F', 'study_share_group': 1, 'study_report_upload_unapproved': 1, 'study_upload': 1, 'case_edit_only_own': 0, 'study_sync': 1, 'study_status_manual_edit': 1, 'message_view': 0, 'link_edit_upload': 0, 'customcode_deploy': 0, 'group_view': 1, 'annotation_view': 1, 'annotation_edit': 1, 'case_edit': 0, 'study_report_hl7_view': 1, 'study_field_customfield_22fd4222-f387-4938-a622-ebed9bc63b97': 'F', 'case_view': 0, 'study_report_detail': 1, 'user_request_access': 0, 'purge_view': 0, 'meeting_edit': 0, 'annotation_view_only_own': 0, 'channel_activity': 1, 'destination_edit': 0, 'study_report_delete_approved': 0}\n",
      "study_status_tags\t['Ready to be Read', 'Completed']\n",
      "storage_namespace\te754aaaf-b7bd-4756-9e14-926c007915dc\n",
      "integration_key\tNone\n",
      "attachment_count\t0\n",
      "study_description\tCT-HEAD W/O CONTRAST\n",
      "patient_additional_history\t\n",
      "is_being_retrieved\t0\n",
      "patient_birthname\tNone\n",
      "patient_phone\tNone\n",
      "patient_mother_birthname\tNone\n",
      "patient_name\t21-394355\n",
      "study_time\t080657.000000\n",
      "is_dicom_wrapped\t0\n",
      "medical_record_locator\tNone\n",
      "uuid\t048265dc-f4e0-4b52-8628-c676ce651778\n",
      "patient_comments\tClinical Sequences\n",
      "patient_religious_preference\tNone\n",
      "compressed_size\tNone\n",
      "study_push_status\t[]\n",
      "phi_namespace\t74c3e511-2dcd-4c49-9e83-863094fc84fa\n",
      "share_message\t\n",
      "destination_ae_title\tAMBRA_ROSE\n",
      "has_external_viewer\t0\n",
      "engine_fqdn\tstorelpp25.dicomgrid.com\n"
     ]
    }
   ],
   "source": [
    "first_study = list(studies)[0]\n",
    "for key in first_study.keys():\n",
    "    print(f'{key}\\t{first_study[key]}')"
   ]
  },
  {
   "cell_type": "code",
   "execution_count": 41,
   "metadata": {},
   "outputs": [
    {
     "data": {
      "text/plain": [
       "'storelpp25.dicomgrid.com'"
      ]
     },
     "execution_count": 41,
     "metadata": {},
     "output_type": "execute_result"
    }
   ],
   "source": [
    "first_study.engine_fqdn"
   ]
  },
  {
   "cell_type": "code",
   "execution_count": 42,
   "metadata": {},
   "outputs": [
    {
     "name": "stdout",
     "output_type": "stream",
     "text": [
      "2020-06-11 11:07:42.617748-07\n",
      "2020-06-11 11:07:45.422473-07\n"
     ]
    }
   ],
   "source": [
    "print(first_study.created)\n",
    "print(first_study.updated)"
   ]
  },
  {
   "cell_type": "code",
   "execution_count": 43,
   "metadata": {},
   "outputs": [],
   "source": [
    "from datetime import datetime"
   ]
  },
  {
   "cell_type": "code",
   "execution_count": 44,
   "metadata": {},
   "outputs": [],
   "source": [
    "min_date = datetime(2020, 11, 12, 13)"
   ]
  },
  {
   "cell_type": "code",
   "execution_count": 45,
   "metadata": {},
   "outputs": [
    {
     "data": {
      "text/plain": [
       "'2020-11-12 13:00:00'"
      ]
     },
     "execution_count": 45,
     "metadata": {},
     "output_type": "execute_result"
    }
   ],
   "source": [
    "str(min_date)"
   ]
  },
  {
   "cell_type": "code",
   "execution_count": 46,
   "metadata": {
    "scrolled": false
   },
   "outputs": [
    {
     "name": "stdout",
     "output_type": "stream",
     "text": [
      "360190916\t4 - Completed Studies\t2020-11-16 12:28:12.192943-07\t2020-11-16 12:28:13.398563-07\n",
      "360190801\t4 - Completed Studies\t2020-11-16 12:16:21.783387-07\t2020-11-16 12:16:22.902385-07\n",
      "370188001\t4 - Completed Studies\t2020-11-16 12:05:20.187562-07\t2020-11-16 12:05:21.222289-07\n",
      "390187401\t4 - Completed Studies\t2020-11-16 11:55:47.6108-07\t2020-11-16 11:55:48.838087-07\n",
      "370186401\t4 - Completed Studies\t2020-11-16 11:53:11.489636-07\t2020-11-16 11:53:29.531233-07\n",
      "400185401\t4 - Completed Studies\t2020-11-16 11:49:47.435708-07\t2020-11-16 11:49:50.318924-07\n",
      "400184901\t4 - Completed Studies\t2020-11-16 11:42:43.744277-07\t2020-11-16 11:42:46.314679-07\n",
      "360184101\t4 - Completed Studies\t2020-11-16 11:35:42.627095-07\t2020-11-16 11:35:43.917161-07\n",
      "370159703\t4 - Completed Studies\t2020-11-16 10:09:38.795559-07\t2020-11-16 10:10:05.473215-07\n",
      "370159702\t4 - Completed Studies\t2020-11-16 10:07:14.382473-07\t2020-11-16 10:07:17.889591-07\n",
      "400159201\t4 - Completed Studies\t2020-11-16 10:04:22.690362-07\t2020-11-16 10:04:24.338605-07\n",
      "420273402\t4 - Completed Studies\t2020-11-16 09:43:28.275628-07\t2020-11-16 09:43:29.247218-07\n",
      "420273401\t4 - Completed Studies\t2020-11-16 09:20:41.92129-07\t2020-11-16 09:20:43.252418-07\n",
      "450273101\t4 - Completed Studies\t2020-11-16 09:07:46.504798-07\t2020-11-16 09:07:49.638979-07\n",
      "440272102\t4 - Completed Studies\t2020-11-16 08:57:29.929448-07\t2020-11-16 08:57:31.409561-07\n",
      "420271901\t4 - Completed Studies\t2020-11-16 08:50:09.26014-07\t2020-11-16 08:50:10.913421-07\n",
      "390145601\t4 - Completed Studies\t2020-11-16 08:34:55.956458-07\t2020-11-16 08:36:29.910715-07\n",
      "360148803\t4 - Completed Studies\t2020-11-16 08:24:13.167818-07\t2020-11-16 08:30:31.686275-07\n",
      "360149201\t4 - Completed Studies\t2020-11-16 07:48:48.450036-07\t2020-11-16 08:12:31.655971-07\n",
      "390181701\t4 - Completed Studies\t2020-11-15 15:06:54.777303-07\t2020-11-15 15:06:55.33317-07\n",
      "370180801\t4 - Completed Studies\t2020-11-15 14:58:28.262595-07\t2020-11-15 14:58:29.403726-07\n",
      "390178601\t4 - Completed Studies\t2020-11-15 14:53:37.662471-07\t2020-11-15 14:53:38.695256-07\n",
      "420895101\t4 - Completed Studies\t2020-11-15 14:17:37.213964-07\t2020-11-15 14:17:38.394552-07\n",
      "420295501\t4 - Completed Studies\t2020-11-15 14:08:42.398964-07\t2020-11-15 14:08:43.259701-07\n",
      "420292301\t4 - Completed Studies\t2020-11-15 14:00:05.044497-07\t2020-11-15 14:00:05.838327-07\n",
      "420291302\t4 - Completed Studies\t2020-11-15 12:39:31.254402-07\t2020-11-15 12:39:31.938958-07\n",
      "420291201\t4 - Completed Studies\t2020-11-15 12:29:36.058402-07\t2020-11-15 12:29:39.568868-07\n",
      "440287901\t4 - Completed Studies\t2020-11-15 12:18:37.449852-07\t2020-11-15 12:18:38.635474-07\n",
      "420287801\t4 - Completed Studies\t2020-11-15 12:12:41.63408-07\t2020-11-15 12:12:42.397214-07\n",
      "420287402\t4 - Completed Studies\t2020-11-15 12:00:15.860267-07\t2020-11-15 12:00:16.581874-07\n",
      "420287401\t4 - Completed Studies\t2020-11-15 11:53:39.477372-07\t2020-11-15 11:53:39.927316-07\n",
      "370178501\t4 - Completed Studies\t2020-11-15 07:19:59.476366-07\t2020-11-15 07:20:03.839293-07\n",
      "370178201\t4 - Completed Studies\t2020-11-15 07:04:17.652487-07\t2020-11-15 07:04:26.91817-07\n",
      "360177301\t4 - Completed Studies\t2020-11-14 17:11:19.10515-07\t2020-11-14 17:11:19.775311-07\n",
      "390174901\t4 - Completed Studies\t2020-11-14 17:03:02.279583-07\t2020-11-14 17:03:02.732167-07\n",
      "360174801\t4 - Completed Studies\t2020-11-14 16:53:27.485138-07\t2020-11-14 16:53:28.35848-07\n",
      "370169901\t4 - Completed Studies\t2020-11-14 11:19:12.906685-07\t2020-11-14 11:19:13.260968-07\n",
      "360168001\t4 - Completed Studies\t2020-11-14 10:51:55.258853-07\t2020-11-14 10:51:55.833516-07\n",
      "370166201\t4 - Completed Studies\t2020-11-14 10:42:52.088155-07\t2020-11-14 10:42:52.432927-07\n",
      "400164301\t4 - Completed Studies\t2020-11-14 10:29:27.945898-07\t2020-11-14 10:29:28.589009-07\n",
      "370161301\t4 - Completed Studies\t2020-11-14 10:18:00.945298-07\t2020-11-14 10:18:02.256475-07\n",
      "21-394436\tUniversity of Cincinnati - Site 21\t2020-11-13 13:54:53.096292-07\t2020-11-13 13:54:58.684972-07\n",
      "21-394436\tVolumetric\t2020-11-13 13:54:52.795831-07\t2020-11-13 13:54:59.244429-07\n",
      "21-394436\tDTI\t2020-11-13 13:54:52.414176-07\t2020-11-13 13:54:59.382459-07\n",
      "21-394436\tClinical\t2020-11-13 13:54:52.127529-07\t2020-11-13 13:54:58.860652-07\n",
      "10003\tGenexia Data Push Group\t2020-11-13 12:39:50.950476-07\t2020-11-13 12:59:34.698443-07\n",
      "450285502\t4 - Completed Studies\t2020-11-13 10:16:50.405195-07\t2020-11-13 10:16:51.544051-07\n",
      "420281401\t4 - Completed Studies\t2020-11-13 10:04:52.101913-07\t2020-11-13 10:04:53.159069-07\n",
      "420281201\t4 - Completed Studies\t2020-11-13 09:52:11.856433-07\t2020-11-13 09:52:12.237788-07\n",
      "420280901\t4 - Completed Studies\t2020-11-13 09:49:40.252149-07\t2020-11-13 09:49:41.55174-07\n",
      "420279301\t4 - Completed Studies\t2020-11-13 09:29:23.918865-07\t2020-11-13 09:29:24.742911-07\n",
      "360190916\tDr. Rebecca Cornelius\t2020-11-13 08:43:03.041066-07\t2020-11-13 08:43:05.772375-07\n",
      "360190916\tDr. Rebecca Cornelius\t2020-11-13 08:43:03.028122-07\t2020-11-16 12:28:11.482892-07\n",
      "360190916\tDr. Rebecca Cornelius\t2020-11-13 08:43:03.026008-07\t2020-11-13 08:43:05.699555-07\n",
      "360190801\tDr. Rebecca Cornelius\t2020-11-13 08:41:58.357612-07\t2020-11-16 12:16:19.490765-07\n",
      "360190801\tDr. Rebecca Cornelius\t2020-11-13 08:41:58.350913-07\t2020-11-13 08:42:02.526081-07\n",
      "370188001\tDr. Rebecca Cornelius\t2020-11-13 08:40:54.687559-07\t2020-11-13 08:40:59.768937-07\n",
      "370188001\tDr. Rebecca Cornelius\t2020-11-13 08:40:54.675738-07\t2020-11-13 08:41:00.413971-07\n",
      "370188001\tDr. Rebecca Cornelius\t2020-11-13 08:40:54.568846-07\t2020-11-16 12:05:20.004844-07\n",
      "390187401\tDr. Rebecca Cornelius\t2020-11-13 08:39:57.831431-07\t2020-11-16 11:55:42.524652-07\n",
      "370186401\tDr. Rebecca Cornelius\t2020-11-13 08:39:01.442453-07\t2020-11-16 11:53:18.482031-07\n",
      "400185401\tDr. Rebecca Cornelius\t2020-11-13 08:38:02.268825-07\t2020-11-13 08:38:06.860144-07\n",
      "400185401\tDr. Rebecca Cornelius\t2020-11-13 08:38:02.265181-07\t2020-11-16 11:49:46.134331-07\n",
      "400184901\tDr. Rebecca Cornelius\t2020-11-13 08:35:45.949105-07\t2020-11-13 08:35:49.84714-07\n",
      "400184901\tDr. Rebecca Cornelius\t2020-11-13 08:35:45.935862-07\t2020-11-16 11:42:39.212602-07\n",
      "360184101\tDr. Rebecca Cornelius\t2020-11-13 08:34:42.836762-07\t2020-11-16 11:35:40.30389-07\n",
      "360184101\tDr. Rebecca Cornelius\t2020-11-13 08:34:42.83448-07\t2020-11-13 08:34:49.34737-07\n",
      "390181701\tDr. Rebecca Cornelius\t2020-11-13 08:33:44.470412-07\t2020-11-15 15:06:55.324254-07\n",
      "390181701\tDr. Rebecca Cornelius\t2020-11-13 08:33:44.465544-07\t2020-11-13 08:33:47.761334-07\n",
      "370180801\tDr. Rebecca Cornelius\t2020-11-13 08:32:49.578902-07\t2020-11-15 14:58:29.393845-07\n",
      "390178601\tDr. Rebecca Cornelius\t2020-11-13 08:31:39.30219-07\t2020-11-13 08:31:42.264256-07\n",
      "390178601\tDr. Rebecca Cornelius\t2020-11-13 08:31:39.297915-07\t2020-11-15 14:53:38.686075-07\n",
      "390178601\tDr. Rebecca Cornelius\t2020-11-13 08:31:39.28393-07\t2020-11-13 08:31:42.454823-07\n",
      "420895101\tDr. Rebecca Cornelius\t2020-11-13 08:30:04.263923-07\t2020-11-13 08:30:11.829801-07\n",
      "420895101\tDr. Rebecca Cornelius\t2020-11-13 08:30:04.217727-07\t2020-11-15 14:17:38.38342-07\n",
      "420295501\tDr. Rebecca Cornelius\t2020-11-13 08:29:09.963093-07\t2020-11-13 08:29:13.632857-07\n",
      "420295501\tDr. Rebecca Cornelius\t2020-11-13 08:29:09.866647-07\t2020-11-15 14:08:43.249324-07\n",
      "420292301\tDr. Rebecca Cornelius\t2020-11-13 08:28:15.039032-07\t2020-11-15 14:00:05.830395-07\n",
      "420292301\tDr. Rebecca Cornelius\t2020-11-13 08:28:14.856112-07\t2020-11-13 08:28:18.65346-07\n",
      "420292301\tDr. Rebecca Cornelius\t2020-11-13 08:28:14.824425-07\t2020-11-13 08:28:18.760814-07\n",
      "420292301\tDr. Rebecca Cornelius\t2020-11-13 08:28:14.77285-07\t2020-11-13 08:28:18.565506-07\n",
      "420291302\tDr. Rebecca Cornelius\t2020-11-13 08:26:50.422427-07\t2020-11-13 08:26:59.972696-07\n",
      "420291302\tDr. Rebecca Cornelius\t2020-11-13 08:26:50.316654-07\t2020-11-15 12:39:31.1931-07\n",
      "420291201\tDr. Rebecca Cornelius\t2020-11-13 08:24:58.89767-07\t2020-11-15 12:29:36.006178-07\n",
      "420291201\tDr. Rebecca Cornelius\t2020-11-13 08:24:58.843749-07\t2020-11-13 08:25:04.196079-07\n",
      "440287901\tDr. Rebecca Cornelius\t2020-11-13 08:24:06.118958-07\t2020-11-15 12:18:38.62295-07\n",
      "440287901\tDr. Rebecca Cornelius\t2020-11-13 08:24:06.060177-07\t2020-11-13 08:24:09.46761-07\n",
      "420287801\tDr. Rebecca Cornelius\t2020-11-13 08:23:00.98346-07\t2020-11-15 12:12:42.382896-07\n",
      "420287801\tDr. Rebecca Cornelius\t2020-11-13 08:23:00.841774-07\t2020-11-13 08:23:12.646389-07\n",
      "420287402\tDr. Rebecca Cornelius\t2020-11-13 08:21:32.141634-07\t2020-11-13 08:21:35.722723-07\n",
      "420287402\tDr. Rebecca Cornelius\t2020-11-13 08:21:32.076919-07\t2020-11-15 12:00:16.098481-07\n",
      "420287401\tDr. Rebecca Cornelius\t2020-11-13 08:20:15.596192-07\t2020-11-15 11:53:39.916556-07\n",
      "420287401\tDr. Rebecca Cornelius\t2020-11-13 08:20:15.581271-07\t2020-11-13 08:20:18.462678-07\n",
      "420287401\tDr. Rebecca Cornelius\t2020-11-13 08:20:15.581284-07\t2020-11-13 08:20:18.460872-07\n",
      "420287401\tDr. Rebecca Cornelius\t2020-11-13 08:20:15.56993-07\t2020-11-13 08:20:18.494234-07\n",
      "21-394436\tAll Approved Studies\t2020-11-12 20:53:32.885931-07\t2020-11-13 13:54:57.869517-07\n",
      "04187935\tUC Scanners / PACS Studies\t2020-11-12 20:53:32.729283-07\t2020-11-12 20:58:41.432113-07\n",
      "420277101\t4 - Completed Studies\t2020-11-12 14:33:23.812784-07\t2020-11-12 14:39:02.713749-07\n",
      "450275401\t4 - Completed Studies\t2020-11-12 14:29:07.958822-07\t2020-11-12 14:35:33.69895-07\n",
      "440273901\t4 - Completed Studies\t2020-11-12 14:13:56.375052-07\t2020-11-12 14:13:58.044988-07\n"
     ]
    },
    {
     "name": "stdout",
     "output_type": "stream",
     "text": [
      "420273601\t4 - Completed Studies\t2020-11-12 13:58:43.205329-07\t2020-11-12 13:58:47.995639-07\n"
     ]
    }
   ],
   "source": [
    "#from ambra_sdk.service.filtering import Filter, FilterCondition\n",
    "#tst = ambra.api.Study.list().filter_by(Filter('created', FilterCondition.gt, '2020-11-01')).first()\n",
    "#tst = ambra.api.Study.list().filter_by(Filter('created', FilterCondition.gt, str(min_date))).all()\n",
    "\n",
    "new_studies = ambra.get_studies_new(min_date)\n",
    "\n",
    "for this in new_studies:\n",
    "    print(f'{this.patientid}\\t{this.phi_namespace_name}\\t{this.created}\\t{this.updated}')"
   ]
  },
  {
   "cell_type": "code",
   "execution_count": null,
   "metadata": {},
   "outputs": [],
   "source": []
  },
  {
   "cell_type": "markdown",
   "metadata": {},
   "source": [
    "# Download"
   ]
  },
  {
   "cell_type": "code",
   "execution_count": 47,
   "metadata": {},
   "outputs": [],
   "source": [
    "engine = first_study.engine_fqdn\n",
    "namespace = first_study.storage_namespace\n",
    "study_uid = first_study.study_uid\n",
    "phi_namespace = first_study.phi_namespace\n",
    "\n",
    "schema = ambra.api.Storage.Study.schema(engine_fqdn=engine, namespace=namespace, study_uid=study_uid)"
   ]
  },
  {
   "cell_type": "code",
   "execution_count": 48,
   "metadata": {},
   "outputs": [
    {
     "name": "stdout",
     "output_type": "stream",
     "text": [
      "CT Scout 1\n",
      "CT HEAD AXIAL 5@5 36\n",
      "CT HEAD BONE 2.5 71\n",
      "CT HEAD STD COR 42\n",
      "CT HEAD STD SAG 36\n",
      "CT ANGLED AXIAL 32\n",
      "SR Dose Record 1\n",
      "CT Dose Report 1\n"
     ]
    }
   ],
   "source": [
    "for item in schema.series:\n",
    "    print(item.modality, item.description, len(item.images))"
   ]
  },
  {
   "cell_type": "code",
   "execution_count": 49,
   "metadata": {},
   "outputs": [
    {
     "name": "stdout",
     "output_type": "stream",
     "text": [
      "{'id': 1, 'images': [{'id': '1.2.840.113619.2.416.237581848444286269398909020835943499.1', 'version': 'n9-FeKTvD0uxPwzSLe7mabMIjyk', 'rank': 1, 'frame_count': 1, 'sop_class': '1.2.840.10008.5.1.4.1.1.2', 'transfer_syntax': '1.2.840.10008.1.2.4.70'}], 'series_uid': '1.2.840.113619.2.416.134547812500451400107748586227496884174', 'modality': 'CT', 'description': 'Scout'}\n",
      "{'id': 2, 'images': [{'id': '1.2.840.113619.2.416.4393863750808272580920775159926687569.1', 'version': '3ed1hIfcW_K7ayjWZVoqUk4AAfs', 'rank': 1, 'frame_count': 1, 'sop_class': '1.2.840.10008.5.1.4.1.1.2', 'transfer_syntax': '1.2.840.10008.1.2.4.70'}, {'id': '1.2.840.113619.2.416.4393863750808272580920775159926687569.2', 'version': 'WAQZwL-oQ2hH8SNV6hAPD3RQ_Rc', 'rank': 2, 'frame_count': 1, 'sop_class': '1.2.840.10008.5.1.4.1.1.2', 'transfer_syntax': '1.2.840.10008.1.2.4.70'}, {'id': '1.2.840.113619.2.416.4393863750808272580920775159926687569.3', 'version': 'SvbqiwWTH5RJGvdbigzAlkuaLl4', 'rank': 3, 'frame_count': 1, 'sop_class': '1.2.840.10008.5.1.4.1.1.2', 'transfer_syntax': '1.2.840.10008.1.2.4.70'}, {'id': '1.2.840.113619.2.416.4393863750808272580920775159926687569.4', 'version': '6K85gcSCLLdCvspl-52p5_N7VeE', 'rank': 4, 'frame_count': 1, 'sop_class': '1.2.840.10008.5.1.4.1.1.2', 'transfer_syntax': '1.2.840.10008.1.2.4.70'}, {'id': '1.2.840.113619.2.416.4393863750808272580920775159926687569.5', 'version': 'CgqUKUJ0GPy3eESJWy4civUcrIw', 'rank': 5, 'frame_count': 1, 'sop_class': '1.2.840.10008.5.1.4.1.1.2', 'transfer_syntax': '1.2.840.10008.1.2.4.70'}, {'id': '1.2.840.113619.2.416.4393863750808272580920775159926687569.6', 'version': 'rHRx_2I6NGfkGMGJmSumiJBkKq0', 'rank': 6, 'frame_count': 1, 'sop_class': '1.2.840.10008.5.1.4.1.1.2', 'transfer_syntax': '1.2.840.10008.1.2.4.70'}, {'id': '1.2.840.113619.2.416.4393863750808272580920775159926687569.7', 'version': 'cF7a-_8cQiAYqJiaegvyADolm7U', 'rank': 7, 'frame_count': 1, 'sop_class': '1.2.840.10008.5.1.4.1.1.2', 'transfer_syntax': '1.2.840.10008.1.2.4.70'}, {'id': '1.2.840.113619.2.416.4393863750808272580920775159926687569.8', 'version': 'SG_aUNQwJu_WTeRUe2DZqgzPuZA', 'rank': 8, 'frame_count': 1, 'sop_class': '1.2.840.10008.5.1.4.1.1.2', 'transfer_syntax': '1.2.840.10008.1.2.4.70'}, {'id': '1.2.840.113619.2.416.4393863750808272580920775159926687569.9', 'version': '3PbTQiWIcPX2ETcSwl4PeTILCa8', 'rank': 9, 'frame_count': 1, 'sop_class': '1.2.840.10008.5.1.4.1.1.2', 'transfer_syntax': '1.2.840.10008.1.2.4.70'}, {'id': '1.2.840.113619.2.416.4393863750808272580920775159926687569.10', 'version': 'ix3OXCyMvOybKK-kPZ2X5ZgdOXs', 'rank': 10, 'frame_count': 1, 'sop_class': '1.2.840.10008.5.1.4.1.1.2', 'transfer_syntax': '1.2.840.10008.1.2.4.70'}, {'id': '1.2.840.113619.2.416.4393863750808272580920775159926687569.11', 'version': 'BEmMblZLWyG4LyIFMv7Jh5o8HyU', 'rank': 11, 'frame_count': 1, 'sop_class': '1.2.840.10008.5.1.4.1.1.2', 'transfer_syntax': '1.2.840.10008.1.2.4.70'}, {'id': '1.2.840.113619.2.416.4393863750808272580920775159926687569.12', 'version': 'eiaj35Lhp4dNL3XO0_c2hHC7tEM', 'rank': 12, 'frame_count': 1, 'sop_class': '1.2.840.10008.5.1.4.1.1.2', 'transfer_syntax': '1.2.840.10008.1.2.4.70'}, {'id': '1.2.840.113619.2.416.4393863750808272580920775159926687569.13', 'version': 'n6Fafd_kZt55W54XLQ9KKWrvBPw', 'rank': 13, 'frame_count': 1, 'sop_class': '1.2.840.10008.5.1.4.1.1.2', 'transfer_syntax': '1.2.840.10008.1.2.4.70'}, {'id': '1.2.840.113619.2.416.4393863750808272580920775159926687569.14', 'version': 'MkGIoteOxSgQrS3H0bQ27Glhn74', 'rank': 14, 'frame_count': 1, 'sop_class': '1.2.840.10008.5.1.4.1.1.2', 'transfer_syntax': '1.2.840.10008.1.2.4.70'}, {'id': '1.2.840.113619.2.416.4393863750808272580920775159926687569.15', 'version': 'iOd2E69BLvR1Jq2GgWsx-A7PT3s', 'rank': 15, 'frame_count': 1, 'sop_class': '1.2.840.10008.5.1.4.1.1.2', 'transfer_syntax': '1.2.840.10008.1.2.4.70'}, {'id': '1.2.840.113619.2.416.4393863750808272580920775159926687569.16', 'version': 'XoCxmZudm97GapfmF5hkj2FrgwU', 'rank': 16, 'frame_count': 1, 'sop_class': '1.2.840.10008.5.1.4.1.1.2', 'transfer_syntax': '1.2.840.10008.1.2.4.70'}, {'id': '1.2.840.113619.2.416.4393863750808272580920775159926687569.17', 'version': 'aVTsMKdYhwCXiZWVd9bsYvIMfH4', 'rank': 17, 'frame_count': 1, 'sop_class': '1.2.840.10008.5.1.4.1.1.2', 'transfer_syntax': '1.2.840.10008.1.2.4.70'}, {'id': '1.2.840.113619.2.416.4393863750808272580920775159926687569.18', 'version': 'QvBjJYIpg6i2_Km_41HcRHU2SH0', 'rank': 18, 'frame_count': 1, 'sop_class': '1.2.840.10008.5.1.4.1.1.2', 'transfer_syntax': '1.2.840.10008.1.2.4.70'}, {'id': '1.2.840.113619.2.416.4393863750808272580920775159926687569.19', 'version': 'eCSaDZOKwjPPN0hoOz8FLm59cQI', 'rank': 19, 'frame_count': 1, 'sop_class': '1.2.840.10008.5.1.4.1.1.2', 'transfer_syntax': '1.2.840.10008.1.2.4.70'}, {'id': '1.2.840.113619.2.416.4393863750808272580920775159926687569.20', 'version': 'XoXD0Qmf-WhK30u-xgXFKSjstAs', 'rank': 20, 'frame_count': 1, 'sop_class': '1.2.840.10008.5.1.4.1.1.2', 'transfer_syntax': '1.2.840.10008.1.2.4.70'}, {'id': '1.2.840.113619.2.416.4393863750808272580920775159926687569.21', 'version': 'ZpcvwrJ-dDiHPI7Em6qS4PZGXus', 'rank': 21, 'frame_count': 1, 'sop_class': '1.2.840.10008.5.1.4.1.1.2', 'transfer_syntax': '1.2.840.10008.1.2.4.70'}, {'id': '1.2.840.113619.2.416.4393863750808272580920775159926687569.22', 'version': 'OXp4mW9r3XFEJV8MpXgjxyFMkA8', 'rank': 22, 'frame_count': 1, 'sop_class': '1.2.840.10008.5.1.4.1.1.2', 'transfer_syntax': '1.2.840.10008.1.2.4.70'}, {'id': '1.2.840.113619.2.416.4393863750808272580920775159926687569.23', 'version': 'hQf-IMU1cD84ilmawNUY2FrwHkY', 'rank': 23, 'frame_count': 1, 'sop_class': '1.2.840.10008.5.1.4.1.1.2', 'transfer_syntax': '1.2.840.10008.1.2.4.70'}, {'id': '1.2.840.113619.2.416.4393863750808272580920775159926687569.24', 'version': '21oXDO-ObkC4u15FvIezoTNont4', 'rank': 24, 'frame_count': 1, 'sop_class': '1.2.840.10008.5.1.4.1.1.2', 'transfer_syntax': '1.2.840.10008.1.2.4.70'}, {'id': '1.2.840.113619.2.416.4393863750808272580920775159926687569.25', 'version': 'VzfimcF2L4k51SYCftj_dOUqdqQ', 'rank': 25, 'frame_count': 1, 'sop_class': '1.2.840.10008.5.1.4.1.1.2', 'transfer_syntax': '1.2.840.10008.1.2.4.70'}, {'id': '1.2.840.113619.2.416.4393863750808272580920775159926687569.26', 'version': 'M_JHriSfIbaOPd_8n0kmF_v9ipA', 'rank': 26, 'frame_count': 1, 'sop_class': '1.2.840.10008.5.1.4.1.1.2', 'transfer_syntax': '1.2.840.10008.1.2.4.70'}, {'id': '1.2.840.113619.2.416.4393863750808272580920775159926687569.27', 'version': 'Yj0MZodtrx7PFsUS9ocreboDg0c', 'rank': 27, 'frame_count': 1, 'sop_class': '1.2.840.10008.5.1.4.1.1.2', 'transfer_syntax': '1.2.840.10008.1.2.4.70'}, {'id': '1.2.840.113619.2.416.4393863750808272580920775159926687569.28', 'version': 'srvyX6NSNIJT0lGoUDev55fo45U', 'rank': 28, 'frame_count': 1, 'sop_class': '1.2.840.10008.5.1.4.1.1.2', 'transfer_syntax': '1.2.840.10008.1.2.4.70'}, {'id': '1.2.840.113619.2.416.4393863750808272580920775159926687569.29', 'version': 'MaSwPH2gId6dwKhZ6HQpXZxPi9E', 'rank': 29, 'frame_count': 1, 'sop_class': '1.2.840.10008.5.1.4.1.1.2', 'transfer_syntax': '1.2.840.10008.1.2.4.70'}, {'id': '1.2.840.113619.2.416.4393863750808272580920775159926687569.30', 'version': 'AmK82YO43QrUMoNYgNgdOgp9vRg', 'rank': 30, 'frame_count': 1, 'sop_class': '1.2.840.10008.5.1.4.1.1.2', 'transfer_syntax': '1.2.840.10008.1.2.4.70'}, {'id': '1.2.840.113619.2.416.4393863750808272580920775159926687569.31', 'version': 'MMVAcXmZzjiN54U-qGlvh-CRGzo', 'rank': 31, 'frame_count': 1, 'sop_class': '1.2.840.10008.5.1.4.1.1.2', 'transfer_syntax': '1.2.840.10008.1.2.4.70'}, {'id': '1.2.840.113619.2.416.4393863750808272580920775159926687569.32', 'version': 'eRTKcvS4BaK_Prpufe4OgmUvuqY', 'rank': 32, 'frame_count': 1, 'sop_class': '1.2.840.10008.5.1.4.1.1.2', 'transfer_syntax': '1.2.840.10008.1.2.4.70'}, {'id': '1.2.840.113619.2.416.4393863750808272580920775159926687569.33', 'version': 'SyEZraUq4oDOtHi7OuKh2vvTvzo', 'rank': 33, 'frame_count': 1, 'sop_class': '1.2.840.10008.5.1.4.1.1.2', 'transfer_syntax': '1.2.840.10008.1.2.4.70'}, {'id': '1.2.840.113619.2.416.4393863750808272580920775159926687569.34', 'version': 'aoOf9LqVOH0CyDTuflHkSjvRVjo', 'rank': 34, 'frame_count': 1, 'sop_class': '1.2.840.10008.5.1.4.1.1.2', 'transfer_syntax': '1.2.840.10008.1.2.4.70'}, {'id': '1.2.840.113619.2.416.4393863750808272580920775159926687569.35', 'version': 'ZVwCpxrbI1kkoTtmSIXIXSg96F8', 'rank': 35, 'frame_count': 1, 'sop_class': '1.2.840.10008.5.1.4.1.1.2', 'transfer_syntax': '1.2.840.10008.1.2.4.70'}, {'id': '1.2.840.113619.2.416.4393863750808272580920775159926687569.36', 'version': '_qRxP-N3hff-oev-R75bfg42wqY', 'rank': 36, 'frame_count': 1, 'sop_class': '1.2.840.10008.5.1.4.1.1.2', 'transfer_syntax': '1.2.840.10008.1.2.4.70'}], 'series_uid': '1.2.840.113619.2.416.234380053189529593789334967736766352743', 'modality': 'CT', 'description': 'HEAD AXIAL 5@5'}\n",
      "{'id': 302, 'images': [{'id': '1.2.840.113619.2.416.2250572342068691675512754660175270960.1', 'version': 'UTIoq3viN5J7lVQWIlsomGBSWT4', 'rank': 1, 'frame_count': 1, 'sop_class': '1.2.840.10008.5.1.4.1.1.2', 'transfer_syntax': '1.2.840.10008.1.2.4.70'}, {'id': '1.2.840.113619.2.416.2250572342068691675512754660175270960.2', 'version': 'T4iK-NnVyX4W89qeH8lrkifvLAc', 'rank': 2, 'frame_count': 1, 'sop_class': '1.2.840.10008.5.1.4.1.1.2', 'transfer_syntax': '1.2.840.10008.1.2.4.70'}, {'id': '1.2.840.113619.2.416.2250572342068691675512754660175270960.3', 'version': 'irVj2h4jRchFCHwRqDtvs-xdtYs', 'rank': 3, 'frame_count': 1, 'sop_class': '1.2.840.10008.5.1.4.1.1.2', 'transfer_syntax': '1.2.840.10008.1.2.4.70'}, {'id': '1.2.840.113619.2.416.2250572342068691675512754660175270960.4', 'version': 'qHIm7oQnkk-RbDaktKzG5h1Ikkc', 'rank': 4, 'frame_count': 1, 'sop_class': '1.2.840.10008.5.1.4.1.1.2', 'transfer_syntax': '1.2.840.10008.1.2.4.70'}, {'id': '1.2.840.113619.2.416.2250572342068691675512754660175270960.5', 'version': '0pCFiAzrU15dvf1aPmyk5EHAyWs', 'rank': 5, 'frame_count': 1, 'sop_class': '1.2.840.10008.5.1.4.1.1.2', 'transfer_syntax': '1.2.840.10008.1.2.4.70'}, {'id': '1.2.840.113619.2.416.2250572342068691675512754660175270960.6', 'version': 'K7c4lqloJ4ZGRaYN-F_lBa9NUKU', 'rank': 6, 'frame_count': 1, 'sop_class': '1.2.840.10008.5.1.4.1.1.2', 'transfer_syntax': '1.2.840.10008.1.2.4.70'}, {'id': '1.2.840.113619.2.416.2250572342068691675512754660175270960.7', 'version': 'kQMPn17bShsOkueTcZgGbO25Hak', 'rank': 7, 'frame_count': 1, 'sop_class': '1.2.840.10008.5.1.4.1.1.2', 'transfer_syntax': '1.2.840.10008.1.2.4.70'}, {'id': '1.2.840.113619.2.416.2250572342068691675512754660175270960.8', 'version': 'YRIopnpEPSwj7oEX6u93fDn3n-c', 'rank': 8, 'frame_count': 1, 'sop_class': '1.2.840.10008.5.1.4.1.1.2', 'transfer_syntax': '1.2.840.10008.1.2.4.70'}, {'id': '1.2.840.113619.2.416.2250572342068691675512754660175270960.9', 'version': '-it9W2wtjf0F-QoAZM12D-X08gU', 'rank': 9, 'frame_count': 1, 'sop_class': '1.2.840.10008.5.1.4.1.1.2', 'transfer_syntax': '1.2.840.10008.1.2.4.70'}, {'id': '1.2.840.113619.2.416.2250572342068691675512754660175270960.10', 'version': '17icoJ3xPDF8qVCKDB2Eup_8hOQ', 'rank': 10, 'frame_count': 1, 'sop_class': '1.2.840.10008.5.1.4.1.1.2', 'transfer_syntax': '1.2.840.10008.1.2.4.70'}, {'id': '1.2.840.113619.2.416.2250572342068691675512754660175270960.11', 'version': '7PHr9VRRR-YpYrRlkmkC77Zdy9s', 'rank': 11, 'frame_count': 1, 'sop_class': '1.2.840.10008.5.1.4.1.1.2', 'transfer_syntax': '1.2.840.10008.1.2.4.70'}, {'id': '1.2.840.113619.2.416.2250572342068691675512754660175270960.12', 'version': 'rzvysyEYeweTZQRhR53S_D0z9S8', 'rank': 12, 'frame_count': 1, 'sop_class': '1.2.840.10008.5.1.4.1.1.2', 'transfer_syntax': '1.2.840.10008.1.2.4.70'}, {'id': '1.2.840.113619.2.416.2250572342068691675512754660175270960.13', 'version': '37p2EDfO7vH_fWXuTEbURhKd_kQ', 'rank': 13, 'frame_count': 1, 'sop_class': '1.2.840.10008.5.1.4.1.1.2', 'transfer_syntax': '1.2.840.10008.1.2.4.70'}, {'id': '1.2.840.113619.2.416.2250572342068691675512754660175270960.14', 'version': 'lNAH-vIocWIGRkC6ZJWuVj7Tb70', 'rank': 14, 'frame_count': 1, 'sop_class': '1.2.840.10008.5.1.4.1.1.2', 'transfer_syntax': '1.2.840.10008.1.2.4.70'}, {'id': '1.2.840.113619.2.416.2250572342068691675512754660175270960.15', 'version': 'hlMK0I_Ap3mqSQZMBqWyvnAzIx4', 'rank': 15, 'frame_count': 1, 'sop_class': '1.2.840.10008.5.1.4.1.1.2', 'transfer_syntax': '1.2.840.10008.1.2.4.70'}, {'id': '1.2.840.113619.2.416.2250572342068691675512754660175270960.16', 'version': 'OVKlFsK04UMDEfjmtLPERflGr9A', 'rank': 16, 'frame_count': 1, 'sop_class': '1.2.840.10008.5.1.4.1.1.2', 'transfer_syntax': '1.2.840.10008.1.2.4.70'}, {'id': '1.2.840.113619.2.416.2250572342068691675512754660175270960.17', 'version': 'OgiEvB4c-v_clR1D4hUQ7VGVWAY', 'rank': 17, 'frame_count': 1, 'sop_class': '1.2.840.10008.5.1.4.1.1.2', 'transfer_syntax': '1.2.840.10008.1.2.4.70'}, {'id': '1.2.840.113619.2.416.2250572342068691675512754660175270960.18', 'version': 'aY4FXPypV9I0Nbjcj7DEc1GMa4M', 'rank': 18, 'frame_count': 1, 'sop_class': '1.2.840.10008.5.1.4.1.1.2', 'transfer_syntax': '1.2.840.10008.1.2.4.70'}, {'id': '1.2.840.113619.2.416.2250572342068691675512754660175270960.19', 'version': 'aaFy1xBKUxzXcqTKFEMpP0ANGmM', 'rank': 19, 'frame_count': 1, 'sop_class': '1.2.840.10008.5.1.4.1.1.2', 'transfer_syntax': '1.2.840.10008.1.2.4.70'}, {'id': '1.2.840.113619.2.416.2250572342068691675512754660175270960.20', 'version': 'E_zTfMk6Sd-HmPXEURTAV9S4dJc', 'rank': 20, 'frame_count': 1, 'sop_class': '1.2.840.10008.5.1.4.1.1.2', 'transfer_syntax': '1.2.840.10008.1.2.4.70'}, {'id': '1.2.840.113619.2.416.2250572342068691675512754660175270960.21', 'version': 'y24D7TFpaFPUK12dYNNnb13mPD0', 'rank': 21, 'frame_count': 1, 'sop_class': '1.2.840.10008.5.1.4.1.1.2', 'transfer_syntax': '1.2.840.10008.1.2.4.70'}, {'id': '1.2.840.113619.2.416.2250572342068691675512754660175270960.22', 'version': 'gfoNOeTpVkOEl4L4ximPzqJ5mTU', 'rank': 22, 'frame_count': 1, 'sop_class': '1.2.840.10008.5.1.4.1.1.2', 'transfer_syntax': '1.2.840.10008.1.2.4.70'}, {'id': '1.2.840.113619.2.416.2250572342068691675512754660175270960.23', 'version': '26y9xeQX525pjOSuuU0FrK1tk7E', 'rank': 23, 'frame_count': 1, 'sop_class': '1.2.840.10008.5.1.4.1.1.2', 'transfer_syntax': '1.2.840.10008.1.2.4.70'}, {'id': '1.2.840.113619.2.416.2250572342068691675512754660175270960.24', 'version': 'vOxlv1JuwPyx4x9Uciuut3GGhXs', 'rank': 24, 'frame_count': 1, 'sop_class': '1.2.840.10008.5.1.4.1.1.2', 'transfer_syntax': '1.2.840.10008.1.2.4.70'}, {'id': '1.2.840.113619.2.416.2250572342068691675512754660175270960.25', 'version': '5hCD5FQW8bwFAOgMp7JAMVuLN34', 'rank': 25, 'frame_count': 1, 'sop_class': '1.2.840.10008.5.1.4.1.1.2', 'transfer_syntax': '1.2.840.10008.1.2.4.70'}, {'id': '1.2.840.113619.2.416.2250572342068691675512754660175270960.26', 'version': 'zxr6Zuge3NXaURoecKeaaFIMo1E', 'rank': 26, 'frame_count': 1, 'sop_class': '1.2.840.10008.5.1.4.1.1.2', 'transfer_syntax': '1.2.840.10008.1.2.4.70'}, {'id': '1.2.840.113619.2.416.2250572342068691675512754660175270960.27', 'version': 'bWDEGPmm60JIoTKa6kIQJIv7D8o', 'rank': 27, 'frame_count': 1, 'sop_class': '1.2.840.10008.5.1.4.1.1.2', 'transfer_syntax': '1.2.840.10008.1.2.4.70'}, {'id': '1.2.840.113619.2.416.2250572342068691675512754660175270960.28', 'version': '--ZoKuQ0MbHD_yCw7TOAE_c8M0Q', 'rank': 28, 'frame_count': 1, 'sop_class': '1.2.840.10008.5.1.4.1.1.2', 'transfer_syntax': '1.2.840.10008.1.2.4.70'}, {'id': '1.2.840.113619.2.416.2250572342068691675512754660175270960.29', 'version': 'TVL0GzOBjAb2QB-z2ClA3jVzKSE', 'rank': 29, 'frame_count': 1, 'sop_class': '1.2.840.10008.5.1.4.1.1.2', 'transfer_syntax': '1.2.840.10008.1.2.4.70'}, {'id': '1.2.840.113619.2.416.2250572342068691675512754660175270960.30', 'version': 'Vl9Au2mJbsfSOzCImWFXY8GkHi8', 'rank': 30, 'frame_count': 1, 'sop_class': '1.2.840.10008.5.1.4.1.1.2', 'transfer_syntax': '1.2.840.10008.1.2.4.70'}, {'id': '1.2.840.113619.2.416.2250572342068691675512754660175270960.31', 'version': 'wB-z1ubVRW5ux7WCPwW6KIwQMqU', 'rank': 31, 'frame_count': 1, 'sop_class': '1.2.840.10008.5.1.4.1.1.2', 'transfer_syntax': '1.2.840.10008.1.2.4.70'}, {'id': '1.2.840.113619.2.416.2250572342068691675512754660175270960.32', 'version': 'nNl8LRmXDTwG4Blt3NaU9YC04SE', 'rank': 32, 'frame_count': 1, 'sop_class': '1.2.840.10008.5.1.4.1.1.2', 'transfer_syntax': '1.2.840.10008.1.2.4.70'}, {'id': '1.2.840.113619.2.416.2250572342068691675512754660175270960.33', 'version': 'Ad0Lf9OAnVDjidFQedNBNrfxqlQ', 'rank': 33, 'frame_count': 1, 'sop_class': '1.2.840.10008.5.1.4.1.1.2', 'transfer_syntax': '1.2.840.10008.1.2.4.70'}, {'id': '1.2.840.113619.2.416.2250572342068691675512754660175270960.34', 'version': 'WzKd1GY70lKMt39pn6V8CIXVFCI', 'rank': 34, 'frame_count': 1, 'sop_class': '1.2.840.10008.5.1.4.1.1.2', 'transfer_syntax': '1.2.840.10008.1.2.4.70'}, {'id': '1.2.840.113619.2.416.2250572342068691675512754660175270960.35', 'version': 'uXpEt8YS2r70Rp5_M9qTnZIEJTA', 'rank': 35, 'frame_count': 1, 'sop_class': '1.2.840.10008.5.1.4.1.1.2', 'transfer_syntax': '1.2.840.10008.1.2.4.70'}, {'id': '1.2.840.113619.2.416.2250572342068691675512754660175270960.36', 'version': '8fOYMBF0dZ4Le9nN4cErVcZR9xQ', 'rank': 36, 'frame_count': 1, 'sop_class': '1.2.840.10008.5.1.4.1.1.2', 'transfer_syntax': '1.2.840.10008.1.2.4.70'}, {'id': '1.2.840.113619.2.416.2250572342068691675512754660175270960.37', 'version': 'sWJSlDySdiVP3ujhIFlhv-GCKPQ', 'rank': 37, 'frame_count': 1, 'sop_class': '1.2.840.10008.5.1.4.1.1.2', 'transfer_syntax': '1.2.840.10008.1.2.4.70'}, {'id': '1.2.840.113619.2.416.2250572342068691675512754660175270960.38', 'version': '-bU54ZVNFgB1caPNo0Pxokjz5jo', 'rank': 38, 'frame_count': 1, 'sop_class': '1.2.840.10008.5.1.4.1.1.2', 'transfer_syntax': '1.2.840.10008.1.2.4.70'}, {'id': '1.2.840.113619.2.416.2250572342068691675512754660175270960.39', 'version': 'Wk15MmmkFKM9VcgR3S5kGeRxXhQ', 'rank': 39, 'frame_count': 1, 'sop_class': '1.2.840.10008.5.1.4.1.1.2', 'transfer_syntax': '1.2.840.10008.1.2.4.70'}, {'id': '1.2.840.113619.2.416.2250572342068691675512754660175270960.40', 'version': 'xdo2GEgkFbNwNqHMYgwAAjuCYxA', 'rank': 40, 'frame_count': 1, 'sop_class': '1.2.840.10008.5.1.4.1.1.2', 'transfer_syntax': '1.2.840.10008.1.2.4.70'}, {'id': '1.2.840.113619.2.416.2250572342068691675512754660175270960.41', 'version': 'GrC4gUOE2lTScKrsOwqPvZ8xHY4', 'rank': 41, 'frame_count': 1, 'sop_class': '1.2.840.10008.5.1.4.1.1.2', 'transfer_syntax': '1.2.840.10008.1.2.4.70'}, {'id': '1.2.840.113619.2.416.2250572342068691675512754660175270960.42', 'version': 'uCyzg66MlI2T75kwLvqfdPx7-0o', 'rank': 42, 'frame_count': 1, 'sop_class': '1.2.840.10008.5.1.4.1.1.2', 'transfer_syntax': '1.2.840.10008.1.2.4.70'}, {'id': '1.2.840.113619.2.416.2250572342068691675512754660175270960.43', 'version': '7Su1u0QxyKVNpfghaOYNmNAXAyo', 'rank': 43, 'frame_count': 1, 'sop_class': '1.2.840.10008.5.1.4.1.1.2', 'transfer_syntax': '1.2.840.10008.1.2.4.70'}, {'id': '1.2.840.113619.2.416.2250572342068691675512754660175270960.44', 'version': 'ZolPhrT6FwVEflRSgHdVHglGqSc', 'rank': 44, 'frame_count': 1, 'sop_class': '1.2.840.10008.5.1.4.1.1.2', 'transfer_syntax': '1.2.840.10008.1.2.4.70'}, {'id': '1.2.840.113619.2.416.2250572342068691675512754660175270960.45', 'version': 'EN29M156qXyyENJToGCgYKRf9_A', 'rank': 45, 'frame_count': 1, 'sop_class': '1.2.840.10008.5.1.4.1.1.2', 'transfer_syntax': '1.2.840.10008.1.2.4.70'}, {'id': '1.2.840.113619.2.416.2250572342068691675512754660175270960.46', 'version': 'ROzgLzOGfz38HeQVOb9p3AMgIxQ', 'rank': 46, 'frame_count': 1, 'sop_class': '1.2.840.10008.5.1.4.1.1.2', 'transfer_syntax': '1.2.840.10008.1.2.4.70'}, {'id': '1.2.840.113619.2.416.2250572342068691675512754660175270960.47', 'version': '1OvNgZ0l-xgBQLsfkkdE0ohYvWw', 'rank': 47, 'frame_count': 1, 'sop_class': '1.2.840.10008.5.1.4.1.1.2', 'transfer_syntax': '1.2.840.10008.1.2.4.70'}, {'id': '1.2.840.113619.2.416.2250572342068691675512754660175270960.48', 'version': 'RjBXM-HObVESmJMDmvHbZHPi_CQ', 'rank': 48, 'frame_count': 1, 'sop_class': '1.2.840.10008.5.1.4.1.1.2', 'transfer_syntax': '1.2.840.10008.1.2.4.70'}, {'id': '1.2.840.113619.2.416.2250572342068691675512754660175270960.49', 'version': 'ZSrdqSM_NxBjjvFt-YBr1Cc1JZk', 'rank': 49, 'frame_count': 1, 'sop_class': '1.2.840.10008.5.1.4.1.1.2', 'transfer_syntax': '1.2.840.10008.1.2.4.70'}, {'id': '1.2.840.113619.2.416.2250572342068691675512754660175270960.50', 'version': '1aKD7HKnb7GqLKj6UwslOkVLeJs', 'rank': 50, 'frame_count': 1, 'sop_class': '1.2.840.10008.5.1.4.1.1.2', 'transfer_syntax': '1.2.840.10008.1.2.4.70'}, {'id': '1.2.840.113619.2.416.2250572342068691675512754660175270960.51', 'version': 'a2P44H3lZHIoTNM8UE-V7sxsIDA', 'rank': 51, 'frame_count': 1, 'sop_class': '1.2.840.10008.5.1.4.1.1.2', 'transfer_syntax': '1.2.840.10008.1.2.4.70'}, {'id': '1.2.840.113619.2.416.2250572342068691675512754660175270960.52', 'version': '3PFrINH2jgM-5ut-Jtjyw_U2SoI', 'rank': 52, 'frame_count': 1, 'sop_class': '1.2.840.10008.5.1.4.1.1.2', 'transfer_syntax': '1.2.840.10008.1.2.4.70'}, {'id': '1.2.840.113619.2.416.2250572342068691675512754660175270960.53', 'version': 'oOh99--Nddx6yF0PQB_nNC3wqAI', 'rank': 53, 'frame_count': 1, 'sop_class': '1.2.840.10008.5.1.4.1.1.2', 'transfer_syntax': '1.2.840.10008.1.2.4.70'}, {'id': '1.2.840.113619.2.416.2250572342068691675512754660175270960.54', 'version': '_qZ82bG-ZcCdDF71oatumNvtftE', 'rank': 54, 'frame_count': 1, 'sop_class': '1.2.840.10008.5.1.4.1.1.2', 'transfer_syntax': '1.2.840.10008.1.2.4.70'}, {'id': '1.2.840.113619.2.416.2250572342068691675512754660175270960.55', 'version': 'u_P24rF6MokoeDuUH8hH59rqCfw', 'rank': 55, 'frame_count': 1, 'sop_class': '1.2.840.10008.5.1.4.1.1.2', 'transfer_syntax': '1.2.840.10008.1.2.4.70'}, {'id': '1.2.840.113619.2.416.2250572342068691675512754660175270960.56', 'version': 'jmG2RbgVpWzLGAJMKzHe_W-sfN4', 'rank': 56, 'frame_count': 1, 'sop_class': '1.2.840.10008.5.1.4.1.1.2', 'transfer_syntax': '1.2.840.10008.1.2.4.70'}, {'id': '1.2.840.113619.2.416.2250572342068691675512754660175270960.57', 'version': '-t-40_FP1fL6DoD1k9-kXgrxsIQ', 'rank': 57, 'frame_count': 1, 'sop_class': '1.2.840.10008.5.1.4.1.1.2', 'transfer_syntax': '1.2.840.10008.1.2.4.70'}, {'id': '1.2.840.113619.2.416.2250572342068691675512754660175270960.58', 'version': '-YjD4ydcHT8MgRnQbhx5aBbzGXo', 'rank': 58, 'frame_count': 1, 'sop_class': '1.2.840.10008.5.1.4.1.1.2', 'transfer_syntax': '1.2.840.10008.1.2.4.70'}, {'id': '1.2.840.113619.2.416.2250572342068691675512754660175270960.59', 'version': '_pyIjRONWr34UzgupGyOJyaw6lI', 'rank': 59, 'frame_count': 1, 'sop_class': '1.2.840.10008.5.1.4.1.1.2', 'transfer_syntax': '1.2.840.10008.1.2.4.70'}, {'id': '1.2.840.113619.2.416.2250572342068691675512754660175270960.60', 'version': '3RrPhiGg9KATDmS_EvuR3oqLKiY', 'rank': 60, 'frame_count': 1, 'sop_class': '1.2.840.10008.5.1.4.1.1.2', 'transfer_syntax': '1.2.840.10008.1.2.4.70'}, {'id': '1.2.840.113619.2.416.2250572342068691675512754660175270960.61', 'version': 'mYm1KdSyhAeVhDZYdloSYZBwFic', 'rank': 61, 'frame_count': 1, 'sop_class': '1.2.840.10008.5.1.4.1.1.2', 'transfer_syntax': '1.2.840.10008.1.2.4.70'}, {'id': '1.2.840.113619.2.416.2250572342068691675512754660175270960.62', 'version': '2lyuU_Nwl3aI_5B7nlfWlIzEbYI', 'rank': 62, 'frame_count': 1, 'sop_class': '1.2.840.10008.5.1.4.1.1.2', 'transfer_syntax': '1.2.840.10008.1.2.4.70'}, {'id': '1.2.840.113619.2.416.2250572342068691675512754660175270960.63', 'version': 'GSFCReWa9vdWzGnTLm98JOV4960', 'rank': 63, 'frame_count': 1, 'sop_class': '1.2.840.10008.5.1.4.1.1.2', 'transfer_syntax': '1.2.840.10008.1.2.4.70'}, {'id': '1.2.840.113619.2.416.2250572342068691675512754660175270960.64', 'version': 's0XcnDARsXDwZ_5VZrduJZhvCdw', 'rank': 64, 'frame_count': 1, 'sop_class': '1.2.840.10008.5.1.4.1.1.2', 'transfer_syntax': '1.2.840.10008.1.2.4.70'}, {'id': '1.2.840.113619.2.416.2250572342068691675512754660175270960.65', 'version': 'uI5uJehru9tWycWs_M0Ct1gwDD0', 'rank': 65, 'frame_count': 1, 'sop_class': '1.2.840.10008.5.1.4.1.1.2', 'transfer_syntax': '1.2.840.10008.1.2.4.70'}, {'id': '1.2.840.113619.2.416.2250572342068691675512754660175270960.66', 'version': '5dFWte2kMaiFADPk5i9gaGR1KKg', 'rank': 66, 'frame_count': 1, 'sop_class': '1.2.840.10008.5.1.4.1.1.2', 'transfer_syntax': '1.2.840.10008.1.2.4.70'}, {'id': '1.2.840.113619.2.416.2250572342068691675512754660175270960.67', 'version': 'NVtOBNwwRq7Qqyy7V1uRnJ7X48k', 'rank': 67, 'frame_count': 1, 'sop_class': '1.2.840.10008.5.1.4.1.1.2', 'transfer_syntax': '1.2.840.10008.1.2.4.70'}, {'id': '1.2.840.113619.2.416.2250572342068691675512754660175270960.68', 'version': 'aoOvqiTxA8zi1jAdNoyWffLuyUE', 'rank': 68, 'frame_count': 1, 'sop_class': '1.2.840.10008.5.1.4.1.1.2', 'transfer_syntax': '1.2.840.10008.1.2.4.70'}, {'id': '1.2.840.113619.2.416.2250572342068691675512754660175270960.69', 'version': 'KV6WrK78xytitLsac9ShzaVIz6g', 'rank': 69, 'frame_count': 1, 'sop_class': '1.2.840.10008.5.1.4.1.1.2', 'transfer_syntax': '1.2.840.10008.1.2.4.70'}, {'id': '1.2.840.113619.2.416.2250572342068691675512754660175270960.70', 'version': 'x3EoS6bRbsWFR92POgO1GmwsNE0', 'rank': 70, 'frame_count': 1, 'sop_class': '1.2.840.10008.5.1.4.1.1.2', 'transfer_syntax': '1.2.840.10008.1.2.4.70'}, {'id': '1.2.840.113619.2.416.2250572342068691675512754660175270960.71', 'version': 'WX-sJMnqS8NR7lbx1zNhig5DJZw', 'rank': 71, 'frame_count': 1, 'sop_class': '1.2.840.10008.5.1.4.1.1.2', 'transfer_syntax': '1.2.840.10008.1.2.4.70'}], 'series_uid': '1.2.840.113619.2.416.259547840017818410925630428644208775905', 'modality': 'CT', 'description': 'HEAD BONE 2.5'}\n",
      "{'id': 601, 'images': [{'id': '1.2.840.113619.2.416.1688106637254808835794456076859100695', 'version': 'qJHQNtFdz-8uP6uXeAuq3aqu3oM', 'rank': 1, 'frame_count': 1, 'sop_class': '1.2.840.10008.5.1.4.1.1.2', 'transfer_syntax': '1.2.840.10008.1.2.4.70'}, {'id': '1.2.840.113619.2.416.180620495594693864612012344306609604376', 'version': '7aEC9C2bcgoWf9VQu_gB5GjCbo4', 'rank': 2, 'frame_count': 1, 'sop_class': '1.2.840.10008.5.1.4.1.1.2', 'transfer_syntax': '1.2.840.10008.1.2.4.70'}, {'id': '1.2.840.113619.2.416.310425784106503279130974403393205739882', 'version': 'JbUcUrNoVLnXnXozVsSd9TCdVYQ', 'rank': 3, 'frame_count': 1, 'sop_class': '1.2.840.10008.5.1.4.1.1.2', 'transfer_syntax': '1.2.840.10008.1.2.4.70'}, {'id': '1.2.840.113619.2.416.41206882466512343754462087621250327322', 'version': '3SBPBN1bi24NA0X8O5iEFyyOwlw', 'rank': 4, 'frame_count': 1, 'sop_class': '1.2.840.10008.5.1.4.1.1.2', 'transfer_syntax': '1.2.840.10008.1.2.4.70'}, {'id': '1.2.840.113619.2.416.153570207183569405351628000944571175782', 'version': 'Re3ywZ5pDvt39v7v72Z_b4TjUFI', 'rank': 5, 'frame_count': 1, 'sop_class': '1.2.840.10008.5.1.4.1.1.2', 'transfer_syntax': '1.2.840.10008.1.2.4.70'}, {'id': '1.2.840.113619.2.416.136382672843974852565016834558439818783', 'version': 'NPRcxi4VtW09embc2cB1WczJdBE', 'rank': 6, 'frame_count': 1, 'sop_class': '1.2.840.10008.5.1.4.1.1.2', 'transfer_syntax': '1.2.840.10008.1.2.4.70'}, {'id': '1.2.840.113619.2.416.242058833726785941847137458302775044576', 'version': '8kGOO6lXL9lXcuSOYNawj7bNxBQ', 'rank': 7, 'frame_count': 1, 'sop_class': '1.2.840.10008.5.1.4.1.1.2', 'transfer_syntax': '1.2.840.10008.1.2.4.70'}, {'id': '1.2.840.113619.2.416.133854461161493085818110933446799816265', 'version': 'ceBjiSJQ8sA2Xdsquh4D4ow06PY', 'rank': 8, 'frame_count': 1, 'sop_class': '1.2.840.10008.5.1.4.1.1.2', 'transfer_syntax': '1.2.840.10008.1.2.4.70'}, {'id': '1.2.840.113619.2.416.56870234528467711373850964227018882224', 'version': 'SbHLr_qWxLGw2nXwVIuMY4HDrwY', 'rank': 9, 'frame_count': 1, 'sop_class': '1.2.840.10008.5.1.4.1.1.2', 'transfer_syntax': '1.2.840.10008.1.2.4.70'}, {'id': '1.2.840.113619.2.416.2270330431230788240669198802949961950', 'version': 'tlMbbrHXV5Te5Me-HMPVJw-Ygqo', 'rank': 10, 'frame_count': 1, 'sop_class': '1.2.840.10008.5.1.4.1.1.2', 'transfer_syntax': '1.2.840.10008.1.2.4.70'}, {'id': '1.2.840.113619.2.416.82012144787278106870466889319008760462', 'version': 'LqreC0P7-uqtUW5lsULr99EgQMA', 'rank': 11, 'frame_count': 1, 'sop_class': '1.2.840.10008.5.1.4.1.1.2', 'transfer_syntax': '1.2.840.10008.1.2.4.70'}, {'id': '1.2.840.113619.2.416.53045819880793445129205727269841657217', 'version': 'G2aBJ-Qciq2WQD9v2qrs1kFj1G8', 'rank': 12, 'frame_count': 1, 'sop_class': '1.2.840.10008.5.1.4.1.1.2', 'transfer_syntax': '1.2.840.10008.1.2.4.70'}, {'id': '1.2.840.113619.2.416.272629690245247834530222112246915969238', 'version': 'ATneOB4thS5NU-SD9YzXFWf7SnI', 'rank': 13, 'frame_count': 1, 'sop_class': '1.2.840.10008.5.1.4.1.1.2', 'transfer_syntax': '1.2.840.10008.1.2.4.70'}, {'id': '1.2.840.113619.2.416.105370157831504726529710508192112666550', 'version': 'LxLiq8xrg-b-QnoNMzAf_fIFh2k', 'rank': 14, 'frame_count': 1, 'sop_class': '1.2.840.10008.5.1.4.1.1.2', 'transfer_syntax': '1.2.840.10008.1.2.4.70'}, {'id': '1.2.840.113619.2.416.214490517113689383811399634644207525080', 'version': 'y3RGDmSygYBN6iB7341bxAMvdf8', 'rank': 15, 'frame_count': 1, 'sop_class': '1.2.840.10008.5.1.4.1.1.2', 'transfer_syntax': '1.2.840.10008.1.2.4.70'}, {'id': '1.2.840.113619.2.416.158283230645197050855481162787275264165', 'version': 'K4uY-Gz4uDnVLhlINvVXmTxE8lw', 'rank': 16, 'frame_count': 1, 'sop_class': '1.2.840.10008.5.1.4.1.1.2', 'transfer_syntax': '1.2.840.10008.1.2.4.70'}, {'id': '1.2.840.113619.2.416.254370251334536224754437998517176575467', 'version': 'Lt-hbmX42qbgw41Pv6od1Sw9z5E', 'rank': 17, 'frame_count': 1, 'sop_class': '1.2.840.10008.5.1.4.1.1.2', 'transfer_syntax': '1.2.840.10008.1.2.4.70'}, {'id': '1.2.840.113619.2.416.252353823577476031144166802460767323151', 'version': 'vO1-T8jgkQuEXWFR1BTawisCJaM', 'rank': 18, 'frame_count': 1, 'sop_class': '1.2.840.10008.5.1.4.1.1.2', 'transfer_syntax': '1.2.840.10008.1.2.4.70'}, {'id': '1.2.840.113619.2.416.238570611661078326919836446581816745485', 'version': '49adscuKuLvkprBovrYbFFziYIE', 'rank': 19, 'frame_count': 1, 'sop_class': '1.2.840.10008.5.1.4.1.1.2', 'transfer_syntax': '1.2.840.10008.1.2.4.70'}, {'id': '1.2.840.113619.2.416.27397219485892468079693961940010215986', 'version': '7c1qAkQ-9FIBrhSVYxH0_84H9Wg', 'rank': 20, 'frame_count': 1, 'sop_class': '1.2.840.10008.5.1.4.1.1.2', 'transfer_syntax': '1.2.840.10008.1.2.4.70'}, {'id': '1.2.840.113619.2.416.114670401941345747978018556423607091669', 'version': 'IFCPq1EAPqFnxetOorasYM3h3IU', 'rank': 21, 'frame_count': 1, 'sop_class': '1.2.840.10008.5.1.4.1.1.2', 'transfer_syntax': '1.2.840.10008.1.2.4.70'}, {'id': '1.2.840.113619.2.416.137337116659026663044295775149026995162', 'version': 'zfDP6-lvBZm1Gopc38fQUckYFFg', 'rank': 22, 'frame_count': 1, 'sop_class': '1.2.840.10008.5.1.4.1.1.2', 'transfer_syntax': '1.2.840.10008.1.2.4.70'}, {'id': '1.2.840.113619.2.416.212800939705116652215565855884615868718', 'version': 'OJQZIXEvK9I2lns7UGokS3gqmNc', 'rank': 23, 'frame_count': 1, 'sop_class': '1.2.840.10008.5.1.4.1.1.2', 'transfer_syntax': '1.2.840.10008.1.2.4.70'}, {'id': '1.2.840.113619.2.416.231200035334837186892774281922568754525', 'version': 'MbZ1V7RQfoWdJ_MQvBC7rsmegkk', 'rank': 24, 'frame_count': 1, 'sop_class': '1.2.840.10008.5.1.4.1.1.2', 'transfer_syntax': '1.2.840.10008.1.2.4.70'}, {'id': '1.2.840.113619.2.416.221884390655967228658138731029190281630', 'version': '0CshRVIvSYyxMVktMlnMrUEo4BU', 'rank': 25, 'frame_count': 1, 'sop_class': '1.2.840.10008.5.1.4.1.1.2', 'transfer_syntax': '1.2.840.10008.1.2.4.70'}, {'id': '1.2.840.113619.2.416.185542434765255608729441121743217990940', 'version': 'ssbHw5UfkiiLo-fKAoRg0XprSP8', 'rank': 26, 'frame_count': 1, 'sop_class': '1.2.840.10008.5.1.4.1.1.2', 'transfer_syntax': '1.2.840.10008.1.2.4.70'}, {'id': '1.2.840.113619.2.416.128028194430723820443924492849204999613', 'version': 'ml-pd7mQAcD-h6JwA9crWjPlOhc', 'rank': 27, 'frame_count': 1, 'sop_class': '1.2.840.10008.5.1.4.1.1.2', 'transfer_syntax': '1.2.840.10008.1.2.4.70'}, {'id': '1.2.840.113619.2.416.126508434694975205997158105278205407862', 'version': 'GbxP-ap6zuk6SvKFDSz6llU4ZSY', 'rank': 28, 'frame_count': 1, 'sop_class': '1.2.840.10008.5.1.4.1.1.2', 'transfer_syntax': '1.2.840.10008.1.2.4.70'}, {'id': '1.2.840.113619.2.416.288762117732004869586888606576841555618', 'version': '4d7ScKOu3bwACoNQXTNQuE_rWA4', 'rank': 29, 'frame_count': 1, 'sop_class': '1.2.840.10008.5.1.4.1.1.2', 'transfer_syntax': '1.2.840.10008.1.2.4.70'}, {'id': '1.2.840.113619.2.416.229083652985295901446595924118807446208', 'version': 'u5r9CmyJ76I0poiAndQbqx1AIA8', 'rank': 30, 'frame_count': 1, 'sop_class': '1.2.840.10008.5.1.4.1.1.2', 'transfer_syntax': '1.2.840.10008.1.2.4.70'}, {'id': '1.2.840.113619.2.416.272305812428364371357407757610409406555', 'version': 'UGRqlieR89VK9DhK1Di5va8aDhI', 'rank': 31, 'frame_count': 1, 'sop_class': '1.2.840.10008.5.1.4.1.1.2', 'transfer_syntax': '1.2.840.10008.1.2.4.70'}, {'id': '1.2.840.113619.2.416.271453091460241104779021750182718178269', 'version': 'dggHU0ZT1w2f5uSIqU9ncqPjCyU', 'rank': 32, 'frame_count': 1, 'sop_class': '1.2.840.10008.5.1.4.1.1.2', 'transfer_syntax': '1.2.840.10008.1.2.4.70'}, {'id': '1.2.840.113619.2.416.59703287983751368680256898457057242661', 'version': 'pN5exMPZTSwpzL6ZWY2nxFRv78Y', 'rank': 33, 'frame_count': 1, 'sop_class': '1.2.840.10008.5.1.4.1.1.2', 'transfer_syntax': '1.2.840.10008.1.2.4.70'}, {'id': '1.2.840.113619.2.416.311881235933724136111275044263307592410', 'version': 'wu3gCF5qkm7DUl1RlNWMTpXPANU', 'rank': 34, 'frame_count': 1, 'sop_class': '1.2.840.10008.5.1.4.1.1.2', 'transfer_syntax': '1.2.840.10008.1.2.4.70'}, {'id': '1.2.840.113619.2.416.84808126462297998068778903088753736486', 'version': '7YX_YFVSKqYin9420yBK0LAx-vA', 'rank': 35, 'frame_count': 1, 'sop_class': '1.2.840.10008.5.1.4.1.1.2', 'transfer_syntax': '1.2.840.10008.1.2.4.70'}, {'id': '1.2.840.113619.2.416.260836854649193913333564914524509699716', 'version': 'JTUiPMbq-o5yiTDVpDIORATWi90', 'rank': 36, 'frame_count': 1, 'sop_class': '1.2.840.10008.5.1.4.1.1.2', 'transfer_syntax': '1.2.840.10008.1.2.4.70'}, {'id': '1.2.840.113619.2.416.212446859839619056977023651270004621745', 'version': 'MSMEGA7ZS04TV73Buz78s_DnaD8', 'rank': 37, 'frame_count': 1, 'sop_class': '1.2.840.10008.5.1.4.1.1.2', 'transfer_syntax': '1.2.840.10008.1.2.4.70'}, {'id': '1.2.840.113619.2.416.64579435566254625784597062915477918041', 'version': 'MZXY6Z1VJ9Nx6vC9dpWoOPG8ic0', 'rank': 38, 'frame_count': 1, 'sop_class': '1.2.840.10008.5.1.4.1.1.2', 'transfer_syntax': '1.2.840.10008.1.2.4.70'}, {'id': '1.2.840.113619.2.416.174629625337783236596015653327292038144', 'version': 'zMnU-1A6VvMzHn3x-yp8A2kyj_I', 'rank': 39, 'frame_count': 1, 'sop_class': '1.2.840.10008.5.1.4.1.1.2', 'transfer_syntax': '1.2.840.10008.1.2.4.70'}, {'id': '1.2.840.113619.2.416.173620898790667120020498150916411198638', 'version': 'ecCDRYU-zO83bDd4j2KMnGnog6o', 'rank': 40, 'frame_count': 1, 'sop_class': '1.2.840.10008.5.1.4.1.1.2', 'transfer_syntax': '1.2.840.10008.1.2.4.70'}, {'id': '1.2.840.113619.2.416.256678421305052332744722908238655318387', 'version': 'FAox1V9Xfau6Ek-SxRtVLzi-vXQ', 'rank': 41, 'frame_count': 1, 'sop_class': '1.2.840.10008.5.1.4.1.1.2', 'transfer_syntax': '1.2.840.10008.1.2.4.70'}, {'id': '1.2.840.113619.2.416.168748755909979639984304287164963849239', 'version': 'xsnffA2B10o7t79nXHCHvEyIV-I', 'rank': 42, 'frame_count': 1, 'sop_class': '1.2.840.10008.5.1.4.1.1.2', 'transfer_syntax': '1.2.840.10008.1.2.4.70'}], 'series_uid': '1.2.840.113619.2.416.270354951969580887626984977152559857865', 'modality': 'CT', 'description': 'HEAD STD COR'}\n",
      "{'id': 602, 'images': [{'id': '1.2.840.113619.2.416.258129011321247958308607588376640685846', 'version': '-lTZ_WaJfbvTeGS5iMpgY1cbQoE', 'rank': 1, 'frame_count': 1, 'sop_class': '1.2.840.10008.5.1.4.1.1.2', 'transfer_syntax': '1.2.840.10008.1.2.4.70'}, {'id': '1.2.840.113619.2.416.7350514132929441069635228292281891230', 'version': 'ZN4rRcgUA4Ec9B6734il1wVDPJk', 'rank': 2, 'frame_count': 1, 'sop_class': '1.2.840.10008.5.1.4.1.1.2', 'transfer_syntax': '1.2.840.10008.1.2.4.70'}, {'id': '1.2.840.113619.2.416.167922553392196118097668073840025141324', 'version': 'zgnzRfuwBfLu1HxldfXrriBvQu0', 'rank': 3, 'frame_count': 1, 'sop_class': '1.2.840.10008.5.1.4.1.1.2', 'transfer_syntax': '1.2.840.10008.1.2.4.70'}, {'id': '1.2.840.113619.2.416.236306104481041019277753205492426690016', 'version': 'f65eWwsoBEHb0ePf2Y0UEST0qVo', 'rank': 4, 'frame_count': 1, 'sop_class': '1.2.840.10008.5.1.4.1.1.2', 'transfer_syntax': '1.2.840.10008.1.2.4.70'}, {'id': '1.2.840.113619.2.416.291246598102636417836148011901371871946', 'version': 'bbSRfDPwxARv3Z--6gpqgK2mQy8', 'rank': 5, 'frame_count': 1, 'sop_class': '1.2.840.10008.5.1.4.1.1.2', 'transfer_syntax': '1.2.840.10008.1.2.4.70'}, {'id': '1.2.840.113619.2.416.325428330768587251780988100918023880874', 'version': 'osW1IoRR_qGoPX9bW9jQ0dFb9g8', 'rank': 6, 'frame_count': 1, 'sop_class': '1.2.840.10008.5.1.4.1.1.2', 'transfer_syntax': '1.2.840.10008.1.2.4.70'}, {'id': '1.2.840.113619.2.416.95979268228127999043539829232832075798', 'version': '6a148lnqvhgV6_R2_FEIPTkd0ME', 'rank': 7, 'frame_count': 1, 'sop_class': '1.2.840.10008.5.1.4.1.1.2', 'transfer_syntax': '1.2.840.10008.1.2.4.70'}, {'id': '1.2.840.113619.2.416.104430941541629215928741794816998566890', 'version': 'fu-9IgvYkKXRkb2CpN4NlNytDL4', 'rank': 8, 'frame_count': 1, 'sop_class': '1.2.840.10008.5.1.4.1.1.2', 'transfer_syntax': '1.2.840.10008.1.2.4.70'}, {'id': '1.2.840.113619.2.416.154055768508265283275405424680345685753', 'version': 'N_BCnk0Znhx5AW6kcLactm22os0', 'rank': 9, 'frame_count': 1, 'sop_class': '1.2.840.10008.5.1.4.1.1.2', 'transfer_syntax': '1.2.840.10008.1.2.4.70'}, {'id': '1.2.840.113619.2.416.205428715876962002341316151572132685102', 'version': 'Eq9KUgRAdTAfou82XsnoeuiKBQE', 'rank': 10, 'frame_count': 1, 'sop_class': '1.2.840.10008.5.1.4.1.1.2', 'transfer_syntax': '1.2.840.10008.1.2.4.70'}, {'id': '1.2.840.113619.2.416.101829478856456502370757212567931412085', 'version': 'ROAqlQ7uZxR2Se0MaCu-3MC3EoA', 'rank': 11, 'frame_count': 1, 'sop_class': '1.2.840.10008.5.1.4.1.1.2', 'transfer_syntax': '1.2.840.10008.1.2.4.70'}, {'id': '1.2.840.113619.2.416.47268443064456774463700101424360275768', 'version': 'sGEYH9mbtU71KF7HSqcIlPBaTgk', 'rank': 12, 'frame_count': 1, 'sop_class': '1.2.840.10008.5.1.4.1.1.2', 'transfer_syntax': '1.2.840.10008.1.2.4.70'}, {'id': '1.2.840.113619.2.416.206683066483256552579813522623496039925', 'version': '0PBFAo8QWnQ1q2G-joNV6xCVMgs', 'rank': 13, 'frame_count': 1, 'sop_class': '1.2.840.10008.5.1.4.1.1.2', 'transfer_syntax': '1.2.840.10008.1.2.4.70'}, {'id': '1.2.840.113619.2.416.89729799295194567395957333493295595942', 'version': 'JUKyIyfAfFyP7SByzhX4gmbgJMk', 'rank': 14, 'frame_count': 1, 'sop_class': '1.2.840.10008.5.1.4.1.1.2', 'transfer_syntax': '1.2.840.10008.1.2.4.70'}, {'id': '1.2.840.113619.2.416.296419733825436889139998051420233602201', 'version': 'aiyAwm2AHMLM8eldPRGVb3-DJps', 'rank': 15, 'frame_count': 1, 'sop_class': '1.2.840.10008.5.1.4.1.1.2', 'transfer_syntax': '1.2.840.10008.1.2.4.70'}, {'id': '1.2.840.113619.2.416.265351588223319605264389651617494296362', 'version': '0dRMJcXEtNqfipfSF02-eXwxngI', 'rank': 16, 'frame_count': 1, 'sop_class': '1.2.840.10008.5.1.4.1.1.2', 'transfer_syntax': '1.2.840.10008.1.2.4.70'}, {'id': '1.2.840.113619.2.416.182820392422450199671148005538826381932', 'version': '_liCXUdoqOWq5tgRl-zLFZX5iy4', 'rank': 17, 'frame_count': 1, 'sop_class': '1.2.840.10008.5.1.4.1.1.2', 'transfer_syntax': '1.2.840.10008.1.2.4.70'}, {'id': '1.2.840.113619.2.416.218201388534988889222435802552832472269', 'version': 'ofapyhTLPauh1shLqosQ4iTYq2E', 'rank': 18, 'frame_count': 1, 'sop_class': '1.2.840.10008.5.1.4.1.1.2', 'transfer_syntax': '1.2.840.10008.1.2.4.70'}, {'id': '1.2.840.113619.2.416.12853305432144304606583398824292864711', 'version': 'G2CmkBvpTflZrU8cFjeuyLkmFaw', 'rank': 19, 'frame_count': 1, 'sop_class': '1.2.840.10008.5.1.4.1.1.2', 'transfer_syntax': '1.2.840.10008.1.2.4.70'}, {'id': '1.2.840.113619.2.416.155984311207362570961042288312346966595', 'version': 'eOKTbfi0v4CnyIHK-iLdXh6aSzw', 'rank': 20, 'frame_count': 1, 'sop_class': '1.2.840.10008.5.1.4.1.1.2', 'transfer_syntax': '1.2.840.10008.1.2.4.70'}, {'id': '1.2.840.113619.2.416.194527989838129725796312872252561294565', 'version': '2bN-uByd5VYs3_WrC-B6pi4x9pg', 'rank': 21, 'frame_count': 1, 'sop_class': '1.2.840.10008.5.1.4.1.1.2', 'transfer_syntax': '1.2.840.10008.1.2.4.70'}, {'id': '1.2.840.113619.2.416.94000227344163794463015361639757391128', 'version': 'mtgf9cRVpyB1K7HidulJ-ULeHpM', 'rank': 22, 'frame_count': 1, 'sop_class': '1.2.840.10008.5.1.4.1.1.2', 'transfer_syntax': '1.2.840.10008.1.2.4.70'}, {'id': '1.2.840.113619.2.416.156691892482168460587678811946995870194', 'version': 'zY8DHdJ4yrtW7Aon-_KNaYBZGmE', 'rank': 23, 'frame_count': 1, 'sop_class': '1.2.840.10008.5.1.4.1.1.2', 'transfer_syntax': '1.2.840.10008.1.2.4.70'}, {'id': '1.2.840.113619.2.416.281388492934085637760252793395399456901', 'version': 'Mzzjy0st9rt43YUBwhk1cP7C6sE', 'rank': 24, 'frame_count': 1, 'sop_class': '1.2.840.10008.5.1.4.1.1.2', 'transfer_syntax': '1.2.840.10008.1.2.4.70'}, {'id': '1.2.840.113619.2.416.105034036252955037641485038921109055483', 'version': 'FByLPSlH7yCN2VBOOPoJgW3u7vI', 'rank': 25, 'frame_count': 1, 'sop_class': '1.2.840.10008.5.1.4.1.1.2', 'transfer_syntax': '1.2.840.10008.1.2.4.70'}, {'id': '1.2.840.113619.2.416.273968369974322124555805224299709702910', 'version': 'hr7-Ai8uKOxnYlVFRFOERuNnHgk', 'rank': 26, 'frame_count': 1, 'sop_class': '1.2.840.10008.5.1.4.1.1.2', 'transfer_syntax': '1.2.840.10008.1.2.4.70'}, {'id': '1.2.840.113619.2.416.171719994122400178273630174636486326964', 'version': 'he9V06pyC_YhMbpsQoOgoonUWDY', 'rank': 27, 'frame_count': 1, 'sop_class': '1.2.840.10008.5.1.4.1.1.2', 'transfer_syntax': '1.2.840.10008.1.2.4.70'}, {'id': '1.2.840.113619.2.416.307726698901447273314662355057279615563', 'version': 'XXBcaGcw_5TnZHONJWQihoAusA0', 'rank': 28, 'frame_count': 1, 'sop_class': '1.2.840.10008.5.1.4.1.1.2', 'transfer_syntax': '1.2.840.10008.1.2.4.70'}, {'id': '1.2.840.113619.2.416.81345885940365554644413251900455601615', 'version': 'ICU0exGRjhESy4RuvlhpFQZ0ghw', 'rank': 29, 'frame_count': 1, 'sop_class': '1.2.840.10008.5.1.4.1.1.2', 'transfer_syntax': '1.2.840.10008.1.2.4.70'}, {'id': '1.2.840.113619.2.416.171589135405953822866685288936238225502', 'version': '-sPmjtIgcAvIRUoYtzJMYpq63nY', 'rank': 30, 'frame_count': 1, 'sop_class': '1.2.840.10008.5.1.4.1.1.2', 'transfer_syntax': '1.2.840.10008.1.2.4.70'}, {'id': '1.2.840.113619.2.416.175041973403467845855300300405926780968', 'version': 'tuysIYxvz1yQKhTnkvDONnCn5l4', 'rank': 31, 'frame_count': 1, 'sop_class': '1.2.840.10008.5.1.4.1.1.2', 'transfer_syntax': '1.2.840.10008.1.2.4.70'}, {'id': '1.2.840.113619.2.416.1648643047238832227932523368491993385', 'version': '1HhOcMeC4nXySPcpngGJr0Z0GEE', 'rank': 32, 'frame_count': 1, 'sop_class': '1.2.840.10008.5.1.4.1.1.2', 'transfer_syntax': '1.2.840.10008.1.2.4.70'}, {'id': '1.2.840.113619.2.416.170003874646835248243780583326307350145', 'version': '91uKfMwgBCKmfZbT_UXJzPL_W9w', 'rank': 33, 'frame_count': 1, 'sop_class': '1.2.840.10008.5.1.4.1.1.2', 'transfer_syntax': '1.2.840.10008.1.2.4.70'}, {'id': '1.2.840.113619.2.416.105513580823061326956933401775612430213', 'version': 'MRercB3jC-GfQfYrYVr_bVVxA_w', 'rank': 34, 'frame_count': 1, 'sop_class': '1.2.840.10008.5.1.4.1.1.2', 'transfer_syntax': '1.2.840.10008.1.2.4.70'}, {'id': '1.2.840.113619.2.416.50690083435658736796628457586476256419', 'version': 'lDgQXekdqVaOibahzF7IbSwvrXI', 'rank': 35, 'frame_count': 1, 'sop_class': '1.2.840.10008.5.1.4.1.1.2', 'transfer_syntax': '1.2.840.10008.1.2.4.70'}, {'id': '1.2.840.113619.2.416.232866105119877856531761778010838093777', 'version': 'sdoZGzeHf8CEtKXHRpsN1A7uJPs', 'rank': 36, 'frame_count': 1, 'sop_class': '1.2.840.10008.5.1.4.1.1.2', 'transfer_syntax': '1.2.840.10008.1.2.4.70'}], 'series_uid': '1.2.840.113619.2.416.123897379902439727492767257039093002935', 'modality': 'CT', 'description': 'HEAD STD SAG'}\n",
      "{'id': 603, 'images': [{'id': '1.2.840.113619.2.416.186888726084950384041768583920772701122', 'version': 'wOQPMLqdhW5UK8Uzm05jE44gbc0', 'rank': 1, 'frame_count': 1, 'sop_class': '1.2.840.10008.5.1.4.1.1.2', 'transfer_syntax': '1.2.840.10008.1.2.4.70'}, {'id': '1.2.840.113619.2.416.307786838427825295621204374597967117446', 'version': 'UZ6KS_Ieftg0n0sheQOspVphBUw', 'rank': 2, 'frame_count': 1, 'sop_class': '1.2.840.10008.5.1.4.1.1.2', 'transfer_syntax': '1.2.840.10008.1.2.4.70'}, {'id': '1.2.840.113619.2.416.21614941817081168642010023483172265506', 'version': 'wNpXOER8tqGFhFABeYHeglsTBGs', 'rank': 3, 'frame_count': 1, 'sop_class': '1.2.840.10008.5.1.4.1.1.2', 'transfer_syntax': '1.2.840.10008.1.2.4.70'}, {'id': '1.2.840.113619.2.416.331068423218181347878809711458876888526', 'version': 'FQ1zheQyXZyYi51_zOQFDN9mJxQ', 'rank': 4, 'frame_count': 1, 'sop_class': '1.2.840.10008.5.1.4.1.1.2', 'transfer_syntax': '1.2.840.10008.1.2.4.70'}, {'id': '1.2.840.113619.2.416.10773702495330172611769510941803953610', 'version': 'FUj4vHCffqe3blkDNZh-zJXiYGc', 'rank': 5, 'frame_count': 1, 'sop_class': '1.2.840.10008.5.1.4.1.1.2', 'transfer_syntax': '1.2.840.10008.1.2.4.70'}, {'id': '1.2.840.113619.2.416.8202988874864754615354226038308178904', 'version': 'rnn2FhyIu_1f-qFMp4tlyrvlSZI', 'rank': 6, 'frame_count': 1, 'sop_class': '1.2.840.10008.5.1.4.1.1.2', 'transfer_syntax': '1.2.840.10008.1.2.4.70'}, {'id': '1.2.840.113619.2.416.293612570485263526076023117174290623406', 'version': 'bHyuAYBNXF16zxoCHFoTlJcwiWg', 'rank': 7, 'frame_count': 1, 'sop_class': '1.2.840.10008.5.1.4.1.1.2', 'transfer_syntax': '1.2.840.10008.1.2.4.70'}, {'id': '1.2.840.113619.2.416.96948504391713305366397883312588552721', 'version': 'tGKRGMdoUgJnP2LlwOD0lJLp1qk', 'rank': 8, 'frame_count': 1, 'sop_class': '1.2.840.10008.5.1.4.1.1.2', 'transfer_syntax': '1.2.840.10008.1.2.4.70'}, {'id': '1.2.840.113619.2.416.299762791136003029373323144075882671461', 'version': 'B_lNDAllzn0nYQJPc8cBQikTl1g', 'rank': 9, 'frame_count': 1, 'sop_class': '1.2.840.10008.5.1.4.1.1.2', 'transfer_syntax': '1.2.840.10008.1.2.4.70'}, {'id': '1.2.840.113619.2.416.180299173934581823470915523700485032962', 'version': 'Kl9LiZ7CxUJPZHDlEbKh370aJMM', 'rank': 10, 'frame_count': 1, 'sop_class': '1.2.840.10008.5.1.4.1.1.2', 'transfer_syntax': '1.2.840.10008.1.2.4.70'}, {'id': '1.2.840.113619.2.416.6668010849621650727764939140735434437', 'version': 'b9CzNypRxbiALQPyRDlDf1c-sAo', 'rank': 11, 'frame_count': 1, 'sop_class': '1.2.840.10008.5.1.4.1.1.2', 'transfer_syntax': '1.2.840.10008.1.2.4.70'}, {'id': '1.2.840.113619.2.416.23108998552470162853757415136355518732', 'version': 'GfuStc9dZi9_OBsmIe5wJ--EbNc', 'rank': 12, 'frame_count': 1, 'sop_class': '1.2.840.10008.5.1.4.1.1.2', 'transfer_syntax': '1.2.840.10008.1.2.4.70'}, {'id': '1.2.840.113619.2.416.15996132637555106031016789453644720208', 'version': 'JCVo8ubXzA2iqnd9igc3n7Bp0P8', 'rank': 13, 'frame_count': 1, 'sop_class': '1.2.840.10008.5.1.4.1.1.2', 'transfer_syntax': '1.2.840.10008.1.2.4.70'}, {'id': '1.2.840.113619.2.416.193926714036720450673335792864666020245', 'version': 'MHpm2L47XHVtEYAW60LDcmODLoc', 'rank': 14, 'frame_count': 1, 'sop_class': '1.2.840.10008.5.1.4.1.1.2', 'transfer_syntax': '1.2.840.10008.1.2.4.70'}, {'id': '1.2.840.113619.2.416.262630796518290688091148493738917769745', 'version': 'sq56rI-Cmvpn3guzBNGpHUvNXzA', 'rank': 15, 'frame_count': 1, 'sop_class': '1.2.840.10008.5.1.4.1.1.2', 'transfer_syntax': '1.2.840.10008.1.2.4.70'}, {'id': '1.2.840.113619.2.416.113483925115646365871862761344855644872', 'version': 'Bx1SVay1UDKbLINwic-1GXKS3II', 'rank': 16, 'frame_count': 1, 'sop_class': '1.2.840.10008.5.1.4.1.1.2', 'transfer_syntax': '1.2.840.10008.1.2.4.70'}, {'id': '1.2.840.113619.2.416.221340428548714469655647642870851223082', 'version': 'cSfo-h9BSnzKWdm3Kfms4BMPsb8', 'rank': 17, 'frame_count': 1, 'sop_class': '1.2.840.10008.5.1.4.1.1.2', 'transfer_syntax': '1.2.840.10008.1.2.4.70'}, {'id': '1.2.840.113619.2.416.108392260869396873783665212645046303912', 'version': '7Aqdw8hJP3KqmuoJ0v2zp-Rn4XA', 'rank': 18, 'frame_count': 1, 'sop_class': '1.2.840.10008.5.1.4.1.1.2', 'transfer_syntax': '1.2.840.10008.1.2.4.70'}, {'id': '1.2.840.113619.2.416.97806613750879942675797595464328023232', 'version': 'Egd6b3_SB-oK9ibjEXbLOZXhyuM', 'rank': 19, 'frame_count': 1, 'sop_class': '1.2.840.10008.5.1.4.1.1.2', 'transfer_syntax': '1.2.840.10008.1.2.4.70'}, {'id': '1.2.840.113619.2.416.129033320627080054285141395270305038735', 'version': '6R4JXbDkfLiLUWB3KuYzzWMxh30', 'rank': 20, 'frame_count': 1, 'sop_class': '1.2.840.10008.5.1.4.1.1.2', 'transfer_syntax': '1.2.840.10008.1.2.4.70'}, {'id': '1.2.840.113619.2.416.184546581834710473141166483197104085003', 'version': '9M75DslGdcsdReYQoi_V6ULJRN0', 'rank': 21, 'frame_count': 1, 'sop_class': '1.2.840.10008.5.1.4.1.1.2', 'transfer_syntax': '1.2.840.10008.1.2.4.70'}, {'id': '1.2.840.113619.2.416.339828097312610811730936588430132995062', 'version': 'rhB1Cej1DXxmfz0wGB0KydWhCow', 'rank': 22, 'frame_count': 1, 'sop_class': '1.2.840.10008.5.1.4.1.1.2', 'transfer_syntax': '1.2.840.10008.1.2.4.70'}, {'id': '1.2.840.113619.2.416.207432365271702550192018832972123210369', 'version': 'xmx-i5IJMK253gH_f_b3tT2Vzo8', 'rank': 23, 'frame_count': 1, 'sop_class': '1.2.840.10008.5.1.4.1.1.2', 'transfer_syntax': '1.2.840.10008.1.2.4.70'}, {'id': '1.2.840.113619.2.416.68299194596163903662800579512712042370', 'version': 'JIOFokXRJKPUTgRJcJbg7IwbLIk', 'rank': 24, 'frame_count': 1, 'sop_class': '1.2.840.10008.5.1.4.1.1.2', 'transfer_syntax': '1.2.840.10008.1.2.4.70'}, {'id': '1.2.840.113619.2.416.244276281204238055727510139285253455196', 'version': '3pWd7GhUuzKglG4VgOCWmsU1RGU', 'rank': 25, 'frame_count': 1, 'sop_class': '1.2.840.10008.5.1.4.1.1.2', 'transfer_syntax': '1.2.840.10008.1.2.4.70'}, {'id': '1.2.840.113619.2.416.26318924371658475936154597901508699443', 'version': 'sjz34_TwYd8luUg2hLUjpVSKnV4', 'rank': 26, 'frame_count': 1, 'sop_class': '1.2.840.10008.5.1.4.1.1.2', 'transfer_syntax': '1.2.840.10008.1.2.4.70'}, {'id': '1.2.840.113619.2.416.186372722194783490334958151973926221055', 'version': 'MrytPE1bGkxetynK4gmMEzhD8hg', 'rank': 27, 'frame_count': 1, 'sop_class': '1.2.840.10008.5.1.4.1.1.2', 'transfer_syntax': '1.2.840.10008.1.2.4.70'}, {'id': '1.2.840.113619.2.416.181784953438704582399404962085188120917', 'version': 'XrYmSsWfuK_iZpAbcLSh4d2x4zw', 'rank': 28, 'frame_count': 1, 'sop_class': '1.2.840.10008.5.1.4.1.1.2', 'transfer_syntax': '1.2.840.10008.1.2.4.70'}, {'id': '1.2.840.113619.2.416.186177447826874353578788198860446947170', 'version': 'QxsK3UJo25Fa4mDZW5yb25QJND8', 'rank': 29, 'frame_count': 1, 'sop_class': '1.2.840.10008.5.1.4.1.1.2', 'transfer_syntax': '1.2.840.10008.1.2.4.70'}, {'id': '1.2.840.113619.2.416.322288842219969293201467819544769561367', 'version': 'V_lmuecWC561f7idKP3Ci0j-gxA', 'rank': 30, 'frame_count': 1, 'sop_class': '1.2.840.10008.5.1.4.1.1.2', 'transfer_syntax': '1.2.840.10008.1.2.4.70'}, {'id': '1.2.840.113619.2.416.157115971736121636290243180622775174140', 'version': 'WPNEuHgCboJS0yMKHieKrxsM1-Y', 'rank': 31, 'frame_count': 1, 'sop_class': '1.2.840.10008.5.1.4.1.1.2', 'transfer_syntax': '1.2.840.10008.1.2.4.70'}, {'id': '1.2.840.113619.2.416.173609590149705234412534646838756074181', 'version': 'C3TBHPi8i--AeT0VQK5oN2MqFvQ', 'rank': 32, 'frame_count': 1, 'sop_class': '1.2.840.10008.5.1.4.1.1.2', 'transfer_syntax': '1.2.840.10008.1.2.4.70'}], 'series_uid': '1.2.840.113619.2.416.316739734113952416740007602079547006126', 'modality': 'CT', 'description': 'ANGLED AXIAL'}\n",
      "{'id': 997, 'images': [{'id': '1.2.840.113619.2.416.50801729610892457103202027445233877886', 'version': 'Ypf-2IR0NX5dsSkhTHOHU_7C39A', 'rank': 1, 'frame_count': 1, 'sop_class': '1.2.840.10008.5.1.4.1.1.88.67', 'transfer_syntax': '1.2.840.10008.1.2.1'}], 'series_uid': '1.2.840.113619.2.416.174128385919018003185848195207344717758', 'modality': 'SR', 'description': 'Dose Record'}\n",
      "{'id': 999, 'images': [{'id': '1.2.840.113619.2.416.301362818206033235625639977711245317028', 'version': '5uy2njvTrgj_ItaW1YG-HDQaQ_M', 'rank': 1, 'frame_count': 1, 'sop_class': '1.2.840.10008.5.1.4.1.1.7', 'transfer_syntax': '1.2.840.10008.1.2.4.70'}], 'series_uid': '1.2.840.113619.2.416.13749931124275678007590225412827571271', 'modality': 'CT', 'description': 'Dose Report'}\n"
     ]
    }
   ],
   "source": [
    "for item in schema.series:\n",
    "    print(item)"
   ]
  },
  {
   "cell_type": "code",
   "execution_count": 37,
   "metadata": {},
   "outputs": [],
   "source": [
    "from pathlib import Path"
   ]
  },
  {
   "cell_type": "markdown",
   "metadata": {},
   "source": [
    "## Download single series"
   ]
  },
  {
   "cell_type": "code",
   "execution_count": 50,
   "metadata": {},
   "outputs": [],
   "source": [
    "series_uid = schema.series[1].series_uid\n",
    "file_name = Path('_'.join(schema.series[1].description.split()))\n",
    "file_name = file_name.with_suffix('.zip')\n",
    "\n",
    "downloaded_series = ambra.api.Storage.Study.download(engine_fqdn=engine, \n",
    "                                 namespace=namespace, \n",
    "                                 study_uid=study_uid, \n",
    "                                 series_uid=series_uid, \n",
    "                                 phi_namespace=phi_namespace, cincinn\n",
    "                                 bundle='dicom',\n",
    "                                 exclude_viewer=1)"
   ]
  },
  {
   "cell_type": "code",
   "execution_count": 52,
   "metadata": {},
   "outputs": [],
   "source": [
    "with open(file_name, 'wb') as fopen:\n",
    "    fopen.write(downloaded_series.content)"
   ]
  },
  {
   "cell_type": "code",
   "execution_count": 57,
   "metadata": {},
   "outputs": [],
   "source": [
    "downloaded_series.close()"
   ]
  },
  {
   "cell_type": "markdown",
   "metadata": {},
   "source": [
    "## download all series"
   ]
  },
  {
   "cell_type": "code",
   "execution_count": 61,
   "metadata": {},
   "outputs": [
    {
     "data": {
      "text/plain": [
       "'21-394355'"
      ]
     },
     "execution_count": 61,
     "metadata": {},
     "output_type": "execute_result"
    }
   ],
   "source": [
    "first_study.patientid"
   ]
  },
  {
   "cell_type": "code",
   "execution_count": 64,
   "metadata": {},
   "outputs": [],
   "source": [
    "file_name = Path(first_study.patientid)\n",
    "file_name = file_name.with_suffix('.zip')\n",
    "\n",
    "for series in schema.series:\n",
    "    series_uid = schema.series[1].series_uid\n",
    "    downloaded_series = ambra.api.Storage.Study.download(engine_fqdn=engine, \n",
    "                                 namespace=namespace, \n",
    "                                 study_uid=study_uid, \n",
    "                                 series_uid=series_uid, \n",
    "                                 phi_namespace=phi_namespace, \n",
    "                                 bundle='dicom',\n",
    "                                 exclude_viewer=1)\n",
    "    \n",
    "    with open(file_name, 'wb') as fopen:\n",
    "        fopen.write(downloaded_series.content)\n",
    "    "
   ]
  },
  {
   "cell_type": "code",
   "execution_count": null,
   "metadata": {},
   "outputs": [],
   "source": []
  }
 ],
 "metadata": {
  "kernelspec": {
   "display_name": "Python 3",
   "language": "python",
   "name": "python3"
  },
  "language_info": {
   "codemirror_mode": {
    "name": "ipython",
    "version": 3
   },
   "file_extension": ".py",
   "mimetype": "text/x-python",
   "name": "python",
   "nbconvert_exporter": "python",
   "pygments_lexer": "ipython3",
   "version": "3.7.6"
  }
 },
 "nbformat": 4,
 "nbformat_minor": 4
}
