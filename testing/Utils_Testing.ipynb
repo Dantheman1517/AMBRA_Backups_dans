{
 "cells": [
  {
   "cell_type": "code",
   "execution_count": 61,
   "metadata": {},
   "outputs": [
    {
     "name": "stdout",
     "output_type": "stream",
     "text": [
      "The autoreload extension is already loaded. To reload it, use:\n",
      "  %reload_ext autoreload\n"
     ]
    }
   ],
   "source": [
    "# import sys\n",
    "# sys.path.append('../../AMBRA_Utils/')\n",
    "\n",
    "from AMBRA_Utils import Api\n",
    "\n",
    "import ipywidgets as wdg\n",
    "from IPython.display import display\n",
    "\n",
    "import zipfile\n",
    "from pathlib import Path\n",
    "\n",
    "%load_ext autoreload\n",
    "%autoreload 2"
   ]
  },
  {
   "cell_type": "code",
   "execution_count": 2,
   "metadata": {},
   "outputs": [
    {
     "data": {
      "application/vnd.jupyter.widget-view+json": {
       "model_id": "8139c7e05d9b474eaab22e9d670548e8",
       "version_major": 2,
       "version_minor": 0
      },
      "text/plain": [
       "VBox(children=(Text(value='malonetc@ucmail.uc.edu', placeholder='Username'), Password(placeholder='Password'))…"
      ]
     },
     "metadata": {},
     "output_type": "display_data"
    }
   ],
   "source": [
    "uname_wdg = wdg.Text(placeholder='Username', value='malonetc@ucmail.uc.edu')\n",
    "pwd_wdg = wdg.Password(placeholder='Password')\n",
    "\n",
    "login_box = wdg.VBox([uname_wdg, pwd_wdg])\n",
    "    \n",
    "display(login_box)"
   ]
  },
  {
   "cell_type": "code",
   "execution_count": 30,
   "metadata": {},
   "outputs": [],
   "source": [
    "ambra = Api.Api(uname_wdg.value, pwd_wdg.value)"
   ]
  },
  {
   "cell_type": "code",
   "execution_count": 39,
   "metadata": {},
   "outputs": [],
   "source": [
    "aprise = ambra.get_account_by_name('APRISE')\n",
    "group = aprise.get_location_by_name('4 - Completed Studies')"
   ]
  },
  {
   "cell_type": "code",
   "execution_count": null,
   "metadata": {},
   "outputs": [],
   "source": [
    "# ambra.get_user_namespaces()1"
   ]
  },
  {
   "cell_type": "code",
   "execution_count": 40,
   "metadata": {},
   "outputs": [
    {
     "name": "stdout",
     "output_type": "stream",
     "text": [
      "440895201 CT 20150112 70\n"
     ]
    }
   ],
   "source": [
    "studies = group.get_studies_by_id('440895201')\n",
    "for study in studies:\n",
    "    print(study.patient_name, study.modality, study.study_date, study.image_count)"
   ]
  },
  {
   "cell_type": "code",
   "execution_count": 41,
   "metadata": {},
   "outputs": [],
   "source": [
    "this_study = studies[0]"
   ]
  },
  {
   "cell_type": "code",
   "execution_count": 43,
   "metadata": {},
   "outputs": [],
   "source": [
    "this_study.download('test_study.zip')"
   ]
  },
  {
   "cell_type": "code",
   "execution_count": 45,
   "metadata": {},
   "outputs": [],
   "source": [
    "this_zip = zipfile.ZipFile('test_study.zip')"
   ]
  },
  {
   "cell_type": "code",
   "execution_count": 51,
   "metadata": {},
   "outputs": [],
   "source": [
    "zipinfo = this_zip.infolist()"
   ]
  },
  {
   "cell_type": "code",
   "execution_count": 59,
   "metadata": {},
   "outputs": [
    {
     "name": "stdout",
     "output_type": "stream",
     "text": [
      "<ZipInfo filename='SER00001/' compress_type=deflate compress_size=2>\n",
      "<ZipInfo filename='SER00002/' compress_type=deflate compress_size=2>\n",
      "<ZipInfo filename='SER00003/' compress_type=deflate compress_size=2>\n",
      "<ZipInfo filename='SER00004/' compress_type=deflate compress_size=2>\n",
      "<ZipInfo filename='reports/' compress_type=deflate compress_size=2>\n"
     ]
    }
   ],
   "source": [
    "for info in zipinfo:\n",
    "    if info.is_dir():\n",
    "        print(info)"
   ]
  },
  {
   "cell_type": "code",
   "execution_count": 58,
   "metadata": {},
   "outputs": [
    {
     "data": {
      "text/plain": [
       "<bound method ZipFile.namelist of <zipfile.ZipFile filename='test_study.zip' mode='r'>>"
      ]
     },
     "execution_count": 58,
     "metadata": {},
     "output_type": "execute_result"
    }
   ],
   "source": [
    "this_zip.namelist"
   ]
  },
  {
   "cell_type": "code",
   "execution_count": 62,
   "metadata": {},
   "outputs": [],
   "source": [
    "this_zip.extractall(path=Path('./test_study'))"
   ]
  },
  {
   "cell_type": "code",
   "execution_count": 63,
   "metadata": {},
   "outputs": [],
   "source": [
    "import pandas as pd"
   ]
  },
  {
   "cell_type": "code",
   "execution_count": 64,
   "metadata": {},
   "outputs": [],
   "source": [
    "html_report = Path('./test_study/reports/1_440895201.html')"
   ]
  },
  {
   "cell_type": "code",
   "execution_count": 70,
   "metadata": {},
   "outputs": [],
   "source": [
    "reports_df = pd.read_html(str(html_report))"
   ]
  },
  {
   "cell_type": "code",
   "execution_count": 71,
   "metadata": {},
   "outputs": [
    {
     "data": {
      "text/plain": [
       "46"
      ]
     },
     "execution_count": 71,
     "metadata": {},
     "output_type": "execute_result"
    }
   ],
   "source": [
    "len(reports_df)"
   ]
  },
  {
   "cell_type": "code",
   "execution_count": 124,
   "metadata": {},
   "outputs": [],
   "source": [
    "table = reports_df[1]"
   ]
  },
  {
   "cell_type": "code",
   "execution_count": 125,
   "metadata": {},
   "outputs": [
    {
     "data": {
      "text/html": [
       "<div>\n",
       "<style scoped>\n",
       "    .dataframe tbody tr th:only-of-type {\n",
       "        vertical-align: middle;\n",
       "    }\n",
       "\n",
       "    .dataframe tbody tr th {\n",
       "        vertical-align: top;\n",
       "    }\n",
       "\n",
       "    .dataframe thead th {\n",
       "        text-align: right;\n",
       "    }\n",
       "</style>\n",
       "<table border=\"1\" class=\"dataframe\">\n",
       "  <thead>\n",
       "    <tr style=\"text-align: right;\">\n",
       "      <th></th>\n",
       "      <th>0</th>\n",
       "      <th>1</th>\n",
       "      <th>2</th>\n",
       "      <th>3</th>\n",
       "      <th>4</th>\n",
       "      <th>ID</th>\n",
       "    </tr>\n",
       "  </thead>\n",
       "  <tbody>\n",
       "    <tr>\n",
       "      <th>0</th>\n",
       "      <td>Baseline CT Imaging</td>\n",
       "      <td>Baseline CT Imaging</td>\n",
       "      <td>Baseline CT Imaging</td>\n",
       "      <td>Baseline CT Imaging</td>\n",
       "      <td>Baseline CT Imaging</td>\n",
       "      <td>440895201</td>\n",
       "    </tr>\n",
       "    <tr>\n",
       "      <th>1</th>\n",
       "      <td>Qa1.</td>\n",
       "      <td>Baseline CT data collected</td>\n",
       "      <td>Baseline CT data collected</td>\n",
       "      <td>1</td>\n",
       "      <td>1</td>\n",
       "      <td>440895201</td>\n",
       "    </tr>\n",
       "    <tr>\n",
       "      <th>2</th>\n",
       "      <td>Q001.</td>\n",
       "      <td>Date of imaging: (mm-dd-yyyy)</td>\n",
       "      <td>Date of imaging: (mm-dd-yyyy)</td>\n",
       "      <td>01122015  01 /  12 /  2015</td>\n",
       "      <td>01122015  01 /  12 /  2015</td>\n",
       "      <td>440895201</td>\n",
       "    </tr>\n",
       "    <tr>\n",
       "      <th>3</th>\n",
       "      <td>Q002.</td>\n",
       "      <td>Time of imaging: (hh:mm 12 hour clock)</td>\n",
       "      <td>Time of imaging: (hh:mm 12 hour clock)</td>\n",
       "      <td>1201undefined  12 :  01  PM</td>\n",
       "      <td>1201undefined  12 :  01  PM</td>\n",
       "      <td>440895201</td>\n",
       "    </tr>\n",
       "    <tr>\n",
       "      <th>4</th>\n",
       "      <td>Q003.</td>\n",
       "      <td>Scan done with contrast?</td>\n",
       "      <td>Scan done with contrast?</td>\n",
       "      <td>0</td>\n",
       "      <td>0</td>\n",
       "      <td>440895201</td>\n",
       "    </tr>\n",
       "  </tbody>\n",
       "</table>\n",
       "</div>"
      ],
      "text/plain": [
       "                     0                                       1  \\\n",
       "0  Baseline CT Imaging                     Baseline CT Imaging   \n",
       "1                 Qa1.              Baseline CT data collected   \n",
       "2                Q001.           Date of imaging: (mm-dd-yyyy)   \n",
       "3                Q002.  Time of imaging: (hh:mm 12 hour clock)   \n",
       "4                Q003.                Scan done with contrast?   \n",
       "\n",
       "                                        2                            3  \\\n",
       "0                     Baseline CT Imaging          Baseline CT Imaging   \n",
       "1              Baseline CT data collected                            1   \n",
       "2           Date of imaging: (mm-dd-yyyy)   01122015  01 /  12 /  2015   \n",
       "3  Time of imaging: (hh:mm 12 hour clock)  1201undefined  12 :  01  PM   \n",
       "4                Scan done with contrast?                            0   \n",
       "\n",
       "                             4         ID  \n",
       "0          Baseline CT Imaging  440895201  \n",
       "1                            1  440895201  \n",
       "2   01122015  01 /  12 /  2015  440895201  \n",
       "3  1201undefined  12 :  01  PM  440895201  \n",
       "4                            0  440895201  "
      ]
     },
     "execution_count": 125,
     "metadata": {},
     "output_type": "execute_result"
    }
   ],
   "source": [
    "table.head()"
   ]
  },
  {
   "cell_type": "code",
   "execution_count": 97,
   "metadata": {},
   "outputs": [],
   "source": [
    "table=table[[0,1,3]]"
   ]
  },
  {
   "cell_type": "code",
   "execution_count": 99,
   "metadata": {},
   "outputs": [
    {
     "data": {
      "text/html": [
       "<div>\n",
       "<style scoped>\n",
       "    .dataframe tbody tr th:only-of-type {\n",
       "        vertical-align: middle;\n",
       "    }\n",
       "\n",
       "    .dataframe tbody tr th {\n",
       "        vertical-align: top;\n",
       "    }\n",
       "\n",
       "    .dataframe thead th {\n",
       "        text-align: right;\n",
       "    }\n",
       "</style>\n",
       "<table border=\"1\" class=\"dataframe\">\n",
       "  <thead>\n",
       "    <tr style=\"text-align: right;\">\n",
       "      <th></th>\n",
       "      <th>0</th>\n",
       "      <th>1</th>\n",
       "      <th>3</th>\n",
       "    </tr>\n",
       "  </thead>\n",
       "  <tbody>\n",
       "    <tr>\n",
       "      <th>0</th>\n",
       "      <td>Baseline CT Imaging</td>\n",
       "      <td>Baseline CT Imaging</td>\n",
       "      <td>Baseline CT Imaging</td>\n",
       "    </tr>\n",
       "    <tr>\n",
       "      <th>1</th>\n",
       "      <td>Qa1.</td>\n",
       "      <td>Baseline CT data collected</td>\n",
       "      <td>1</td>\n",
       "    </tr>\n",
       "    <tr>\n",
       "      <th>2</th>\n",
       "      <td>Q001.</td>\n",
       "      <td>Date of imaging: (mm-dd-yyyy)</td>\n",
       "      <td>01122015  01 /  12 /  2015</td>\n",
       "    </tr>\n",
       "    <tr>\n",
       "      <th>3</th>\n",
       "      <td>Q002.</td>\n",
       "      <td>Time of imaging: (hh:mm 12 hour clock)</td>\n",
       "      <td>1201undefined  12 :  01  PM</td>\n",
       "    </tr>\n",
       "    <tr>\n",
       "      <th>4</th>\n",
       "      <td>Q003.</td>\n",
       "      <td>Scan done with contrast?</td>\n",
       "      <td>0</td>\n",
       "    </tr>\n",
       "  </tbody>\n",
       "</table>\n",
       "</div>"
      ],
      "text/plain": [
       "                     0                                       1  \\\n",
       "0  Baseline CT Imaging                     Baseline CT Imaging   \n",
       "1                 Qa1.              Baseline CT data collected   \n",
       "2                Q001.           Date of imaging: (mm-dd-yyyy)   \n",
       "3                Q002.  Time of imaging: (hh:mm 12 hour clock)   \n",
       "4                Q003.                Scan done with contrast?   \n",
       "\n",
       "                             3  \n",
       "0          Baseline CT Imaging  \n",
       "1                            1  \n",
       "2   01122015  01 /  12 /  2015  \n",
       "3  1201undefined  12 :  01  PM  \n",
       "4                            0  "
      ]
     },
     "execution_count": 99,
     "metadata": {},
     "output_type": "execute_result"
    }
   ],
   "source": [
    "table.head()"
   ]
  },
  {
   "cell_type": "code",
   "execution_count": 102,
   "metadata": {},
   "outputs": [],
   "source": [
    "table = table.T#( columns=1, values=3)"
   ]
  },
  {
   "cell_type": "code",
   "execution_count": 105,
   "metadata": {},
   "outputs": [
    {
     "data": {
      "text/html": [
       "<div>\n",
       "<style scoped>\n",
       "    .dataframe tbody tr th:only-of-type {\n",
       "        vertical-align: middle;\n",
       "    }\n",
       "\n",
       "    .dataframe tbody tr th {\n",
       "        vertical-align: top;\n",
       "    }\n",
       "\n",
       "    .dataframe thead th {\n",
       "        text-align: right;\n",
       "    }\n",
       "</style>\n",
       "<table border=\"1\" class=\"dataframe\">\n",
       "  <thead>\n",
       "    <tr style=\"text-align: right;\">\n",
       "      <th></th>\n",
       "      <th>0</th>\n",
       "      <th>1</th>\n",
       "      <th>2</th>\n",
       "      <th>3</th>\n",
       "      <th>4</th>\n",
       "      <th>5</th>\n",
       "      <th>6</th>\n",
       "      <th>7</th>\n",
       "      <th>8</th>\n",
       "      <th>9</th>\n",
       "      <th>...</th>\n",
       "      <th>62</th>\n",
       "      <th>63</th>\n",
       "      <th>64</th>\n",
       "      <th>65</th>\n",
       "      <th>66</th>\n",
       "      <th>67</th>\n",
       "      <th>68</th>\n",
       "      <th>69</th>\n",
       "      <th>70</th>\n",
       "      <th>71</th>\n",
       "    </tr>\n",
       "  </thead>\n",
       "  <tbody>\n",
       "    <tr>\n",
       "      <th>0</th>\n",
       "      <td>Baseline CT Imaging</td>\n",
       "      <td>Qa1.</td>\n",
       "      <td>Q001.</td>\n",
       "      <td>Q002.</td>\n",
       "      <td>Q003.</td>\n",
       "      <td>Q004.</td>\n",
       "      <td>Q006.</td>\n",
       "      <td>Q007.</td>\n",
       "      <td>Q008.</td>\n",
       "      <td>Q009.</td>\n",
       "      <td>...</td>\n",
       "      <td>Q105.</td>\n",
       "      <td>Q106.</td>\n",
       "      <td>Q108.</td>\n",
       "      <td>Q115.</td>\n",
       "      <td>Q116.</td>\n",
       "      <td>Q117.</td>\n",
       "      <td>Q118.</td>\n",
       "      <td>Q120.</td>\n",
       "      <td>Q121.</td>\n",
       "      <td>Qc1.</td>\n",
       "    </tr>\n",
       "    <tr>\n",
       "      <th>1</th>\n",
       "      <td>Baseline CT Imaging</td>\n",
       "      <td>Baseline CT data collected</td>\n",
       "      <td>Date of imaging: (mm-dd-yyyy)</td>\n",
       "      <td>Time of imaging: (hh:mm 12 hour clock)</td>\n",
       "      <td>Scan done with contrast?</td>\n",
       "      <td>Scan technically satisfactory?</td>\n",
       "      <td>Clinical ischemic event (no acute hemorrhage s...</td>\n",
       "      <td>If Q06 is \"Yes\"</td>\n",
       "      <td>If Q06 is \"Yes\"</td>\n",
       "      <td>If Q08 is \"Yes\"Vascular distribution of acute ...</td>\n",
       "      <td>...</td>\n",
       "      <td>ASPECTS score</td>\n",
       "      <td>White matter disease</td>\n",
       "      <td>Hemorrhagic transformation of acute infarct?</td>\n",
       "      <td>Subarachnoid hemorrhage</td>\n",
       "      <td>Subdural hematoma</td>\n",
       "      <td>Epidural hematoma</td>\n",
       "      <td>Other</td>\n",
       "      <td>Initials of Central Reader</td>\n",
       "      <td>Date of Central Reader Initials:</td>\n",
       "      <td>Reviewer's general comments</td>\n",
       "    </tr>\n",
       "    <tr>\n",
       "      <th>3</th>\n",
       "      <td>Baseline CT Imaging</td>\n",
       "      <td>1</td>\n",
       "      <td>01122015  01 /  12 /  2015</td>\n",
       "      <td>1201undefined  12 :  01  PM</td>\n",
       "      <td>0</td>\n",
       "      <td>1</td>\n",
       "      <td>1</td>\n",
       "      <td>0</td>\n",
       "      <td>1</td>\n",
       "      <td>1</td>\n",
       "      <td>...</td>\n",
       "      <td>9</td>\n",
       "      <td>1</td>\n",
       "      <td>0</td>\n",
       "      <td>0</td>\n",
       "      <td>0</td>\n",
       "      <td>0</td>\n",
       "      <td>0</td>\n",
       "      <td>RSC</td>\n",
       "      <td>11252020  11 /  25 /  2020</td>\n",
       "      <td>[]</td>\n",
       "    </tr>\n",
       "  </tbody>\n",
       "</table>\n",
       "<p>3 rows × 72 columns</p>\n",
       "</div>"
      ],
      "text/plain": [
       "                    0                           1   \\\n",
       "0  Baseline CT Imaging                        Qa1.   \n",
       "1  Baseline CT Imaging  Baseline CT data collected   \n",
       "3  Baseline CT Imaging                           1   \n",
       "\n",
       "                              2                                       3   \\\n",
       "0                          Q001.                                   Q002.   \n",
       "1  Date of imaging: (mm-dd-yyyy)  Time of imaging: (hh:mm 12 hour clock)   \n",
       "3     01122015  01 /  12 /  2015             1201undefined  12 :  01  PM   \n",
       "\n",
       "                         4                               5   \\\n",
       "0                     Q003.                           Q004.   \n",
       "1  Scan done with contrast?  Scan technically satisfactory?   \n",
       "3                         0                               1   \n",
       "\n",
       "                                                  6                7   \\\n",
       "0                                              Q006.            Q007.   \n",
       "1  Clinical ischemic event (no acute hemorrhage s...  If Q06 is \"Yes\"   \n",
       "3                                                  1                0   \n",
       "\n",
       "                8                                                  9   ...  \\\n",
       "0            Q008.                                              Q009.  ...   \n",
       "1  If Q06 is \"Yes\"  If Q08 is \"Yes\"Vascular distribution of acute ...  ...   \n",
       "3                1                                                  1  ...   \n",
       "\n",
       "              62                    63  \\\n",
       "0          Q105.                 Q106.   \n",
       "1  ASPECTS score  White matter disease   \n",
       "3              9                     1   \n",
       "\n",
       "                                             64                       65  \\\n",
       "0                                         Q108.                    Q115.   \n",
       "1  Hemorrhagic transformation of acute infarct?  Subarachnoid hemorrhage   \n",
       "3                                             0                        0   \n",
       "\n",
       "                  66                 67     68                          69  \\\n",
       "0              Q116.              Q117.  Q118.                       Q120.   \n",
       "1  Subdural hematoma  Epidural hematoma  Other  Initials of Central Reader   \n",
       "3                  0                  0      0                         RSC   \n",
       "\n",
       "                                 70                           71  \n",
       "0                             Q121.                         Qc1.  \n",
       "1  Date of Central Reader Initials:  Reviewer's general comments  \n",
       "3        11252020  11 /  25 /  2020                           []  \n",
       "\n",
       "[3 rows x 72 columns]"
      ]
     },
     "execution_count": 105,
     "metadata": {},
     "output_type": "execute_result"
    }
   ],
   "source": [
    "table"
   ]
  },
  {
   "cell_type": "code",
   "execution_count": 122,
   "metadata": {},
   "outputs": [],
   "source": [
    "#table.loc[1].values\n",
    "table.columns = table.loc[1]"
   ]
  },
  {
   "cell_type": "code",
   "execution_count": 123,
   "metadata": {},
   "outputs": [
    {
     "data": {
      "text/html": [
       "<div>\n",
       "<style scoped>\n",
       "    .dataframe tbody tr th:only-of-type {\n",
       "        vertical-align: middle;\n",
       "    }\n",
       "\n",
       "    .dataframe tbody tr th {\n",
       "        vertical-align: top;\n",
       "    }\n",
       "\n",
       "    .dataframe thead th {\n",
       "        text-align: right;\n",
       "    }\n",
       "</style>\n",
       "<table border=\"1\" class=\"dataframe\">\n",
       "  <thead>\n",
       "    <tr style=\"text-align: right;\">\n",
       "      <th>1</th>\n",
       "      <th>Baseline CT Imaging</th>\n",
       "      <th>Baseline CT data collected</th>\n",
       "      <th>Date of imaging: (mm-dd-yyyy)</th>\n",
       "      <th>Time of imaging: (hh:mm 12 hour clock)</th>\n",
       "      <th>Scan done with contrast?</th>\n",
       "      <th>Scan technically satisfactory?</th>\n",
       "      <th>Clinical ischemic event (no acute hemorrhage seen on scan)?</th>\n",
       "      <th>If Q06 is \"Yes\"</th>\n",
       "      <th>If Q06 is \"Yes\"</th>\n",
       "      <th>If Q08 is \"Yes\"Vascular distribution of acute infarct(s)</th>\n",
       "      <th>...</th>\n",
       "      <th>ASPECTS score</th>\n",
       "      <th>White matter disease</th>\n",
       "      <th>Hemorrhagic transformation of acute infarct?</th>\n",
       "      <th>Subarachnoid hemorrhage</th>\n",
       "      <th>Subdural hematoma</th>\n",
       "      <th>Epidural hematoma</th>\n",
       "      <th>Other</th>\n",
       "      <th>Initials of Central Reader</th>\n",
       "      <th>Date of Central Reader Initials:</th>\n",
       "      <th>Reviewer's general comments</th>\n",
       "    </tr>\n",
       "  </thead>\n",
       "  <tbody>\n",
       "    <tr>\n",
       "      <th>0</th>\n",
       "      <td>Baseline CT Imaging</td>\n",
       "      <td>Qa1.</td>\n",
       "      <td>Q001.</td>\n",
       "      <td>Q002.</td>\n",
       "      <td>Q003.</td>\n",
       "      <td>Q004.</td>\n",
       "      <td>Q006.</td>\n",
       "      <td>Q007.</td>\n",
       "      <td>Q008.</td>\n",
       "      <td>Q009.</td>\n",
       "      <td>...</td>\n",
       "      <td>Q105.</td>\n",
       "      <td>Q106.</td>\n",
       "      <td>Q108.</td>\n",
       "      <td>Q115.</td>\n",
       "      <td>Q116.</td>\n",
       "      <td>Q117.</td>\n",
       "      <td>Q118.</td>\n",
       "      <td>Q120.</td>\n",
       "      <td>Q121.</td>\n",
       "      <td>Qc1.</td>\n",
       "    </tr>\n",
       "    <tr>\n",
       "      <th>1</th>\n",
       "      <td>Baseline CT Imaging</td>\n",
       "      <td>Baseline CT data collected</td>\n",
       "      <td>Date of imaging: (mm-dd-yyyy)</td>\n",
       "      <td>Time of imaging: (hh:mm 12 hour clock)</td>\n",
       "      <td>Scan done with contrast?</td>\n",
       "      <td>Scan technically satisfactory?</td>\n",
       "      <td>Clinical ischemic event (no acute hemorrhage s...</td>\n",
       "      <td>If Q06 is \"Yes\"</td>\n",
       "      <td>If Q06 is \"Yes\"</td>\n",
       "      <td>If Q08 is \"Yes\"Vascular distribution of acute ...</td>\n",
       "      <td>...</td>\n",
       "      <td>ASPECTS score</td>\n",
       "      <td>White matter disease</td>\n",
       "      <td>Hemorrhagic transformation of acute infarct?</td>\n",
       "      <td>Subarachnoid hemorrhage</td>\n",
       "      <td>Subdural hematoma</td>\n",
       "      <td>Epidural hematoma</td>\n",
       "      <td>Other</td>\n",
       "      <td>Initials of Central Reader</td>\n",
       "      <td>Date of Central Reader Initials:</td>\n",
       "      <td>Reviewer's general comments</td>\n",
       "    </tr>\n",
       "    <tr>\n",
       "      <th>3</th>\n",
       "      <td>Baseline CT Imaging</td>\n",
       "      <td>1</td>\n",
       "      <td>01122015  01 /  12 /  2015</td>\n",
       "      <td>1201undefined  12 :  01  PM</td>\n",
       "      <td>0</td>\n",
       "      <td>1</td>\n",
       "      <td>1</td>\n",
       "      <td>0</td>\n",
       "      <td>1</td>\n",
       "      <td>1</td>\n",
       "      <td>...</td>\n",
       "      <td>9</td>\n",
       "      <td>1</td>\n",
       "      <td>0</td>\n",
       "      <td>0</td>\n",
       "      <td>0</td>\n",
       "      <td>0</td>\n",
       "      <td>0</td>\n",
       "      <td>RSC</td>\n",
       "      <td>11252020  11 /  25 /  2020</td>\n",
       "      <td>[]</td>\n",
       "    </tr>\n",
       "  </tbody>\n",
       "</table>\n",
       "<p>3 rows × 72 columns</p>\n",
       "</div>"
      ],
      "text/plain": [
       "1  Baseline CT Imaging  Baseline CT data collected  \\\n",
       "0  Baseline CT Imaging                        Qa1.   \n",
       "1  Baseline CT Imaging  Baseline CT data collected   \n",
       "3  Baseline CT Imaging                           1   \n",
       "\n",
       "1  Date of imaging: (mm-dd-yyyy)  Time of imaging: (hh:mm 12 hour clock)  \\\n",
       "0                          Q001.                                   Q002.   \n",
       "1  Date of imaging: (mm-dd-yyyy)  Time of imaging: (hh:mm 12 hour clock)   \n",
       "3     01122015  01 /  12 /  2015             1201undefined  12 :  01  PM   \n",
       "\n",
       "1  Scan done with contrast?  Scan technically satisfactory?  \\\n",
       "0                     Q003.                           Q004.   \n",
       "1  Scan done with contrast?  Scan technically satisfactory?   \n",
       "3                         0                               1   \n",
       "\n",
       "1 Clinical ischemic event (no acute hemorrhage seen on scan)?  \\\n",
       "0                                              Q006.            \n",
       "1  Clinical ischemic event (no acute hemorrhage s...            \n",
       "3                                                  1            \n",
       "\n",
       "1  If Q06 is \"Yes\"  If Q06 is \"Yes\"  \\\n",
       "0            Q007.            Q008.   \n",
       "1  If Q06 is \"Yes\"  If Q06 is \"Yes\"   \n",
       "3                0                1   \n",
       "\n",
       "1 If Q08 is \"Yes\"Vascular distribution of acute infarct(s)  ...  \\\n",
       "0                                              Q009.        ...   \n",
       "1  If Q08 is \"Yes\"Vascular distribution of acute ...        ...   \n",
       "3                                                  1        ...   \n",
       "\n",
       "1  ASPECTS score  White matter disease  \\\n",
       "0          Q105.                 Q106.   \n",
       "1  ASPECTS score  White matter disease   \n",
       "3              9                     1   \n",
       "\n",
       "1  Hemorrhagic transformation of acute infarct?  Subarachnoid hemorrhage  \\\n",
       "0                                         Q108.                    Q115.   \n",
       "1  Hemorrhagic transformation of acute infarct?  Subarachnoid hemorrhage   \n",
       "3                                             0                        0   \n",
       "\n",
       "1  Subdural hematoma  Epidural hematoma  Other  Initials of Central Reader  \\\n",
       "0              Q116.              Q117.  Q118.                       Q120.   \n",
       "1  Subdural hematoma  Epidural hematoma  Other  Initials of Central Reader   \n",
       "3                  0                  0      0                         RSC   \n",
       "\n",
       "1  Date of Central Reader Initials:  Reviewer's general comments  \n",
       "0                             Q121.                         Qc1.  \n",
       "1  Date of Central Reader Initials:  Reviewer's general comments  \n",
       "3        11252020  11 /  25 /  2020                           []  \n",
       "\n",
       "[3 rows x 72 columns]"
      ]
     },
     "execution_count": 123,
     "metadata": {},
     "output_type": "execute_result"
    }
   ],
   "source": [
    "table"
   ]
  },
  {
   "cell_type": "markdown",
   "metadata": {},
   "source": [
    "# Download"
   ]
  },
  {
   "cell_type": "code",
   "execution_count": null,
   "metadata": {},
   "outputs": [],
   "source": [
    "engine = first_study.engine_fqdn\n",
    "namespace = first_study.storage_namespace\n",
    "study_uid = first_study.study_uid\n",
    "phi_namespace = first_study.phi_namespace\n",
    "\n",
    "schema = ambra.api.Storage.Study.schema(engine_fqdn=engine, namespace=namespace, study_uid=study_uid)"
   ]
  },
  {
   "cell_type": "code",
   "execution_count": null,
   "metadata": {},
   "outputs": [],
   "source": [
    "for item in schema.series:\n",
    "    print(item.modality, item.description, len(item.images))"
   ]
  },
  {
   "cell_type": "code",
   "execution_count": null,
   "metadata": {},
   "outputs": [],
   "source": [
    "for item in schema.series:\n",
    "    print(item)"
   ]
  },
  {
   "cell_type": "code",
   "execution_count": null,
   "metadata": {},
   "outputs": [],
   "source": [
    "from pathlib import Path"
   ]
  },
  {
   "cell_type": "markdown",
   "metadata": {},
   "source": [
    "## Download single series"
   ]
  },
  {
   "cell_type": "code",
   "execution_count": null,
   "metadata": {},
   "outputs": [],
   "source": [
    "series_uid = schema.series[1].series_uid\n",
    "file_name = Path('_'.join(schema.series[1].description.split()))\n",
    "file_name = file_name.with_suffix('.zip')\n",
    "\n",
    "downloaded_series = ambra.api.Storage.Study.download(engine_fqdn=engine, \n",
    "                                 namespace=namespace, \n",
    "                                 study_uid=study_uid, \n",
    "                                 series_uid=series_uid, \n",
    "                                 phi_namespace=phi_namespace, cincinn\n",
    "                                 bundle='dicom',\n",
    "                                 exclude_viewer=1)"
   ]
  },
  {
   "cell_type": "code",
   "execution_count": null,
   "metadata": {},
   "outputs": [],
   "source": [
    "with open(file_name, 'wb') as fopen:\n",
    "    fopen.write(downloaded_series.content)"
   ]
  },
  {
   "cell_type": "code",
   "execution_count": null,
   "metadata": {},
   "outputs": [],
   "source": [
    "downloaded_series.close()"
   ]
  },
  {
   "cell_type": "markdown",
   "metadata": {},
   "source": [
    "## download all series"
   ]
  },
  {
   "cell_type": "code",
   "execution_count": null,
   "metadata": {},
   "outputs": [],
   "source": [
    "first_study.patientid"
   ]
  },
  {
   "cell_type": "code",
   "execution_count": null,
   "metadata": {},
   "outputs": [],
   "source": [
    "file_name = Path(first_study.patientid)\n",
    "file_name = file_name.with_suffix('.zip')\n",
    "\n",
    "for series in schema.series:\n",
    "    series_uid = schema.series[1].series_uid\n",
    "    downloaded_series = ambra.api.Storage.Study.download(engine_fqdn=engine, \n",
    "                                 namespace=namespace, \n",
    "                                 study_uid=study_uid, \n",
    "                                 series_uid=series_uid, \n",
    "                                 phi_namespace=phi_namespace, \n",
    "                                 bundle='dicom',\n",
    "                                 exclude_viewer=1)\n",
    "    \n",
    "    with open(file_name, 'wb') as fopen:\n",
    "        fopen.write(downloaded_series.content)\n",
    "    "
   ]
  },
  {
   "cell_type": "code",
   "execution_count": null,
   "metadata": {},
   "outputs": [],
   "source": []
  },
  {
   "cell_type": "code",
   "execution_count": null,
   "metadata": {},
   "outputs": [],
   "source": []
  },
  {
   "cell_type": "markdown",
   "metadata": {},
   "source": [
    "# Reports"
   ]
  },
  {
   "cell_type": "code",
   "execution_count": 106,
   "metadata": {},
   "outputs": [],
   "source": [
    "from ambra_sdk.service.filtering import Filter, FilterCondition"
   ]
  },
  {
   "cell_type": "code",
   "execution_count": 108,
   "metadata": {},
   "outputs": [],
   "source": [
    "test_studies = ambra.Study.list().filter_by(Filter('patient_name', FilterCondition.equals, '21-394546'))\\\n",
    ".filter_by(Filter('modality', FilterCondition.equals, \"MR\"))\\\n",
    ".filter_by(Filter('study_date', FilterCondition.equals, '20171215')).all()"
   ]
  },
  {
   "cell_type": "code",
   "execution_count": 109,
   "metadata": {},
   "outputs": [
    {
     "name": "stdout",
     "output_type": "stream",
     "text": [
      "[]\n",
      "5675e7be-a358-418a-ac1e-9e0f7cf8b3dd\n",
      "74c3e511-2dcd-4c49-9e83-863094fc84fa\n",
      "1.2.840.113711.3008204.4.2196.528135558.26.2116281012.11167900\n",
      "None\n",
      "--------------------\n",
      "[]\n",
      "40471b80-9658-4bf3-b14d-3f00b35f548d\n",
      "74c3e511-2dcd-4c49-9e83-863094fc84fa\n",
      "1.2.840.113711.3008204.4.2196.528135558.26.2116281012.11167900\n",
      "None\n",
      "--------------------\n",
      "[{'description': 'Radiology report by Vivek Khandwala on 2019-10-31', 'type': 'DG0000111', 'can_edit': 1, 'uuid': '53e351bf-37c6-4fe2-95be-55defb92aa35'}]\n",
      "bfa3b0c6-e029-483c-b653-7b79e10d38cb\n",
      "74c3e511-2dcd-4c49-9e83-863094fc84fa\n",
      "1.2.840.113711.3008204.4.2196.528135558.26.2116281012.11167900\n",
      "Completed\n",
      "--------------------\n",
      "[]\n",
      "61681e88-8ddc-4c17-bcf2-3fb622324ed0\n",
      "74c3e511-2dcd-4c49-9e83-863094fc84fa\n",
      "1.2.840.113711.3008204.4.2196.528135558.26.2116281012.11167900\n",
      "None\n",
      "--------------------\n",
      "[]\n",
      "74c3e511-2dcd-4c49-9e83-863094fc84fa\n",
      "74c3e511-2dcd-4c49-9e83-863094fc84fa\n",
      "1.2.840.113711.3008204.4.2196.528135558.26.2116281012.11167900\n",
      "None\n",
      "--------------------\n"
     ]
    }
   ],
   "source": [
    "for test_study in test_studies:\n",
    "    print(test_study.radreports)\n",
    "    print(test_study.phi_namespace)\n",
    "    print(test_study.storage_namespace)\n",
    "    print(test_study.study_uid)\n",
    "    print(test_study.study_status)\n",
    "    print(20*\"-\")"
   ]
  },
  {
   "cell_type": "code",
   "execution_count": 110,
   "metadata": {},
   "outputs": [],
   "source": [
    "engine = test_study.engine_fqdn\n",
    "namespace = test_study.storage_namespace\n",
    "study_uid = test_study.study_uid\n",
    "phi_namespace = test_study.phi_namespace\n",
    "\n",
    "schema = ambra.Storage.Study.schema(engine_fqdn=engine, namespace=namespace, study_uid=study_uid)"
   ]
  },
  {
   "cell_type": "code",
   "execution_count": 111,
   "metadata": {
    "scrolled": false
   },
   "outputs": [
    {
     "data": {
      "text/plain": [
       "dict_keys(['namespace', 'study_uid', 'series', 'attachments'])"
      ]
     },
     "execution_count": 111,
     "metadata": {},
     "output_type": "execute_result"
    }
   ],
   "source": [
    "# for key in schema.keys():\n",
    "#     print(key, schema[key])\n",
    "\n",
    "schema.keys()"
   ]
  },
  {
   "cell_type": "code",
   "execution_count": 112,
   "metadata": {},
   "outputs": [
    {
     "data": {
      "text/plain": [
       "<BoxList: [{'id': '9edf9f00-fae0-43d4-ab62-971fa0207e1c', 'stored': 1572521035713, 'mime': 'text/html', 'version': 'Nynanz1MLKs2c2qarkTNRbHi7c4', 'filename': '.html', 'phi_namespace': 'bfa3b0c6-e029-483c-b653-7b79e10d38cb'}, {'id': 'c3a01301-3be5-4a0d-b393-f8aa3b49f347', 'stored': 1572521038281, 'mime': 'text/csv', 'version': 'nPjpoHpY2WqlkKdsA29Lk10Guc4', 'filename': 'by Vivek Khandwala.csv', 'phi_namespace': 'bfa3b0c6-e029-483c-b653-7b79e10d38cb'}]>"
      ]
     },
     "execution_count": 112,
     "metadata": {},
     "output_type": "execute_result"
    }
   ],
   "source": [
    "schema.attachments"
   ]
  },
  {
   "cell_type": "code",
   "execution_count": 115,
   "metadata": {},
   "outputs": [],
   "source": [
    "attachment_id = schema.attachments[0].id\n",
    "version = schema.attachments[0].version\n",
    "\n",
    "this_attach = ambra.Storage.Study.attachment(engine_fqdn=engine, namespace=namespace, study_uid=study_uid, attachment_id=attachment_id, version=version)"
   ]
  },
  {
   "cell_type": "code",
   "execution_count": 118,
   "metadata": {},
   "outputs": [],
   "source": [
    "#print(this_attach.content.decode())\n",
    "these_reports_df = pd.read_html(this_attach.content.decode())"
   ]
  },
  {
   "cell_type": "code",
   "execution_count": 120,
   "metadata": {},
   "outputs": [
    {
     "data": {
      "text/plain": [
       "41"
      ]
     },
     "execution_count": 120,
     "metadata": {},
     "output_type": "execute_result"
    }
   ],
   "source": [
    "len(these_reports_df)"
   ]
  },
  {
   "cell_type": "code",
   "execution_count": 121,
   "metadata": {},
   "outputs": [
    {
     "data": {
      "text/html": [
       "<div>\n",
       "<style scoped>\n",
       "    .dataframe tbody tr th:only-of-type {\n",
       "        vertical-align: middle;\n",
       "    }\n",
       "\n",
       "    .dataframe tbody tr th {\n",
       "        vertical-align: top;\n",
       "    }\n",
       "\n",
       "    .dataframe thead th {\n",
       "        text-align: right;\n",
       "    }\n",
       "</style>\n",
       "<table border=\"1\" class=\"dataframe\">\n",
       "  <thead>\n",
       "    <tr style=\"text-align: right;\">\n",
       "      <th></th>\n",
       "      <th>0</th>\n",
       "      <th>1</th>\n",
       "      <th>2</th>\n",
       "      <th>3</th>\n",
       "    </tr>\n",
       "  </thead>\n",
       "  <tbody>\n",
       "    <tr>\n",
       "      <th>0</th>\n",
       "      <td>Patient</td>\n",
       "      <td>21-394546</td>\n",
       "      <td>DOB</td>\n",
       "      <td>NaN</td>\n",
       "    </tr>\n",
       "    <tr>\n",
       "      <th>1</th>\n",
       "      <td>Referring physician</td>\n",
       "      <td>NaN</td>\n",
       "      <td>DOS</td>\n",
       "      <td>12-15-2017</td>\n",
       "    </tr>\n",
       "    <tr>\n",
       "      <th>2</th>\n",
       "      <td>Procedure</td>\n",
       "      <td>MRI-HEAD W/O CONTRAST</td>\n",
       "      <td>MRN</td>\n",
       "      <td>NaN</td>\n",
       "    </tr>\n",
       "    <tr>\n",
       "      <th>3</th>\n",
       "      <td>Clinical History</td>\n",
       "      <td>NaN</td>\n",
       "      <td>NaN</td>\n",
       "      <td>NaN</td>\n",
       "    </tr>\n",
       "  </tbody>\n",
       "</table>\n",
       "</div>"
      ],
      "text/plain": [
       "                     0                      1    2           3\n",
       "0              Patient              21-394546  DOB         NaN\n",
       "1  Referring physician                    NaN  DOS  12-15-2017\n",
       "2            Procedure  MRI-HEAD W/O CONTRAST  MRN         NaN\n",
       "3     Clinical History                    NaN  NaN         NaN"
      ]
     },
     "execution_count": 121,
     "metadata": {},
     "output_type": "execute_result"
    }
   ],
   "source": [
    "these_reports_df[0]"
   ]
  },
  {
   "cell_type": "code",
   "execution_count": null,
   "metadata": {},
   "outputs": [],
   "source": []
  }
 ],
 "metadata": {
  "kernelspec": {
   "display_name": "Python 3",
   "language": "python",
   "name": "python3"
  },
  "language_info": {
   "codemirror_mode": {
    "name": "ipython",
    "version": 3
   },
   "file_extension": ".py",
   "mimetype": "text/x-python",
   "name": "python",
   "nbconvert_exporter": "python",
   "pygments_lexer": "ipython3",
   "version": "3.7.6"
  }
 },
 "nbformat": 4,
 "nbformat_minor": 4
}
