{
 "cells": [
  {
   "cell_type": "code",
   "execution_count": 5,
   "metadata": {},
   "outputs": [
    {
     "name": "stdout",
     "output_type": "stream",
     "text": [
      "The autoreload extension is already loaded. To reload it, use:\n",
      "  %reload_ext autoreload\n"
     ]
    }
   ],
   "source": [
    "import sys\n",
    "sys.path.append('../../AMBRA_Utils/')\n",
    "\n",
    "import utils\n",
    "\n",
    "import ipywidgets as wdg\n",
    "from IPython.display import display\n",
    "\n",
    "%load_ext autoreload\n",
    "%autoreload 2"
   ]
  },
  {
   "cell_type": "code",
   "execution_count": 6,
   "metadata": {},
   "outputs": [
    {
     "data": {
      "application/vnd.jupyter.widget-view+json": {
       "model_id": "6737970af5ff428aa9f25a312e49525a",
       "version_major": 2,
       "version_minor": 0
      },
      "text/plain": [
       "VBox(children=(Text(value='thomas.maloney@cchmc.org', placeholder='Username'), Password(placeholder='Password'…"
      ]
     },
     "metadata": {},
     "output_type": "display_data"
    }
   ],
   "source": [
    "uname_wdg = wdg.Text(placeholder='Username', value='thomas.maloney@cchmc.org')\n",
    "pwd_wdg = wdg.Password(placeholder='Password')\n",
    "\n",
    "login_box = wdg.VBox([uname_wdg, pwd_wdg])\n",
    "\n",
    "display(login_box)"
   ]
  },
  {
   "cell_type": "code",
   "execution_count": 8,
   "metadata": {},
   "outputs": [],
   "source": [
    "ambra = utils.Utils(uname_wdg.value, pwd_wdg.value)"
   ]
  },
  {
   "cell_type": "code",
   "execution_count": 11,
   "metadata": {},
   "outputs": [
    {
     "data": {
      "text/plain": [
       "{'ROSE': '1e72b29d-a0a3-405f-ada9-69a2628cee94',\n",
       " 'APRISE': '437302f0-be9e-4e3b-a7f0-8ee2eb342ce8',\n",
       " 'IRSD': 'd1674f7a-6bc2-459f-9f32-3bf1fcd98fd6',\n",
       " 'UC Research Clearinghouse': 'bf1383a9-7fb5-4f46-8702-b5942dec7d99',\n",
       " 'SENSE': '934eeb18-a618-4a5f-bf31-2be57c7c7b10',\n",
       " 'AI-BAC': 'c9733518-453b-4ddb-beab-e86210849346'}"
      ]
     },
     "execution_count": 11,
     "metadata": {},
     "output_type": "execute_result"
    }
   ],
   "source": [
    "ambra.get_account_uuids()"
   ]
  },
  {
   "cell_type": "code",
   "execution_count": 22,
   "metadata": {},
   "outputs": [
    {
     "name": "stdout",
     "output_type": "stream",
     "text": [
      "21-394355 CT 20200127 220\n",
      "21-394355 CT 20200127 220\n",
      "21-394355 CT 20200127 220\n",
      "21-394355 CT 20200127 220\n",
      "21-394355 CT 20200126 221\n",
      "21-394355 CT 20200126 221\n",
      "21-394355 CT 20200126 221\n",
      "21-394355 CT 20200126 221\n",
      "21-394355 CT 20200121 218\n",
      "21-394355 CT 20200121 218\n",
      "21-394355 CT 20200121 218\n",
      "21-394355 CT 20200121 218\n",
      "21-394355 CT 20200120 860\n",
      "21-394355 CT 20200120 860\n",
      "21-394355 CT 20200120 860\n",
      "21-394355 CT 20200120 860\n",
      "21-394355 MR 20200122 1174\n",
      "21-394355 MR 20200122 1174\n",
      "21-394355 MR 20200122 1174\n",
      "21-394355 MR 20200122 1174\n",
      "21-394355 CT 20200127 220\n",
      "21-394355 CT 20200126 221\n",
      "21-394355 CT 20200121 218\n",
      "21-394355 CT 20200120 860\n",
      "21-394355 MR 20200122 1174\n",
      "21-394355 MR 20200124 4840\n",
      "21-394355 MR 20200124 4840\n",
      "21-394355 MR 20200124 4840\n",
      "21-394355 MR 20200124 4840\n",
      "21-394355 MR 20200124 4840\n"
     ]
    }
   ],
   "source": [
    "studies = ambra.get_studies_by_id('21-394355')\n",
    "for study in studies:\n",
    "    print(study.patientid, study.modality, study.study_date, study.image_count)"
   ]
  },
  {
   "cell_type": "code",
   "execution_count": 23,
   "metadata": {
    "scrolled": false
   },
   "outputs": [
    {
     "name": "stdout",
     "output_type": "stream",
     "text": [
      "phantom\t0\n",
      "study_status\tNone\n",
      "is_dicom_wrapped\t0\n",
      "radreports\t[]\n",
      "viewer_link\thttps://access.dicomgrid.com/viewer/#study/e754aaaf-b7bd-4756-9e14-926c007915dc/1.2.840.113619.2.416.48378590212684471798638022764392501886/74c3e511-2dcd-4c49-9e83-863094fc84fa\n",
      "source_ae_title\tALI_SCU\n",
      "phi_namespace\t74c3e511-2dcd-4c49-9e83-863094fc84fa\n",
      "patient_birthname\tNone\n",
      "study_status_tags\t['Ready to be Read', 'Completed']\n",
      "patient_address\tNone\n",
      "patient_sex\tO\n",
      "patient_phone\tNone\n",
      "patient_weight\t0.0\n",
      "thin\t0\n",
      "must_approve\t0\n",
      "patient_birth_time\t\n",
      "study_time\t080657.000000\n",
      "patient_occupation\t\n",
      "patient_comments\tClinical Sequences\n",
      "referring_physician\tShah^Sanjit\n",
      "has_external_viewer\t0\n",
      "patient_mother_birthname\tNone\n",
      "local_storage_vm\t\n",
      "image_count\t220\n",
      "share_message\t\n",
      "patientid_other\t\n",
      "patient_name\t21-394355\n",
      "study_description\tCT-HEAD W/O CONTRAST\n",
      "uuid\t048265dc-f4e0-4b52-8628-c676ce651778\n",
      "destination_ae_title\tAMBRA_ROSE\n",
      "patient_ethnic_group\t\n",
      "accession_number\t\n",
      "hl7\t[]\n",
      "customfields\t[{'name': 'Site Number', 'value': '21', 'required': 0, 'options': '{\"values\":[\"\"],\"show_when\":{},\"validate\":\"\",\"validate_error\":\"\",\"hint\":\"\",\"max_length\":\"\",\"field_label\":\"\",\"admin_only\":\"\",\"search_source\":\"\"}', 'type': 'number', 'uuid': 'ba7aef15-af21-4523-9af3-16cf54913dc4'}, {'value': '21-394355', 'name': 'Subject Number', 'uuid': 'ed171501-32d7-460d-9068-f8c9ae37f952', 'type': 'text', 'options': '{\"values\":[],\"suggested_values\":[],\"hint_values\":[],\"show_when\":{},\"validate\":\"/^\\\\\\\\d{2}-\\\\\\\\d{6}$/\",\"validate_error\":\"Must be in format 00-000000\",\"hint\":\"Subject number is 8 digits, 2 digit site number and a 6 digit subject number, separated by a hyphen\",\"max_length\":\"\",\"field_label\":\"\",\"admin_only\":\"\",\"search_source\":\"\"}', 'required': 1}, {'name': 'Comments', 'value': 'Clinical Sequences', 'required': 0, 'options': '{\"values\":[\"\"],\"show_when\":{},\"validate\":\"\",\"validate_error\":\"\",\"hint\":\"Please enter any deviations here.\",\"max_length\":\"\",\"field_label\":\"\",\"admin_only\":\"\",\"search_source\":\"\"}', 'type': 'memo', 'uuid': '22fd4222-f387-4938-a622-ebed9bc63b97'}, {'uuid': '2c1d145e-d4ec-4ac1-8806-c80f1003bb23', 'options': '{\"values\":[\"\"],\"show_when\":{},\"validate\":\"\",\"validate_error\":\"\",\"hint\":\"\",\"max_length\":\"\",\"field_label\":\"\",\"admin_only\":\"\",\"search_source\":\"\"}', 'type': 'text', 'required': 0, 'value': '', 'name': 'reject_message'}]\n",
      "updated\t2020-06-11 11:07:45.422473-07\n",
      "is_frozen\t0\n",
      "permissions\t{'study_field_patientid': 'F', 'study_share_group': 1, 'patient_view': 0, 'study_sync': 1, 'study_audio_record': 0, 'annotation_view': 1, 'study_browse': 1, 'validate_view': 0, 'study_share_account': 0, 'study_share_rsna': 0, 'audit_view': 1, 'study_freeze': 0, 'hl7_transform_edit': 0, 'study_search_require_patient_birth_date': 0, 'study_approve': 1, 'study_move': 0, 'node_approve_connect': 0, 'dictionary_view': 0, 'hl7_message_delete': 0, 'case_view_only_own': 0, 'study_field_customfield_2c1d145e-d4ec-4ac1-8806-c80f1003bb23': 'H', 'study_search_require_patient_name': 0, 'webhook_view': 0, 'appointment_edit': 0, 'study_field_study_description': 'F', 'hl7_template_edit': 0, 'customfield_edit': 0, 'customcode_view': 0, 'customcode_edit': 0, 'validate_edit': 0, 'appointment_view_only_own': 0, 'study_share_email': 0, 'keyimage_edit': 1, 'radreport_html_format': 1, 'node_edit': 0, 'study_thin': 0, 'study_upload_validate': 0, 'case_edit': 0, 'study_field_referring_physician': 'F', 'destination_edit': 0, 'account_view': 1, 'channel_study': 1, 'study_star': 0, 'message_view': 0, 'link_edit_upload': 0, 'node_connect': 0, 'account_user_edit': 1, 'link_direct': 0, 'channel_activity': 1, 'study_push': 1, 'link_edit': 0, 'study_search_require_patient_sex': 0, 'filter_share': 0, 'viewer_config': '', 'study_duplicate': 0, 'destination_search_mwl': 0, 'study_report_hl7_view_unapproved': 0, 'study_report_view_only_own': 0, 'dictionary_edit': 0, 'dicomdata_view': 0, 'radreport_view_only_own': 0, 'group_edit': 1, 'user_view_others_notifications': 0, 'keyimage_view': 1, 'account_user_view': 1, 'study_report_hl7_view_approved': 1, 'analytics_view': 1, 'message_edit': 0, 'location_view': 1, 'annotation_view_only_own': 0, 'study_split': 0, 'order_edit': 0, 'study_report_upload_unapproved': 1, 'user_modify_notifications': 1, 'hl7_message_view': 0, 'study_field_patient_sex': 'F', 'hl7_template_view': 0, 'user_modify_others_notifications': 0, 'radreport_view': 1, 'can_proxy_login': 0, 'study_report_detail': 1, 'destination_view': 0, 'study_download_viewer': 0, 'user_edit': 1, 'customcode_deploy': 0, 'study_delete_image': 1, 'study_field_study_date': 'F', 'radreport_edit': 1, 'study_field_customfield_ba7aef15-af21-4523-9af3-16cf54913dc4': 'O', 'study_edit_unapproved': 1, 'study_edit_approved': 1, 'study_delete': 1, 'webhook_edit': 0, 'study_manual_route': 0, 'study_view': 1, 'study_report_upload': 1, 'study_download': 1, 'study_report_view_unapproved': 0, 'ui_json': '', 'study_comment_view': 0, 'study_report_delete_unapproved': 1, 'user_request_access': 0, 'namespace_question': 0, 'purge_view': 0, 'study_report_view_approved': 1, 'study_tag': 0, 'meeting_edit': 0, 'link_view': 0, 'study_field_customfield_ed171501-32d7-460d-9068-f8c9ae37f952': 'F', 'user_modify_sharecode': 1, 'group_view': 1, 'study_field_customfield_22fd4222-f387-4938-a622-ebed9bc63b97': 'F', 'appointment_view': 0, 'route_view': 0, 'study_report_view': 1, 'case_delete': 0, 'meeting_view': 0, 'study_edit': 1, 'study_comment_edit': 0, 'study_share_user': 0, 'account_edit': 1, 'study_status_manual_edit': 1, 'study_field_patient_name': 'F', 'study_timing_view': 0, 'study_field_modality': 'F', 'user_modify_others_email': 0, 'case_edit_only_own': 0, 'location_edit': 0, 'study_share_share_code': 0, 'study_upload': 1, 'study_merge': 0, 'link_edit_pin': 0, 'customfield_view': 1, 'viewer3_config': '', 'study_report_hl7_view': 1, 'study_report_delete': 0, 'hl7_transform_view': 0, 'study_share_location': 0, 'study_status_edit': 1, 'order_view': 0, 'study_field_patient_birth_date': 'F', 'node_view': 0, 'study_audio_play': 0, 'study_report_upload_approved': 1, 'role_view': 1, 'study_share_npi': 0, 'node_edit_own': 0, 'case_view': 0, 'study_status_view': 1, 'account_user_invite': 1, 'study_report_delete_approved': 0, 'dicomdata_edit': 0, 'study_field_accession_number': 'F', 'destination_search': 0, 'role_edit': 0, 'study_search_require_accession_number': 0, 'patient_edit': 0, 'study_download_iso': 0, 'study_search_require_patientid': 0, 'route_edit': 0, 'study_share': 1, 'annotation_edit': 1, 'purge_edit': 0, 'user_modify_defaults': 1}\n",
      "medical_record_locator\tNone\n",
      "patient_current_location\tNone\n",
      "patient_name_other\tNone\n",
      "study_uid\t1.2.840.113619.2.416.48378590212684471798638022764392501886\n",
      "phi_namespace_name\tUniversity of Cincinnati - Site 21\n",
      "storage_namespace\te754aaaf-b7bd-4756-9e14-926c007915dc\n",
      "attachment_count\t0\n",
      "study_push_status\t[]\n",
      "integration_key\tNone\n",
      "patient_institution_residence\tNone\n",
      "study_date\t20200127\n",
      "engine_fqdn\tstorelpp25.dicomgrid.com\n",
      "size\t42509182\n",
      "patient_birth_date\t\n",
      "modality\tCT\n",
      "patient_age\t072Y\n",
      "compressed_size\tNone\n",
      "patient_size\t0.0\n",
      "patientid\t21-394355\n",
      "star\t0\n",
      "created\t2020-06-11 11:07:42.617748-07\n",
      "source\tshare\n",
      "is_being_retrieved\t0\n",
      "patient_religious_preference\tNone\n",
      "is_locked\t0\n",
      "patient_additional_history\t\n"
     ]
    }
   ],
   "source": [
    "first_study = list(studies)[0]\n",
    "for key in first_study.keys():\n",
    "    print(f'{key}\\t{first_study[key]}')"
   ]
  },
  {
   "cell_type": "code",
   "execution_count": 24,
   "metadata": {},
   "outputs": [
    {
     "data": {
      "text/plain": [
       "'storelpp25.dicomgrid.com'"
      ]
     },
     "execution_count": 24,
     "metadata": {},
     "output_type": "execute_result"
    }
   ],
   "source": [
    "first_study.engine_fqdn"
   ]
  },
  {
   "cell_type": "code",
   "execution_count": 26,
   "metadata": {},
   "outputs": [
    {
     "name": "stdout",
     "output_type": "stream",
     "text": [
      "2020-06-11 11:07:42.617748-07\n",
      "2020-06-11 11:07:45.422473-07\n"
     ]
    }
   ],
   "source": [
    "print(first_study.created)\n",
    "print(first_study.updated)"
   ]
  },
  {
   "cell_type": "code",
   "execution_count": 27,
   "metadata": {},
   "outputs": [],
   "source": [
    "from ambra_sdk.service.filtering import Filter, FilterCondition\n"
   ]
  },
  {
   "cell_type": "code",
   "execution_count": 38,
   "metadata": {},
   "outputs": [],
   "source": [
    "tst = ambra.api.Study.list().filter_by(Filter('created', FilterCondition.gt, '2020-11-01')).first()"
   ]
  },
  {
   "cell_type": "code",
   "execution_count": 39,
   "metadata": {},
   "outputs": [
    {
     "data": {
      "text/plain": [
       "'2020-11-10 08:45:50.804629-07'"
      ]
     },
     "execution_count": 39,
     "metadata": {},
     "output_type": "execute_result"
    }
   ],
   "source": [
    "tst.created"
   ]
  },
  {
   "cell_type": "code",
   "execution_count": 40,
   "metadata": {},
   "outputs": [
    {
     "data": {
      "text/plain": [
       "'360113401'"
      ]
     },
     "execution_count": 40,
     "metadata": {},
     "output_type": "execute_result"
    }
   ],
   "source": [
    "tst.patientid"
   ]
  },
  {
   "cell_type": "code",
   "execution_count": 41,
   "metadata": {},
   "outputs": [
    {
     "data": {
      "text/plain": [
       "'4 - Completed Studies'"
      ]
     },
     "execution_count": 41,
     "metadata": {},
     "output_type": "execute_result"
    }
   ],
   "source": [
    "# tst.phi_namespace\n",
    "tst.phi_namespace_name"
   ]
  },
  {
   "cell_type": "code",
   "execution_count": null,
   "metadata": {},
   "outputs": [],
   "source": []
  }
 ],
 "metadata": {
  "kernelspec": {
   "display_name": "Python 3",
   "language": "python",
   "name": "python3"
  },
  "language_info": {
   "codemirror_mode": {
    "name": "ipython",
    "version": 3
   },
   "file_extension": ".py",
   "mimetype": "text/x-python",
   "name": "python",
   "nbconvert_exporter": "python",
   "pygments_lexer": "ipython3",
   "version": "3.8.3"
  }
 },
 "nbformat": 4,
 "nbformat_minor": 4
}
