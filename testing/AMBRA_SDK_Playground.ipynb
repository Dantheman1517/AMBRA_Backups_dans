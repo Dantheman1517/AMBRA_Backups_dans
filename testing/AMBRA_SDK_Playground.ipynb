{
 "cells": [
  {
   "cell_type": "code",
   "execution_count": 108,
   "metadata": {},
   "outputs": [
    {
     "name": "stdout",
     "output_type": "stream",
     "text": [
      "The autoreload extension is already loaded. To reload it, use:\n",
      "  %reload_ext autoreload\n"
     ]
    }
   ],
   "source": [
    "from pathlib import Path\n",
    "import json\n",
    "\n",
    "from ambra_sdk.api import Api\n",
    "from ambra_sdk.models import Study\n",
    "from ambra_sdk.service.filtering import Filter, FilterCondition\n",
    "from ambra_sdk.service.sorting import Sorter, SortingOrder\n",
    "\n",
    "import ipywidgets as wdg\n",
    "from IPython.display import display\n",
    "\n",
    "\n",
    "%load_ext autoreload\n",
    "%autoreload 2"
   ]
  },
  {
   "cell_type": "markdown",
   "metadata": {},
   "source": [
    "# Login"
   ]
  },
  {
   "cell_type": "code",
   "execution_count": 109,
   "metadata": {},
   "outputs": [],
   "source": [
    "url = 'https://access.dicomgrid.com/api/v3'\n",
    "# service_url = 'https://uchealth.ambrahealth.com/api/v3/bundle'"
   ]
  },
  {
   "cell_type": "code",
   "execution_count": 100,
   "metadata": {},
   "outputs": [
    {
     "data": {
      "application/vnd.jupyter.widget-view+json": {
       "model_id": "b84de17c12824c0486ed02d58f63c12d",
       "version_major": 2,
       "version_minor": 0
      },
      "text/plain": [
       "VBox(children=(Text(value='malonetc@ucmail.uc.edu', placeholder='Username'), Password(placeholder='Password'))…"
      ]
     },
     "metadata": {},
     "output_type": "display_data"
    }
   ],
   "source": [
    "uname_wdg = wdg.Text(placeholder='Username', value='malonetc@ucmail.uc.edu')\n",
    "pwd_wdg = wdg.Password(placeholder='Password')\n",
    "\n",
    "login_box = wdg.VBox([uname_wdg, pwd_wdg])\n",
    "\n",
    "display(login_box)"
   ]
  },
  {
   "cell_type": "code",
   "execution_count": 110,
   "metadata": {},
   "outputs": [],
   "source": [
    "username = uname_wdg.value\n",
    "user_pwd = pwd_wdg.value\n",
    "\n",
    "api = Api.with_creds(url, username, user_pwd)\n",
    "# service_api = Api.with_creds(service_url, username, user_pwd)"
   ]
  },
  {
   "cell_type": "code",
   "execution_count": null,
   "metadata": {},
   "outputs": [],
   "source": []
  },
  {
   "cell_type": "markdown",
   "metadata": {},
   "source": [
    "# User info"
   ]
  },
  {
   "cell_type": "code",
   "execution_count": 54,
   "metadata": {},
   "outputs": [],
   "source": [
    "user_info = api.Session.user().get()"
   ]
  },
  {
   "cell_type": "code",
   "execution_count": 60,
   "metadata": {},
   "outputs": [
    {
     "data": {
      "text/plain": [
       "<Box: {'privacy_md5': 'effd9dcdec74b466f47207311d8b2b0ea1917590', 'event_upload_fail': 0, 'event_share': 1, 'event_approve': 0, 'npi': None, 'share_description': None, 'is_anonymous': 0, 'indicator_md5': 'a5e0b188e12751cbd33af55827d1cd7feb98af11', 'event_status_change': 0, 'event_link': 0, 'mobile_phone': None, 'event_study_comment': 0, 'event_harvest': 0, 'pin_required': 0, 'accelerator_used': 0, 'name': 'Thomas Maloney', 'event_upload': 0, 'uuid': 'da1c9cf8-bdab-4edc-a62a-28b5d4aaa230', 'event_message': 0, 'last_login': '2020-11-16 08:32:50.008884-07', 'event_link_mine': 1, 'namespaces': [{'uuid': '71af8568-3454-4138-9e73-9fb0ef6da014', 'name': 'ROSE'}, {'name': 'APRISE', 'uuid': '99b7b25e-b13a-44db-bc74-3ad9e462ea50'}, {'uuid': '2d2dad80-4df2-4d39-83e3-77cd9bb8cedc', 'name': 'UC Health Inbound Studies'}, {'name': 'TriHealth Inbound Studies', 'uuid': '79e1b0f9-53d8-4557-865a-8a65729255de'}, {'uuid': 'b37b5c5a-769a-4c6b-9850-c93e529cf547', 'name': 'The Christ Hospital Inbound Studies'}, {'name': 'St. Elizabeth Inbound Studies', 'uuid': 'a24aa6c0-dd20-436b-8f70-5637e2b85082'}, {'uuid': '89c506c1-243f-41c2-8132-fee8aa0de19f', 'name': 'Mercy Health Inbound Studies'}, {'name': 'Activities Queue Group', 'uuid': 'f7dfdc97-947f-417b-9d07-e1ec4526595b'}, {'name': '1 - Not Ready', 'uuid': '7c7907be-8d0b-48b9-9080-32aa01c89c7a'}, {'name': '2 - Reader Assignment', 'uuid': '07570f41-1bd7-4739-b9c9-8a937f76d5ef'}, {'uuid': '8aa8af62-d8e2-48cb-a5db-c7730590c0bd', 'name': 'Dr. Vagal'}, {'uuid': 'bde69b9f-d00e-40d0-80a2-fbcc5381e846', 'name': 'Dr. Thomas Tomsick'}, {'uuid': 'fdc19f19-a934-45ef-aa16-9fd7a9341d46', 'name': 'Dr. Lily Wang'}, {'uuid': 'c7a02ec0-75de-4dc1-a89b-8f0920e8672e', 'name': 'Assign to All Readers for Interreader Variability'}, {'uuid': '3f2342b6-adc2-45ba-b05a-013b82257f4d', 'name': 'Dr. Mary Gaskill-Shipley'}, {'uuid': '2e005da7-ce5b-47cb-827c-45767fd93d1f', 'name': 'Dr. Rebecca Cornelius'}, {'uuid': '856527fd-f25d-43fe-bece-39b312fcdc00', 'name': '3 - Assigned Studies'}, {'uuid': '74c3e511-2dcd-4c49-9e83-863094fc84fa', 'name': 'University of Cincinnati - Site 21'}, {'name': 'University of Maryland - Site 22', 'uuid': '6a12ea90-3f3b-4223-a691-9ab3669c65ba'}, {'uuid': '8e6248b7-75b7-4003-ba0c-c98fc983ac7b', 'name': 'MGH - Site 23'}, {'uuid': '7aa008ef-303b-4333-bb48-e5c38708b422', 'name': 'Duke University - Site 24'}, {'uuid': 'c467600d-889f-409a-8475-48a6177ec727', 'name': 'Columbia University - Site 25'}, {'name': 'UIC - Site 26', 'uuid': '722134e8-83f9-496d-a0a9-b4de2ba8b1b1'}, {'name': 'All Approved Studies', 'uuid': '61681e88-8ddc-4c17-bcf2-3fb622324ed0'}, {'name': 'Rejected Studies', 'uuid': '435a5a3d-fdd5-4e25-b8bb-be945bf0318b'}, {'uuid': 'd0ec481b-25e6-4bae-9b6d-c49e8bbef42e', 'name': 'Temp - for reassignment'}, {'uuid': '5878a639-1797-4527-b9e9-2aae4cbee4dd', 'name': 'IRSD'}, {'name': 'Clinical', 'uuid': 'bfa3b0c6-e029-483c-b653-7b79e10d38cb'}, {'uuid': '40471b80-9658-4bf3-b14d-3f00b35f548d', 'name': 'DTI'}, {'name': 'Volumetric', 'uuid': '5675e7be-a358-418a-ac1e-9e0f7cf8b3dd'}, {'uuid': 'e754aaaf-b7bd-4756-9e14-926c007915dc', 'name': 'UC Scanners / PACS Studies'}, {'uuid': 'd7d8d7ff-c6b8-49f2-9af8-78f5ad8270f0', 'name': 'UC Research Clearinghouse'}, {'uuid': '5ed4e139-487e-47f4-b6f9-01fd3dff0a14', 'name': 'Inbound studies'}, {'uuid': '01928629-f1e8-449a-9efd-14870ba4566f', 'name': 'Fix Up Group'}, {'name': 'Anonymize Images', 'uuid': 'a41e4c2e-2012-470b-835b-dcae1abac4d4'}, {'name': '4 - Completed Studies', 'uuid': '60f2384d-b4b6-4468-8205-e2fd210e679d'}, {'uuid': 'f889ff87-a4cc-4f3d-8398-fe259095e789', 'name': '5 - Excluded Studies'}, {'name': 'SENSE', 'uuid': 'fb792ca0-c032-4c10-bfa9-dacaa1e28ea6'}, {'name': 'AI-BAC', 'uuid': 'be5cc873-1fb6-4cc0-99d6-c692359dae14'}, {'uuid': '08e326aa-09e2-4532-ac01-7494aadc324a', 'name': '1 - Not Ready'}, {'uuid': '62e31554-b883-43e3-a16a-22efba1162c4', 'name': '2 - Assigned Studies'}, {'uuid': 'fa206b7f-5d0f-4d51-8d3d-41ab94cef099', 'name': '3 - Completed Studies'}, {'uuid': 'da5565f2-653e-4f3b-8f14-428f7eb04825', 'name': '4 - Excluded Studies'}, {'name': 'Site 00 - University of Cincinnati', 'uuid': 'bc227913-4214-4e68-9802-a2c2cf753cf2'}, {'uuid': '92ee7dec-ad0c-430c-8a8e-31f2edc95e4a', 'name': 'Reader 2'}, {'name': 'Reader 1', 'uuid': '11c9efd2-9f69-4f9a-804d-8b83af655459'}, {'name': 'Baptist Health Louisville - Site 27', 'uuid': 'b4c5b5e3-9702-4947-a228-4e3b64ed0c21'}, {'name': '1 - Not Annotated', 'uuid': 'fe241128-5b73-487a-90d5-a281ea739859'}, {'uuid': '8b902645-1004-48f6-bf96-6dbf06ef0870', 'name': '2 - Completed Studies'}, {'name': 'Dr. David Wang', 'uuid': '7533321c-0dc2-45cd-b064-e0904b335bf1'}, {'uuid': '29fd81c7-8805-49ee-a37f-2b2e81782019', 'name': 'Site 01 - Grady'}, {'name': 'Site 02 - Emory', 'uuid': '466e9e96-0f85-44e8-8492-a62e1a6be3ec'}, {'uuid': '55586b65-207b-48df-8d71-f90ed2e7afdc', 'name': 'Safety Monitor(s)'}, {'uuid': 'fb21ab37-8823-4c0e-9f6b-40ee34015258', 'name': 'Genexia Data Push Group'}, {'name': 'Thomas Maloney', 'uuid': '6ee6c8db-658f-4a9c-8ac9-a1fb181663f4'}], 'ui_json': None, 'share_code': None, 'first': 'Thomas', 'sid_md5': '78fcb4e7de049aeeb19041b664e74fa2', 'last': 'Maloney', 'time_zone': None, 'email': 'malonetc@ucmail.uc.edu', 'event_new_report': 1, 'terms_md5': '3672ae8a9ba3e3dcd1399a0a4af4671c0623af3b', 'session_expire': 30, 'event_thin_study_success': 1, 'namespace_id': '6ee6c8db-658f-4a9c-8ac9-a1fb181663f4', 'event_thin_study_fail': 1, 'support': 0, 'sysadmin': 0, 'event_case_assignment': 1, 'event_report_remove': 0}>"
      ]
     },
     "execution_count": 60,
     "metadata": {},
     "output_type": "execute_result"
    }
   ],
   "source": [
    "user_info"
   ]
  },
  {
   "cell_type": "code",
   "execution_count": 56,
   "metadata": {},
   "outputs": [
    {
     "data": {
      "text/plain": [
       "'malonetc@ucmail.uc.edu'"
      ]
     },
     "execution_count": 56,
     "metadata": {},
     "output_type": "execute_result"
    }
   ],
   "source": [
    "user_info.email"
   ]
  },
  {
   "cell_type": "code",
   "execution_count": 57,
   "metadata": {},
   "outputs": [
    {
     "name": "stdout",
     "output_type": "stream",
     "text": [
      "privacy_md5\teffd9dcdec74b466f47207311d8b2b0ea1917590\n",
      "event_upload_fail\t0\n",
      "event_share\t1\n",
      "event_approve\t0\n",
      "npi\tNone\n",
      "share_description\tNone\n",
      "is_anonymous\t0\n",
      "indicator_md5\ta5e0b188e12751cbd33af55827d1cd7feb98af11\n",
      "event_status_change\t0\n",
      "event_link\t0\n",
      "mobile_phone\tNone\n",
      "event_study_comment\t0\n",
      "event_harvest\t0\n",
      "pin_required\t0\n",
      "accelerator_used\t0\n",
      "name\tThomas Maloney\n",
      "event_upload\t0\n",
      "uuid\tda1c9cf8-bdab-4edc-a62a-28b5d4aaa230\n",
      "event_message\t0\n",
      "last_login\t2020-11-16 08:32:50.008884-07\n",
      "event_link_mine\t1\n",
      "namespaces\n",
      "\t{'uuid': '71af8568-3454-4138-9e73-9fb0ef6da014', 'name': 'ROSE'}\n",
      "\t{'name': 'APRISE', 'uuid': '99b7b25e-b13a-44db-bc74-3ad9e462ea50'}\n",
      "\t{'uuid': '2d2dad80-4df2-4d39-83e3-77cd9bb8cedc', 'name': 'UC Health Inbound Studies'}\n",
      "\t{'name': 'TriHealth Inbound Studies', 'uuid': '79e1b0f9-53d8-4557-865a-8a65729255de'}\n",
      "\t{'uuid': 'b37b5c5a-769a-4c6b-9850-c93e529cf547', 'name': 'The Christ Hospital Inbound Studies'}\n",
      "\t{'name': 'St. Elizabeth Inbound Studies', 'uuid': 'a24aa6c0-dd20-436b-8f70-5637e2b85082'}\n",
      "\t{'uuid': '89c506c1-243f-41c2-8132-fee8aa0de19f', 'name': 'Mercy Health Inbound Studies'}\n",
      "\t{'name': 'Activities Queue Group', 'uuid': 'f7dfdc97-947f-417b-9d07-e1ec4526595b'}\n",
      "\t{'name': '1 - Not Ready', 'uuid': '7c7907be-8d0b-48b9-9080-32aa01c89c7a'}\n",
      "\t{'name': '2 - Reader Assignment', 'uuid': '07570f41-1bd7-4739-b9c9-8a937f76d5ef'}\n",
      "\t{'uuid': '8aa8af62-d8e2-48cb-a5db-c7730590c0bd', 'name': 'Dr. Vagal'}\n",
      "\t{'uuid': 'bde69b9f-d00e-40d0-80a2-fbcc5381e846', 'name': 'Dr. Thomas Tomsick'}\n",
      "\t{'uuid': 'fdc19f19-a934-45ef-aa16-9fd7a9341d46', 'name': 'Dr. Lily Wang'}\n",
      "\t{'uuid': 'c7a02ec0-75de-4dc1-a89b-8f0920e8672e', 'name': 'Assign to All Readers for Interreader Variability'}\n",
      "\t{'uuid': '3f2342b6-adc2-45ba-b05a-013b82257f4d', 'name': 'Dr. Mary Gaskill-Shipley'}\n",
      "\t{'uuid': '2e005da7-ce5b-47cb-827c-45767fd93d1f', 'name': 'Dr. Rebecca Cornelius'}\n",
      "\t{'uuid': '856527fd-f25d-43fe-bece-39b312fcdc00', 'name': '3 - Assigned Studies'}\n",
      "\t{'uuid': '74c3e511-2dcd-4c49-9e83-863094fc84fa', 'name': 'University of Cincinnati - Site 21'}\n",
      "\t{'name': 'University of Maryland - Site 22', 'uuid': '6a12ea90-3f3b-4223-a691-9ab3669c65ba'}\n",
      "\t{'uuid': '8e6248b7-75b7-4003-ba0c-c98fc983ac7b', 'name': 'MGH - Site 23'}\n",
      "\t{'uuid': '7aa008ef-303b-4333-bb48-e5c38708b422', 'name': 'Duke University - Site 24'}\n",
      "\t{'uuid': 'c467600d-889f-409a-8475-48a6177ec727', 'name': 'Columbia University - Site 25'}\n",
      "\t{'name': 'UIC - Site 26', 'uuid': '722134e8-83f9-496d-a0a9-b4de2ba8b1b1'}\n",
      "\t{'name': 'All Approved Studies', 'uuid': '61681e88-8ddc-4c17-bcf2-3fb622324ed0'}\n",
      "\t{'name': 'Rejected Studies', 'uuid': '435a5a3d-fdd5-4e25-b8bb-be945bf0318b'}\n",
      "\t{'uuid': 'd0ec481b-25e6-4bae-9b6d-c49e8bbef42e', 'name': 'Temp - for reassignment'}\n",
      "\t{'uuid': '5878a639-1797-4527-b9e9-2aae4cbee4dd', 'name': 'IRSD'}\n",
      "\t{'name': 'Clinical', 'uuid': 'bfa3b0c6-e029-483c-b653-7b79e10d38cb'}\n",
      "\t{'uuid': '40471b80-9658-4bf3-b14d-3f00b35f548d', 'name': 'DTI'}\n",
      "\t{'name': 'Volumetric', 'uuid': '5675e7be-a358-418a-ac1e-9e0f7cf8b3dd'}\n",
      "\t{'uuid': 'e754aaaf-b7bd-4756-9e14-926c007915dc', 'name': 'UC Scanners / PACS Studies'}\n",
      "\t{'uuid': 'd7d8d7ff-c6b8-49f2-9af8-78f5ad8270f0', 'name': 'UC Research Clearinghouse'}\n",
      "\t{'uuid': '5ed4e139-487e-47f4-b6f9-01fd3dff0a14', 'name': 'Inbound studies'}\n",
      "\t{'uuid': '01928629-f1e8-449a-9efd-14870ba4566f', 'name': 'Fix Up Group'}\n",
      "\t{'name': 'Anonymize Images', 'uuid': 'a41e4c2e-2012-470b-835b-dcae1abac4d4'}\n",
      "\t{'name': '4 - Completed Studies', 'uuid': '60f2384d-b4b6-4468-8205-e2fd210e679d'}\n",
      "\t{'uuid': 'f889ff87-a4cc-4f3d-8398-fe259095e789', 'name': '5 - Excluded Studies'}\n",
      "\t{'name': 'SENSE', 'uuid': 'fb792ca0-c032-4c10-bfa9-dacaa1e28ea6'}\n",
      "\t{'name': 'AI-BAC', 'uuid': 'be5cc873-1fb6-4cc0-99d6-c692359dae14'}\n",
      "\t{'uuid': '08e326aa-09e2-4532-ac01-7494aadc324a', 'name': '1 - Not Ready'}\n",
      "\t{'uuid': '62e31554-b883-43e3-a16a-22efba1162c4', 'name': '2 - Assigned Studies'}\n",
      "\t{'uuid': 'fa206b7f-5d0f-4d51-8d3d-41ab94cef099', 'name': '3 - Completed Studies'}\n",
      "\t{'uuid': 'da5565f2-653e-4f3b-8f14-428f7eb04825', 'name': '4 - Excluded Studies'}\n",
      "\t{'name': 'Site 00 - University of Cincinnati', 'uuid': 'bc227913-4214-4e68-9802-a2c2cf753cf2'}\n",
      "\t{'uuid': '92ee7dec-ad0c-430c-8a8e-31f2edc95e4a', 'name': 'Reader 2'}\n",
      "\t{'name': 'Reader 1', 'uuid': '11c9efd2-9f69-4f9a-804d-8b83af655459'}\n",
      "\t{'name': 'Baptist Health Louisville - Site 27', 'uuid': 'b4c5b5e3-9702-4947-a228-4e3b64ed0c21'}\n",
      "\t{'name': '1 - Not Annotated', 'uuid': 'fe241128-5b73-487a-90d5-a281ea739859'}\n",
      "\t{'uuid': '8b902645-1004-48f6-bf96-6dbf06ef0870', 'name': '2 - Completed Studies'}\n",
      "\t{'name': 'Dr. David Wang', 'uuid': '7533321c-0dc2-45cd-b064-e0904b335bf1'}\n",
      "\t{'uuid': '29fd81c7-8805-49ee-a37f-2b2e81782019', 'name': 'Site 01 - Grady'}\n",
      "\t{'name': 'Site 02 - Emory', 'uuid': '466e9e96-0f85-44e8-8492-a62e1a6be3ec'}\n",
      "\t{'uuid': '55586b65-207b-48df-8d71-f90ed2e7afdc', 'name': 'Safety Monitor(s)'}\n",
      "\t{'uuid': 'fb21ab37-8823-4c0e-9f6b-40ee34015258', 'name': 'Genexia Data Push Group'}\n",
      "\t{'name': 'Thomas Maloney', 'uuid': '6ee6c8db-658f-4a9c-8ac9-a1fb181663f4'}\n",
      "ui_json\tNone\n",
      "share_code\tNone\n",
      "first\tThomas\n",
      "sid_md5\t78fcb4e7de049aeeb19041b664e74fa2\n",
      "last\tMaloney\n",
      "time_zone\tNone\n",
      "email\tmalonetc@ucmail.uc.edu\n",
      "event_new_report\t1\n",
      "terms_md5\t3672ae8a9ba3e3dcd1399a0a4af4671c0623af3b\n",
      "session_expire\t30\n",
      "event_thin_study_success\t1\n",
      "namespace_id\t6ee6c8db-658f-4a9c-8ac9-a1fb181663f4\n",
      "event_thin_study_fail\t1\n",
      "support\t0\n",
      "sysadmin\t0\n",
      "event_case_assignment\t1\n",
      "event_report_remove\t0\n"
     ]
    }
   ],
   "source": [
    "for key in user_info.keys():\n",
    "    value = user_info[key]\n",
    "    if isinstance(value, dict):\n",
    "        print(f'{key}')\n",
    "        for vkey in value:\n",
    "            vvalue = value[vkey]\n",
    "            print(f'\\t{vkey}\\t{vvalue}')\n",
    "    if isinstance(value, list):\n",
    "        print(f'{key}')\n",
    "        for item in value:\n",
    "            print(f'\\t{item}')\n",
    "    else:\n",
    "        print(f'{key}\\t{value}')"
   ]
  },
  {
   "cell_type": "markdown",
   "metadata": {},
   "source": [
    "# Account info\n",
    "Account refers to a particular study"
   ]
  },
  {
   "cell_type": "code",
   "execution_count": 61,
   "metadata": {
    "scrolled": false
   },
   "outputs": [
    {
     "name": "stdout",
     "output_type": "stream",
     "text": [
      "search_threshold\t1000\n",
      "share_code\t\n",
      "settings\t{'limit_query_retrieve_to_input_gateway': '0', 'use_namespace_name_on_upload_request': '0', 'study_status_singleton_tags': '', 'auto_update_patient_studies': '0', 'ai_search_and_replace_study_tags': '', 'patients_from_hl7': '', 'viewer_study_page_link_visible': '1', 'create_thin_study_from_orm': '0', 'faq_text': '', 'case_status_mutex_tags': '', 'ignore_blank_accession_number': '0', 'ai_classify_contrast_in_study_series': '', 'namespace_child_study_defaults': '0', 'from_email_address': '', 'welcome_password_reset_token_ttl': 0, 'enable_order_lookup_in_approval': '0', 'enable_dicomdir_scan': '0', 'disable_csrf_on_links': '0', 'enable_v3_viewer': 0, 'enable_viewer_toggle_annotations': '1', 'ignore_mrn_on_thin_retrieve': 0, 'patient_unique_email_phone': '0', 'accession_number_for_study_uid': '0', 'use_other_ingress_tags_server_side': '0', 'ui_json': '{\"internal_notes\":\"\",\"default_date_format\":\"\",\"always_show_advanced_search\":0,\"include_first_name_advanced_search\":0,\"add_study_dropdown_is_button\":0,\"allow_advanced_search_or\":0,\"download_studies_roche_format\":0,\"limit_query_retrieve_selected_namespace\":0,\"show_query_retrieve_create_study_create_thin\":0,\"study_edit_reason_per_field\":0,\"study_namespace_dropdown_hide_all\":0,\"create_thin_study_from_report\":0,\"enable_gateway_queue_status\":0,\"enable_viewer_v3\":0,\"default_destination_search_action\":\"\",\"view_study_button_action\":\"browse-study-new-tab\",\"user_setting_default-user_list_sort_study_list\":\"\",\"view_study_namespace_filter_types\":[],\"view_study_namespace_filter_types_role_id\":\"\",\"mwl_search_filters\":[],\"limit_gateway_status_queues\":[],\"view_study_dropdown_actions\":[]}', 'ai_attach_scanned_docs_as_pdf': '', 'save_original_to_pre_anon_cf': 0, 'radreport_branding_from_phi_namespace': '0', 'suppress_new_report_event_in_phr_for_patients': 0, 'enable_radreport_attestation': '0', 'priority_notifications': '', 'force_download_of_attachments': '0', 'paypal_account': '', 'disable_sticky_phi': 0, 'dicom_deidentification_at_ingress': '1', 'enable_epic_patient_lookup': '0', 'invite_ttl': 0, 'mrn_qr': '', 'add_patientid_to_hl7_query_retrieve': '0', 'allow_drag_and_drop_in_study_uploader': 0, 'patients_from_hl7_conditions': '', 'reverse_patient_name': '0', 'viewer_multiframe_split_method': '0', 'other_manual_text': '', 'include_mapped_custom_fields_from_last_share': '0', 'ai_anonymize_attached_pdf': '', 'default_list_view': '', 'send_oru_instead_of_orm': '0', 'ai_delete_scanned_docs': '', 'ai_ocr_study_images_google_vision': '', 'auto_create_patient': '0', 'encapsulate_wrapped_pdf': 0, 'max_link_studies': '100', 'report_view_phr_delay': '0', 'force_new_study_on_upload': 0, 'case_notify_completed': '', 'ai_run_custom_code_namespace_scripts': '', 'suppress_new_patient_share_event': '0', 'ai_anonymize_study_images_aws_textract': '', 'try_update_original_study': '', 'compress_audio_recordings': '0', 'is_ai': '0', 'disable_link_session': '0', 'viewer_link_series': '0', 'epic_upload_match': '', 'customcode_accounts': '', 'sync_user_login_to_account_login': '0', 'upload_event_on_study_sync': '0', 'ai_anonymize_study_images_tensorflow_east': '', 'link_external_whitelist': '', 'ai_categorize_phi_in_study_images_google_vision_then_dlp': '', 'suppress_hl7_eom_sep': '0', 'allow_multiple_use_of_orders': '0', 'show_study_copy_push_status': 0, 'ip_whitelist': '', 'render_wrapped_video': '0', 'athena_orders_filter': '', 'request_join_on_vanity_registration': '0', 'ai_anonymize_study_images_aws_rekognition': '', 'mwl_search_is_cfind': '0', 'viewer_hide_thumbnails': '0', 'study_download_no_reports': '0', 'show_radreport_in_all_namespaces': '0', 'pixel_anonymize_color': '', 'include_date_in_smart_search': '0', 'update_phi_hl7': '0', 'set_phantom_on_reload': 0, 'viewer_hide_thumbnails_datetime': '0', 'reencode_dicom_mp4': '0', 'include_manual_orders_in_study_find_order': 0, 'radreport_attestation_signature': '0', 'hide_patient_portal_email_regex': '', 'multiple_sso_connections': '0', 'max_match_study_hl7': '100', 'viewer_hide_active_measurement_info': '0', 'login_json': '', 'create_thin_study_from_hl7_data_map': '', 'single_file_dicom_wrapping': 0, 'viewer_default_mouse_tool': 'Scroll', 'disable_external_viewer_for_links': '0', 'enable_v2_viewer': '0', 'enable_patient_portal': '0', 'create_thin_study_from_oru_study_uid': '', 'viewer_enable_mpr': '0', 'upload_hold': '0', 'study_status_role_tags': '', 'study_edit_reason': '0', 'allow_phr_upload': '0', 'link_defaults': '', 'ai_detect_phi_in_study_images_google_dlp': '', 'patients_from_hl7_adt_conditions': '', 'auto_transcode_modalities': '', 'viewer_show_priors_worklist_only': '0', 'study_push_status': '1', 'disable_mobile_dicom_wrapping': '0', 'study_search_require_regexp': '', 'enable_credit_card_processor': '0', 'render_wrapped_avi': '0', 'auto_enable_dicom_wrapping': '0', 'mwl_sending_facility_filter': '', 'ai_run_custom_code_scripts': '', 'update_patients_from_hl7': '0', 'viewer_setting_not_diagnostic': '0', 'update_study_source_on_notify': '0', 'anonymize_at_ingress': '1', 'saml_sync_on_create_only': '0', 'viewer3_config': '', 'viewer_enable_tap_navigation': '0', 'athena_unsolicited_namespace': '', 'ai_delete_duplicate_images': '', 'external_viewer': '', 'mwl_filter_expression': '', 'duplicate_study_check': '0', 'enable_click_to_filter': '1', 'viewer_hide_ruler': '0', 'group_local_pushes_by': 0, 'vanity_registration_customfields': 0, 'upload_settings': '', 'disable_duplicate_study_upload': 0, 'ai_anonymize_study_images': '', 'training_text': '', 'study_share_email_confirm': '0', 'study_status_timer_visible_at_last_status': 0, 'from_email_name': '', 'viewer_study_page_link_url': '', 'enable_doximity_auth': '0', 'enable_recaptcha': 0, 'see_all_destination_search_in_activity': '0', 'cloud_storage_config': '', 'update_phi_hl7_namespaces': '', 'link_external_whitelist_all_links': 0, 'use_link_on_patient_portal_share': '', 'sso_share_phr_workflow': '0', 'auto_transcode': 0, 'case_notify_submitted': '', 'case_status_tags': '', 'study_status_mutex_tags': '', 'query_retrieve_require_regexp': '', 'study_int_secret_direct': '', 'ai_anonymize_study_hl7_dwf': '', 'disable_user_days': '', 'baa_text': '', 'pin_auth_text': '', 'allow_portal_pin_to_dup_addresses': '0', 'must_approve_duplicate_study_uid': 0, 'athena_subscribe_orders': '0', 'viewer_single_instance_series': '0', 'login_location': '', 'enable_dicom_tag_customfields': '0', 'saml_saasid': '', 'ai_anonymize_study_images_google_dlp': '', 'sr_render_css': '', 'account_hl7_map': '', 'study_int_secret': '', 'study_stat_filter': '', 'update_study_status_in_all_versions': '0', 'orders_from_hl7_adt': '0', 'ai_anonymize_study_hl7': '', 'report_from_hl7': '', 'enable_viewer_export': '1', 'epic_prompt_for_anonymize': '0', 'show_hl7_report_physician_alias_regexp': '0', 'link_external_referer': '', 'enable_namespace_ai_questions': '', 'no_default_study_date_time': '0', 'include_adt_in_study_find_order': '0', 'enable_viewer_print': '1', 'suppress_all_patient_emails': '0', 'exclude_from_ai_share': '0', 'expose_patient_portal': 0, 'hl7_fetch_filter': '', 'saml_redirect_url': '', 'only_this_account_in_vanity': '0', 'auto_wrap_images': '0', 'upload_select_none': '0', 'link_sticky_anon_users': 0, 'logo_action': '', 'batch_encode_cine': '0', 'work_hour_matrix': 0, 'study_status_timer_attributes': '[]', 'ai_anonymize_attached_pdf_google_dlp': '', 'create_thin_study_from_oru': '0', 'study_status_timer_suspensive_tags': '', 'study_status_tags_attributes': '{\\n    \"defaults\": {\\n        \"upperCaseFirst\": 1,\\n        \"oneReportPerStudy\": 0,\\n        \"staticModalDialog\": 0,\\n        \"disableImportTemplate\": 0,\\n        \"availableReports\": [\\n            \"DG0000112\",\\n            \"DG0000113\",\\n            \"UC00001\"\\n        ],\\n        \"template\": \"UC00001\"\\n    },\\n    \"buttons\": {\\n        \"default\": [\\n            {\\n                \"label\": \"Save\",\\n                \"clickAction\": \"save\"\\n            },\\n            {\\n                \"label\": \"Close\",\\n                \"clickAction\": \"save-close\"\\n            },\\n            {\\n                \"label\": \"Save and Approve\",\\n                \"clickAction\": \"save-approve-close\",\\n                \"fileName\": \"{{PatientId}}\"\\n            }\\n        ]\\n    },\\n    \"report-formLoaded\": {\\n        \"all\": [\\n            {\\n                \"action\": \"open-viewer\"\\n            },\\n            {\\n                \"action\": \"hidePreview\"\\n            },\\n            {\\n                \"action\": \"changeElementAttribute\",\\n                \"selector\": \"#report-body table\",\\n                \"attribute\": \"style\",\\n                \"val\": \"font-family: sans-serif; color:black; font-size: large;\"\\n            }\\n        ]\\n    },\\n    \"report-formSaved\": {\\n        \"all\": [\\n            {\\n                \"action\": \"close-viewer\"\\n            }\\n        ]\\n    },\\n    \"study-statusChanged\": {\\n        \"Completed\": [\\n            {\\n                \"action\": \"generatePatientCSV\",\\n                \"fileName\": \"{{PatientId}} by {{USERNAME}}\"\\n            }\\n        ]\\n    }\\n}', 'search_qr': '', 'add_oru_report_to_study': '0', 'enable_masshiway': '0', 'hide_help_tool': '0', 'study_view_phr_delay': '', 'viewer_preload_diagnostic_images': '0', 'helpscout_beacon_id': '', 'logout_url': '', 'passwd_regexp': '', 'epic_name_format': '', 'query_retrieve_require_criteria_min': 1, 'radreport_sign': '', 'viewer_default_drop_shape_width': '0', 'link_first_study_only': '0', 'audit_failed_logins': '0', 'bypass_study_oversized_threshold': '1', 'report_csv_download_concat': '1', 'include_in_global_purge': 0, 'appointments_from_hl7_adt': '', 'account_time_zone': 0, 'enable_google_auth': '0', 'include_patientid_in_hl7_match': '0', 'auto_fill_patient_in_activity': '1', 'confirm_before_upload': '0', 'epic_patient_lookup_info': '', 'upload_one_study': '0', 'include_patientid_other_in_hl7_match': '0', 'viewer_store_extra_annotation_data': '0', 'study_status_timer': '0', 'sso_second_opinion_workflow': '0', 'probe_for_accelerator': '0', 'show_study_same_uid_push_status': 0, 'mpi_allowed': '', 'cerner_patient_lookup_info': '', 'ai_lookup_billing_code': '', 'homepage_links': '[]', 'enable_dicom_deidentification': '0', 'render_wrapped_pdf': '0', 'orders_from_hl7': '0', 'customfields_last_on_search': '0', 'viewer_show_std_dev': '0', 'viewer_show_reports': '1', 'apply_settings_to_owned_phr': '0', 'viewer_diagnostic_quality': '0', 'exclude_load_dicom_tag': '1', 'allow_user_password_for_account_login': '0', 'mwl_filter_if_matching_study': '0', 'update_all_studies': '', 'customcode_can_share': '0', 'study_search_modifiers': '', 'viewer_diagnostic_quality_always': '0', 'study_status_tags': 'Ready to be Read,Completed', 'load_ack_as_hl7': '0', 'passwdqc': '', 'users_from_hl7_mfn': '', 'consolidate_wrapped_jpegs': '0', 'patients_from_hl7_adt': '', 'viewer_anon_annotations_clear': '0', 'hl7_delay_route': '', 'other_ingress_tags': '', 'include_mapped_custom_fields_from_storage_ns': '0', 'limit_oru_by_storage_namespace': '', 'enable_multipart_uploader': '1', 'query_retrieve_require_regexp_mwl': '', 'require_mrn_for_patient_portal': '0', 'enable_link_charging': '0', 'enable_drchrono': '0', 'ai_bodypart_abdomen_chest_pelvis': '', 'bundle_notify_destination_search': 0, 'enable_thin_retrieve_in_patient_portal': '0', 'study_share_use_account_template': '0', 'sso_share_phr_workflow_options': '0', 'mpi_config': '', 'appointments_from_hl7_siu': '', 'refresh_data_on_reshare': '0', 'enable_dicom_wrapping': '0', 'add_on_invite': '0', 'update_phi_syngo_match': '0', 'ai_study_manual_route': ''}\n",
      "namespace_id\t71af8568-3454-4138-9e73-9fb0ef6da014\n",
      "must_approve_upload\t0\n",
      "must_approve\t0\n",
      "role_id\tNone\n",
      "hl7_template\t\n",
      "connected\t0\n",
      "vanity\t\n",
      "session_expire\t30\n",
      "share_description\t\n",
      "uuid\t1e72b29d-a0a3-405f-ada9-69a2628cee94\n",
      "role_name\t\n",
      "must_approve_harvest\t0\n",
      "css\tNone\n",
      "must_approve_move\t0\n",
      "vendor\tUC Health\n",
      "name\tROSE\n",
      "password_expire\t90\n",
      "no_share\t0\n",
      "share_settings\t{\"prompt_card_owner_name\":0,\"autoAttachFileTypes\":[]}\n",
      "share_via_gateway\tNone\n",
      "can_request\t0\n"
     ]
    }
   ],
   "source": [
    "account = api.Account.list().filter_by(\n",
    "       Filter(\n",
    "           'name',\n",
    "           FilterCondition.like,\n",
    "           'ROS%',\n",
    "       ),\n",
    "    ).first()\n",
    "\n",
    "for key in account.keys():\n",
    "    print(f'{key}\\t{account[key]}')"
   ]
  },
  {
   "cell_type": "code",
   "execution_count": null,
   "metadata": {},
   "outputs": [],
   "source": [
    "account == None"
   ]
  },
  {
   "cell_type": "code",
   "execution_count": null,
   "metadata": {
    "scrolled": false
   },
   "outputs": [],
   "source": [
    "accounts = api.Account.list().all()\n",
    "\n",
    "for account in accounts:\n",
    "    print(account.name, account.uuid)"
   ]
  },
  {
   "cell_type": "code",
   "execution_count": null,
   "metadata": {},
   "outputs": [],
   "source": [
    "#list(accounts)"
   ]
  },
  {
   "cell_type": "code",
   "execution_count": null,
   "metadata": {},
   "outputs": [],
   "source": [
    "#anonymize_at_ingress"
   ]
  },
  {
   "cell_type": "markdown",
   "metadata": {},
   "source": [
    "# User Permissions"
   ]
  },
  {
   "cell_type": "code",
   "execution_count": null,
   "metadata": {
    "scrolled": false
   },
   "outputs": [],
   "source": [
    "permissions = api.Session.permissions(namespace_id=user_info.namespace_id).get()\n",
    "\n",
    "for permission in permissions.keys():\n",
    "    print(permission, permissions[permission])"
   ]
  },
  {
   "cell_type": "markdown",
   "metadata": {},
   "source": [
    "# Namespaces"
   ]
  },
  {
   "cell_type": "code",
   "execution_count": 23,
   "metadata": {},
   "outputs": [],
   "source": [
    "namespaces = api.Namespace. #.anonymize(user_info.uuid).get()"
   ]
  },
  {
   "cell_type": "markdown",
   "metadata": {},
   "source": [
    "# Location"
   ]
  },
  {
   "cell_type": "code",
   "execution_count": 24,
   "metadata": {},
   "outputs": [
    {
     "name": "stdout",
     "output_type": "stream",
     "text": [
      "ROSE\n"
     ]
    }
   ],
   "source": [
    "account = api.Account.list().filter_by(\n",
    "       Filter(\n",
    "           'name',\n",
    "           FilterCondition.equals,\n",
    "           'ROSE',\n",
    "       ),\n",
    "    ).first()\n",
    "\n",
    "\n",
    "print(account.name)\n",
    "loc_query = api.Location.list(account.uuid)"
   ]
  },
  {
   "cell_type": "code",
   "execution_count": 25,
   "metadata": {},
   "outputs": [
    {
     "name": "stdout",
     "output_type": "stream",
     "text": [
      "Rejected Studies\n",
      "Clinical\n",
      "DTI\n",
      "Volumetric\n"
     ]
    }
   ],
   "source": [
    "for loc in loc_query.all():\n",
    "    print(loc.name)"
   ]
  },
  {
   "cell_type": "markdown",
   "metadata": {},
   "source": [
    "# Study\n",
    "\n",
    "Study refers to a series of images belonging to a single patient."
   ]
  },
  {
   "cell_type": "code",
   "execution_count": 30,
   "metadata": {},
   "outputs": [
    {
     "data": {
      "text/plain": [
       "<Box: {'name': 'APRISE', 'uuid': '99b7b25e-b13a-44db-bc74-3ad9e462ea50'}>"
      ]
     },
     "execution_count": 30,
     "metadata": {},
     "output_type": "execute_result"
    }
   ],
   "source": [
    "user_info.namespace_id\n",
    "user_info.namespaces[1]"
   ]
  },
  {
   "cell_type": "code",
   "execution_count": 31,
   "metadata": {},
   "outputs": [
    {
     "name": "stdout",
     "output_type": "stream",
     "text": [
      "21-394140 1.2.840.113619.2.40.9485.4.1695212545.1544732336.412236 5044\n",
      "21-394201 1.2.840.113711.8204.4.52528.571779352.26.2116281012.1619940 5157\n",
      "21-394184 1.2.840.113711.8204.4.52528.571779352.26.2116281012.1582670 5214\n",
      "21-394199 1.2.840.113619.2.25.4.2147483647.1553014725.914 5319\n",
      "21-394028 1.2.840.113711.8204.4.11180.551635771.26.2116281012.112440 12257\n",
      "21-394049 1.2.840.113619.2.25.4.1415629.1538506961.937 5050\n",
      "21-394546 1.2.840.113711.3008204.4.2196.528135558.26.2116281012.11167900 5292\n",
      "21-394020 1.2.840.113711.3008204.4.6684.543351760.26.2116281012.1548710 12327\n",
      "21-394016 1.2.840.113711.3008204.4.6684.543351760.26.2116281012.1856590 12292\n",
      "21-394029 1.2.840.113711.8204.4.11180.551635771.26.2116281012.1118960 12310\n",
      "21-394040 1.2.840.113711.3008204.4.2044.556264771.26.2116281012.1164200 12109\n",
      "21-394054 1.2.840.113711.8204.4.41512.562030600.26.2116281012.1453350 12257\n",
      "21-394094 1.2.840.113619.6.322.62397435005660896320737394312410863012 5050\n",
      "21-394098 1.2.840.113619.2.25.4.2147483647.1548881300.891 5173\n",
      "21-394164 1.2.840.113711.8204.4.52528.571779352.26.2116281012.1102190 4974\n",
      "21-394182 1.2.840.113619.2.25.4.2147483647.1551894885.103 5440\n",
      "21-394208 1.2.840.113711.3008204.4.6240.575915209.26.2116281012.1151950 4521\n",
      "21-394197 1.2.840.113711.8204.4.84488.578297944.26.2116281012.1176130 5058\n",
      "21-394194 1.2.840.113711.8204.4.84488.578297944.26.2116281012.123710 5058\n",
      "21-394217 1.2.840.113711.8204.4.67816.579287766.26.2116281012.1248980 5058\n",
      "21-394226 1.2.840.113619.2.25.4.2147483647.1563487865.300 4535\n",
      "21-394282 1.2.840.113619.2.25.4.2147483647.1565878390.510 4535\n",
      "21-394282 2.16.840.1.114444.637014731662031001.1699008207 197\n",
      "21-394282 2.16.840.1.114444.637014731374598309.2748814257 1396\n",
      "21-394282 2.16.840.1.114444.637014731106495699.643213112 1164\n",
      "21-394283 1.2.840.113711.8204.4.141372.585209389.26.2116281012.1204390 5058\n",
      "21-394251 1.2.840.113619.2.25.4.2147483647.1565206275.773 4685\n",
      "21-394280 1.2.840.113619.2.25.4.2147483647.1568225949.653 5314\n",
      "21-394251 2.16.840.1.114444.637008535311961782.2092098777 1228\n",
      "21-394251 2.16.840.1.114444.637008535167101056.1275328078 680\n",
      "21-394251 2.16.840.1.114444.637008534905058550.3738148357 1339\n",
      "21-394280 2.16.840.1.114444.637002666777261902.1014644225 2091\n",
      "21-394280 2.16.840.1.114444.637002666520763362.4292298850 1134\n",
      "21-394280 2.16.840.1.114444.637002666479241868.3537574630 194\n",
      "21-394280 1.2.276.0.7230010.3.1.4.3388956830.7600.1564681489.3948 292\n",
      "21-394226 2.16.840.1.114444.636991301695475134.2251515183 1563\n",
      "21-394226 2.16.840.1.114444.636991301404919884.900845337 1563\n",
      "21-394226 2.16.840.1.114444.636991301352223010.2197536985 293\n",
      "21-394226 2.16.840.1.114444.636991301333955584.841750068 101\n",
      "21-394226 2.16.840.1.114444.636991301032811504.2634132515 1269\n",
      "21-394226 2.16.840.1.114444.636991300991881233.3180416128 197\n",
      "21-394226 2.16.840.1.114444.636991300952393557.7516817 205\n",
      "21-394217 1.2.840.113619.2.404.3.3624543282.172.1557736124.600 260\n",
      "21-394217 1.2.840.113619.2.438.3.3406449970.681.1557802293.76 3847\n",
      "21-394217 1.2.840.113619.2.438.3.3406449970.681.1557802292.977 353\n",
      "21-394197 2.16.840.1.114444.636921308361727432.1801614865 178\n",
      "21-394197 2.16.840.1.114444.636921308319899184.2335642547 214\n",
      "21-394194 2.16.840.1.114444.636922242740045701.2578535241 793\n",
      "21-394194 2.16.840.1.114444.636922242441552089.3987152666 1572\n",
      "21-394194 2.16.840.1.114444.636922242280839751.3126855322 794\n",
      "21-394194 2.16.840.1.114444.636922242012873224.4013336820 1198\n",
      "21-394194 2.16.840.1.114444.636922241966893588.3124340638 228\n",
      "21-394194 2.16.840.1.114444.636922241794996609.1471455858 772\n",
      "21-394208 2.16.840.1.114444.636906522811902006.4230938101 234\n",
      "21-394208 2.16.840.1.114444.636906522531956054.4012302141 1214\n",
      "21-394208 2.16.840.1.114444.636906522145773648.299025360 2008\n",
      "21-394199 2.16.840.1.114444.636885199413996022.830535240 699\n",
      "21-394199 2.16.840.1.114444.636885199108847964.2952691928 1198\n",
      "21-394199 2.16.840.1.114444.636885199073020349.3724434368 176\n",
      "21-394182 1.2.276.0.7230010.3.1.4.1143195769.3688.1555087615.5331 196\n",
      "21-394182 1.2.276.0.7230010.3.1.4.1143195769.3688.1555087613.4474 281\n",
      "21-394182 1.2.276.0.7230010.3.1.4.1143195769.3688.1555087612.3898 190\n",
      "21-394182 1.2.276.0.7230010.3.1.4.1143195769.3688.1555087611.3277 205\n",
      "21-394098 2.16.840.1.114444.636886824357520577.2977637163 1977\n",
      "21-394098 2.16.840.1.114444.636886824305481080.221406787 242\n",
      "21-394098 2.16.840.1.114444.636886823899087892.3330417945 1877\n",
      "21-394094 2.16.840.1.114444.636801113611201381.156154844 1544\n",
      "21-394094 2.16.840.1.114444.636801113571076866.1796347111 193\n",
      "21-394094 2.16.840.1.114444.636801113531879464.2355357445 184\n",
      "21-394094 2.16.840.1.114444.636801113495092200.1372933788 176\n",
      "21-394094 2.16.840.1.114444.636801113191213093.3896272586 1167\n",
      "21-394140 1.2.276.0.7230010.3.1.4.1143195769.3408.1552067707.20349 196\n",
      "21-394140 1.2.276.0.7230010.3.1.4.1143195769.3408.1552067707.19855 163\n",
      "21-394040 1.2.840.113711.8204.4.11180.551635771.26.2116281012.1300100 476\n",
      "21-394040 1.2.840.113711.8204.4.11180.551635771.26.2116281012.1301670 1955\n",
      "21-394040 1.2.840.113619.2.55.3.497824456.164.1531682537.897 147\n",
      "21-394040 1.2.840.113711.8204.4.11180.551635771.26.2116281012.1320550 1220\n",
      "21-394054 2.16.840.1.114444.636771790253759795.4253046669 188\n",
      "21-394054 2.16.840.1.114444.636771790069088937.1713613432 883\n",
      "21-394054 2.16.840.1.114444.636771789891804625.2283883515 883\n",
      "21-394054 2.16.840.1.114444.636771789657322344.2011003390 970\n",
      "21-394546 1.2.276.0.7230010.3.1.4.1143195769.2164.1517336148.4231 293\n",
      "21-394546 1.2.276.0.7230010.3.1.4.1143195769.2164.1517336145.2385 610\n",
      "21-394546 1.2.276.0.7230010.3.1.4.1143195769.2164.1517336144.2379 2\n",
      "21-394546 1.2.276.0.7230010.3.1.4.1143195769.2164.1517336143.2373 2\n",
      "21-394546 1.2.276.0.7230010.3.1.4.1143195769.2164.1517336141.1806 187\n",
      "21-394546 1.2.276.0.7230010.3.1.4.1143195769.2164.1517336139.1139 219\n",
      "21-394016 1.2.276.0.7230010.3.1.4.1143195769.3924.1525735414.16861 574\n",
      "21-394016 1.2.276.0.7230010.3.1.4.1143195769.3924.1525735411.16204 217\n",
      "21-394016 1.2.276.0.7230010.3.1.4.1143195769.3924.1525735410.15634 188\n",
      "21-394028 1.2.840.113711.3008204.4.6684.543351760.26.2116281012.1465480 1761\n",
      "21-394028 1.2.840.113619.2.55.3.497824456.999.1524534066.64 177\n",
      "21-394028 1.2.840.113711.3008204.4.6684.543351760.26.2116281012.1487830 1222\n",
      "21-394029 1.2.840.113711.3008204.4.6684.543351760.26.2116281012.1576160 1452\n",
      "21-394029 1.2.840.113711.3008204.4.6684.543351760.26.2116281012.1591720 1880\n",
      "21-394020 1.2.840.113711.8.101913.33368.543433485.26.2116281012.111250 247\n",
      "21-394020 1.2.840.113619.2.404.3.3624543282.9.1521707019.293 259\n",
      "21-394020 1.2.840.113619.2.55.3.3372892722.66.1521668276.678 383\n",
      "21-394020 1.2.840.113619.2.411.3.3372895026.257.1521632211.543 287\n",
      "21-394164 1.2.276.0.7230010.3.1.4.1143195769.3232.1553708278.3801 222\n",
      "21-394164 1.2.276.0.7230010.3.1.4.1143195769.3232.1553708277.3243 184\n",
      "21-394184 1.2.276.0.7230010.3.1.4.1143195769.3232.1553800645.10871 42\n",
      "21-394184 1.2.276.0.7230010.3.1.4.1143195769.3232.1553800627.10038 274\n",
      "21-394184 1.2.276.0.7230010.3.1.4.1143195769.3232.1553800614.9341 230\n",
      "21-394184 1.2.276.0.7230010.3.1.4.1143195769.3232.1553800605.7074 805\n",
      "21-394184 1.2.276.0.7230010.3.1.4.1143195769.3232.1553800604.6483 195\n",
      "21-394201 1.2.276.0.7230010.3.1.4.1143195769.1588.1556580178.2994 233\n",
      "21-394201 1.2.276.0.7230010.3.1.4.1143195769.1588.1556580173.2517 157\n",
      "21-394201 1.2.276.0.7230010.3.1.4.1143195769.1588.1556580169.1109 546\n",
      "21-394201 1.2.276.0.7230010.3.1.4.1143195769.1588.1556580168.451 217\n",
      "21-394283 1.2.276.0.7230010.3.1.4.3388956830.7784.1568657812.103349 299\n",
      "21-394283 1.2.276.0.7230010.3.1.4.3388956830.7784.1568657789.102409 311\n",
      "21-394283 1.2.276.0.7230010.3.1.4.3388956830.7784.1568657690.99778 872\n",
      "21-394283 1.3.46.670589.33.1.63698617653110566000001.5658728682189217519.987654321 2763\n",
      "21-394256 1.2.840.113711.8204.4.11100.590088163.26.2116281012.166610 5058\n",
      "21-394303 1.2.840.113711.8204.4.11100.590088163.26.2116281012.1124030 4712\n",
      "21-394291 1.2.840.113711.8204.4.11100.590088163.26.2116281012.1115600 4712\n",
      "21-394284 1.2.840.113711.8204.4.26804.591202012.26.2116281012.1105100 5058\n",
      "21-394309 1.2.840.113711.8204.4.26804.591202012.26.2116281012.174670 4881\n",
      "21-394289 1.2.840.113711.8204.4.26804.591202012.26.2116281012.1224220 5058\n",
      "21-394295 1.2.840.113711.8204.4.26804.591202012.26.2116281012.1324180 4712\n",
      "21-000002 1.2.840.113619.6.322.250052298808732787363955386943633119071 20562\n",
      "21-000003 1.2.840.113619.6.408.197000008824065395813631441568328526188 23378\n",
      "21-000004 1.2.840.113619.6.408.13133559014670234543857014738816939170 4796\n",
      "21-000005 1.2.840.113619.6.408.67802650800318225512750906442398456020 10325\n",
      "21-000006 1.2.840.113619.6.408.105094391670293597333074171017466992471 9417\n",
      "21-394308 1.2.840.113711.8204.4.42024.593071723.26.2116281012.1190940 4712\n",
      "21-394258 1.2.840.113711.8204.4.42024.593071723.26.2116281012.1149690 5051\n",
      "21-394335 1.2.840.113711.8204.4.77716.595840015.26.2116281012.110760 5338\n",
      "21-394338 1.2.840.113711.8204.4.110268.596273828.26.2116281012.1113090 4712\n",
      "21-394330 1.2.840.113711.8204.4.110268.596273828.26.2116281012.1133110 4705\n",
      "21-394342 1.2.840.113711.8204.4.153004.597827639.26.2116281012.141060 4712\n",
      "21-394349 1.2.840.113711.3008204.4.9976.598296857.26.2116281012.1180960 774\n",
      "21-394349 1.2.840.113711.3008204.4.9976.598296857.26.2116281012.1180950 5058\n",
      "21-394337 1.2.840.113711.3008204.4.9976.598296857.26.2116281012.1231230 924\n",
      "21-394337 1.2.840.113711.3008204.4.9976.598296857.26.2116281012.1231990 4917\n",
      "21-394340 1.2.840.113711.3008204.4.9976.598296857.26.2116281012.1239780 4712\n",
      "21-394289 2.16.840.1.114444.637142515483115397.1775419194 434\n",
      "21-394289 2.16.840.1.114444.637142515030877671.80310915 2037\n",
      " 2.16.840.1.114444.637142514986513128.2419342714 223\n",
      "21-394295 2.16.840.1.114444.637146106280849874.2791710252 230\n",
      "21-394295 2.16.840.1.114444.637146106219926648.1503082933 282\n",
      "21-394295 2.16.840.1.114444.637146106009507280.2303418302 853\n",
      "21-394295 2.16.840.1.114444.637146105956082314.1178507830 223\n",
      "21-394295 2.16.840.1.114444.637146105900782784.1788038444 215\n",
      "21-394295 2.16.840.1.114444.637146105613350248.2191727246 1226\n",
      "21-394295 2.16.840.1.114444.637146105565392754.1227905497 226\n",
      "21-394356 2.16.840.1.114444.637165913734900139.1818356626 1198\n",
      "21-394356 2.16.840.1.114444.637165913266729241.1384191651 2154\n",
      "21-394356 2.16.840.1.114444.637165913203931544.3670698189 214\n",
      "21-394303 2.16.840.1.114444.637182150849522990.119920433 1428\n",
      "21-394303 2.16.840.1.114444.637182150771885079.668451969 213\n",
      "21-394303 2.16.840.1.114444.637182150516632403.3784351215 904\n",
      "21-394362 1.2.840.113711.8204.4.41976.600074166.26.2116281012.142460 5018\n",
      "21-394356 1.2.840.113711.8204.4.84272.601472628.26.2116281012.1203200 4762\n",
      "21-394355 1.2.840.113711.8204.4.84272.601472628.26.2116281012.129480 4840\n",
      "21-394363 1.2.840.113711.8204.4.84272.601472628.26.2116281012.1570 5019\n",
      "21-394363 1.2.840.113619.2.416.101662330317302230227902872731458640679 1490\n",
      "21-394363 1.2.840.113619.2.416.117953551822916398027923195803208035857 909\n",
      "21-394354 1.2.840.113711.8204.4.31156.603834099.26.2116281012.1203300 5058\n",
      "21-394363 1.2.840.113711.8204.4.74688.600780296.26.2116281012.118010 441\n",
      "21-394308 2.16.840.1.114444.637196864331972067.1961014392 199\n",
      "21-394308 2.16.840.1.114444.637196864004236789.3176762637 1278\n",
      "21-394226 1.2.840.113711.8204.4.129524.581756656.26.2116281012.1514350 1269\n",
      "21-394226 1.2.840.113619.2.416.333221277154164878307178867893848929738 1563\n",
      "21-394226 1.2.840.113619.2.416.42795770832220652472872950812876756625 293\n",
      "21-394226 1.2.840.113619.2.416.192196479079239254504389877847420579328 101\n",
      "21-394226 1.2.840.113619.2.416.10663932139828503642190539319560049328 197\n",
      "21-394208 1.2.840.113711.3008204.4.6240.575915209.26.2116281012.177890 1214\n",
      "21-394208 1.2.840.113619.2.416.181407098678553300593623664661128084456 2008\n",
      "21-394208 1.2.840.113619.2.416.333431915609288014546877765987520946569 234\n",
      "21-394282 1.2.840.113711.8204.4.171344.586937623.26.2116281012.170850 1164\n",
      "21-394282 1.2.840.113619.2.416.202585400604409883449649317134825416463 197\n",
      "21-394282 1.2.840.113619.2.416.57710996381249210759276184730392974374 1396\n",
      "21-394291 1.2.840.113711.8204.4.11100.590088163.26.2116281012.142000 936\n",
      "21-394291 1.2.840.113619.2.416.69732245444626568258485306157873512092 1478\n",
      "21-394291 1.2.840.113619.2.416.324709620761598384962151878312000982703 203\n",
      "21-394291 1.2.840.113619.2.416.180367164726471197355147120178587870562 229\n",
      "21-394291 1.2.840.113619.2.416.163962961632316643567756650530471934813 213\n",
      "21-394303 1.2.840.113711.8204.4.11100.590088163.26.2116281012.181140 904\n",
      "21-394303 1.2.840.113619.2.416.337592080144874708030021793862237567838 1428\n",
      "21-394303 1.2.840.113619.2.416.297313794751469037723037423372597699036 213\n",
      "21-394295 1.2.840.113711.8204.4.26804.591202012.26.2116281012.1286940 853\n",
      "21-394338 1.2.840.113711.8204.4.110268.596273828.26.2116281012.186110 1166\n",
      "21-394338 1.2.840.113619.2.416.275916710791499654555211911186115440580 1377\n",
      "21-394330 1.2.840.113711.8204.4.110268.596273828.26.2116281012.176470 902\n",
      "21-394330 1.2.840.113619.2.416.171694685214780357300010144072371244777 1510\n",
      "21-394330 1.2.840.113619.2.416.201010260284844596051142015962355673568 202\n",
      "21-394340 1.2.840.113711.3008204.4.9976.598296857.26.2116281012.1177780 1150\n",
      "21-394340 1.2.392.200036.9116.2.6.1.3268.2051738948.1577624263.958230 2270\n",
      "21-394340 1.2.840.113619.2.416.266750016422507918355714485968541677653 700\n",
      "21-394340 1.2.840.113619.2.416.48944223945281226228040893731246013305 216\n",
      "21-394340 1.2.840.113619.2.416.277813237819239250429736161625169344612 204\n",
      "21-394362 1.2.840.113711.8204.4.41976.600074166.26.2116281012.118110 1032\n",
      "21-394362 1.2.840.113619.2.416.286971194573244251676383067269622545834 220\n",
      "21-394342 1.2.840.113619.2.416.58868283218693805039844297716509916915 235\n",
      "21-394355 1.2.840.113711.8204.4.75276.601331049.26.2116281012.121180 1174\n",
      "21-394355 1.2.840.113711.8204.4.74688.600780296.26.2116281012.178000 860\n",
      "21-394355 1.2.840.113619.2.416.20195033204749292463315934001888251097 218\n",
      "21-394355 1.2.840.113619.2.416.287433473392839382210559133849195002013 221\n"
     ]
    },
    {
     "name": "stdout",
     "output_type": "stream",
     "text": [
      "21-394355 1.2.840.113619.2.416.48378590212684471798638022764392501886 220\n",
      "21-394356 1.2.840.113711.8204.4.84272.601472628.26.2116281012.182100 1198\n",
      "21-394356 1.2.840.113619.2.416.130481230394195372413082186344821967544 2154\n",
      "21-394356 1.2.840.113619.2.416.289569722373638271965487218812674616118 214\n",
      "21-394251 1.2.840.113711.8204.4.141372.585209389.26.2116281012.1267580 1228\n",
      "21-394251 1.2.840.113619.2.416.40238295769653989751676659995447512477 1339\n",
      "21-394440 1.2.840.113711.3008204.4.8452.607762519.26.2116281012.143540 774\n",
      "21-394440 1.2.840.113619.2.416.169965115367106632318245898374550074813 207\n",
      "21-394440 1.2.840.113619.2.416.288832621467440600889403693459108077538 1424\n",
      "21-394440 1.2.840.113619.2.416.322521089028600420630205611512555275793 174\n",
      "21-394440 1.2.840.113711.3008204.4.8452.607762519.26.2116281012.143550 4762\n",
      "21-394354 1.2.840.113711.8204.4.31156.603834099.26.2116281012.1186490 722\n",
      "21-394354 1.2.840.113619.2.416.121768190512432018495923268561729353616 388\n",
      "21-394354 1.2.840.113619.2.416.227287313599286989240045729600602053937 292\n",
      "21-394354 1.2.840.113619.2.416.68270039446116837343320984488224383938 197\n",
      "21-394354 1.2.840.113619.2.416.30515813771859973639829238690701752508 218\n",
      "21-394337 1.2.840.113619.2.416.295823135370086365836607812856261507135 324\n",
      "21-394337 1.2.840.113619.2.416.337503224070635811044444930841572291181 219\n",
      "21-394337 1.2.840.113619.2.416.69602801878811462646139785296711038727 215\n",
      "21-394349 1.2.840.113619.2.416.48195400240976492301920454541431228162 1418\n",
      "21-394349 1.2.840.113711.3008204.4.9976.598296857.26.2116281012.1157470 194\n",
      "21-394349 1.2.840.113711.3008204.4.9976.598296857.26.2116281012.1180960 774\n",
      "21-394337 1.2.840.113711.3008204.4.9976.598296857.26.2116281012.1231230 796\n",
      "21-394335 1.2.840.113711.8204.4.42024.593071723.26.2116281012.1188760 1198\n",
      "21-394335 1.2.840.113619.2.416.162036364288861838638836313402108619543 822\n",
      "21-394295 1.2.840.113619.2.416.299154001201592255193341600477830285673 226\n",
      "21-394295 1.2.840.113619.2.416.213152473613036101049642628105006976606 1226\n",
      "21-394295 1.2.840.113619.2.416.54839347067435386959643621062198209210 215\n",
      "21-394295 1.2.840.113619.2.416.253903639901599344583525464462083940972 223\n",
      "21-394295 1.2.840.113619.2.416.3259246345805118880403384397161830409 282\n",
      "21-394289 1.2.840.113619.2.416.27589412078192661649302356777992969315 2037\n",
      "21-394289 1.2.840.113619.2.416.335690461079569105756359765850739250026 223\n",
      "21-394309 1.2.840.113619.2.416.188914104090582253021388507812167374510 217\n",
      "21-394309 1.2.840.113619.2.416.248420335563753474270119717346970794632 222\n",
      "21-394256 1.2.840.113619.2.416.10714605295782476270091784770934780993 753\n",
      "21-394256 1.2.840.113619.2.416.252057865661343995452310316402078486685 222\n",
      "21-394256 1.2.392.200036.9116.2.6.1.3268.2051738948.1565225295.689116 2497\n",
      "21-394256 1.2.840.113619.2.428.3.279712918.438.1565696121.462 182\n",
      "21-394280 1.2.840.113711.8204.4.141372.585209389.26.2116281012.1109280 1134\n",
      "21-394280 1.2.840.113711.8204.4.141372.585209389.26.2116281012.191780 2091\n",
      "21-394280 1.2.840.113619.2.416.259243838294751114437226229774749907471 194\n",
      "21-394308 1.2.840.113619.2.416.289620178496612647528667438292398447941 199\n",
      "21-394308 1.2.840.113619.2.416.128709376203317534402766852069506381342 1278\n",
      "21-394194 1.2.840.113619.2.416.284875073766664257025733171973931939897 772\n",
      "21-394194 1.2.840.113619.2.416.46881288242486792986825427252735681444 228\n",
      "21-394194 1.2.840.113619.2.416.74512928534315783326455014432780990289 1572\n",
      "21-394194 1.2.840.113619.2.416.259628645000743154155885079068146784535 793\n",
      "21-394194 1.2.840.113619.2.416.201067757159364189426922904141446989854 794\n",
      "21-394194 1.2.840.113711.3008204.4.6240.575915209.26.2116281012.1362280 1198\n",
      "21-394028 1.2.840.113619.2.55.3.497824456.999.1524534066.64 178\n",
      "21-394028 1.2.840.113711.3008204.4.6684.543351760.26.2116281012.1487830 1222\n",
      "21-394029 1.2.840.113711.3008204.4.6684.543351760.26.2116281012.1576160 1454\n",
      "21-394029 1.2.840.113711.3008204.4.6684.543351760.26.2116281012.1591720 1880\n",
      "21-394028 1.2.840.113711.3008204.4.6684.543351760.26.2116281012.1465450 1763\n",
      "21-394040 1.2.840.113619.2.55.3.497824456.164.1531682537.897 148\n",
      "21-394040 1.2.840.113711.8204.4.11180.551635771.26.2116281012.1300100 477\n",
      "21-394040 1.2.840.113711.8204.4.11180.551635771.26.2116281012.1320550 1220\n",
      "21-394094 1.2.840.113711.8204.4.41512.562030600.26.2116281012.1472920 176\n",
      "21-394094 1.2.840.113711.8204.4.41512.562030600.26.2116281012.1470190 184\n",
      "21-394094 1.2.840.113619.2.416.168824553147623340647607280947460351437 1544\n",
      "21-394094 1.2.840.113711.8204.4.41512.562030600.26.2116281012.1544640 1167\n",
      "21-394094 1.2.840.113711.8204.4.41512.562030600.26.2116281012.1468030 193\n",
      "21-394098 1.2.840.113711.8204.4.119988.566326994.26.2116281012.1157180 1877\n",
      "21-394098 1.2.840.113711.8204.4.119988.566326994.26.2116281012.1159360 242\n",
      "21-394098 1.2.840.113711.8204.4.119988.566326994.26.2116281012.1156990 1410\n",
      "21-394098 1.2.840.113711.8204.4.119988.566326994.26.2116281012.1163060 1977\n",
      "21-394197 1.2.840.113711.3008204.4.6240.575915209.26.2116281012.129900 178\n",
      "21-394197 1.2.840.113619.2.416.40288508605849247629558584922718180240 214\n",
      "21-394199 1.2.840.113619.2.416.140024432907670551472745046653598745837 699\n",
      "21-394199 1.2.840.113711.8204.4.52528.571779352.26.2116281012.1354010 176\n",
      "21-394199 1.2.840.113711.8204.4.52528.571779352.26.2116281012.1354520 1198\n",
      "21-394251 1.2.840.113619.2.416.331370386501331906894631778923382300001 680\n",
      "21-394226 1.2.840.113619.2.416.2448805645592198330324285105966546607 205\n",
      "21-394346 1.2.840.113711.8204.4.100464.617696121.26.2116281012.115850 4537\n",
      "21-394373 1.2.840.113711.8204.4.95356.615571796.26.2116281012.1250720 4537\n",
      "21-394357 1.2.840.113711.8204.4.100164.613501762.26.2116281012.1189230 4585\n",
      "21-394434 1.2.840.113711.8204.4.65020.620202035.26.2116281012.1212090 4462\n",
      "21-394054 1.2.840.113711.8204.4.22492.560393453.26.2116281012.1158190 970\n",
      "21-394054 1.2.392.200036.9116.2.6.1.3268.2051738948.1539575987.379724 188\n",
      "21-394054 1.2.840.113619.2.416.204584235172299376143149414768120480112 883\n",
      "21-394386 1.2.840.113711.8204.4.100464.617696121.26.2116281012.1235670 5648\n",
      "21-394388 1.2.840.113711.8204.4.65020.620202035.26.2116281012.1184020 4585\n",
      "21-394383 1.2.840.113711.8204.4.65020.620202035.26.2116281012.1124060 1140\n",
      "21-394383 1.2.840.113711.8204.4.65020.620202035.26.2116281012.1124070 4462\n",
      "21-394390 1.2.840.113711.3008204.4.8148.623830498.26.2116281012.141910 4537\n",
      "21-394447 1.2.840.113711.8204.4.28132.625471578.26.2116281012.1148910 5771\n"
     ]
    }
   ],
   "source": [
    "uc_namespace_uuid = '74c3e511-2dcd-4c49-9e83-863094fc84fa'\n",
    "\n",
    "studies = api \\\n",
    "    .Study \\\n",
    "    .list() \\\n",
    "    .filter_by(\n",
    "       Filter(\n",
    "           'phi_namespace',\n",
    "           FilterCondition.equals,\n",
    "           uc_namespace_uuid,\n",
    "       ),\n",
    "    ) \\\n",
    "    .only([Study.patientid ,Study.study_uid, Study.image_count]) \\\n",
    "    .sort_by(\n",
    "        Sorter(\n",
    "            'created',\n",
    "            SortingOrder.ascending,\n",
    "        ),\n",
    "    ) \\\n",
    "    .all()\n",
    "\n",
    "for study in studies:\n",
    "    print(study.patientid, study.study_uid, study.image_count)"
   ]
  },
  {
   "cell_type": "code",
   "execution_count": 32,
   "metadata": {},
   "outputs": [
    {
     "data": {
      "text/plain": [
       "'6ee6c8db-658f-4a9c-8ac9-a1fb181663f4'"
      ]
     },
     "execution_count": 32,
     "metadata": {},
     "output_type": "execute_result"
    }
   ],
   "source": [
    "user_info.namespace_id"
   ]
  },
  {
   "cell_type": "code",
   "execution_count": 33,
   "metadata": {},
   "outputs": [],
   "source": [
    "# Create a study query object\n",
    "q_obj = api.Study.list()"
   ]
  },
  {
   "cell_type": "code",
   "execution_count": 34,
   "metadata": {
    "scrolled": false
   },
   "outputs": [
    {
     "name": "stdout",
     "output_type": "stream",
     "text": [
      "created:\t2020-11-13 12:39:50.950476-07\n",
      "phantom:\t0\n",
      "engine_fqdn:\tstorelpp48.dicomgrid.com\n",
      "medical_record_locator:\tNone\n",
      "hl7:\t[]\n",
      "share_message:\t\n",
      "study_time:\t110633.000000\n",
      "study_push_status:\t[{'updated': '2020-11-13 12:59:52.791598-07', 'group_key': None, 'image_count': 9, 'created': '2020-11-13 12:39:52.818921-07', 'status': 'S', 'status_reason': '{\\r\\n  \"result\": \"10 images were saved.\"\\r\\n}', 'is_local': 0, 'destination_uuid': 'bb1f3623-953b-4972-9cf9-12e5aca6f03b', 'destination_name': 'Genexia AIBAC Destination'}]\n",
      "patient_comments:\tNone\n",
      "patient_age:\t072Y\n",
      "patient_institution_residence:\tNone\n",
      "accession_number:\tMG-19-0050306\n",
      "star:\t0\n",
      "is_frozen:\t0\n",
      "study_description:\tMAMMO SCREENING BILATERAL DIGITAL INCL CAD\n",
      "phi_namespace:\tfb21ab37-8823-4c0e-9f6b-40ee34015258\n",
      "patientid_other:\t\n",
      "phi_namespace_name:\tGenexia Data Push Group\n",
      "has_external_viewer:\t0\n",
      "uuid:\t7055dc15-aec9-4967-89fd-2d80f1b7fb7b\n",
      "patient_phone:\tNone\n",
      "patient_address:\tNone\n",
      "patient_sex:\tO\n",
      "patient_occupation:\tNone\n",
      "permissions:\t{'hl7_message_view': 0, 'order_view': 0, 'customfield_view': 1, 'study_download': 1, 'customcode_edit': 0, 'hl7_message_delete': 0, 'location_edit': 1, 'study_share_account': 1, 'link_view': 0, 'user_edit': 1, 'study_manual_route': 1, 'link_edit_upload': 0, 'message_view': 0, 'role_view': 1, 'study_field_patient_sex': 'F', 'user_modify_notifications': 1, 'role_edit': 1, 'hl7_transform_view': 0, 'study_report_hl7_view_unapproved': 0, 'study_field_patientid': 'F', 'study_edit_approved': 1, 'study_download_iso': 1, 'user_request_access': 1, 'study_share_location': 1, 'keyimage_view': 1, 'radreport_view_only_own': 0, 'viewer_config': '', 'study_field_referring_physician': 'F', 'customcode_deploy': 0, 'destination_search_mwl': 0, 'study_delete': 1, 'study_share_rsna': 0, 'route_view': 1, 'account_user_edit': 1, 'study_share_npi': 0, 'case_delete': 0, 'appointment_edit': 0, 'dicomdata_view': 0, 'study_field_study_date': 'F', 'radreport_view': 0, 'study_sync': 0, 'study_freeze': 0, 'channel_study': 1, 'radreport_html_format': 0, 'study_report_hl7_view_approved': 0, 'user_view_others_notifications': 1, 'study_report_view_unapproved': 1, 'message_edit': 0, 'study_report_view': 1, 'study_search_require_patientid': 0, 'customfield_edit': 1, 'viewer3_config': '', 'account_user_invite': 1, 'webhook_edit': 1, 'node_approve_connect': 1, 'study_timing_view': 0, 'validate_view': 1, 'study_delete_image': 1, 'case_view': 0, 'study_share_user': 1, 'purge_view': 0, 'study_tag': 1, 'webhook_view': 1, 'analytics_view': 1, 'study_browse': 1, 'namespace_question': 0, 'study_status_edit': 0, 'purge_edit': 0, 'study_download_viewer': 1, 'route_edit': 1, 'study_edit': 1, 'link_direct': 1, 'user_modify_sharecode': 1, 'study_upload': 1, 'node_edit_own': 0, 'annotation_view_only_own': 0, 'study_search_require_patient_sex': 0, 'patient_view': 0, 'study_report_hl7_view': 0, 'audit_view': 1, 'hl7_template_edit': 0, 'node_connect': 1, 'customcode_view': 0, 'study_field_accession_number': 'F', 'study_audio_play': 0, 'dictionary_view': 1, 'filter_share': 1, 'study_upload_validate': 0, 'patient_edit': 0, 'study_comment_view': 0, 'study_search_require_accession_number': 0, 'study_field_study_description': 'F', 'location_view': 1, 'group_edit': 1, 'study_search_require_patient_birth_date': 0, 'case_edit_only_own': 0, 'study_report_upload_unapproved': 1, 'channel_activity': 1, 'case_view_only_own': 0, 'meeting_view': 0, 'study_report_detail': 1, 'study_move': 0, 'appointment_view_only_own': 0, 'study_field_patient_birth_date': 'F', 'ui_json': '{\"advanced_search\":[]}', 'link_edit_pin': 0, 'annotation_view': 1, 'link_edit': 0, 'study_report_view_only_own': 0, 'account_user_view': 1, 'study_duplicate': 0, 'study_star': 1, 'user_modify_others_notifications': 1, 'appointment_view': 0, 'study_report_upload_approved': 1, 'study_edit_unapproved': 1, 'study_field_customfield_c90567eb-1d2a-41a0-aba7-d76af6f113fa': 'F', 'study_share_group': 1, 'study_search_require_patient_name': 0, 'account_view': 1, 'study_share_email': 1, 'study_push': 1, 'study_view': 1, 'annotation_edit': 1, 'meeting_edit': 0, 'group_view': 1, 'order_edit': 0, 'study_report_delete': 1, 'study_field_modality': 'F', 'account_edit': 1, 'destination_edit': 1, 'validate_edit': 1, 'node_edit': 1, 'dicomdata_edit': 0, 'study_approve': 1, 'user_modify_others_email': 1, 'study_split': 0, 'study_status_view': 0, 'study_share': 1, 'study_comment_edit': 0, 'user_modify_defaults': 1, 'study_thin': 0, 'study_share_share_code': 1, 'node_view': 1, 'study_status_manual_edit': 1, 'study_report_view_approved': 1, 'study_report_upload': 1, 'study_field_customfield_648af67b-08b0-4c96-8142-2301a1287d6b': 'F', 'hl7_transform_edit': 0, 'radreport_edit': 0, 'can_proxy_login': 1, 'study_report_delete_approved': 1, 'dictionary_edit': 1, 'keyimage_edit': 1, 'destination_view': 1, 'study_report_delete_unapproved': 1, 'study_merge': 0, 'study_audio_record': 0, 'hl7_template_view': 0, 'case_edit': 0, 'destination_search': 0, 'study_field_patient_name': 'F'}\n",
      "updated:\t2020-11-13 12:59:34.698443-07\n",
      "study_uid:\t1.2.840.113711.8204.4.119716.569181937.26.2116281012.1300750\n",
      "patient_religious_preference:\tNone\n",
      "patient_ethnic_group:\tNone\n",
      "size:\t197267720\n",
      "customfields:\t[{'type': 'text', 'options': '{\"values\":[],\"suggested_values\":[],\"hint_values\":[],\"show_when\":{},\"validate\":\"/^.{5}$/\",\"validate_error\":\"Image ID must be 5 characters. (i.e. A0001)\",\"hint\":\"Image ID must be 5 characters. The last 4 digits represent the subject number. The first character representing the stage of the trial.\",\"max_length\":\"\",\"field_label\":\"\",\"admin_only\":\"\",\"search_source\":\"\"}', 'uuid': '648af67b-08b0-4c96-8142-2301a1287d6b', 'required': 1, 'name': 'Subject ID', 'value': '10003'}, {'uuid': 'c90567eb-1d2a-41a0-aba7-d76af6f113fa', 'options': '{\"values\":[],\"suggested_values\":[],\"hint_values\":[],\"show_when\":{},\"validate\":\"\",\"validate_error\":\"\",\"hint\":\"\",\"max_length\":\"\",\"field_label\":\"\",\"admin_only\":\"\",\"search_source\":\"\",\"hint_as_help_text\":\"\"}', 'type': 'text', 'value': '', 'name': 'Reader', 'required': 0}]\n",
      "patient_current_location:\tNone\n",
      "source:\tshare\n",
      "patient_birthname:\tNone\n",
      "patient_name:\t10003\n",
      "compressed_size:\tNone\n",
      "viewer_link:\thttps://access.dicomgrid.com/viewer/#study/0bde13bc-ef98-4221-a572-d3ff23ad795f/1.2.840.113711.8204.4.119716.569181937.26.2116281012.1300750/fb21ab37-8823-4c0e-9f6b-40ee34015258\n",
      "patient_weight:\tNone\n",
      "integration_key:\tNone\n",
      "patientid:\t10003\n",
      "must_approve:\t0\n",
      "storage_namespace:\t0bde13bc-ef98-4221-a572-d3ff23ad795f\n",
      "patient_size:\tNone\n",
      "thin:\t0\n",
      "is_locked:\t0\n",
      "patient_birth_date:\t\n",
      "modality:\tMG\n",
      "local_storage_vm:\t\n",
      "patient_mother_birthname:\tNone\n",
      "patient_name_other:\t\n",
      "source_ae_title:\tALI_SCU\n",
      "study_date:\t20190204\n",
      "study_status:\tNone\n",
      "patient_birth_time:\t\n",
      "image_count:\t9\n",
      "is_being_retrieved:\t0\n",
      "attachment_count:\t1\n",
      "destination_ae_title:\tAMBRA_AIBAC\n",
      "patient_additional_history:\tNone\n",
      "referring_physician:\tJohnson^Kay^A\n",
      "is_dicom_wrapped:\t0\n"
     ]
    }
   ],
   "source": [
    "# Get the first study in the query\n",
    "study_info = q_obj.first()\n",
    "for key in study_info.keys():\n",
    "    print(f'{key}:\\t{study_info[key]}')"
   ]
  },
  {
   "cell_type": "code",
   "execution_count": 35,
   "metadata": {},
   "outputs": [
    {
     "data": {
      "text/plain": [
       "'{\"created\": \"2020-11-13 12:39:50.950476-07\", \"phantom\": 0, \"engine_fqdn\": \"storelpp48.dicomgrid.com\", \"medical_record_locator\": null, \"hl7\": [], \"share_message\": \"\", \"study_time\": \"110633.000000\", \"study_push_status\": [{\"updated\": \"2020-11-13 12:59:52.791598-07\", \"group_key\": null, \"image_count\": 9, \"created\": \"2020-11-13 12:39:52.818921-07\", \"status\": \"S\", \"status_reason\": \"{\\\\r\\\\n  \\\\\"result\\\\\": \\\\\"10 images were saved.\\\\\"\\\\r\\\\n}\", \"is_local\": 0, \"destination_uuid\": \"bb1f3623-953b-4972-9cf9-12e5aca6f03b\", \"destination_name\": \"Genexia AIBAC Destination\"}], \"patient_comments\": null, \"patient_age\": \"072Y\", \"patient_institution_residence\": null, \"accession_number\": \"MG-19-0050306\", \"star\": 0, \"is_frozen\": 0, \"study_description\": \"MAMMO SCREENING BILATERAL DIGITAL INCL CAD\", \"phi_namespace\": \"fb21ab37-8823-4c0e-9f6b-40ee34015258\", \"patientid_other\": \"\", \"phi_namespace_name\": \"Genexia Data Push Group\", \"has_external_viewer\": 0, \"uuid\": \"7055dc15-aec9-4967-89fd-2d80f1b7fb7b\", \"patient_phone\": null, \"patient_address\": null, \"patient_sex\": \"O\", \"patient_occupation\": null, \"permissions\": {\"hl7_message_view\": 0, \"order_view\": 0, \"customfield_view\": 1, \"study_download\": 1, \"customcode_edit\": 0, \"hl7_message_delete\": 0, \"location_edit\": 1, \"study_share_account\": 1, \"link_view\": 0, \"user_edit\": 1, \"study_manual_route\": 1, \"link_edit_upload\": 0, \"message_view\": 0, \"role_view\": 1, \"study_field_patient_sex\": \"F\", \"user_modify_notifications\": 1, \"role_edit\": 1, \"hl7_transform_view\": 0, \"study_report_hl7_view_unapproved\": 0, \"study_field_patientid\": \"F\", \"study_edit_approved\": 1, \"study_download_iso\": 1, \"user_request_access\": 1, \"study_share_location\": 1, \"keyimage_view\": 1, \"radreport_view_only_own\": 0, \"viewer_config\": \"\", \"study_field_referring_physician\": \"F\", \"customcode_deploy\": 0, \"destination_search_mwl\": 0, \"study_delete\": 1, \"study_share_rsna\": 0, \"route_view\": 1, \"account_user_edit\": 1, \"study_share_npi\": 0, \"case_delete\": 0, \"appointment_edit\": 0, \"dicomdata_view\": 0, \"study_field_study_date\": \"F\", \"radreport_view\": 0, \"study_sync\": 0, \"study_freeze\": 0, \"channel_study\": 1, \"radreport_html_format\": 0, \"study_report_hl7_view_approved\": 0, \"user_view_others_notifications\": 1, \"study_report_view_unapproved\": 1, \"message_edit\": 0, \"study_report_view\": 1, \"study_search_require_patientid\": 0, \"customfield_edit\": 1, \"viewer3_config\": \"\", \"account_user_invite\": 1, \"webhook_edit\": 1, \"node_approve_connect\": 1, \"study_timing_view\": 0, \"validate_view\": 1, \"study_delete_image\": 1, \"case_view\": 0, \"study_share_user\": 1, \"purge_view\": 0, \"study_tag\": 1, \"webhook_view\": 1, \"analytics_view\": 1, \"study_browse\": 1, \"namespace_question\": 0, \"study_status_edit\": 0, \"purge_edit\": 0, \"study_download_viewer\": 1, \"route_edit\": 1, \"study_edit\": 1, \"link_direct\": 1, \"user_modify_sharecode\": 1, \"study_upload\": 1, \"node_edit_own\": 0, \"annotation_view_only_own\": 0, \"study_search_require_patient_sex\": 0, \"patient_view\": 0, \"study_report_hl7_view\": 0, \"audit_view\": 1, \"hl7_template_edit\": 0, \"node_connect\": 1, \"customcode_view\": 0, \"study_field_accession_number\": \"F\", \"study_audio_play\": 0, \"dictionary_view\": 1, \"filter_share\": 1, \"study_upload_validate\": 0, \"patient_edit\": 0, \"study_comment_view\": 0, \"study_search_require_accession_number\": 0, \"study_field_study_description\": \"F\", \"location_view\": 1, \"group_edit\": 1, \"study_search_require_patient_birth_date\": 0, \"case_edit_only_own\": 0, \"study_report_upload_unapproved\": 1, \"channel_activity\": 1, \"case_view_only_own\": 0, \"meeting_view\": 0, \"study_report_detail\": 1, \"study_move\": 0, \"appointment_view_only_own\": 0, \"study_field_patient_birth_date\": \"F\", \"ui_json\": \"{\\\\\"advanced_search\\\\\":[]}\", \"link_edit_pin\": 0, \"annotation_view\": 1, \"link_edit\": 0, \"study_report_view_only_own\": 0, \"account_user_view\": 1, \"study_duplicate\": 0, \"study_star\": 1, \"user_modify_others_notifications\": 1, \"appointment_view\": 0, \"study_report_upload_approved\": 1, \"study_edit_unapproved\": 1, \"study_field_customfield_c90567eb-1d2a-41a0-aba7-d76af6f113fa\": \"F\", \"study_share_group\": 1, \"study_search_require_patient_name\": 0, \"account_view\": 1, \"study_share_email\": 1, \"study_push\": 1, \"study_view\": 1, \"annotation_edit\": 1, \"meeting_edit\": 0, \"group_view\": 1, \"order_edit\": 0, \"study_report_delete\": 1, \"study_field_modality\": \"F\", \"account_edit\": 1, \"destination_edit\": 1, \"validate_edit\": 1, \"node_edit\": 1, \"dicomdata_edit\": 0, \"study_approve\": 1, \"user_modify_others_email\": 1, \"study_split\": 0, \"study_status_view\": 0, \"study_share\": 1, \"study_comment_edit\": 0, \"user_modify_defaults\": 1, \"study_thin\": 0, \"study_share_share_code\": 1, \"node_view\": 1, \"study_status_manual_edit\": 1, \"study_report_view_approved\": 1, \"study_report_upload\": 1, \"study_field_customfield_648af67b-08b0-4c96-8142-2301a1287d6b\": \"F\", \"hl7_transform_edit\": 0, \"radreport_edit\": 0, \"can_proxy_login\": 1, \"study_report_delete_approved\": 1, \"dictionary_edit\": 1, \"keyimage_edit\": 1, \"destination_view\": 1, \"study_report_delete_unapproved\": 1, \"study_merge\": 0, \"study_audio_record\": 0, \"hl7_template_view\": 0, \"case_edit\": 0, \"destination_search\": 0, \"study_field_patient_name\": \"F\"}, \"updated\": \"2020-11-13 12:59:34.698443-07\", \"study_uid\": \"1.2.840.113711.8204.4.119716.569181937.26.2116281012.1300750\", \"patient_religious_preference\": null, \"patient_ethnic_group\": null, \"size\": \"197267720\", \"customfields\": [{\"type\": \"text\", \"options\": \"{\\\\\"values\\\\\":[],\\\\\"suggested_values\\\\\":[],\\\\\"hint_values\\\\\":[],\\\\\"show_when\\\\\":{},\\\\\"validate\\\\\":\\\\\"/^.{5}$/\\\\\",\\\\\"validate_error\\\\\":\\\\\"Image ID must be 5 characters. (i.e. A0001)\\\\\",\\\\\"hint\\\\\":\\\\\"Image ID must be 5 characters. The last 4 digits represent the subject number. The first character representing the stage of the trial.\\\\\",\\\\\"max_length\\\\\":\\\\\"\\\\\",\\\\\"field_label\\\\\":\\\\\"\\\\\",\\\\\"admin_only\\\\\":\\\\\"\\\\\",\\\\\"search_source\\\\\":\\\\\"\\\\\"}\", \"uuid\": \"648af67b-08b0-4c96-8142-2301a1287d6b\", \"required\": 1, \"name\": \"Subject ID\", \"value\": \"10003\"}, {\"uuid\": \"c90567eb-1d2a-41a0-aba7-d76af6f113fa\", \"options\": \"{\\\\\"values\\\\\":[],\\\\\"suggested_values\\\\\":[],\\\\\"hint_values\\\\\":[],\\\\\"show_when\\\\\":{},\\\\\"validate\\\\\":\\\\\"\\\\\",\\\\\"validate_error\\\\\":\\\\\"\\\\\",\\\\\"hint\\\\\":\\\\\"\\\\\",\\\\\"max_length\\\\\":\\\\\"\\\\\",\\\\\"field_label\\\\\":\\\\\"\\\\\",\\\\\"admin_only\\\\\":\\\\\"\\\\\",\\\\\"search_source\\\\\":\\\\\"\\\\\",\\\\\"hint_as_help_text\\\\\":\\\\\"\\\\\"}\", \"type\": \"text\", \"value\": \"\", \"name\": \"Reader\", \"required\": 0}], \"patient_current_location\": null, \"source\": \"share\", \"patient_birthname\": null, \"patient_name\": \"10003\", \"compressed_size\": null, \"viewer_link\": \"https://access.dicomgrid.com/viewer/#study/0bde13bc-ef98-4221-a572-d3ff23ad795f/1.2.840.113711.8204.4.119716.569181937.26.2116281012.1300750/fb21ab37-8823-4c0e-9f6b-40ee34015258\", \"patient_weight\": null, \"integration_key\": null, \"patientid\": \"10003\", \"must_approve\": 0, \"storage_namespace\": \"0bde13bc-ef98-4221-a572-d3ff23ad795f\", \"patient_size\": null, \"thin\": 0, \"is_locked\": 0, \"patient_birth_date\": \"\", \"modality\": \"MG\", \"local_storage_vm\": \"\", \"patient_mother_birthname\": null, \"patient_name_other\": \"\", \"source_ae_title\": \"ALI_SCU\", \"study_date\": \"20190204\", \"study_status\": null, \"patient_birth_time\": \"\", \"image_count\": 9, \"is_being_retrieved\": 0, \"attachment_count\": 1, \"destination_ae_title\": \"AMBRA_AIBAC\", \"patient_additional_history\": null, \"referring_physician\": \"Johnson^Kay^A\", \"is_dicom_wrapped\": 0}'"
      ]
     },
     "execution_count": 35,
     "metadata": {},
     "output_type": "execute_result"
    }
   ],
   "source": [
    "study_info.to_json()"
   ]
  },
  {
   "cell_type": "code",
   "execution_count": null,
   "metadata": {},
   "outputs": [],
   "source": [
    "# for this in q_obj.all():\n",
    "#     print(this['study_description'])\n"
   ]
  },
  {
   "cell_type": "markdown",
   "metadata": {},
   "source": [
    "# Webhooks"
   ]
  },
  {
   "cell_type": "code",
   "execution_count": null,
   "metadata": {},
   "outputs": [],
   "source": [
    "wh_query = api.Webhook.list(account.uuid)"
   ]
  },
  {
   "cell_type": "code",
   "execution_count": null,
   "metadata": {},
   "outputs": [],
   "source": [
    "wh_query.get()"
   ]
  },
  {
   "cell_type": "markdown",
   "metadata": {},
   "source": [
    "# Messages"
   ]
  },
  {
   "cell_type": "code",
   "execution_count": null,
   "metadata": {},
   "outputs": [],
   "source": [
    "msg = api.Message.add(\"test2\", namespace_id=user_info.namespace_id, subject=\"test\").get()"
   ]
  },
  {
   "cell_type": "code",
   "execution_count": null,
   "metadata": {},
   "outputs": [],
   "source": [
    "for msg in api.Message.list().all():\n",
    "    print(msg)"
   ]
  },
  {
   "cell_type": "markdown",
   "metadata": {},
   "source": [
    "# Find studies belonging to an account"
   ]
  },
  {
   "cell_type": "code",
   "execution_count": 26,
   "metadata": {},
   "outputs": [
    {
     "name": "stdout",
     "output_type": "stream",
     "text": [
      "ROSE 1e72b29d-a0a3-405f-ada9-69a2628cee94\n",
      "APRISE 437302f0-be9e-4e3b-a7f0-8ee2eb342ce8\n",
      "IRSD d1674f7a-6bc2-459f-9f32-3bf1fcd98fd6\n",
      "UC Research Clearinghouse bf1383a9-7fb5-4f46-8702-b5942dec7d99\n",
      "SENSE 934eeb18-a618-4a5f-bf31-2be57c7c7b10\n",
      "AI-BAC c9733518-453b-4ddb-beab-e86210849346\n"
     ]
    }
   ],
   "source": [
    "accounts = api.Account.list().all()\n",
    "\n",
    "for account in accounts:\n",
    "    print(account.name, account.uuid)"
   ]
  },
  {
   "cell_type": "code",
   "execution_count": 27,
   "metadata": {},
   "outputs": [
    {
     "data": {
      "text/plain": [
       "<Box: {'count': '43020'}>"
      ]
     },
     "execution_count": 27,
     "metadata": {},
     "output_type": "execute_result"
    }
   ],
   "source": [
    "accounts = api.Account.list().all()\n",
    "account = list(accounts)[0]\n",
    "\n",
    "# List of users with access to this account\n",
    "# for item in api.Account.user_list(account_uuid).all():\n",
    "#     print(item)\n",
    "\n",
    "\n",
    "api.Study.count().get()"
   ]
  },
  {
   "cell_type": "code",
   "execution_count": 113,
   "metadata": {},
   "outputs": [
    {
     "name": "stdout",
     "output_type": "stream",
     "text": [
      "{'count': '0'}\n",
      "{'count': '287'}\n"
     ]
    }
   ],
   "source": [
    "uc_group_uuid = '379273de-184f-4c35-b5a4-2820cb1abd57'\n",
    "uc_namespace_id = '74c3e511-2dcd-4c49-9e83-863094fc84fa'\n",
    "\n",
    "print(api.Study.count().filter_by(Filter('phi_namespace', FilterCondition.equals, uc_group_uuid)).get())\n",
    "print(api.Study.count().filter_by(Filter('phi_namespace', FilterCondition.equals, uc_namespace_id)).get())"
   ]
  },
  {
   "cell_type": "code",
   "execution_count": 28,
   "metadata": {},
   "outputs": [],
   "source": [
    "#dir(account)"
   ]
  },
  {
   "cell_type": "code",
   "execution_count": 124,
   "metadata": {
    "scrolled": false
   },
   "outputs": [
    {
     "name": "stdout",
     "output_type": "stream",
     "text": [
      "Rejected Studies fa591a91-a6b4-4e3b-93b8-ffe002712b0e\n",
      "Clinical 62d78883-c185-4d8a-9fdc-2bc7f47c5b5b\n",
      "DTI 9c6d74d8-aa06-4726-90e7-d2c1812e0b36\n",
      "Volumetric 1d7dffc3-341f-43bc-9831-579ee69db8ce\n",
      "=============================\n",
      "University of Cincinnati - Site 21 379273de-184f-4c35-b5a4-2820cb1abd57 74c3e511-2dcd-4c49-9e83-863094fc84fa\n",
      "University of Maryland - Site 22 ec0af922-c676-4cee-88e9-5317766e8404 6a12ea90-3f3b-4223-a691-9ab3669c65ba\n",
      "MGH - Site 23 d46bc205-b0cb-4d97-af73-e5729be14fad 8e6248b7-75b7-4003-ba0c-c98fc983ac7b\n",
      "Duke University - Site 24 8b8beec9-a83b-4fb8-bca7-f18fc66f31e1 7aa008ef-303b-4333-bb48-e5c38708b422\n",
      "Columbia University - Site 25 192bd8d7-168c-4c90-93b5-e238e46080d8 c467600d-889f-409a-8475-48a6177ec727\n",
      "UIC - Site 26 91ec8642-a038-4985-ab33-e4848708ed7a 722134e8-83f9-496d-a0a9-b4de2ba8b1b1\n",
      "All Approved Studies a14f3d78-cb89-4068-acdc-dd0a1d4c9a0c 61681e88-8ddc-4c17-bcf2-3fb622324ed0\n",
      "UC Scanners / PACS Studies e17afb83-db80-403c-9f3d-187adfcb5605 e754aaaf-b7bd-4756-9e14-926c007915dc\n",
      "Baptist Health Louisville - Site 27 68f87a47-acf0-49be-8c5c-bb7ee1250f14 b4c5b5e3-9702-4947-a228-4e3b64ed0c21\n",
      "=============================\n",
      "ROSE 71af8568-3454-4138-9e73-9fb0ef6da014 {'uuid': '71af8568-3454-4138-9e73-9fb0ef6da014', 'name': 'ROSE'}\n",
      "APRISE 99b7b25e-b13a-44db-bc74-3ad9e462ea50 {'name': 'APRISE', 'uuid': '99b7b25e-b13a-44db-bc74-3ad9e462ea50'}\n",
      "UC Health Inbound Studies 2d2dad80-4df2-4d39-83e3-77cd9bb8cedc {'uuid': '2d2dad80-4df2-4d39-83e3-77cd9bb8cedc', 'name': 'UC Health Inbound Studies'}\n",
      "TriHealth Inbound Studies 79e1b0f9-53d8-4557-865a-8a65729255de {'name': 'TriHealth Inbound Studies', 'uuid': '79e1b0f9-53d8-4557-865a-8a65729255de'}\n",
      "The Christ Hospital Inbound Studies b37b5c5a-769a-4c6b-9850-c93e529cf547 {'uuid': 'b37b5c5a-769a-4c6b-9850-c93e529cf547', 'name': 'The Christ Hospital Inbound Studies'}\n",
      "St. Elizabeth Inbound Studies a24aa6c0-dd20-436b-8f70-5637e2b85082 {'name': 'St. Elizabeth Inbound Studies', 'uuid': 'a24aa6c0-dd20-436b-8f70-5637e2b85082'}\n",
      "Mercy Health Inbound Studies 89c506c1-243f-41c2-8132-fee8aa0de19f {'uuid': '89c506c1-243f-41c2-8132-fee8aa0de19f', 'name': 'Mercy Health Inbound Studies'}\n",
      "Activities Queue Group f7dfdc97-947f-417b-9d07-e1ec4526595b {'name': 'Activities Queue Group', 'uuid': 'f7dfdc97-947f-417b-9d07-e1ec4526595b'}\n",
      "1 - Not Ready 7c7907be-8d0b-48b9-9080-32aa01c89c7a {'name': '1 - Not Ready', 'uuid': '7c7907be-8d0b-48b9-9080-32aa01c89c7a'}\n",
      "2 - Reader Assignment 07570f41-1bd7-4739-b9c9-8a937f76d5ef {'name': '2 - Reader Assignment', 'uuid': '07570f41-1bd7-4739-b9c9-8a937f76d5ef'}\n",
      "Dr. Vagal 8aa8af62-d8e2-48cb-a5db-c7730590c0bd {'uuid': '8aa8af62-d8e2-48cb-a5db-c7730590c0bd', 'name': 'Dr. Vagal'}\n",
      "Dr. Thomas Tomsick bde69b9f-d00e-40d0-80a2-fbcc5381e846 {'uuid': 'bde69b9f-d00e-40d0-80a2-fbcc5381e846', 'name': 'Dr. Thomas Tomsick'}\n",
      "Dr. Lily Wang fdc19f19-a934-45ef-aa16-9fd7a9341d46 {'uuid': 'fdc19f19-a934-45ef-aa16-9fd7a9341d46', 'name': 'Dr. Lily Wang'}\n",
      "Assign to All Readers for Interreader Variability c7a02ec0-75de-4dc1-a89b-8f0920e8672e {'uuid': 'c7a02ec0-75de-4dc1-a89b-8f0920e8672e', 'name': 'Assign to All Readers for Interreader Variability'}\n",
      "Dr. Mary Gaskill-Shipley 3f2342b6-adc2-45ba-b05a-013b82257f4d {'uuid': '3f2342b6-adc2-45ba-b05a-013b82257f4d', 'name': 'Dr. Mary Gaskill-Shipley'}\n",
      "Dr. Rebecca Cornelius 2e005da7-ce5b-47cb-827c-45767fd93d1f {'uuid': '2e005da7-ce5b-47cb-827c-45767fd93d1f', 'name': 'Dr. Rebecca Cornelius'}\n",
      "3 - Assigned Studies 856527fd-f25d-43fe-bece-39b312fcdc00 {'uuid': '856527fd-f25d-43fe-bece-39b312fcdc00', 'name': '3 - Assigned Studies'}\n",
      "University of Cincinnati - Site 21 74c3e511-2dcd-4c49-9e83-863094fc84fa {'uuid': '74c3e511-2dcd-4c49-9e83-863094fc84fa', 'name': 'University of Cincinnati - Site 21'}\n",
      "University of Maryland - Site 22 6a12ea90-3f3b-4223-a691-9ab3669c65ba {'name': 'University of Maryland - Site 22', 'uuid': '6a12ea90-3f3b-4223-a691-9ab3669c65ba'}\n",
      "MGH - Site 23 8e6248b7-75b7-4003-ba0c-c98fc983ac7b {'uuid': '8e6248b7-75b7-4003-ba0c-c98fc983ac7b', 'name': 'MGH - Site 23'}\n",
      "Duke University - Site 24 7aa008ef-303b-4333-bb48-e5c38708b422 {'uuid': '7aa008ef-303b-4333-bb48-e5c38708b422', 'name': 'Duke University - Site 24'}\n",
      "Columbia University - Site 25 c467600d-889f-409a-8475-48a6177ec727 {'uuid': 'c467600d-889f-409a-8475-48a6177ec727', 'name': 'Columbia University - Site 25'}\n",
      "UIC - Site 26 722134e8-83f9-496d-a0a9-b4de2ba8b1b1 {'name': 'UIC - Site 26', 'uuid': '722134e8-83f9-496d-a0a9-b4de2ba8b1b1'}\n",
      "All Approved Studies 61681e88-8ddc-4c17-bcf2-3fb622324ed0 {'name': 'All Approved Studies', 'uuid': '61681e88-8ddc-4c17-bcf2-3fb622324ed0'}\n",
      "Rejected Studies 435a5a3d-fdd5-4e25-b8bb-be945bf0318b {'name': 'Rejected Studies', 'uuid': '435a5a3d-fdd5-4e25-b8bb-be945bf0318b'}\n",
      "Temp - for reassignment d0ec481b-25e6-4bae-9b6d-c49e8bbef42e {'uuid': 'd0ec481b-25e6-4bae-9b6d-c49e8bbef42e', 'name': 'Temp - for reassignment'}\n",
      "IRSD 5878a639-1797-4527-b9e9-2aae4cbee4dd {'uuid': '5878a639-1797-4527-b9e9-2aae4cbee4dd', 'name': 'IRSD'}\n",
      "Clinical bfa3b0c6-e029-483c-b653-7b79e10d38cb {'name': 'Clinical', 'uuid': 'bfa3b0c6-e029-483c-b653-7b79e10d38cb'}\n",
      "DTI 40471b80-9658-4bf3-b14d-3f00b35f548d {'uuid': '40471b80-9658-4bf3-b14d-3f00b35f548d', 'name': 'DTI'}\n",
      "Volumetric 5675e7be-a358-418a-ac1e-9e0f7cf8b3dd {'name': 'Volumetric', 'uuid': '5675e7be-a358-418a-ac1e-9e0f7cf8b3dd'}\n",
      "UC Scanners / PACS Studies e754aaaf-b7bd-4756-9e14-926c007915dc {'uuid': 'e754aaaf-b7bd-4756-9e14-926c007915dc', 'name': 'UC Scanners / PACS Studies'}\n",
      "UC Research Clearinghouse d7d8d7ff-c6b8-49f2-9af8-78f5ad8270f0 {'uuid': 'd7d8d7ff-c6b8-49f2-9af8-78f5ad8270f0', 'name': 'UC Research Clearinghouse'}\n",
      "Inbound studies 5ed4e139-487e-47f4-b6f9-01fd3dff0a14 {'uuid': '5ed4e139-487e-47f4-b6f9-01fd3dff0a14', 'name': 'Inbound studies'}\n",
      "Fix Up Group 01928629-f1e8-449a-9efd-14870ba4566f {'uuid': '01928629-f1e8-449a-9efd-14870ba4566f', 'name': 'Fix Up Group'}\n",
      "Anonymize Images a41e4c2e-2012-470b-835b-dcae1abac4d4 {'name': 'Anonymize Images', 'uuid': 'a41e4c2e-2012-470b-835b-dcae1abac4d4'}\n",
      "4 - Completed Studies 60f2384d-b4b6-4468-8205-e2fd210e679d {'name': '4 - Completed Studies', 'uuid': '60f2384d-b4b6-4468-8205-e2fd210e679d'}\n",
      "5 - Excluded Studies f889ff87-a4cc-4f3d-8398-fe259095e789 {'uuid': 'f889ff87-a4cc-4f3d-8398-fe259095e789', 'name': '5 - Excluded Studies'}\n",
      "SENSE fb792ca0-c032-4c10-bfa9-dacaa1e28ea6 {'name': 'SENSE', 'uuid': 'fb792ca0-c032-4c10-bfa9-dacaa1e28ea6'}\n",
      "AI-BAC be5cc873-1fb6-4cc0-99d6-c692359dae14 {'name': 'AI-BAC', 'uuid': 'be5cc873-1fb6-4cc0-99d6-c692359dae14'}\n",
      "1 - Not Ready 08e326aa-09e2-4532-ac01-7494aadc324a {'uuid': '08e326aa-09e2-4532-ac01-7494aadc324a', 'name': '1 - Not Ready'}\n",
      "2 - Assigned Studies 62e31554-b883-43e3-a16a-22efba1162c4 {'uuid': '62e31554-b883-43e3-a16a-22efba1162c4', 'name': '2 - Assigned Studies'}\n",
      "3 - Completed Studies fa206b7f-5d0f-4d51-8d3d-41ab94cef099 {'uuid': 'fa206b7f-5d0f-4d51-8d3d-41ab94cef099', 'name': '3 - Completed Studies'}\n",
      "4 - Excluded Studies da5565f2-653e-4f3b-8f14-428f7eb04825 {'uuid': 'da5565f2-653e-4f3b-8f14-428f7eb04825', 'name': '4 - Excluded Studies'}\n",
      "Site 00 - University of Cincinnati bc227913-4214-4e68-9802-a2c2cf753cf2 {'name': 'Site 00 - University of Cincinnati', 'uuid': 'bc227913-4214-4e68-9802-a2c2cf753cf2'}\n",
      "Reader 2 92ee7dec-ad0c-430c-8a8e-31f2edc95e4a {'uuid': '92ee7dec-ad0c-430c-8a8e-31f2edc95e4a', 'name': 'Reader 2'}\n",
      "Reader 1 11c9efd2-9f69-4f9a-804d-8b83af655459 {'name': 'Reader 1', 'uuid': '11c9efd2-9f69-4f9a-804d-8b83af655459'}\n",
      "Baptist Health Louisville - Site 27 b4c5b5e3-9702-4947-a228-4e3b64ed0c21 {'name': 'Baptist Health Louisville - Site 27', 'uuid': 'b4c5b5e3-9702-4947-a228-4e3b64ed0c21'}\n",
      "1 - Not Annotated fe241128-5b73-487a-90d5-a281ea739859 {'name': '1 - Not Annotated', 'uuid': 'fe241128-5b73-487a-90d5-a281ea739859'}\n",
      "2 - Completed Studies 8b902645-1004-48f6-bf96-6dbf06ef0870 {'uuid': '8b902645-1004-48f6-bf96-6dbf06ef0870', 'name': '2 - Completed Studies'}\n",
      "Dr. David Wang 7533321c-0dc2-45cd-b064-e0904b335bf1 {'name': 'Dr. David Wang', 'uuid': '7533321c-0dc2-45cd-b064-e0904b335bf1'}\n",
      "Site 01 - Grady 29fd81c7-8805-49ee-a37f-2b2e81782019 {'uuid': '29fd81c7-8805-49ee-a37f-2b2e81782019', 'name': 'Site 01 - Grady'}\n",
      "Site 02 - Emory 466e9e96-0f85-44e8-8492-a62e1a6be3ec {'name': 'Site 02 - Emory', 'uuid': '466e9e96-0f85-44e8-8492-a62e1a6be3ec'}\n",
      "Safety Monitor(s) 55586b65-207b-48df-8d71-f90ed2e7afdc {'uuid': '55586b65-207b-48df-8d71-f90ed2e7afdc', 'name': 'Safety Monitor(s)'}\n",
      "Genexia Data Push Group fb21ab37-8823-4c0e-9f6b-40ee34015258 {'uuid': 'fb21ab37-8823-4c0e-9f6b-40ee34015258', 'name': 'Genexia Data Push Group'}\n",
      "Thomas Maloney 6ee6c8db-658f-4a9c-8ac9-a1fb181663f4 {'name': 'Thomas Maloney', 'uuid': '6ee6c8db-658f-4a9c-8ac9-a1fb181663f4'}\n"
     ]
    }
   ],
   "source": [
    "# Studies are not assigned to accounts\n",
    "# Running the line below will throw an error\n",
    "#api.Study.list(account.uuid).first()\n",
    "\n",
    "\n",
    "locations = api.Location.list(account.uuid).all()\n",
    "for location in locations:\n",
    "    print(location.name, location.uuid)\n",
    "\n",
    "print(29*\"=\")\n",
    "\n",
    "groups = api.Group.list(account.uuid).all()\n",
    "for group in groups:\n",
    "    print(group.name, group.uuid, group.namespace_id)\n",
    "\n",
    "print(29*\"=\")\n",
    "\n",
    "# Studies are assigned to 'namespaces' but listed under the user_info\n",
    "for namespace in user_info.namespaces:\n",
    "    print(namespace.name, namespace.uuid, namespace)"
   ]
  },
  {
   "cell_type": "code",
   "execution_count": null,
   "metadata": {},
   "outputs": [],
   "source": [
    "this_namespace_uuid = '7aa008ef-303b-4333-bb48-e5c38708b422'\n",
    "\n",
    "studies = api \\\n",
    "    .Study \\\n",
    "    .list() \\\n",
    "    .filter_by(\n",
    "       Filter(\n",
    "           'phi_namespace',\n",
    "           FilterCondition.equals,\n",
    "           this_namespace_uuid,\n",
    "       ),\n",
    "    ) \\\n",
    "    .only([Study.patientid ,Study.study_uid, Study.image_count]) \\\n",
    "    .sort_by(\n",
    "        Sorter(\n",
    "            'created',\n",
    "            SortingOrder.ascending,\n",
    "        ),\n",
    "    ) \\\n",
    "    .all()\n",
    "\n",
    "for study in studies:\n",
    "    print(study)"
   ]
  },
  {
   "cell_type": "code",
   "execution_count": null,
   "metadata": {},
   "outputs": [],
   "source": [
    "# How do I find what accounts the namespaces belong to???"
   ]
  },
  {
   "cell_type": "code",
   "execution_count": 64,
   "metadata": {},
   "outputs": [],
   "source": [
    "rose_account_uuid = '1e72b29d-a0a3-405f-ada9-69a2628cee94'"
   ]
  },
  {
   "cell_type": "markdown",
   "metadata": {},
   "source": [
    "# Key images"
   ]
  },
  {
   "cell_type": "code",
   "execution_count": 41,
   "metadata": {
    "scrolled": false
   },
   "outputs": [],
   "source": [
    "study_uuid = '7055dc15-aec9-4967-89fd-2d80f1b7fb7b'\n",
    "\n",
    "key_images = api.Keyimage.list(study_id=study_uuid).get()"
   ]
  },
  {
   "cell_type": "code",
   "execution_count": 43,
   "metadata": {},
   "outputs": [
    {
     "name": "stdout",
     "output_type": "stream",
     "text": [
      "{'images': []}\n"
     ]
    }
   ],
   "source": [
    "print(key_images)"
   ]
  },
  {
   "cell_type": "code",
   "execution_count": 42,
   "metadata": {},
   "outputs": [
    {
     "name": "stdout",
     "output_type": "stream",
     "text": [
      "images\n"
     ]
    }
   ],
   "source": [
    "for key_image in key_images:\n",
    "    print(key_image)"
   ]
  },
  {
   "cell_type": "markdown",
   "metadata": {},
   "source": [
    "# Activity"
   ]
  },
  {
   "cell_type": "code",
   "execution_count": 67,
   "metadata": {},
   "outputs": [],
   "source": [
    "activity = api.Activity.list(account_id=rose_account_uuid).first()#all()\n"
   ]
  },
  {
   "cell_type": "code",
   "execution_count": 69,
   "metadata": {},
   "outputs": [
    {
     "name": "stdout",
     "output_type": "stream",
     "text": [
      "created 2020-11-09 12:11:36.721538-07\n",
      "namespace_name Columbia University - Site 25\n",
      "type STUDY_APPROVE\n",
      "study {'patient_phone': None, 'patient_name_other': None, 'uuid': '34a5bd61-1332-4284-9613-76389799502a', 'study_uid': '1.2.840.114350.2.535.2.798268.2.257865531.1', 'phantom': 0, 'has_external_viewer': 0, 'patient_age': '', 'star': 0, 'phi_namespace_name': 'Columbia University - Site 25', 'patient_name': '25-415184', 'study_status': None, 'storage_namespace': 'c467600d-889f-409a-8475-48a6177ec727', 'patient_comments': '', 'image_count': 586, 'medical_record_locator': None, 'patient_religious_preference': None, 'study_date': '20200901', 'updated': '2020-11-09 12:15:32.533757-07', 'phi_namespace': 'c467600d-889f-409a-8475-48a6177ec727', 'patient_institution_residence': None, 'patient_additional_history': '', 'patient_address': None, 'patient_weight': '', 'study_description': '3TNICU IP MR BRAIN WITHOUT IV CONTRAST', 'integration_key': None, 'patient_birthname': None, 'patientid': '25-415184', 'patient_sex': '', 'created': '2020-11-09 12:10:46.371981-07', 'study_time': '184143', 'patient_size': '', 'is_being_retrieved': 0, 'radreports': [], 'patient_birth_time': None, 'compressed_size': None, 'is_frozen': 0, 'source': 'upload', 'permissions': {'study_upload_validate': 0, 'study_report_hl7_view_unapproved': 0, 'route_view': 0, 'study_thin': 0, 'appointment_view': 0, 'study_upload': 1, 'study_field_patient_sex': 'F', 'role_view': 1, 'ui_json': '', 'study_report_upload': 1, 'keyimage_edit': 1, 'node_edit_own': 0, 'hl7_transform_edit': 0, 'study_status_view': 1, 'radreport_view': 1, 'dicomdata_edit': 0, 'user_modify_sharecode': 1, 'study_download_viewer': 0, 'link_direct': 0, 'study_share_npi': 0, 'group_view': 1, 'study_field_referring_physician': 'F', 'node_edit': 0, 'dictionary_edit': 0, 'annotation_view_only_own': 0, 'account_edit': 1, 'purge_view': 0, 'study_download': 1, 'viewer3_config': '', 'patient_view': 0, 'study_search_require_patient_name': 0, 'study_report_view_only_own': 0, 'webhook_edit': 0, 'user_modify_defaults': 1, 'link_edit_upload': 0, 'study_field_customfield_2c1d145e-d4ec-4ac1-8806-c80f1003bb23': 'H', 'user_view_others_notifications': 0, 'customcode_edit': 0, 'study_edit_approved': 1, 'study_report_upload_approved': 1, 'hl7_transform_view': 0, 'study_search_require_patient_sex': 0, 'purge_edit': 0, 'dicomdata_view': 0, 'dictionary_view': 0, 'validate_view': 0, 'study_star': 0, 'study_report_view': 0, 'study_comment_view': 0, 'study_share_share_code': 0, 'link_edit_pin': 0, 'group_edit': 1, 'viewer_config': '', 'study_field_customfield_ed171501-32d7-460d-9068-f8c9ae37f952': 'F', 'keyimage_view': 1, 'radreport_view_only_own': 0, 'study_audio_play': 0, 'study_audio_record': 0, 'study_field_patientid': 'F', 'study_field_study_description': 'F', 'study_share_email': 0, 'message_edit': 0, 'node_connect': 0, 'user_modify_notifications': 1, 'destination_search': 0, 'account_user_view': 1, 'customfield_edit': 0, 'study_push': 1, 'study_field_patient_birth_date': 'F', 'study_report_upload_unapproved': 1, 'filter_share': 0, 'study_edit_unapproved': 1, 'study_report_hl7_view_approved': 1, 'study_report_hl7_view': 0, 'account_user_invite': 1, 'study_view': 1, 'study_download_iso': 0, 'study_report_delete_unapproved': 1, 'analytics_view': 1, 'study_status_edit': 1, 'study_share_rsna': 0, 'radreport_html_format': 1, 'study_freeze': 0, 'link_edit': 0, 'destination_view': 0, 'case_view_only_own': 0, 'role_edit': 0, 'study_merge': 0, 'location_view': 1, 'study_share_account': 0, 'case_delete': 0, 'user_edit': 1, 'study_delete': 1, 'user_modify_others_notifications': 0, 'meeting_view': 0, 'study_report_delete_approved': 0, 'study_move': 0, 'hl7_template_edit': 0, 'can_proxy_login': 0, 'study_delete_image': 1, 'study_share_user': 0, 'study_approve': 1, 'appointment_view_only_own': 0, 'patient_edit': 0, 'namespace_question': 0, 'study_report_view_approved': 1, 'study_field_customfield_ba7aef15-af21-4523-9af3-16cf54913dc4': 'O', 'customcode_deploy': 0, 'node_view': 0, 'account_view': 1, 'study_report_delete': 1, 'study_timing_view': 0, 'study_search_require_accession_number': 0, 'customcode_view': 0, 'study_manual_route': 0, 'annotation_edit': 1, 'annotation_view': 1, 'study_search_require_patientid': 0, 'hl7_template_view': 0, 'study_browse': 1, 'study_split': 0, 'study_share_location': 0, 'study_status_manual_edit': 1, 'destination_search_mwl': 0, 'study_share_group': 1, 'study_report_view_unapproved': 0, 'study_tag': 0, 'meeting_edit': 0, 'channel_activity': 1, 'location_edit': 0, 'study_field_modality': 'F', 'order_edit': 0, 'study_sync': 1, 'user_modify_others_email': 0, 'study_field_accession_number': 'F', 'study_share': 1, 'study_field_customfield_22fd4222-f387-4938-a622-ebed9bc63b97': 'F', 'link_view': 0, 'hl7_message_delete': 0, 'appointment_edit': 0, 'order_view': 0, 'study_comment_edit': 0, 'route_edit': 0, 'message_view': 0, 'node_approve_connect': 0, 'webhook_view': 0, 'destination_edit': 0, 'study_edit': 1, 'case_edit': 0, 'case_view': 0, 'study_report_detail': 1, 'study_duplicate': 0, 'study_field_patient_name': 'F', 'study_search_require_patient_birth_date': 0, 'validate_edit': 0, 'account_user_edit': 1, 'study_field_study_date': 'F', 'channel_study': 1, 'customfield_view': 1, 'case_edit_only_own': 0, 'audit_view': 1, 'radreport_edit': 1, 'hl7_message_view': 0, 'user_request_access': 0}, 'study_status_tags': ['Ready to be Read', 'Completed'], 'patient_current_location': None, 'accession_number': '', 'patient_ethnic_group': None, 'is_dicom_wrapped': 0, 'size': '112400942', 'patient_mother_birthname': None, 'local_storage_vm': None, 'modality': 'MR', 'study_push_status': [], 'patient_occupation': None, 'viewer_link': 'https://access.dicomgrid.com/viewer/#study/c467600d-889f-409a-8475-48a6177ec727/1.2.840.114350.2.535.2.798268.2.257865531.1/c467600d-889f-409a-8475-48a6177ec727', 'referring_physician': '', 'engine_fqdn': 'storelpp51.dicomgrid.com', 'must_approve': 1, 'hl7': [], 'patientid_other': '', 'source_ae_title': None, 'customfields': [{'name': 'Site Number', 'type': 'number', 'options': '{\"values\":[\"\"],\"show_when\":{},\"validate\":\"\",\"validate_error\":\"\",\"hint\":\"\",\"max_length\":\"\",\"field_label\":\"\",\"admin_only\":\"\",\"search_source\":\"\"}', 'uuid': 'ba7aef15-af21-4523-9af3-16cf54913dc4', 'value': '25', 'required': 0}, {'uuid': 'ed171501-32d7-460d-9068-f8c9ae37f952', 'required': 1, 'value': '25-415184', 'type': 'text', 'name': 'Subject Number', 'options': '{\"values\":[],\"suggested_values\":[],\"hint_values\":[],\"show_when\":{},\"validate\":\"/^\\\\\\\\d{2}-\\\\\\\\d{6}$/\",\"validate_error\":\"Must be in format 00-000000\",\"hint\":\"Subject number is 8 digits, 2 digit site number and a 6 digit subject number, separated by a hyphen\",\"max_length\":\"\",\"field_label\":\"\",\"admin_only\":\"\",\"search_source\":\"\"}'}, {'type': 'memo', 'name': 'Comments', 'options': '{\"values\":[\"\"],\"show_when\":{},\"validate\":\"\",\"validate_error\":\"\",\"hint\":\"Please enter any deviations here.\",\"max_length\":\"\",\"field_label\":\"\",\"admin_only\":\"\",\"search_source\":\"\"}', 'uuid': '22fd4222-f387-4938-a622-ebed9bc63b97', 'required': 0, 'value': ''}, {'type': 'text', 'name': 'reject_message', 'options': '{\"values\":[\"\"],\"show_when\":{},\"validate\":\"\",\"validate_error\":\"\",\"hint\":\"\",\"max_length\":\"\",\"field_label\":\"\",\"admin_only\":\"\",\"search_source\":\"\"}', 'uuid': '2c1d145e-d4ec-4ac1-8806-c80f1003bb23', 'required': 0, 'value': ''}], 'thin': 0, 'attachment_count': 0, 'destination_ae_title': None, 'is_locked': 0, 'patient_birth_date': ''}\n",
      "approval_reason U\n",
      "uuid 213ac4da-702c-4efb-ae64-95930c354cdb\n",
      "share_message \n",
      "created_by Lauren Grobois\n",
      "study_id 34a5bd61-1332-4284-9613-76389799502a\n",
      "namespace_id c467600d-889f-409a-8475-48a6177ec727\n"
     ]
    }
   ],
   "source": [
    "for key in activity.keys():\n",
    "    print(key, activity[key])"
   ]
  },
  {
   "cell_type": "markdown",
   "metadata": {},
   "source": [
    "# Analytics"
   ]
  },
  {
   "cell_type": "code",
   "execution_count": 81,
   "metadata": {},
   "outputs": [],
   "source": [
    "#study\n",
    "study_analytics = api.Analytics.study(count=7, period='day', account_id=rose_account_uuid).get()"
   ]
  },
  {
   "cell_type": "code",
   "execution_count": 82,
   "metadata": {},
   "outputs": [
    {
     "data": {
      "text/plain": [
       "<Box: {'current': '2020-11-17 05:40:06.586775-07', 'periods': [{'study_download': None, 'study_auto_approve': None, 'study_delete': None, 'start': '2020-11-11', 'study_create_copy': None, 'study_create_harvest': None, 'end': '2020-11-11', 'study_approve': None, 'study_view': None, 'study_create_share': None, 'study_create_upload': None, 'study_create': None, 'study_push': None, 'study_report_view': None, 'study_share_in': None, 'label': '11/11/20', 'study_share_out': None}, {'study_push': '0', 'study_report_view': '0', 'study_share_in': '2', 'label': '11/12/20', 'study_share_out': '2', 'study_auto_approve': '0', 'study_download': '0', 'study_delete': '0', 'start': '2020-11-12', 'study_create_copy': '0', 'study_create_harvest': '1', 'end': '2020-11-12', 'study_approve': '0', 'study_view': '4', 'study_create_share': '1', 'study_create_upload': '0', 'study_create': '2'}, {'start': '2020-11-13', 'study_delete': '0', 'study_download': '0', 'study_auto_approve': '0', 'study_view': '0', 'study_create_upload': '0', 'study_create': '4', 'study_create_share': '4', 'end': '2020-11-13', 'study_approve': '1', 'study_create_copy': '0', 'study_create_harvest': '0', 'study_push': '0', 'study_report_view': '0', 'study_share_in': '5', 'study_share_out': '5', 'label': '11/13/20'}, {'study_report_view': None, 'study_share_in': None, 'study_push': None, 'label': '11/14/20', 'study_share_out': None, 'study_download': None, 'study_auto_approve': None, 'study_delete': None, 'start': '2020-11-14', 'study_create_harvest': None, 'study_create_copy': None, 'end': '2020-11-14', 'study_approve': None, 'study_create_share': None, 'study_create': None, 'study_create_upload': None, 'study_view': None}, {'study_create_share': None, 'study_create': None, 'study_create_upload': None, 'study_view': None, 'study_create_copy': None, 'study_create_harvest': None, 'study_approve': None, 'end': '2020-11-15', 'study_delete': None, 'start': '2020-11-15', 'study_auto_approve': None, 'study_download': None, 'label': '11/15/20', 'study_share_out': None, 'study_share_in': None, 'study_report_view': None, 'study_push': None}, {'study_view': '0', 'study_create_share': '0', 'study_create': '0', 'study_create_upload': '0', 'study_create_copy': '0', 'study_create_harvest': '0', 'end': '2020-11-16', 'study_approve': '0', 'study_delete': '0', 'start': '2020-11-16', 'study_auto_approve': '0', 'study_download': '11', 'label': '11/16/20', 'study_share_out': '0', 'study_push': '0', 'study_report_view': '0', 'study_share_in': '0'}, {'label': '11/17/20', 'study_share_out': None, 'study_share_in': None, 'study_report_view': None, 'study_push': None, 'study_create_share': None, 'study_create_upload': None, 'study_create': None, 'study_view': None, 'study_create_copy': None, 'study_create_harvest': None, 'study_approve': None, 'end': '2020-11-17', 'study_delete': None, 'start': '2020-11-17', 'study_download': None, 'study_auto_approve': None}]}>"
      ]
     },
     "execution_count": 82,
     "metadata": {},
     "output_type": "execute_result"
    }
   ],
   "source": [
    "study_analytics"
   ]
  },
  {
   "cell_type": "code",
   "execution_count": 83,
   "metadata": {},
   "outputs": [
    {
     "data": {
      "text/plain": [
       "<Box: {'current': '2020-11-17 05:44:54.166858-07', 'periods': [{'radreport_report_generated': None, 'radreport_create': None, 'label': '11/11/20', 'radreport_delete': None, 'start': '2020-11-11', 'radreport_signed': None, 'end': '2020-11-11', 'users': [], 'namespaces': []}, {'users': [], 'namespaces': [], 'end': '2020-11-12', 'radreport_signed': None, 'start': '2020-11-12', 'radreport_delete': None, 'label': '11/12/20', 'radreport_create': None, 'radreport_report_generated': None}, {'namespaces': [], 'users': [], 'end': '2020-11-13', 'radreport_signed': None, 'start': '2020-11-13', 'radreport_delete': None, 'label': '11/13/20', 'radreport_create': None, 'radreport_report_generated': None}, {'users': [], 'namespaces': [], 'end': '2020-11-14', 'radreport_signed': None, 'start': '2020-11-14', 'radreport_delete': None, 'label': '11/14/20', 'radreport_create': None, 'radreport_report_generated': None}, {'radreport_signed': None, 'namespaces': [], 'users': [], 'end': '2020-11-15', 'radreport_create': None, 'radreport_report_generated': None, 'start': '2020-11-15', 'radreport_delete': None, 'label': '11/15/20'}, {'label': '11/16/20', 'start': '2020-11-16', 'radreport_delete': None, 'radreport_create': None, 'radreport_report_generated': None, 'end': '2020-11-16', 'users': [], 'namespaces': [], 'radreport_signed': None}, {'radreport_delete': None, 'start': '2020-11-17', 'label': '11/17/20', 'radreport_report_generated': None, 'radreport_create': None, 'users': [], 'namespaces': [], 'end': '2020-11-17', 'radreport_signed': None}]}>"
      ]
     },
     "execution_count": 83,
     "metadata": {},
     "output_type": "execute_result"
    }
   ],
   "source": [
    "# Radiology report\n",
    "api.Analytics.radreport(rose_account_uuid, count=7, period='day').get()"
   ]
  },
  {
   "cell_type": "code",
   "execution_count": 84,
   "metadata": {},
   "outputs": [
    {
     "data": {
      "text/plain": [
       "<Box: {'periods': [{'end': '2020-11-11', 'study_approve': None, 'users': [], 'study_view': None, 'label': '11/11/20', 'study_upload_epic': None, 'start': '2020-11-11', 'study_reject': None, 'namespaces': []}, {'study_upload_epic': '0', 'start': '2020-11-12', 'namespaces': [{'name': 'Columbia University - Site 25', 'id': 'c467600d-889f-409a-8475-48a6177ec727'}, {'id': 'bfa3b0c6-e029-483c-b653-7b79e10d38cb', 'name': 'Clinical'}, {'id': 'e754aaaf-b7bd-4756-9e14-926c007915dc', 'name': 'UC Scanners / PACS Studies'}], 'study_reject': '0', 'study_approve': '0', 'end': '2020-11-12', 'users': [{'id': 'f45a9878-afe5-4f8b-8bf0-68f7e2369197', 'name': 'Vivek Khandwala'}], 'study_view': '4', 'label': '11/12/20'}, {'namespaces': [{'id': '61681e88-8ddc-4c17-bcf2-3fb622324ed0', 'name': 'All Approved Studies'}], 'study_reject': '0', 'start': '2020-11-13', 'study_upload_epic': '0', 'label': '11/13/20', 'study_view': '0', 'users': [{'id': 'f4af4f96-bab2-4435-b285-4efc72189d8d', 'name': 'Tyler Behymer'}], 'end': '2020-11-13', 'study_approve': '1'}, {'study_reject': None, 'namespaces': [], 'start': '2020-11-14', 'study_upload_epic': None, 'label': '11/14/20', 'study_view': None, 'users': [], 'end': '2020-11-14', 'study_approve': None}, {'start': '2020-11-15', 'study_reject': None, 'namespaces': [], 'study_upload_epic': None, 'study_view': None, 'label': '11/15/20', 'end': '2020-11-15', 'study_approve': None, 'users': []}, {'study_upload_epic': None, 'study_reject': None, 'namespaces': [], 'start': '2020-11-16', 'users': [], 'end': '2020-11-16', 'study_approve': None, 'label': '11/16/20', 'study_view': None}, {'study_upload_epic': None, 'start': '2020-11-17', 'study_reject': None, 'namespaces': [], 'end': '2020-11-17', 'study_approve': None, 'users': [], 'study_view': None, 'label': '11/17/20'}], 'current': '2020-11-17 05:44:54.166858-07'}>"
      ]
     },
     "execution_count": 84,
     "metadata": {},
     "output_type": "execute_result"
    }
   ],
   "source": [
    "# User report\n",
    "api.Analytics.user(rose_account_uuid, count=7, period='day').get()"
   ]
  },
  {
   "cell_type": "code",
   "execution_count": null,
   "metadata": {},
   "outputs": [],
   "source": []
  },
  {
   "cell_type": "markdown",
   "metadata": {},
   "source": [
    "# Annotations"
   ]
  },
  {
   "cell_type": "code",
   "execution_count": 86,
   "metadata": {},
   "outputs": [],
   "source": [
    "this_Study = api.Study.list().first()"
   ]
  },
  {
   "cell_type": "code",
   "execution_count": 89,
   "metadata": {},
   "outputs": [
    {
     "data": {
      "text/plain": [
       "'8b9e4ff6-d7c7-43e5-8f30-6de20b993d3a'"
      ]
     },
     "execution_count": 89,
     "metadata": {},
     "output_type": "execute_result"
    }
   ],
   "source": [
    "this_Study.uuid"
   ]
  },
  {
   "cell_type": "code",
   "execution_count": 92,
   "metadata": {},
   "outputs": [],
   "source": [
    "#Does this study just not have any annotations???\n",
    "#api.Annotation.list(study_uid=this_Study.uuid, phi_namespace=this_Study.phi_namespace, storage_namespace=this_Study.storage_namespace).get()"
   ]
  },
  {
   "cell_type": "code",
   "execution_count": null,
   "metadata": {},
   "outputs": [],
   "source": []
  },
  {
   "cell_type": "code",
   "execution_count": null,
   "metadata": {},
   "outputs": [],
   "source": []
  },
  {
   "cell_type": "markdown",
   "metadata": {},
   "source": [
    "# Routes"
   ]
  },
  {
   "cell_type": "code",
   "execution_count": 103,
   "metadata": {},
   "outputs": [],
   "source": [
    "routes = api.Route.list(rose_account_uuid).all()\n",
    "#route = api.Route.list(rose_account_uuid).first()"
   ]
  },
  {
   "cell_type": "code",
   "execution_count": 106,
   "metadata": {},
   "outputs": [],
   "source": [
    "# I do not have permission to view this\n",
    "# for route in routes:\n",
    "#     print(route)"
   ]
  },
  {
   "cell_type": "markdown",
   "metadata": {},
   "source": [
    "# Radreport "
   ]
  },
  {
   "cell_type": "code",
   "execution_count": 93,
   "metadata": {},
   "outputs": [
    {
     "data": {
      "text/plain": [
       "<BoxList: []>"
      ]
     },
     "execution_count": 93,
     "metadata": {},
     "output_type": "execute_result"
    }
   ],
   "source": [
    "this_Study.radreports"
   ]
  },
  {
   "cell_type": "code",
   "execution_count": null,
   "metadata": {},
   "outputs": [],
   "source": [
    "api.Radreport.get"
   ]
  },
  {
   "cell_type": "code",
   "execution_count": null,
   "metadata": {},
   "outputs": [],
   "source": []
  },
  {
   "cell_type": "code",
   "execution_count": 121,
   "metadata": {},
   "outputs": [
    {
     "name": "stdout",
     "output_type": "stream",
     "text": [
      "21-394546 CT\n",
      "21-394546 CT\n",
      "21-394546 MR\n",
      "21-394546 MR\n",
      "21-394546 MR\n",
      "21-394546 MR\n",
      "21-394546 MR\n"
     ]
    }
   ],
   "source": [
    "patient_id = '21-394546'\n",
    "\n",
    "studies = api.Study.list()\\\n",
    ".filter_by(Filter('phi_namespace', FilterCondition.equals, uc_namespace_id))\\\n",
    ".filter_by(Filter('patientid', FilterCondition.equals, patient_id)).all()\n",
    "\n",
    "for this_study in studies:\n",
    "    print(this_study.patientid, this_study.modality)\n",
    "\n"
   ]
  },
  {
   "cell_type": "code",
   "execution_count": null,
   "metadata": {},
   "outputs": [],
   "source": []
  },
  {
   "cell_type": "code",
   "execution_count": null,
   "metadata": {},
   "outputs": [],
   "source": [
    "fir"
   ]
  }
 ],
 "metadata": {
  "kernelspec": {
   "display_name": "Python 3",
   "language": "python",
   "name": "python3"
  },
  "language_info": {
   "codemirror_mode": {
    "name": "ipython",
    "version": 3
   },
   "file_extension": ".py",
   "mimetype": "text/x-python",
   "name": "python",
   "nbconvert_exporter": "python",
   "pygments_lexer": "ipython3",
   "version": "3.7.6"
  }
 },
 "nbformat": 4,
 "nbformat_minor": 4
}
