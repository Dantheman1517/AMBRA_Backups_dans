{
 "cells": [
  {
   "cell_type": "code",
   "execution_count": 1,
   "metadata": {},
   "outputs": [],
   "source": [
    "from pathlib import Path\n",
    "import json\n",
    "\n",
    "from ambra_sdk.api import Api\n",
    "from ambra_sdk.models import Study\n",
    "from ambra_sdk.service.filtering import Filter, FilterCondition\n",
    "from ambra_sdk.service.sorting import Sorter, SortingOrder\n",
    "\n",
    "import ipywidgets as wdg\n",
    "from IPython.display import display"
   ]
  },
  {
   "cell_type": "markdown",
   "metadata": {},
   "source": [
    "# Login"
   ]
  },
  {
   "cell_type": "code",
   "execution_count": 2,
   "metadata": {},
   "outputs": [],
   "source": [
    "url = 'https://access.dicomgrid.com/api/v3'\n",
    "# service_url = 'https://uchealth.ambrahealth.com/api/v3/bundle'"
   ]
  },
  {
   "cell_type": "code",
   "execution_count": 3,
   "metadata": {},
   "outputs": [
    {
     "data": {
      "application/vnd.jupyter.widget-view+json": {
       "model_id": "55d56d20def346379497c069a9d7c538",
       "version_major": 2,
       "version_minor": 0
      },
      "text/plain": [
       "VBox(children=(Text(value='thomas.maloney@cchmc.org', placeholder='Username'), Password(placeholder='Password'…"
      ]
     },
     "metadata": {},
     "output_type": "display_data"
    }
   ],
   "source": [
    "uname_wdg = wdg.Text(placeholder='Username', value='thomas.maloney@cchmc.org')\n",
    "pwd_wdg = wdg.Password(placeholder='Password')\n",
    "\n",
    "login_box = wdg.VBox([uname_wdg, pwd_wdg])\n",
    "\n",
    "display(login_box)"
   ]
  },
  {
   "cell_type": "code",
   "execution_count": 4,
   "metadata": {},
   "outputs": [],
   "source": [
    "username = uname_wdg.value\n",
    "user_pwd = pwd_wdg.value\n",
    "\n",
    "api = Api.with_creds(url, username, user_pwd)\n",
    "# service_api = Api.with_creds(service_url, username, user_pwd)"
   ]
  },
  {
   "cell_type": "markdown",
   "metadata": {},
   "source": [
    "# User info"
   ]
  },
  {
   "cell_type": "code",
   "execution_count": 5,
   "metadata": {},
   "outputs": [],
   "source": [
    "user_info = api.Session.user().get()"
   ]
  },
  {
   "cell_type": "code",
   "execution_count": 6,
   "metadata": {},
   "outputs": [
    {
     "data": {
      "text/plain": [
       "'malonetc@ucmail.uc.edu'"
      ]
     },
     "execution_count": 6,
     "metadata": {},
     "output_type": "execute_result"
    }
   ],
   "source": [
    "user_info.email"
   ]
  },
  {
   "cell_type": "code",
   "execution_count": 7,
   "metadata": {},
   "outputs": [
    {
     "name": "stdout",
     "output_type": "stream",
     "text": [
      "event_harvest\t0\n",
      "pin_required\t0\n",
      "session_expire\t30\n",
      "event_link_mine\t1\n",
      "event_upload\t0\n",
      "support\t0\n",
      "email\tmalonetc@ucmail.uc.edu\n",
      "event_status_change\t0\n",
      "namespace_id\t6ee6c8db-658f-4a9c-8ac9-a1fb181663f4\n",
      "npi\tNone\n",
      "name\tThomas Maloney\n",
      "time_zone\tNone\n",
      "event_case_assignment\t1\n",
      "namespaces\n",
      "\t{'uuid': '71af8568-3454-4138-9e73-9fb0ef6da014', 'name': 'ROSE'}\n",
      "\t{'name': 'APRISE', 'uuid': '99b7b25e-b13a-44db-bc74-3ad9e462ea50'}\n",
      "\t{'uuid': '2d2dad80-4df2-4d39-83e3-77cd9bb8cedc', 'name': 'UC Health Inbound Studies'}\n",
      "\t{'name': 'TriHealth Inbound Studies', 'uuid': '79e1b0f9-53d8-4557-865a-8a65729255de'}\n",
      "\t{'uuid': 'b37b5c5a-769a-4c6b-9850-c93e529cf547', 'name': 'The Christ Hospital Inbound Studies'}\n",
      "\t{'name': 'St. Elizabeth Inbound Studies', 'uuid': 'a24aa6c0-dd20-436b-8f70-5637e2b85082'}\n",
      "\t{'name': 'Mercy Health Inbound Studies', 'uuid': '89c506c1-243f-41c2-8132-fee8aa0de19f'}\n",
      "\t{'uuid': 'f7dfdc97-947f-417b-9d07-e1ec4526595b', 'name': 'Activities Queue Group'}\n",
      "\t{'uuid': '7c7907be-8d0b-48b9-9080-32aa01c89c7a', 'name': '1 - Not Ready'}\n",
      "\t{'name': '2 - Reader Assignment', 'uuid': '07570f41-1bd7-4739-b9c9-8a937f76d5ef'}\n",
      "\t{'uuid': '8aa8af62-d8e2-48cb-a5db-c7730590c0bd', 'name': 'Dr. Vagal'}\n",
      "\t{'uuid': 'bde69b9f-d00e-40d0-80a2-fbcc5381e846', 'name': 'Dr. Thomas Tomsick'}\n",
      "\t{'uuid': 'fdc19f19-a934-45ef-aa16-9fd7a9341d46', 'name': 'Dr. Lily Wang'}\n",
      "\t{'name': 'Assign to All Readers for Interreader Variability', 'uuid': 'c7a02ec0-75de-4dc1-a89b-8f0920e8672e'}\n",
      "\t{'uuid': '3f2342b6-adc2-45ba-b05a-013b82257f4d', 'name': 'Dr. Mary Gaskill-Shipley'}\n",
      "\t{'uuid': '2e005da7-ce5b-47cb-827c-45767fd93d1f', 'name': 'Dr. Rebecca Cornelius'}\n",
      "\t{'uuid': '856527fd-f25d-43fe-bece-39b312fcdc00', 'name': '3 - Assigned Studies'}\n",
      "\t{'name': 'University of Cincinnati - Site 21', 'uuid': '74c3e511-2dcd-4c49-9e83-863094fc84fa'}\n",
      "\t{'name': 'University of Maryland - Site 22', 'uuid': '6a12ea90-3f3b-4223-a691-9ab3669c65ba'}\n",
      "\t{'name': 'MGH - Site 23', 'uuid': '8e6248b7-75b7-4003-ba0c-c98fc983ac7b'}\n",
      "\t{'name': 'Duke University - Site 24', 'uuid': '7aa008ef-303b-4333-bb48-e5c38708b422'}\n",
      "\t{'uuid': 'c467600d-889f-409a-8475-48a6177ec727', 'name': 'Columbia University - Site 25'}\n",
      "\t{'uuid': '722134e8-83f9-496d-a0a9-b4de2ba8b1b1', 'name': 'UIC - Site 26'}\n",
      "\t{'name': 'All Approved Studies', 'uuid': '61681e88-8ddc-4c17-bcf2-3fb622324ed0'}\n",
      "\t{'name': 'Rejected Studies', 'uuid': '435a5a3d-fdd5-4e25-b8bb-be945bf0318b'}\n",
      "\t{'uuid': 'd0ec481b-25e6-4bae-9b6d-c49e8bbef42e', 'name': 'Temp - for reassignment'}\n",
      "\t{'name': 'IRSD', 'uuid': '5878a639-1797-4527-b9e9-2aae4cbee4dd'}\n",
      "\t{'name': 'Clinical', 'uuid': 'bfa3b0c6-e029-483c-b653-7b79e10d38cb'}\n",
      "\t{'uuid': '40471b80-9658-4bf3-b14d-3f00b35f548d', 'name': 'DTI'}\n",
      "\t{'name': 'Volumetric', 'uuid': '5675e7be-a358-418a-ac1e-9e0f7cf8b3dd'}\n",
      "\t{'name': 'UC Scanners / PACS Studies', 'uuid': 'e754aaaf-b7bd-4756-9e14-926c007915dc'}\n",
      "\t{'name': 'UC Research Clearinghouse', 'uuid': 'd7d8d7ff-c6b8-49f2-9af8-78f5ad8270f0'}\n",
      "\t{'name': 'Inbound studies', 'uuid': '5ed4e139-487e-47f4-b6f9-01fd3dff0a14'}\n",
      "\t{'uuid': '01928629-f1e8-449a-9efd-14870ba4566f', 'name': 'Fix Up Group'}\n",
      "\t{'name': 'Anonymize Images', 'uuid': 'a41e4c2e-2012-470b-835b-dcae1abac4d4'}\n",
      "\t{'uuid': '60f2384d-b4b6-4468-8205-e2fd210e679d', 'name': '4 - Completed Studies'}\n",
      "\t{'name': '5 - Excluded Studies', 'uuid': 'f889ff87-a4cc-4f3d-8398-fe259095e789'}\n",
      "\t{'uuid': 'fb792ca0-c032-4c10-bfa9-dacaa1e28ea6', 'name': 'SENSE'}\n",
      "\t{'name': 'AI-BAC', 'uuid': 'be5cc873-1fb6-4cc0-99d6-c692359dae14'}\n",
      "\t{'name': '1 - Not Ready', 'uuid': '08e326aa-09e2-4532-ac01-7494aadc324a'}\n",
      "\t{'uuid': '62e31554-b883-43e3-a16a-22efba1162c4', 'name': '2 - Assigned Studies'}\n",
      "\t{'uuid': 'fa206b7f-5d0f-4d51-8d3d-41ab94cef099', 'name': '3 - Completed Studies'}\n",
      "\t{'uuid': 'da5565f2-653e-4f3b-8f14-428f7eb04825', 'name': '4 - Excluded Studies'}\n",
      "\t{'uuid': '2e529d7a-feee-404c-809c-cd0abf5e4f04', 'name': '(REMOVE) - Activities Queue Group'}\n",
      "\t{'name': 'Site 00 - University of Cincinnati', 'uuid': 'bc227913-4214-4e68-9802-a2c2cf753cf2'}\n",
      "\t{'name': 'Reader 2', 'uuid': '92ee7dec-ad0c-430c-8a8e-31f2edc95e4a'}\n",
      "\t{'uuid': '11c9efd2-9f69-4f9a-804d-8b83af655459', 'name': 'Reader 1'}\n",
      "\t{'uuid': 'b4c5b5e3-9702-4947-a228-4e3b64ed0c21', 'name': 'Baptist Health Louisville - Site 27'}\n",
      "\t{'name': '1 - Not Annotated', 'uuid': 'fe241128-5b73-487a-90d5-a281ea739859'}\n",
      "\t{'uuid': 'b1f05dd6-fce3-4b3e-8602-c8d76439b33c', 'name': 'DELETE - Activities Queue Group'}\n",
      "\t{'name': '2 - Completed Studies', 'uuid': '8b902645-1004-48f6-bf96-6dbf06ef0870'}\n",
      "\t{'uuid': '7533321c-0dc2-45cd-b064-e0904b335bf1', 'name': 'Dr. David Wang'}\n",
      "\t{'uuid': '29fd81c7-8805-49ee-a37f-2b2e81782019', 'name': 'Site 01 - Grady'}\n",
      "\t{'name': 'Site 02 - Emory', 'uuid': '466e9e96-0f85-44e8-8492-a62e1a6be3ec'}\n",
      "\t{'name': 'Safety Monitor(s)', 'uuid': '55586b65-207b-48df-8d71-f90ed2e7afdc'}\n",
      "\t{'name': 'Genexia Data Push Group', 'uuid': 'fb21ab37-8823-4c0e-9f6b-40ee34015258'}\n",
      "\t{'name': 'Thomas Maloney', 'uuid': '6ee6c8db-658f-4a9c-8ac9-a1fb181663f4'}\n",
      "event_new_report\t1\n",
      "mobile_phone\tNone\n",
      "uuid\tda1c9cf8-bdab-4edc-a62a-28b5d4aaa230\n",
      "last_login\t2020-11-10 12:25:55.681483-07\n",
      "indicator_md5\ta5e0b188e12751cbd33af55827d1cd7feb98af11\n",
      "event_upload_fail\t0\n",
      "sid_md5\t43cb7eadb7d69443a30e058d6204e785\n",
      "event_thin_study_fail\t1\n",
      "share_description\tNone\n",
      "event_message\t0\n",
      "event_share\t1\n",
      "event_link\t0\n",
      "event_study_comment\t0\n",
      "share_code\tNone\n",
      "privacy_md5\teffd9dcdec74b466f47207311d8b2b0ea1917590\n",
      "last\tMaloney\n",
      "is_anonymous\t0\n",
      "event_approve\t0\n",
      "terms_md5\t3672ae8a9ba3e3dcd1399a0a4af4671c0623af3b\n",
      "event_thin_study_success\t1\n",
      "event_report_remove\t0\n",
      "accelerator_used\t0\n",
      "first\tThomas\n",
      "sysadmin\t0\n",
      "ui_json\tNone\n"
     ]
    }
   ],
   "source": [
    "for key in user_info.keys():\n",
    "    value = user_info[key]\n",
    "    if isinstance(value, dict):\n",
    "        print(f'{key}')\n",
    "        for vkey in value:\n",
    "            vvalue = value[vkey]\n",
    "            print(f'\\t{vkey}\\t{vvalue}')\n",
    "    if isinstance(value, list):\n",
    "        print(f'{key}')\n",
    "        for item in value:\n",
    "            print(f'\\t{item}')\n",
    "    else:\n",
    "        print(f'{key}\\t{value}')"
   ]
  },
  {
   "cell_type": "markdown",
   "metadata": {},
   "source": [
    "# Account info\n",
    "Account refers to a particular study"
   ]
  },
  {
   "cell_type": "code",
   "execution_count": 41,
   "metadata": {
    "scrolled": false
   },
   "outputs": [
    {
     "name": "stdout",
     "output_type": "stream",
     "text": [
      "share_settings\t{\"prompt_card_owner_name\":0,\"autoAttachFileTypes\":[]}\n",
      "can_request\t0\n",
      "search_threshold\t1000\n",
      "password_expire\t90\n",
      "must_approve_move\t0\n",
      "css\tNone\n",
      "role_id\tNone\n",
      "share_description\t\n",
      "hl7_template\t\n",
      "settings\t{'include_mapped_custom_fields_from_storage_ns': '0', 'enable_dicom_deidentification': '0', 'saml_sync_on_create_only': '0', 'study_status_tags_attributes': '{\\n    \"defaults\": {\\n        \"upperCaseFirst\": 1,\\n        \"oneReportPerStudy\": 0,\\n        \"staticModalDialog\": 0,\\n        \"disableImportTemplate\": 0,\\n        \"availableReports\": [\\n            \"DG0000112\",\\n            \"DG0000113\",\\n            \"UC00001\"\\n        ],\\n        \"template\": \"UC00001\"\\n    },\\n    \"buttons\": {\\n        \"default\": [\\n            {\\n                \"label\": \"Save\",\\n                \"clickAction\": \"save\"\\n            },\\n            {\\n                \"label\": \"Close\",\\n                \"clickAction\": \"save-close\"\\n            },\\n            {\\n                \"label\": \"Save and Approve\",\\n                \"clickAction\": \"save-approve-close\",\\n                \"fileName\": \"{{PatientId}}\"\\n            }\\n        ]\\n    },\\n    \"report-formLoaded\": {\\n        \"all\": [\\n            {\\n                \"action\": \"open-viewer\"\\n            },\\n            {\\n                \"action\": \"hidePreview\"\\n            },\\n            {\\n                \"action\": \"changeElementAttribute\",\\n                \"selector\": \"#report-body table\",\\n                \"attribute\": \"style\",\\n                \"val\": \"font-family: sans-serif; color:black; font-size: large;\"\\n            }\\n        ]\\n    },\\n    \"report-formSaved\": {\\n        \"all\": [\\n            {\\n                \"action\": \"close-viewer\"\\n            }\\n        ]\\n    },\\n    \"study-statusChanged\": {\\n        \"Completed\": [\\n            {\\n                \"action\": \"generatePatientCSV\",\\n                \"fileName\": \"{{PatientId}} by {{USERNAME}}\"\\n            }\\n        ]\\n    }\\n}', 'show_study_copy_push_status': 0, 'work_hour_matrix': 0, 'upload_one_study': '0', 'allow_drag_and_drop_in_study_uploader': 0, 'include_patientid_other_in_hl7_match': '0', 'ai_bodypart_abdomen_chest_pelvis': '', 'enable_masshiway': '0', 'viewer_multiframe_split_method': '0', 'orders_from_hl7_adt': '0', 'update_study_source_on_notify': '0', 'must_approve_duplicate_study_uid': 0, 'auto_wrap_images': '0', 'include_manual_orders_in_study_find_order': 0, 'epic_upload_match': '', 'viewer_store_extra_annotation_data': '0', 'saml_saasid': '', 'upload_select_none': '0', 'faq_text': '', 'viewer_show_reports': '1', 'max_match_study_hl7': '100', 'ignore_blank_accession_number': '0', 'study_status_timer_attributes': '[]', 'create_thin_study_from_oru': '0', 'study_search_modifiers': '', 'viewer_default_drop_shape_width': '0', 'ai_ocr_study_images_google_vision': '', 'dicom_deidentification_at_ingress': '1', 'homepage_links': '[]', 'ai_delete_scanned_docs': '', 'radreport_sign': '', 'patients_from_hl7': '', 'link_sticky_anon_users': 0, 'study_search_require_regexp': '', 'athena_orders_filter': '', 'exclude_load_dicom_tag': '1', 'customcode_accounts': '', 'case_notify_completed': '', 'login_location': '', 'enable_dicom_tag_customfields': '0', 'report_view_phr_delay': '0', 'viewer_show_priors_worklist_only': '0', 'update_all_studies': '', 'patient_unique_email_phone': '0', 'disable_link_session': '0', 'hl7_fetch_filter': '', 'link_external_whitelist': '', 'exclude_from_ai_share': '0', 'study_status_singleton_tags': '', 'enable_v2_viewer': '0', 'viewer3_config': '', 'helpscout_beacon_id': '', 'ai_delete_duplicate_images': '', 'study_status_timer': '0', 'viewer_diagnostic_quality': '0', 'disable_mobile_dicom_wrapping': '0', 'save_original_to_pre_anon_cf': 0, 'add_on_invite': '0', 'bypass_study_oversized_threshold': '1', 'other_manual_text': '', 'viewer_single_instance_series': '0', 'audit_failed_logins': '0', 'study_edit_reason': '0', 'use_link_on_patient_portal_share': '', 'request_join_on_vanity_registration': '0', 'enable_dicom_wrapping': '0', 'from_email_address': '', 'ignore_mrn_on_thin_retrieve': 0, 'render_wrapped_pdf': '0', 'include_mapped_custom_fields_from_last_share': '0', 'priority_notifications': '', 'show_hl7_report_physician_alias_regexp': '0', 'mwl_sending_facility_filter': '', 'sso_share_phr_workflow_options': '0', 'patients_from_hl7_adt': '', 'try_update_original_study': '', 'ui_json': '{\"internal_notes\":\"\",\"default_date_format\":\"\",\"always_show_advanced_search\":0,\"include_first_name_advanced_search\":0,\"add_study_dropdown_is_button\":0,\"allow_advanced_search_or\":0,\"download_studies_roche_format\":0,\"limit_query_retrieve_selected_namespace\":0,\"show_query_retrieve_create_study_create_thin\":0,\"study_edit_reason_per_field\":0,\"study_namespace_dropdown_hide_all\":0,\"create_thin_study_from_report\":0,\"enable_gateway_queue_status\":0,\"enable_viewer_v3\":0,\"default_destination_search_action\":\"\",\"view_study_button_action\":\"browse-study-new-tab\",\"user_setting_default-user_list_sort_study_list\":\"\",\"view_study_namespace_filter_types\":[],\"view_study_namespace_filter_types_role_id\":\"\",\"mwl_search_filters\":[],\"limit_gateway_status_queues\":[],\"view_study_dropdown_actions\":[]}', 'include_date_in_smart_search': '0', 'viewer_show_std_dev': '0', 'customfields_last_on_search': '0', 'cerner_patient_lookup_info': '', 'other_ingress_tags': '', 'namespace_child_study_defaults': '0', 'mwl_search_is_cfind': '0', 'viewer_enable_tap_navigation': '0', 'force_new_study_on_upload': 0, 'paypal_account': '', 'logout_url': '', 'report_from_hl7': '', 'auto_fill_patient_in_activity': '1', 'batch_encode_cine': '0', 'study_int_secret': '', 'study_view_phr_delay': '', 'ai_study_manual_route': '', 'send_oru_instead_of_orm': '0', 'enable_dicomdir_scan': '0', 'ip_whitelist': '', 'reencode_dicom_mp4': '0', 'viewer_hide_active_measurement_info': '0', 'account_hl7_map': '', 'show_radreport_in_all_namespaces': '0', 'probe_for_accelerator': '0', 'disable_external_viewer_for_links': '0', 'allow_phr_upload': '0', 'link_external_whitelist_all_links': 0, 'study_share_use_account_template': '0', 'epic_patient_lookup_info': '', 'refresh_data_on_reshare': '0', 'see_all_destination_search_in_activity': '0', 'study_share_email_confirm': '0', 'vanity_registration_customfields': 0, 'ai_anonymize_study_images_aws_rekognition': '', 'allow_multiple_use_of_orders': '0', 'sso_second_opinion_workflow': '0', 'set_phantom_on_reload': 0, 'load_ack_as_hl7': '0', 'add_oru_report_to_study': '0', 'sr_render_css': '', 'appointments_from_hl7_siu': '', 'single_file_dicom_wrapping': 0, 'ai_lookup_billing_code': '', 'allow_user_password_for_account_login': '0', 'include_patientid_in_hl7_match': '0', 'external_viewer': '', 'training_text': '', 'update_patients_from_hl7': '0', 'viewer_diagnostic_quality_always': '0', 'update_phi_syngo_match': '0', 'no_default_study_date_time': '0', 'mwl_filter_expression': '', 'patients_from_hl7_conditions': '', 'expose_patient_portal': 0, 'suppress_hl7_eom_sep': '0', 'study_status_role_tags': '', 'study_stat_filter': '', 'duplicate_study_check': '0', 'pin_auth_text': '', 'enable_order_lookup_in_approval': '0', 'orders_from_hl7': '0', 'reverse_patient_name': '0', 'include_adt_in_study_find_order': '0', 'link_external_referer': '', 'auto_transcode': 0, 'enable_thin_retrieve_in_patient_portal': '0', 'default_list_view': '', 'study_status_timer_suspensive_tags': '', 'ai_attach_scanned_docs_as_pdf': '', 'apply_settings_to_owned_phr': '0', 'link_first_study_only': '0', 'allow_portal_pin_to_dup_addresses': '0', 'group_local_pushes_by': 0, 'render_wrapped_avi': '0', 'logo_action': '', 'disable_sticky_phi': 0, 'customcode_can_share': '0', 'enable_radreport_attestation': '0', 'athena_subscribe_orders': '0', 'athena_unsolicited_namespace': '', 'anonymize_at_ingress': '1', 'query_retrieve_require_regexp_mwl': '', 'study_push_status': '1', 'is_ai': '0', 'viewer_hide_ruler': '0', 'ai_anonymize_study_images_google_dlp': '', 'sso_share_phr_workflow': '0', 'auto_update_patient_studies': '0', 'update_phi_hl7': '0', 'disable_user_days': '', 'ai_run_custom_code_namespace_scripts': '', 'radreport_branding_from_phi_namespace': '0', 'hide_help_tool': '0', 'passwd_regexp': '', 'enable_v3_viewer': 0, 'viewer_hide_thumbnails': '0', 'enable_link_charging': '0', 'enable_namespace_ai_questions': '', 'use_namespace_name_on_upload_request': '0', 'hide_patient_portal_email_regex': '', 'limit_query_retrieve_to_input_gateway': '0', 'render_wrapped_video': '0', 'case_notify_submitted': '', 'suppress_new_patient_share_event': '0', 'ai_anonymize_study_images': '', 'viewer_anon_annotations_clear': '0', 'epic_name_format': '', 'saml_redirect_url': '', 'suppress_new_report_event_in_phr_for_patients': 0, 'report_csv_download_concat': '1', 'create_thin_study_from_orm': '0', 'suppress_all_patient_emails': '0', 'search_qr': '', 'encapsulate_wrapped_pdf': 0, 'viewer_default_mouse_tool': 'Scroll', 'mrn_qr': '', 'upload_hold': '0', 'upload_event_on_study_sync': '0', 'viewer_enable_mpr': '0', 'login_json': '', 'enable_viewer_print': '1', 'enable_recaptcha': 0, 'mwl_filter_if_matching_study': '0', 'create_thin_study_from_hl7_data_map': '', 'appointments_from_hl7_adt': '', 'enable_patient_portal': '0', 'show_study_same_uid_push_status': 0, 'welcome_password_reset_token_ttl': 0, 'ai_detect_phi_in_study_images_google_dlp': '', 'ai_anonymize_study_images_tensorflow_east': '', 'max_link_studies': '100', 'compress_audio_recordings': '0', 'from_email_name': '', 'viewer_hide_thumbnails_datetime': '0', 'viewer_preload_diagnostic_images': '0', 'study_status_mutex_tags': '', 'enable_doximity_auth': '0', 'auto_transcode_modalities': '', 'auto_create_patient': '0', 'study_download_no_reports': '0', 'ai_search_and_replace_study_tags': '', 'auto_enable_dicom_wrapping': '0', 'only_this_account_in_vanity': '0', 'force_download_of_attachments': '0', 'ai_anonymize_study_hl7': '', 'confirm_before_upload': '0', 'enable_multipart_uploader': '1', 'case_status_tags': '', 'study_int_secret_direct': '', 'consolidate_wrapped_jpegs': '0', 'study_status_tags': 'Ready to be Read,Completed', 'disable_csrf_on_links': '0', 'invite_ttl': 0, 'enable_viewer_export': '1', 'create_thin_study_from_oru_study_uid': '', 'viewer_study_page_link_visible': '1', 'cloud_storage_config': '', 'enable_credit_card_processor': '0', 'require_mrn_for_patient_portal': '0', 'viewer_link_series': '0', 'ai_anonymize_study_images_aws_textract': '', 'link_defaults': '', 'update_study_status_in_all_versions': '0', 'enable_viewer_toggle_annotations': '1', 'passwdqc': '', 'include_in_global_purge': 0, 'enable_click_to_filter': '1', 'query_retrieve_require_regexp': '', 'ai_categorize_phi_in_study_images_google_vision_then_dlp': '', 'sync_user_login_to_account_login': '0', 'mpi_allowed': '', 'ai_anonymize_attached_pdf_google_dlp': '', 'enable_drchrono': '0', 'update_phi_hl7_namespaces': '', 'hl7_delay_route': '', 'ai_anonymize_attached_pdf': '', 'accession_number_for_study_uid': '0', 'radreport_attestation_signature': '0', 'ai_run_custom_code_scripts': '', 'mpi_config': '', 'enable_google_auth': '0', 'users_from_hl7_mfn': '', 'limit_oru_by_storage_namespace': '', 'patients_from_hl7_adt_conditions': '', 'enable_epic_patient_lookup': '0', 'epic_prompt_for_anonymize': '0', 'account_time_zone': 0, 'add_patientid_to_hl7_query_retrieve': '0', 'case_status_mutex_tags': '', 'disable_duplicate_study_upload': 0, 'ai_classify_contrast_in_study_series': '', 'viewer_setting_not_diagnostic': '0', 'baa_text': '', 'query_retrieve_require_criteria_min': 1, 'pixel_anonymize_color': '', 'multiple_sso_connections': '0', 'use_other_ingress_tags_server_side': '0', 'upload_settings': '', 'viewer_study_page_link_url': '', 'bundle_notify_destination_search': 0, 'ai_anonymize_study_hl7_dwf': '', 'study_status_timer_visible_at_last_status': 0}\n",
      "session_expire\t30\n",
      "vanity\t\n",
      "vendor\tUC Health\n",
      "namespace_id\t71af8568-3454-4138-9e73-9fb0ef6da014\n",
      "role_name\t\n",
      "uuid\t1e72b29d-a0a3-405f-ada9-69a2628cee94\n",
      "connected\t0\n",
      "must_approve_harvest\t0\n",
      "must_approve_upload\t0\n",
      "must_approve\t0\n",
      "no_share\t0\n",
      "share_code\t\n",
      "name\tROSE\n",
      "share_via_gateway\tNone\n"
     ]
    }
   ],
   "source": [
    "account = api.Account.list().filter_by(\n",
    "       Filter(\n",
    "           'name',\n",
    "           FilterCondition.like,\n",
    "           'ROSE',\n",
    "       ),\n",
    "    ).first()\n",
    "\n",
    "for key in account.keys():\n",
    "    print(f'{key}\\t{account[key]}')"
   ]
  },
  {
   "cell_type": "code",
   "execution_count": 35,
   "metadata": {},
   "outputs": [
    {
     "data": {
      "text/plain": [
       "True"
      ]
     },
     "execution_count": 35,
     "metadata": {},
     "output_type": "execute_result"
    }
   ],
   "source": [
    "account == None"
   ]
  },
  {
   "cell_type": "code",
   "execution_count": 46,
   "metadata": {
    "scrolled": false
   },
   "outputs": [
    {
     "name": "stdout",
     "output_type": "stream",
     "text": [
      "ROSE 1e72b29d-a0a3-405f-ada9-69a2628cee94\n",
      "APRISE 437302f0-be9e-4e3b-a7f0-8ee2eb342ce8\n",
      "IRSD d1674f7a-6bc2-459f-9f32-3bf1fcd98fd6\n",
      "UC Research Clearinghouse bf1383a9-7fb5-4f46-8702-b5942dec7d99\n",
      "SENSE 934eeb18-a618-4a5f-bf31-2be57c7c7b10\n",
      "AI-BAC c9733518-453b-4ddb-beab-e86210849346\n"
     ]
    }
   ],
   "source": [
    "accounts = api.Account.list().all()\n",
    "\n",
    "for account in accounts:\n",
    "    print(account.name, account.uuid)"
   ]
  },
  {
   "cell_type": "code",
   "execution_count": 45,
   "metadata": {},
   "outputs": [
    {
     "data": {
      "text/plain": [
       "[<Box: {'role_id': None, 'uuid': '1e72b29d-a0a3-405f-ada9-69a2628cee94', 'must_approve_upload': 0, 'must_approve_harvest': 0, 'password_expire': 90, 'must_approve_move': 0, 'name': 'ROSE', 'connected': 0, 'vanity': '', 'share_settings': '{\"prompt_card_owner_name\":0,\"autoAttachFileTypes\":[]}', 'vendor': 'UC Health', 'no_share': 0, 'can_request': 0, 'session_expire': 30, 'must_approve': 0, 'settings': {'create_thin_study_from_orm': '0', 'create_thin_study_from_oru_study_uid': '', 'force_new_study_on_upload': 0, 'render_wrapped_avi': '0', 'viewer_link_series': '0', 'consolidate_wrapped_jpegs': '0', 'cerner_patient_lookup_info': '', 'radreport_sign': '', 'batch_encode_cine': '0', 'link_first_study_only': '0', 'upload_event_on_study_sync': '0', 'viewer_hide_active_measurement_info': '0', 'viewer_show_std_dev': '0', 'query_retrieve_require_regexp': '', 'mrn_qr': '', 'encapsulate_wrapped_pdf': 0, 'include_in_global_purge': 0, 'sso_second_opinion_workflow': '0', 'sso_share_phr_workflow': '0', 'upload_select_none': '0', 'ai_delete_duplicate_images': '', 'load_ack_as_hl7': '0', 'enable_namespace_ai_questions': '', 'study_share_email_confirm': '0', 'users_from_hl7_mfn': '', 'enable_doximity_auth': '0', 'max_match_study_hl7': '100', 'login_location': '', 'show_hl7_report_physician_alias_regexp': '0', 'upload_one_study': '0', 'orders_from_hl7': '0', 'auto_transcode': 0, 'save_original_to_pre_anon_cf': 0, 'request_join_on_vanity_registration': '0', 'paypal_account': '', 'from_email_address': '', 'case_notify_completed': '', 'case_notify_submitted': '', 'study_status_tags': 'Ready to be Read,Completed', 'enable_recaptcha': 0, 'hide_patient_portal_email_regex': '', 'disable_link_session': '0', 'ai_classify_contrast_in_study_series': '', 'ai_delete_scanned_docs': '', 'allow_portal_pin_to_dup_addresses': '0', 'include_date_in_smart_search': '0', 'enable_dicomdir_scan': '0', 'try_update_original_study': '', 'enable_masshiway': '0', 'saml_redirect_url': '', 'study_status_singleton_tags': '', 'ai_categorize_phi_in_study_images_google_vision_then_dlp': '', 'ai_ocr_study_images_google_vision': '', 'training_text': '', 'include_mapped_custom_fields_from_storage_ns': '0', 'mwl_search_is_cfind': '0', 'limit_oru_by_storage_namespace': '', 'study_edit_reason': '0', 'create_thin_study_from_oru': '0', 'mwl_sending_facility_filter': '', 'allow_phr_upload': '0', 'only_this_account_in_vanity': '0', 'saml_sync_on_create_only': '0', 'study_view_phr_delay': '', 'expose_patient_portal': 0, 'viewer_show_priors_worklist_only': '0', 'ai_anonymize_study_images_tensorflow_east': '', 'group_local_pushes_by': 0, 'update_study_status_in_all_versions': '0', 'welcome_password_reset_token_ttl': 0, 'use_namespace_name_on_upload_request': '0', 'hide_help_tool': '0', 'viewer_multiframe_split_method': '0', 'ai_run_custom_code_scripts': '', 'update_all_studies': '', 'report_from_hl7': '', 'update_phi_syngo_match': '0', 'is_ai': '0', 'study_status_timer_attributes': '[]', 'show_study_same_uid_push_status': 0, 'disable_mobile_dicom_wrapping': '0', 'upload_hold': '0', 'viewer_study_page_link_visible': '1', 'ai_detect_phi_in_study_images_google_dlp': '', 'send_oru_instead_of_orm': '0', 'invite_ttl': 0, 'radreport_attestation_signature': '0', 'duplicate_study_check': '0', 'customfields_last_on_search': '0', 'study_status_mutex_tags': '', 'ai_anonymize_study_images_aws_textract': '', 'enable_v3_viewer': 0, 'enable_dicom_tag_customfields': '0', 'viewer_hide_thumbnails_datetime': '0', 'exclude_from_ai_share': '0', 'patient_unique_email_phone': '0', 'link_external_whitelist': '', 'sr_render_css': '', 'show_study_copy_push_status': 0, 'enable_click_to_filter': '1', 'mwl_filter_if_matching_study': '0', 'include_mapped_custom_fields_from_last_share': '0', 'external_viewer': '', 'baa_text': '', 'epic_patient_lookup_info': '', 'query_retrieve_require_regexp_mwl': '', 'customcode_can_share': '0', 'include_adt_in_study_find_order': '0', 'see_all_destination_search_in_activity': '0', 'update_phi_hl7_namespaces': '', 'ai_run_custom_code_namespace_scripts': '', 'epic_upload_match': '', 'disable_external_viewer_for_links': '0', 'auto_fill_patient_in_activity': '1', 'render_wrapped_pdf': '0', 'report_csv_download_concat': '1', 'study_int_secret_direct': '', 'refresh_data_on_reshare': '0', 'set_phantom_on_reload': 0, 'single_file_dicom_wrapping': 0, 'enable_viewer_toggle_annotations': '1', 'viewer_study_page_link_url': '', 'ai_anonymize_study_images': '', 'orders_from_hl7_adt': '0', 'allow_multiple_use_of_orders': '0', 'athena_orders_filter': '', 'confirm_before_upload': '0', 'namespace_child_study_defaults': '0', 'ai_anonymize_attached_pdf_google_dlp': '', 'enable_epic_patient_lookup': '0', 'ai_anonymize_study_hl7': '', 'anonymize_at_ingress': '1', 'ai_lookup_billing_code': '', 'viewer_hide_thumbnails': '0', 'cloud_storage_config': '', 'study_search_require_regexp': '', 'auto_transcode_modalities': '', 'ai_anonymize_attached_pdf': '', 'enable_link_charging': '0', 'ignore_blank_accession_number': '0', 'viewer_enable_tap_navigation': '0', 'suppress_all_patient_emails': '0', 'render_wrapped_video': '0', 'add_on_invite': '0', 'study_status_role_tags': '', 'include_patientid_other_in_hl7_match': '0', 'viewer_preload_diagnostic_images': '0', 'default_list_view': '', 'probe_for_accelerator': '0', 'ignore_mrn_on_thin_retrieve': 0, 'viewer_diagnostic_quality_always': '0', 'study_status_timer': '0', 'case_status_mutex_tags': '', 'epic_prompt_for_anonymize': '0', 'other_manual_text': '', 'homepage_links': '[]', 'enable_multipart_uploader': '1', 'viewer_diagnostic_quality': '0', 'passwd_regexp': '', 'enable_viewer_export': '1', 'multiple_sso_connections': '0', 'disable_sticky_phi': 0, 'mwl_filter_expression': '', 'enable_viewer_print': '1', 'link_external_whitelist_all_links': 0, 'suppress_hl7_eom_sep': '0', 'ai_anonymize_study_images_google_dlp': '', 'enable_v2_viewer': '0', 'reencode_dicom_mp4': '0', 'viewer_enable_mpr': '0', 'helpscout_beacon_id': '', 'saml_saasid': '', 'require_mrn_for_patient_portal': '0', 'athena_subscribe_orders': '0', 'priority_notifications': '', 'patients_from_hl7': '', 'logo_action': '', 'ai_bodypart_abdomen_chest_pelvis': '', 'account_time_zone': 0, 'audit_failed_logins': '0', 'auto_update_patient_studies': '0', 'viewer_default_drop_shape_width': '0', 'viewer_show_reports': '1', 'pixel_anonymize_color': '', 'update_phi_hl7': '0', 'study_stat_filter': '', 'customcode_accounts': '', 'vanity_registration_customfields': 0, 'link_sticky_anon_users': 0, 'epic_name_format': '', 'viewer_default_mouse_tool': 'Scroll', 'case_status_tags': '', 'accession_number_for_study_uid': '0', 'create_thin_study_from_hl7_data_map': '', 'report_view_phr_delay': '0', 'sso_share_phr_workflow_options': '0', 'ai_anonymize_study_images_aws_rekognition': '', 'apply_settings_to_owned_phr': '0', 'disable_duplicate_study_upload': 0, 'compress_audio_recordings': '0', 'ai_search_and_replace_study_tags': '', 'viewer3_config': '', 'enable_dicom_deidentification': '0', 'study_status_tags_attributes': '{\\n    \"defaults\": {\\n        \"upperCaseFirst\": 1,\\n        \"oneReportPerStudy\": 0,\\n        \"staticModalDialog\": 0,\\n        \"disableImportTemplate\": 0,\\n        \"availableReports\": [\\n            \"DG0000112\",\\n            \"DG0000113\",\\n            \"UC00001\"\\n        ],\\n        \"template\": \"UC00001\"\\n    },\\n    \"buttons\": {\\n        \"default\": [\\n            {\\n                \"label\": \"Save\",\\n                \"clickAction\": \"save\"\\n            },\\n            {\\n                \"label\": \"Close\",\\n                \"clickAction\": \"save-close\"\\n            },\\n            {\\n                \"label\": \"Save and Approve\",\\n                \"clickAction\": \"save-approve-close\",\\n                \"fileName\": \"{{PatientId}}\"\\n            }\\n        ]\\n    },\\n    \"report-formLoaded\": {\\n        \"all\": [\\n            {\\n                \"action\": \"open-viewer\"\\n            },\\n            {\\n                \"action\": \"hidePreview\"\\n            },\\n            {\\n                \"action\": \"changeElementAttribute\",\\n                \"selector\": \"#report-body table\",\\n                \"attribute\": \"style\",\\n                \"val\": \"font-family: sans-serif; color:black; font-size: large;\"\\n            }\\n        ]\\n    },\\n    \"report-formSaved\": {\\n        \"all\": [\\n            {\\n                \"action\": \"close-viewer\"\\n            }\\n        ]\\n    },\\n    \"study-statusChanged\": {\\n        \"Completed\": [\\n            {\\n                \"action\": \"generatePatientCSV\",\\n                \"fileName\": \"{{PatientId}} by {{USERNAME}}\"\\n            }\\n        ]\\n    }\\n}', 'bypass_study_oversized_threshold': '1', 'include_patientid_in_hl7_match': '0', 'ip_whitelist': '', 'search_qr': '', 'hl7_delay_route': '', 'add_patientid_to_hl7_query_retrieve': '0', 'logout_url': '', 'from_email_name': '', 'pin_auth_text': '', 'upload_settings': '', 'patients_from_hl7_conditions': '', 'update_study_source_on_notify': '0', 'patients_from_hl7_adt_conditions': '', 'viewer_single_instance_series': '0', 'enable_dicom_wrapping': '0', 'study_status_timer_suspensive_tags': '', 'enable_radreport_attestation': '0', 'sync_user_login_to_account_login': '0', 'study_int_secret': '', 'mpi_config': '', 'auto_wrap_images': '0', 'enable_order_lookup_in_approval': '0', 'suppress_new_patient_share_event': '0', 'mpi_allowed': '', 'appointments_from_hl7_siu': '', 'include_manual_orders_in_study_find_order': 0, 'hl7_fetch_filter': '', 'max_link_studies': '100', 'limit_query_retrieve_to_input_gateway': '0', 'account_hl7_map': '', 'work_hour_matrix': 0, 'study_share_use_account_template': '0', 'login_json': '', 'auto_enable_dicom_wrapping': '0', 'link_defaults': '', 'enable_google_auth': '0', 'dicom_deidentification_at_ingress': '1', 'viewer_setting_not_diagnostic': '0', 'athena_unsolicited_namespace': '', 'no_default_study_date_time': '0', 'study_search_modifiers': '', 'suppress_new_report_event_in_phr_for_patients': 0, 'exclude_load_dicom_tag': '1', 'appointments_from_hl7_adt': '', 'link_external_referer': '', 'other_ingress_tags': '', 'study_status_timer_visible_at_last_status': 0, 'radreport_branding_from_phi_namespace': '0', 'query_retrieve_require_criteria_min': 1, 'enable_thin_retrieve_in_patient_portal': '0', 'passwdqc': '', 'ui_json': '{\"internal_notes\":\"\",\"default_date_format\":\"\",\"always_show_advanced_search\":0,\"include_first_name_advanced_search\":0,\"add_study_dropdown_is_button\":0,\"allow_advanced_search_or\":0,\"download_studies_roche_format\":0,\"limit_query_retrieve_selected_namespace\":0,\"show_query_retrieve_create_study_create_thin\":0,\"study_edit_reason_per_field\":0,\"study_namespace_dropdown_hide_all\":0,\"create_thin_study_from_report\":0,\"enable_gateway_queue_status\":0,\"enable_viewer_v3\":0,\"default_destination_search_action\":\"\",\"view_study_button_action\":\"browse-study-new-tab\",\"user_setting_default-user_list_sort_study_list\":\"\",\"view_study_namespace_filter_types\":[],\"view_study_namespace_filter_types_role_id\":\"\",\"mwl_search_filters\":[],\"limit_gateway_status_queues\":[],\"view_study_dropdown_actions\":[]}', 'use_link_on_patient_portal_share': '', 'ai_attach_scanned_docs_as_pdf': '', 'disable_csrf_on_links': '0', 'show_radreport_in_all_namespaces': '0', 'allow_user_password_for_account_login': '0', 'bundle_notify_destination_search': 0, 'patients_from_hl7_adt': '', 'reverse_patient_name': '0', 'ai_study_manual_route': '', 'enable_patient_portal': '0', 'study_download_no_reports': '0', 'add_oru_report_to_study': '0', 'use_other_ingress_tags_server_side': '0', 'study_push_status': '1', 'viewer_store_extra_annotation_data': '0', 'force_download_of_attachments': '0', 'viewer_hide_ruler': '0', 'enable_drchrono': '0', 'enable_credit_card_processor': '0', 'ai_anonymize_study_hl7_dwf': '', 'auto_create_patient': '0', 'viewer_anon_annotations_clear': '0', 'update_patients_from_hl7': '0', 'disable_user_days': '', 'must_approve_duplicate_study_uid': 0, 'faq_text': '', 'allow_drag_and_drop_in_study_uploader': 0}, 'namespace_id': '71af8568-3454-4138-9e73-9fb0ef6da014', 'share_via_gateway': None, 'role_name': '', 'share_description': '', 'search_threshold': 1000, 'share_code': '', 'hl7_template': '', 'css': None}>,\n",
       " <Box: {'vanity': 'uchealth', 'share_settings': '{\"pixel_de_id_by_default\":0,\"allow_multiple_share_upload\":0,\"prompt_card_owner_name\":0,\"autoAttachFileTypes\":[],\"study_custom_field_customization\":[]}', 'connected': 0, 'can_request': 0, 'no_share': 0, 'vendor': 'UC Health', 'password_expire': 0, 'name': 'APRISE', 'must_approve_move': 0, 'must_approve_harvest': 0, 'must_approve_upload': 0, 'uuid': '437302f0-be9e-4e3b-a7f0-8ee2eb342ce8', 'role_id': None, 'share_code': '', 'css': None, 'hl7_template': '', 'role_name': '', 'search_threshold': 1000, 'share_description': '', 'namespace_id': '99b7b25e-b13a-44db-bc74-3ad9e462ea50', 'share_via_gateway': None, 'settings': {'from_email_name': '', 'add_patientid_to_hl7_query_retrieve': '0', 'logout_url': '', 'update_study_source_on_notify': '0', 'upload_settings': '', 'pin_auth_text': '', 'patients_from_hl7_conditions': '', 'patients_from_hl7_adt_conditions': '', 'study_status_timer_suspensive_tags': '', 'enable_radreport_attestation': '0', 'study_int_secret': '', 'sync_user_login_to_account_login': '0', 'viewer_single_instance_series': '0', 'enable_dicom_wrapping': '0', 'enable_order_lookup_in_approval': '0', 'suppress_new_patient_share_event': '0', 'mpi_allowed': '', 'appointments_from_hl7_siu': '', 'auto_wrap_images': '0', 'mpi_config': '', 'hl7_fetch_filter': '', 'limit_query_retrieve_to_input_gateway': '0', 'max_link_studies': '100', 'include_manual_orders_in_study_find_order': '0', 'login_json': '', 'auto_enable_dicom_wrapping': '0', 'account_hl7_map': '', 'work_hour_matrix': '0', 'study_share_use_account_template': '0', 'dicom_deidentification_at_ingress': '1', 'viewer_setting_not_diagnostic': '0', 'enable_google_auth': '0', 'link_defaults': '', 'athena_unsolicited_namespace': '', 'other_ingress_tags': '', 'suppress_new_report_event_in_phr_for_patients': '0', 'study_search_modifiers': '{}', 'no_default_study_date_time': '0', 'link_external_referer': '', 'appointments_from_hl7_adt': '', 'exclude_load_dicom_tag': '1', 'use_link_on_patient_portal_share': '', 'ui_json': '{\"internal_notes\":\"\",\"default_date_format\":\"\",\"separate_non_dicom_upload_form\":0,\"always_show_advanced_search\":0,\"include_first_name_advanced_search\":0,\"add_study_dropdown_is_button\":0,\"allow_advanced_search_or\":0,\"download_studies_roche_format\":0,\"limit_query_retrieve_selected_namespace\":0,\"study_oru_report_limit\":0,\"study_edit_reason_per_field\":0,\"study_namespace_dropdown_hide_all\":0,\"create_thin_study_from_report\":0,\"study_list_send_messages\":0,\"require_guest_link_password\":0,\"enable_gateway_queue_status\":0,\"enable_patient_search_in_order_create_form\":0,\"enable_first_last_in_order_create_form\":0,\"uncheck_send_notification_by_default\":0,\"is_utility_account\":0,\"patient_default_event_share\":0,\"show_study_actions_in_user_audit_trail\":0,\"show_under_approval_reason\":0,\"show_user_analytics\":0,\"enable_study_list_context_menu\":0,\"study_list_context_menu\":[],\"default_destination_search_action\":\"\",\"query_retrieve_form_fields\":[],\"view_study_button_action\":\"browse-study-ambra-new-tab\",\"user_setting_default-user_list_sort_study_list\":\"\",\"view_study_namespace_filter_types\":[],\"view_study_namespace_filter_types_role_id\":\"\",\"mwl_search_filters\":[],\"mwl_must_match_fields\":[],\"limit_gateway_status_queues\":[],\"enable-study-reject-predefined-messages\":0,\"enable-order-physicians-predefined-values\":0,\"enable-order-descriptions-predefined-values\":0,\"enable-order-accnum-generation\":0,\"order-default-aetitle\":\"\",\"orders_req_fields\":[],\"remove-send-status-icon-after-days\":\"\",\"activities-default-sub-tab\":\"\",\"enable-patient-mrn-generation\":0,\"view_study_dropdown_actions\":[],\"order_referring_physicians\":[],\"order_descriptions\":[],\"study_reject_messages\":[],\"request_study_customfields\":[],\"utility_elements_blacklist\":[],\"advanced_search\":[],\"orders_search\":[],\"case_days_old_colors\":[]}', 'enable_thin_retrieve_in_patient_portal': '0', 'query_retrieve_require_criteria_min': '1', 'radreport_branding_from_phi_namespace': '0', 'study_status_timer_visible_at_last_status': '0', 'passwdqc': '', 'bundle_notify_destination_search': '0', 'allow_user_password_for_account_login': '0', 'show_radreport_in_all_namespaces': '0', 'ai_attach_scanned_docs_as_pdf': '', 'disable_csrf_on_links': '0', 'enable_patient_portal': '0', 'ai_study_manual_route': '', 'reverse_patient_name': '0', 'patients_from_hl7_adt': '', 'add_oru_report_to_study': '0', 'viewer_store_extra_annotation_data': '0', 'study_push_status': '0', 'force_download_of_attachments': '0', 'use_other_ingress_tags_server_side': '0', 'study_download_no_reports': '0', 'enable_drchrono': '0', 'enable_credit_card_processor': '0', 'ai_anonymize_study_hl7_dwf': '', 'viewer_hide_ruler': '0', 'must_approve_duplicate_study_uid': '0', 'faq_text': '', 'disable_user_days': '0', 'allow_drag_and_drop_in_study_uploader': '0', 'auto_create_patient': '0', 'update_patients_from_hl7': '0', 'viewer_anon_annotations_clear': '0', 'cloud_storage_config': '', 'study_search_require_regexp': '', 'anonymize_at_ingress': '0', 'viewer_hide_thumbnails': '0', 'ai_lookup_billing_code': '', 'ignore_blank_accession_number': '0', 'ai_anonymize_attached_pdf': '', 'auto_transcode_modalities': '', 'enable_link_charging': '0', 'viewer_enable_tap_navigation': '0', 'suppress_all_patient_emails': '0', 'default_list_view': '', 'study_status_role_tags': '{\\n\\t\"Not Ready\": [\"e08156e8-74dd-4597-8c77-4175f0e35576\", \"1155ffeb-f3f4-46b6-9490-d7d373ffbb34\"],\\n\\t\"Ready to be Read\": [\"e08156e8-74dd-4597-8c77-4175f0e35576\", \"1155ffeb-f3f4-46b6-9490-d7d373ffbb34\", \"607d2ad8-2ee3-4633-aa6e-9905773c2df8\"],\\n\\t\"Ready for Assignment\": [\"e08156e8-74dd-4597-8c77-4175f0e35576\", \"1155ffeb-f3f4-46b6-9490-d7d373ffbb34\"],\\n        \"Do Not Read\": [\"e08156e8-74dd-4597-8c77-4175f0e35576\", \"1155ffeb-f3f4-46b6-9490-d7d373ffbb34\"],\\n\\t\"Completed\": [\"e08156e8-74dd-4597-8c77-4175f0e35576\", \"1155ffeb-f3f4-46b6-9490-d7d373ffbb34\", \"607d2ad8-2ee3-4633-aa6e-9905773c2df8\"]\\n}', 'add_on_invite': '0', 'render_wrapped_video': '0', 'viewer_preload_diagnostic_images': '0', 'include_patientid_other_in_hl7_match': '0', 'study_status_timer': '0', 'ignore_mrn_on_thin_retrieve': '0', 'probe_for_accelerator': '0', 'viewer_diagnostic_quality_always': '0', 'enable_multipart_uploader': '1', 'homepage_links': '[]', 'viewer_diagnostic_quality': '0', 'other_manual_text': '', 'epic_prompt_for_anonymize': '0', 'case_status_mutex_tags': '', 'multiple_sso_connections': '0', 'enable_viewer_export': '1', 'passwd_regexp': '', 'disable_sticky_phi': '0', 'mwl_filter_expression': '', 'saml_saasid': '', 'helpscout_beacon_id': '', 'viewer_enable_mpr': '0', 'athena_subscribe_orders': '0', 'require_mrn_for_patient_portal': '0', 'enable_viewer_print': '1', 'link_external_whitelist_all_links': '0', 'ai_anonymize_study_images_google_dlp': '', 'suppress_hl7_eom_sep': '0', 'reencode_dicom_mp4': '0', 'enable_v2_viewer': '0', 'ai_bodypart_abdomen_chest_pelvis': '', 'account_time_zone': '0', 'auto_update_patient_studies': '0', 'audit_failed_logins': '0', 'priority_notifications': '', 'logo_action': '', 'patients_from_hl7': '', 'update_phi_hl7': '0', 'study_stat_filter': '', 'customcode_accounts': '', 'pixel_anonymize_color': '', 'viewer_show_reports': '1', 'vanity_registration_customfields': '', 'viewer_default_drop_shape_width': '0', 'epic_name_format': '', 'link_sticky_anon_users': '0', 'create_thin_study_from_hl7_data_map': '', 'report_view_phr_delay': '0', 'case_status_tags': '', 'viewer_default_mouse_tool': 'Scroll', 'accession_number_for_study_uid': '0', 'apply_settings_to_owned_phr': '0', 'ai_anonymize_study_images_aws_rekognition': '', 'sso_share_phr_workflow_options': '0', 'enable_dicom_deidentification': '1', 'bypass_study_oversized_threshold': '0', 'study_status_tags_attributes': '{\\n    \"defaults\": {\\n        \"upperCaseFirst\": 1,\\n        \"oneReportPerStudy\": 0,\\n        \"staticModalDialog\": 0,\\n        \"disableImportTemplate\": 0,\\n        \"template\": \"DG0000070\",\\n        \"auditFilter\": {\\n            \"Radreport\": \"all\",\\n            \"Study\": \"none\"\\n        }\\n    },\\n    \"buttons\": {\\n        \"default\": [\\n            {\\n                \"label\": \"Save\",\\n                \"clickAction\": \"save\"\\n            },\\n            {\\n                \"label\": \"Close\",\\n                \"clickAction\": \"run-actionset\",\\n                \"actionSetId\": \"myActionSet-dehru\",\\n                \"actions\": [\\n                    {\\n                        \"action\": \"save-no-validate\"\\n                    },\\n                    {\\n                        \"action\": \"close\"\\n                    }\\n                ]\\n            },\\n            {\\n                \"label\": \"Save and Approve\",\\n                \"clickAction\": \"save-approve-close\",\\n                \"fileName\": \"{{PatientId}}\"\\n            }\\n        ]\\n    },\\n    \"report-formLoaded\": {\\n        \"Ready to be Read\": [\\n            {\\n                \"action\": \"open-viewer\"\\n            },\\n            {\\n                \"action\": \"hidePreview\"\\n            },\\n            {\\n                \"action\": \"changeElementAttribute\",\\n                \"selector\": \"#report-body table\",\\n                \"attribute\": \"style\",\\n                \"val\": \"font-family: sans-serif; color:black; font-size: large;\"\\n            }\\n        ],\\n        \"all\": [\\n            {\\n                \"action\": \"changeElementAttribute\",\\n                \"selector\": \"[data-condition]\",\\n                \"attribute\": \"data-condition-keep-values\",\\n                \"val\": true\\n            }\\n        ]\\n    },\\n    \"report-formSaved\": {\\n        \"Ready to be Read\": [\\n            {\\n                \"action\": \"close-viewer\"\\n            }\\n        ]\\n    },\\n    \"study-statusChanged\": {\\n        \"Completed\": [\\n            {\\n                \"action\": \"generatePatientCSV\",\\n                \"fileName\": \"{{PatientId}} by {{USERNAME}}\"\\n            }\\n        ]\\n    }\\n}', 'disable_duplicate_study_upload': '0', 'viewer3_config': '', 'ai_search_and_replace_study_tags': '', 'compress_audio_recordings': '0', 'include_patientid_in_hl7_match': '0', 'search_qr': '', 'ip_whitelist': '', 'hl7_delay_route': '', 'study_view_phr_delay': '', 'ai_anonymize_study_images_tensorflow_east': '', 'viewer_show_priors_worklist_only': '0', 'group_local_pushes_by': '[]', 'expose_patient_portal': '0', 'viewer_multiframe_split_method': '0', 'hide_help_tool': '0', 'ai_run_custom_code_scripts': '', 'welcome_password_reset_token_ttl': '0', 'update_study_status_in_all_versions': '0', 'use_namespace_name_on_upload_request': '0', 'report_from_hl7': '', 'update_all_studies': '', 'update_phi_syngo_match': '0', 'study_status_timer_attributes': '[]', 'is_ai': '0', 'disable_mobile_dicom_wrapping': '0', 'show_study_same_uid_push_status': '0', 'send_oru_instead_of_orm': '0', 'duplicate_study_check': '0', 'radreport_attestation_signature': '1', 'invite_ttl': '0', 'viewer_study_page_link_visible': '1', 'upload_hold': '0', 'ai_detect_phi_in_study_images_google_dlp': '', 'enable_v3_viewer': '0', 'viewer_hide_thumbnails_datetime': '0', 'enable_dicom_tag_customfields': '0', 'customfields_last_on_search': '0', 'ai_anonymize_study_images_aws_textract': '', 'study_status_mutex_tags': '', 'external_viewer': '', 'include_mapped_custom_fields_from_last_share': '0', 'mwl_filter_if_matching_study': '0', 'enable_click_to_filter': '1', 'exclude_from_ai_share': '0', 'show_study_copy_push_status': '0', 'link_external_whitelist': '', 'sr_render_css': '', 'patient_unique_email_phone': '0', 'epic_patient_lookup_info': '', 'baa_text': '', 'auto_fill_patient_in_activity': '1', 'epic_upload_match': '', 'disable_external_viewer_for_links': '0', 'update_phi_hl7_namespaces': '', 'ai_run_custom_code_namespace_scripts': '', 'query_retrieve_require_regexp_mwl': '', 'customcode_can_share': '0', 'see_all_destination_search_in_activity': '0', 'include_adt_in_study_find_order': '0', 'study_int_secret_direct': '', 'report_csv_download_concat': '1', 'refresh_data_on_reshare': '0', 'render_wrapped_pdf': '0', 'ai_anonymize_study_images': '', 'set_phantom_on_reload': '0', 'enable_viewer_toggle_annotations': '1', 'viewer_study_page_link_url': '', 'single_file_dicom_wrapping': '0', 'namespace_child_study_defaults': '0', 'ai_anonymize_attached_pdf_google_dlp': '', 'athena_orders_filter': '', 'orders_from_hl7_adt': '0', 'allow_multiple_use_of_orders': '0', 'confirm_before_upload': '0', 'ai_anonymize_study_hl7': '', 'enable_epic_patient_lookup': '0', 'render_wrapped_avi': '0', 'create_thin_study_from_oru_study_uid': '', 'create_thin_study_from_orm': '0', 'force_new_study_on_upload': '0', 'viewer_link_series': '0', 'link_first_study_only': '0', 'cerner_patient_lookup_info': '', 'consolidate_wrapped_jpegs': '0', 'batch_encode_cine': '0', 'radreport_sign': '', 'viewer_hide_active_measurement_info': '0', 'upload_event_on_study_sync': '0', 'viewer_show_std_dev': '0', 'encapsulate_wrapped_pdf': '0', 'include_in_global_purge': '0', 'query_retrieve_require_regexp': '', 'mrn_qr': '', 'load_ack_as_hl7': '0', 'enable_namespace_ai_questions': '', 'upload_select_none': '0', 'sso_second_opinion_workflow': '0', 'sso_share_phr_workflow': '0', 'ai_delete_duplicate_images': '', 'users_from_hl7_mfn': '', 'study_share_email_confirm': '0', 'max_match_study_hl7': '100', 'enable_doximity_auth': '0', 'orders_from_hl7': '0', 'auto_transcode': '0', 'show_hl7_report_physician_alias_regexp': '0', 'login_location': '', 'upload_one_study': '0', 'paypal_account': '', 'from_email_address': '', 'case_notify_submitted': '', 'case_notify_completed': '', 'request_join_on_vanity_registration': '0', 'save_original_to_pre_anon_cf': '0', 'hide_patient_portal_email_regex': '', 'disable_link_session': '0', 'enable_recaptcha': '0', 'study_status_tags': 'Not Ready,Ready for Assignment,Do Not Read,Ready to be Read,Completed', 'ai_classify_contrast_in_study_series': '', 'allow_portal_pin_to_dup_addresses': '0', 'ai_delete_scanned_docs': '', 'saml_redirect_url': '', 'study_status_singleton_tags': '', 'ai_categorize_phi_in_study_images_google_vision_then_dlp': '', 'include_date_in_smart_search': '0', 'enable_masshiway': '0', 'try_update_original_study': '', 'enable_dicomdir_scan': '0', 'mwl_search_is_cfind': '0', 'include_mapped_custom_fields_from_storage_ns': '0', 'limit_oru_by_storage_namespace': '', 'create_thin_study_from_oru': '0', 'study_edit_reason': '0', 'ai_ocr_study_images_google_vision': '', 'training_text': '', 'allow_phr_upload': '0', 'mwl_sending_facility_filter': '', 'saml_sync_on_create_only': '0', 'only_this_account_in_vanity': '0'}, 'must_approve': 0, 'session_expire': 0}>,\n",
       " <Box: {'hl7_template': '', 'css': None, 'share_code': 'ambra_irsd', 'share_description': '', 'search_threshold': 1000, 'role_name': '', 'share_via_gateway': 1, 'namespace_id': '5878a639-1797-4527-b9e9-2aae4cbee4dd', 'session_expire': 0, 'settings': {'report_from_hl7': '', 'update_all_studies': '', 'study_status_timer_attributes': '[]', 'is_ai': '0', 'update_phi_syngo_match': '0', 'disable_mobile_dicom_wrapping': '0', 'show_study_same_uid_push_status': '0', 'radreport_attestation_signature': '0', 'duplicate_study_check': '0', 'invite_ttl': '0', 'send_oru_instead_of_orm': '0', 'ai_detect_phi_in_study_images_google_dlp': '', 'upload_hold': '0', 'viewer_study_page_link_visible': '1', 'study_view_phr_delay': '', 'group_local_pushes_by': '[]', 'ai_anonymize_study_images_tensorflow_east': '', 'viewer_show_priors_worklist_only': '0', 'expose_patient_portal': '0', 'ai_run_custom_code_scripts': '', 'viewer_multiframe_split_method': '0', 'hide_help_tool': '0', 'use_namespace_name_on_upload_request': '0', 'update_study_status_in_all_versions': '0', 'welcome_password_reset_token_ttl': '0', 'refresh_data_on_reshare': '0', 'study_int_secret_direct': '', 'report_csv_download_concat': '0', 'render_wrapped_pdf': '0', 'ai_anonymize_study_images': '', 'viewer_study_page_link_url': '', 'enable_viewer_toggle_annotations': '1', 'single_file_dicom_wrapping': '0', 'set_phantom_on_reload': '0', 'ai_anonymize_attached_pdf_google_dlp': '', 'namespace_child_study_defaults': '0', 'confirm_before_upload': '0', 'athena_orders_filter': '', 'orders_from_hl7_adt': '0', 'allow_multiple_use_of_orders': '0', 'ai_anonymize_study_hl7': '', 'enable_epic_patient_lookup': '0', 'viewer_hide_thumbnails_datetime': '0', 'enable_dicom_tag_customfields': '0', 'enable_v3_viewer': '1', 'ai_anonymize_study_images_aws_textract': '', 'study_status_mutex_tags': '', 'customfields_last_on_search': '0', 'external_viewer': '', 'mwl_filter_if_matching_study': '0', 'enable_click_to_filter': '0', 'include_mapped_custom_fields_from_last_share': '0', 'sr_render_css': '', 'show_study_copy_push_status': '0', 'link_external_whitelist': '', 'patient_unique_email_phone': '0', 'exclude_from_ai_share': '0', 'epic_patient_lookup_info': '', 'baa_text': '', 'auto_fill_patient_in_activity': '1', 'epic_upload_match': '', 'disable_external_viewer_for_links': '0', 'ai_run_custom_code_namespace_scripts': '', 'update_phi_hl7_namespaces': '', 'see_all_destination_search_in_activity': '0', 'include_adt_in_study_find_order': '0', 'customcode_can_share': '0', 'query_retrieve_require_regexp_mwl': '', 'include_in_global_purge': '0', 'encapsulate_wrapped_pdf': '0', 'mrn_qr': '', 'query_retrieve_require_regexp': '', 'enable_namespace_ai_questions': '', 'load_ack_as_hl7': '0', 'ai_delete_duplicate_images': '', 'upload_select_none': '0', 'sso_share_phr_workflow': '0', 'sso_second_opinion_workflow': '0', 'study_share_email_confirm': '0', 'users_from_hl7_mfn': '', 'max_match_study_hl7': '100', 'enable_doximity_auth': '0', 'render_wrapped_avi': '0', 'force_new_study_on_upload': 0, 'create_thin_study_from_oru_study_uid': '', 'create_thin_study_from_orm': '0', 'viewer_link_series': '0', 'link_first_study_only': '0', 'radreport_sign': '', 'batch_encode_cine': '0', 'consolidate_wrapped_jpegs': '0', 'cerner_patient_lookup_info': '', 'viewer_show_std_dev': '0', 'viewer_hide_active_measurement_info': '0', 'upload_event_on_study_sync': '0', 'ai_categorize_phi_in_study_images_google_vision_then_dlp': '', 'study_status_singleton_tags': '', 'saml_redirect_url': '', 'enable_masshiway': '0', 'try_update_original_study': '', 'enable_dicomdir_scan': '1', 'include_date_in_smart_search': '0', 'create_thin_study_from_oru': '0', 'study_edit_reason': '0', 'limit_oru_by_storage_namespace': '', 'mwl_search_is_cfind': '0', 'include_mapped_custom_fields_from_storage_ns': '0', 'training_text': '', 'ai_ocr_study_images_google_vision': '', 'allow_phr_upload': '0', 'mwl_sending_facility_filter': '', 'saml_sync_on_create_only': '0', 'only_this_account_in_vanity': '0', 'orders_from_hl7': '0', 'auto_transcode': '0', 'upload_one_study': '0', 'show_hl7_report_physician_alias_regexp': '0', 'login_location': '', 'case_notify_submitted': '', 'from_email_address': '', 'case_notify_completed': '', 'paypal_account': '', 'request_join_on_vanity_registration': '0', 'save_original_to_pre_anon_cf': 0, 'disable_link_session': '0', 'hide_patient_portal_email_regex': '', 'enable_recaptcha': '0', 'study_status_tags': '', 'ai_delete_scanned_docs': '', 'allow_portal_pin_to_dup_addresses': '0', 'ai_classify_contrast_in_study_series': '', 'mpi_allowed': '', 'appointments_from_hl7_siu': '', 'enable_order_lookup_in_approval': '0', 'suppress_new_patient_share_event': '0', 'auto_wrap_images': '0', 'mpi_config': '', 'limit_query_retrieve_to_input_gateway': '0', 'max_link_studies': '100', 'hl7_fetch_filter': '', 'include_manual_orders_in_study_find_order': '0', 'auto_enable_dicom_wrapping': '0', 'login_json': '', 'study_share_use_account_template': '0', 'account_hl7_map': '', 'work_hour_matrix': '0', 'dicom_deidentification_at_ingress': '1', 'viewer_setting_not_diagnostic': '0', 'enable_google_auth': '0', 'link_defaults': '', 'from_email_name': '', 'logout_url': '', 'add_patientid_to_hl7_query_retrieve': '0', 'update_study_source_on_notify': '0', 'patients_from_hl7_conditions': '', 'pin_auth_text': '', 'upload_settings': '', 'patients_from_hl7_adt_conditions': '', 'study_int_secret': '', 'sync_user_login_to_account_login': '0', 'study_status_timer_suspensive_tags': '', 'enable_radreport_attestation': '0', 'enable_dicom_wrapping': '0', 'viewer_single_instance_series': '0', 'enable_patient_portal': '0', 'ai_study_manual_route': '', 'reverse_patient_name': '0', 'patients_from_hl7_adt': '', 'study_push_status': '0', 'viewer_store_extra_annotation_data': '0', 'force_download_of_attachments': '0', 'use_other_ingress_tags_server_side': '0', 'add_oru_report_to_study': '0', 'study_download_no_reports': '0', 'ai_anonymize_study_hl7_dwf': '', 'enable_credit_card_processor': '0', 'enable_drchrono': '0', 'viewer_hide_ruler': '0', 'allow_drag_and_drop_in_study_uploader': '0', 'must_approve_duplicate_study_uid': '0', 'faq_text': '', 'disable_user_days': '0', 'update_patients_from_hl7': '0', 'auto_create_patient': '0', 'viewer_anon_annotations_clear': '0', 'athena_unsolicited_namespace': '', 'other_ingress_tags': '', 'link_external_referer': '', 'exclude_load_dicom_tag': '1', 'appointments_from_hl7_adt': '', 'suppress_new_report_event_in_phr_for_patients': '0', 'study_search_modifiers': '{}', 'no_default_study_date_time': '0', 'use_link_on_patient_portal_share': '', 'ui_json': '{\"internal_notes\":\"\",\"default_date_format\":\"\",\"separate_non_dicom_upload_form\":0,\"always_show_advanced_search\":0,\"include_first_name_advanced_search\":0,\"add_study_dropdown_is_button\":0,\"allow_advanced_search_or\":0,\"download_studies_roche_format\":0,\"limit_query_retrieve_selected_namespace\":0,\"study_oru_report_limit\":0,\"study_edit_reason_per_field\":0,\"study_namespace_dropdown_hide_all\":0,\"create_thin_study_from_report\":0,\"study_list_send_messages\":0,\"require_guest_link_password\":0,\"enable_gateway_queue_status\":0,\"enable_patient_search_in_order_create_form\":0,\"enable_first_last_in_order_create_form\":0,\"uncheck_send_notification_by_default\":0,\"is_utility_account\":0,\"patient_default_event_share\":0,\"show_study_actions_in_user_audit_trail\":0,\"show_under_approval_reason\":0,\"show_user_analytics\":0,\"enable_study_list_context_menu\":0,\"study_list_context_menu\":[],\"default_destination_search_action\":\"\",\"query_retrieve_form_fields\":[],\"view_study_button_action\":null,\"user_setting_default-user_list_sort_study_list\":\"\",\"view_study_namespace_filter_types\":[],\"view_study_namespace_filter_types_role_id\":\"\",\"mwl_search_filters\":[],\"mwl_must_match_fields\":[],\"limit_gateway_status_queues\":[],\"enable-study-reject-predefined-messages\":0,\"enable-order-physicians-predefined-values\":0,\"enable-order-descriptions-predefined-values\":0,\"enable-order-accnum-generation\":0,\"order-default-aetitle\":\"\",\"orders_req_fields\":[],\"remove-send-status-icon-after-days\":\"\",\"activities-default-sub-tab\":\"\",\"enable-patient-mrn-generation\":0,\"view_study_dropdown_actions\":[],\"order_referring_physicians\":[],\"order_descriptions\":[],\"study_reject_messages\":[],\"request_study_customfields\":[],\"utility_elements_blacklist\":[],\"advanced_search\":[],\"orders_search\":[],\"case_days_old_colors\":[]}', 'passwdqc': '', 'query_retrieve_require_criteria_min': '1', 'enable_thin_retrieve_in_patient_portal': '0', 'radreport_branding_from_phi_namespace': '0', 'study_status_timer_visible_at_last_status': '0', 'bundle_notify_destination_search': '0', 'allow_user_password_for_account_login': '0', 'show_radreport_in_all_namespaces': '0', 'disable_csrf_on_links': '0', 'ai_attach_scanned_docs_as_pdf': '', 'study_status_timer': '0', 'viewer_diagnostic_quality_always': '0', 'ignore_mrn_on_thin_retrieve': '0', 'probe_for_accelerator': '0', 'homepage_links': '[]', 'enable_multipart_uploader': '1', 'viewer_diagnostic_quality': '0', 'other_manual_text': '', 'case_status_mutex_tags': '', 'epic_prompt_for_anonymize': '0', 'multiple_sso_connections': '0', 'enable_viewer_export': '1', 'passwd_regexp': '', 'mwl_filter_expression': '', 'disable_sticky_phi': '0', 'study_search_require_regexp': '', 'cloud_storage_config': '', 'viewer_hide_thumbnails': '0', 'ai_lookup_billing_code': '', 'anonymize_at_ingress': '0', 'ignore_blank_accession_number': '0', 'enable_link_charging': '0', 'ai_anonymize_attached_pdf': '', 'auto_transcode_modalities': '', 'suppress_all_patient_emails': '0', 'viewer_enable_tap_navigation': '0', 'default_list_view': '', 'viewer_preload_diagnostic_images': '0', 'include_patientid_other_in_hl7_match': '0', 'add_on_invite': '1', 'study_status_role_tags': '', 'render_wrapped_video': '0', 'report_view_phr_delay': '0', 'create_thin_study_from_hl7_data_map': '', 'accession_number_for_study_uid': '0', 'case_status_tags': '', 'viewer_default_mouse_tool': 'Scroll', 'apply_settings_to_owned_phr': '0', 'ai_anonymize_study_images_aws_rekognition': '', 'sso_share_phr_workflow_options': '0', 'bypass_study_oversized_threshold': '1', 'study_status_tags_attributes': '', 'enable_dicom_deidentification': '0', 'ai_search_and_replace_study_tags': '', 'viewer3_config': '', 'compress_audio_recordings': '0', 'disable_duplicate_study_upload': '0', 'hl7_delay_route': '', 'search_qr': '', 'include_patientid_in_hl7_match': '1', 'ip_whitelist': '', 'athena_subscribe_orders': '0', 'require_mrn_for_patient_portal': '0', 'saml_saasid': '', 'helpscout_beacon_id': '', 'viewer_enable_mpr': '0', 'reencode_dicom_mp4': '0', 'enable_v2_viewer': '0', 'link_external_whitelist_all_links': '0', 'enable_viewer_print': '1', 'ai_anonymize_study_images_google_dlp': '', 'suppress_hl7_eom_sep': '0', 'auto_update_patient_studies': '0', 'audit_failed_logins': '0', 'account_time_zone': '0', 'ai_bodypart_abdomen_chest_pelvis': '', 'patients_from_hl7': '', 'logo_action': '', 'priority_notifications': '', 'vanity_registration_customfields': '', 'customcode_accounts': '', 'update_phi_hl7': '0', 'study_stat_filter': '', 'viewer_show_reports': '1', 'pixel_anonymize_color': '', 'viewer_default_drop_shape_width': '0', 'epic_name_format': '', 'link_sticky_anon_users': '0'}, 'must_approve': 0, 'no_share': 0, 'vendor': 'UC Health', 'can_request': 0, 'vanity': '', 'share_settings': '{\"pixel_de_id_by_default\":0,\"allow_multiple_share_upload\":0,\"prompt_card_owner_name\":0,\"autoAttachFileTypes\":[],\"study_custom_field_customization\":[]}', 'connected': 0, 'must_approve_move': 0, 'name': 'IRSD', 'password_expire': 0, 'must_approve_upload': 0, 'must_approve_harvest': 0, 'role_id': None, 'uuid': 'd1674f7a-6bc2-459f-9f32-3bf1fcd98fd6'}>,\n",
       " <Box: {'uuid': 'bf1383a9-7fb5-4f46-8702-b5942dec7d99', 'role_id': None, 'must_approve_harvest': 0, 'must_approve_upload': 0, 'name': 'UC Research Clearinghouse', 'must_approve_move': 0, 'password_expire': 0, 'can_request': 0, 'no_share': 0, 'vendor': 'UC Health', 'vanity': '', 'share_settings': '{\"prompt_card_owner_name\":0,\"autoAttachFileTypes\":[]}', 'connected': 0, 'must_approve': 0, 'settings': {'ai_run_custom_code_namespace_scripts': '', 'update_phi_hl7_namespaces': '', 'disable_external_viewer_for_links': '0', 'epic_upload_match': '', 'auto_fill_patient_in_activity': '1', 'include_adt_in_study_find_order': '0', 'see_all_destination_search_in_activity': '0', 'customcode_can_share': 0, 'query_retrieve_require_regexp_mwl': '', 'epic_patient_lookup_info': '', 'baa_text': '', 'mwl_filter_if_matching_study': '0', 'enable_click_to_filter': '0', 'include_mapped_custom_fields_from_last_share': '0', 'external_viewer': '', 'patient_unique_email_phone': '0', 'sr_render_css': '', 'show_study_copy_push_status': 0, 'link_external_whitelist': '', 'exclude_from_ai_share': '0', 'enable_dicom_tag_customfields': '0', 'viewer_hide_thumbnails_datetime': '0', 'enable_v3_viewer': 0, 'study_status_mutex_tags': '', 'ai_anonymize_study_images_aws_textract': '', 'customfields_last_on_search': '0', 'ai_anonymize_study_hl7': '', 'enable_epic_patient_lookup': '0', 'ai_anonymize_attached_pdf_google_dlp': '', 'namespace_child_study_defaults': '0', 'confirm_before_upload': '0', 'allow_multiple_use_of_orders': '0', 'orders_from_hl7_adt': '0', 'athena_orders_filter': '', 'ai_anonymize_study_images': '', 'single_file_dicom_wrapping': 0, 'viewer_study_page_link_url': '', 'enable_viewer_toggle_annotations': '1', 'set_phantom_on_reload': 0, 'refresh_data_on_reshare': '0', 'study_int_secret_direct': '', 'report_csv_download_concat': '0', 'render_wrapped_pdf': '0', 'ai_run_custom_code_scripts': '', 'hide_help_tool': '0', 'viewer_multiframe_split_method': '0', 'use_namespace_name_on_upload_request': '0', 'welcome_password_reset_token_ttl': 0, 'update_study_status_in_all_versions': '0', 'group_local_pushes_by': 0, 'viewer_show_priors_worklist_only': '0', 'ai_anonymize_study_images_tensorflow_east': '', 'expose_patient_portal': 0, 'study_view_phr_delay': '', 'invite_ttl': 0, 'duplicate_study_check': '0', 'radreport_attestation_signature': '0', 'send_oru_instead_of_orm': '0', 'ai_detect_phi_in_study_images_google_dlp': '', 'viewer_study_page_link_visible': '1', 'upload_hold': '0', 'disable_mobile_dicom_wrapping': 0, 'show_study_same_uid_push_status': 0, 'is_ai': '0', 'study_status_timer_attributes': '[]', 'update_phi_syngo_match': '0', 'report_from_hl7': '', 'update_all_studies': '', 'allow_portal_pin_to_dup_addresses': '0', 'ai_delete_scanned_docs': '', 'ai_classify_contrast_in_study_series': '', 'disable_link_session': '0', 'hide_patient_portal_email_regex': '', 'study_status_tags': '', 'enable_recaptcha': 0, 'from_email_address': '', 'case_notify_completed': '', 'case_notify_submitted': '', 'paypal_account': '', 'save_original_to_pre_anon_cf': 0, 'request_join_on_vanity_registration': '0', 'auto_transcode': 0, 'orders_from_hl7': '0', 'upload_one_study': '0', 'login_location': '', 'show_hl7_report_physician_alias_regexp': '0', 'saml_sync_on_create_only': '0', 'only_this_account_in_vanity': '0', 'allow_phr_upload': '0', 'mwl_sending_facility_filter': '', 'study_edit_reason': '0', 'create_thin_study_from_oru': '0', 'limit_oru_by_storage_namespace': '', 'include_mapped_custom_fields_from_storage_ns': '0', 'mwl_search_is_cfind': '0', 'training_text': '', 'ai_ocr_study_images_google_vision': '', 'study_status_singleton_tags': '', 'ai_categorize_phi_in_study_images_google_vision_then_dlp': '', 'saml_redirect_url': '', 'enable_dicomdir_scan': '1', 'try_update_original_study': '', 'enable_masshiway': '0', 'include_date_in_smart_search': '0', 'viewer_show_std_dev': '0', 'upload_event_on_study_sync': '0', 'viewer_hide_active_measurement_info': '0', 'link_first_study_only': '0', 'radreport_sign': '', 'batch_encode_cine': '0', 'cerner_patient_lookup_info': '', 'consolidate_wrapped_jpegs': '0', 'viewer_link_series': '0', 'render_wrapped_avi': '0', 'force_new_study_on_upload': 0, 'create_thin_study_from_orm': '0', 'create_thin_study_from_oru_study_uid': '', 'max_match_study_hl7': '100', 'enable_doximity_auth': '0', 'users_from_hl7_mfn': '', 'study_share_email_confirm': '0', 'enable_namespace_ai_questions': '', 'load_ack_as_hl7': '0', 'ai_delete_duplicate_images': '', 'sso_second_opinion_workflow': '0', 'sso_share_phr_workflow': '0', 'upload_select_none': '0', 'include_in_global_purge': 0, 'encapsulate_wrapped_pdf': 0, 'mrn_qr': '', 'query_retrieve_require_regexp': '', 'show_radreport_in_all_namespaces': '0', 'allow_user_password_for_account_login': '0', 'bundle_notify_destination_search': 0, 'disable_csrf_on_links': '0', 'ai_attach_scanned_docs_as_pdf': '', 'ui_json': '{\"internal_notes\":\"\",\"default_date_format\":\"\",\"always_show_advanced_search\":0,\"include_first_name_advanced_search\":0,\"add_study_dropdown_is_button\":0,\"allow_advanced_search_or\":0,\"download_studies_roche_format\":0,\"limit_query_retrieve_selected_namespace\":0,\"show_query_retrieve_create_study_create_thin\":0,\"study_edit_reason_per_field\":0,\"study_namespace_dropdown_hide_all\":0,\"create_thin_study_from_report\":0,\"enable_gateway_queue_status\":0,\"enable_viewer_v3\":0,\"default_destination_search_action\":\"\",\"view_study_button_action\":null,\"user_setting_default-user_list_sort_study_list\":\"\",\"view_study_namespace_filter_types\":[],\"view_study_namespace_filter_types_role_id\":\"\",\"mwl_search_filters\":[],\"limit_gateway_status_queues\":[],\"view_study_dropdown_actions\":[]}', 'use_link_on_patient_portal_share': '', 'passwdqc': '', 'radreport_branding_from_phi_namespace': '0', 'study_status_timer_visible_at_last_status': 0, 'enable_thin_retrieve_in_patient_portal': '0', 'query_retrieve_require_criteria_min': 1, 'other_ingress_tags': '', 'appointments_from_hl7_adt': '', 'exclude_load_dicom_tag': '1', 'link_external_referer': '', 'no_default_study_date_time': '0', 'study_search_modifiers': '', 'suppress_new_report_event_in_phr_for_patients': 0, 'athena_unsolicited_namespace': '', 'allow_drag_and_drop_in_study_uploader': 0, 'disable_user_days': '', 'must_approve_duplicate_study_uid': 0, 'faq_text': '', 'auto_create_patient': '0', 'update_patients_from_hl7': '0', 'viewer_anon_annotations_clear': '0', 'enable_credit_card_processor': '0', 'ai_anonymize_study_hl7_dwf': '', 'enable_drchrono': '0', 'viewer_hide_ruler': '0', 'use_other_ingress_tags_server_side': '1', 'force_download_of_attachments': '0', 'viewer_store_extra_annotation_data': '0', 'study_push_status': '0', 'add_oru_report_to_study': '0', 'study_download_no_reports': 0, 'ai_study_manual_route': '', 'enable_patient_portal': '0', 'patients_from_hl7_adt': '', 'reverse_patient_name': '0', 'sync_user_login_to_account_login': '0', 'study_int_secret': '', 'enable_radreport_attestation': '0', 'study_status_timer_suspensive_tags': '', 'viewer_single_instance_series': '0', 'enable_dicom_wrapping': '0', 'patients_from_hl7_adt_conditions': '', 'update_study_source_on_notify': '0', 'patients_from_hl7_conditions': '', 'upload_settings': '', 'pin_auth_text': '', 'from_email_name': '', 'logout_url': '', 'add_patientid_to_hl7_query_retrieve': '0', 'enable_google_auth': '0', 'viewer_setting_not_diagnostic': '0', 'dicom_deidentification_at_ingress': '1', 'link_defaults': '', 'auto_enable_dicom_wrapping': '0', 'login_json': '', 'study_share_use_account_template': '0', 'work_hour_matrix': 0, 'account_hl7_map': '', 'max_link_studies': '100', 'limit_query_retrieve_to_input_gateway': '0', 'hl7_fetch_filter': '', 'include_manual_orders_in_study_find_order': 0, 'appointments_from_hl7_siu': '', 'mpi_allowed': '', 'suppress_new_patient_share_event': '0', 'enable_order_lookup_in_approval': '0', 'mpi_config': '', 'auto_wrap_images': '0', 'epic_name_format': '', 'link_sticky_anon_users': 0, 'vanity_registration_customfields': 0, 'viewer_show_reports': '1', 'pixel_anonymize_color': '', 'update_phi_hl7': '0', 'study_stat_filter': '', 'customcode_accounts': '', 'viewer_default_drop_shape_width': '0', 'audit_failed_logins': '0', 'auto_update_patient_studies': '0', 'ai_bodypart_abdomen_chest_pelvis': '', 'account_time_zone': 0, 'logo_action': '', 'patients_from_hl7': '', 'priority_notifications': '', 'athena_subscribe_orders': '0', 'require_mrn_for_patient_portal': '0', 'viewer_enable_mpr': '0', 'helpscout_beacon_id': '', 'saml_saasid': '', 'enable_v2_viewer': '0', 'reencode_dicom_mp4': '0', 'enable_viewer_print': '1', 'link_external_whitelist_all_links': 0, 'suppress_hl7_eom_sep': '0', 'ai_anonymize_study_images_google_dlp': '', 'hl7_delay_route': '', 'ip_whitelist': '', 'include_patientid_in_hl7_match': '1', 'search_qr': '', 'study_status_tags_attributes': '', 'bypass_study_oversized_threshold': '0', 'enable_dicom_deidentification': '0', 'compress_audio_recordings': '0', 'viewer3_config': '', 'ai_search_and_replace_study_tags': '', 'disable_duplicate_study_upload': 0, 'ai_anonymize_study_images_aws_rekognition': '', 'apply_settings_to_owned_phr': '0', 'sso_share_phr_workflow_options': '0', 'report_view_phr_delay': '0', 'create_thin_study_from_hl7_data_map': '', 'accession_number_for_study_uid': '0', 'case_status_tags': '', 'viewer_default_mouse_tool': 'Scroll', 'default_list_view': '', 'viewer_preload_diagnostic_images': '0', 'include_patientid_other_in_hl7_match': '0', 'render_wrapped_video': 0, 'add_on_invite': '0', 'study_status_role_tags': '', 'suppress_all_patient_emails': '0', 'viewer_enable_tap_navigation': '0', 'ignore_blank_accession_number': '0', 'enable_link_charging': '0', 'auto_transcode_modalities': '', 'ai_anonymize_attached_pdf': '', 'study_search_require_regexp': '', 'cloud_storage_config': '', 'ai_lookup_billing_code': '', 'viewer_hide_thumbnails': '0', 'anonymize_at_ingress': '0', 'mwl_filter_expression': '', 'disable_sticky_phi': 0, 'multiple_sso_connections': '0', 'passwd_regexp': '', 'enable_viewer_export': '1', 'viewer_diagnostic_quality': '0', 'homepage_links': '[]', 'enable_multipart_uploader': '1', 'epic_prompt_for_anonymize': '0', 'case_status_mutex_tags': '', 'other_manual_text': '', 'study_status_timer': '0', 'viewer_diagnostic_quality_always': '0', 'probe_for_accelerator': '0', 'ignore_mrn_on_thin_retrieve': 0}, 'session_expire': 0, 'share_via_gateway': 0, 'namespace_id': 'd7d8d7ff-c6b8-49f2-9af8-78f5ad8270f0', 'share_description': '', 'search_threshold': 1000, 'role_name': '', 'css': None, 'hl7_template': '', 'share_code': ''}>,\n",
       " <Box: {'session_expire': 30, 'settings': {'audit_failed_logins': '0', 'auto_update_patient_studies': '0', 'ai_bodypart_abdomen_chest_pelvis': '', 'account_time_zone': '0', 'patients_from_hl7': '', 'logo_action': '', 'priority_notifications': '', 'require_mrn_for_patient_portal': '0', 'athena_subscribe_orders': '0', 'helpscout_beacon_id': '', 'viewer_enable_mpr': '0', 'saml_saasid': '', 'enable_v2_viewer': '0', 'reencode_dicom_mp4': '0', 'enable_viewer_print': '1', 'link_external_whitelist_all_links': '0', 'ai_anonymize_study_images_google_dlp': '', 'suppress_hl7_eom_sep': '0', 'epic_name_format': '', 'link_sticky_anon_users': '0', 'vanity_registration_customfields': '', 'viewer_show_reports': '1', 'pixel_anonymize_color': '', 'update_phi_hl7': '0', 'customcode_accounts': '', 'study_stat_filter': '', 'viewer_default_drop_shape_width': '0', 'ai_anonymize_study_images_aws_rekognition': '', 'apply_settings_to_owned_phr': '0', 'sso_share_phr_workflow_options': '0', 'report_view_phr_delay': '0', 'create_thin_study_from_hl7_data_map': '', 'accession_number_for_study_uid': '0', 'case_status_tags': '', 'viewer_default_mouse_tool': 'Scroll', 'hl7_delay_route': '', 'ip_whitelist': '', 'include_patientid_in_hl7_match': '1', 'search_qr': '', 'study_status_tags_attributes': '', 'bypass_study_oversized_threshold': '0', 'enable_dicom_deidentification': '0', 'compress_audio_recordings': '0', 'viewer3_config': '', 'ai_search_and_replace_study_tags': '', 'disable_duplicate_study_upload': '0', 'ignore_blank_accession_number': '0', 'enable_link_charging': '0', 'auto_transcode_modalities': '', 'ai_anonymize_attached_pdf': '', 'study_search_require_regexp': '', 'cloud_storage_config': '', 'ai_lookup_billing_code': '', 'viewer_hide_thumbnails': '0', 'anonymize_at_ingress': '1', 'default_list_view': '', 'include_patientid_other_in_hl7_match': '0', 'viewer_preload_diagnostic_images': '0', 'render_wrapped_video': '0', 'add_on_invite': '1', 'study_status_role_tags': '', 'suppress_all_patient_emails': '0', 'viewer_enable_tap_navigation': '0', 'viewer_diagnostic_quality': '0', 'homepage_links': '[]', 'enable_multipart_uploader': '1', 'case_status_mutex_tags': '', 'epic_prompt_for_anonymize': '0', 'other_manual_text': '', 'study_status_timer': '0', 'viewer_diagnostic_quality_always': '0', 'ignore_mrn_on_thin_retrieve': '0', 'probe_for_accelerator': '0', 'mwl_filter_expression': '', 'disable_sticky_phi': '0', 'multiple_sso_connections': '0', 'passwd_regexp': '', 'enable_viewer_export': '1', 'other_ingress_tags': '', 'exclude_load_dicom_tag': '1', 'appointments_from_hl7_adt': '', 'link_external_referer': '', 'study_search_modifiers': '{}', 'no_default_study_date_time': '0', 'suppress_new_report_event_in_phr_for_patients': '0', 'athena_unsolicited_namespace': '', 'show_radreport_in_all_namespaces': '0', 'allow_user_password_for_account_login': '0', 'bundle_notify_destination_search': '0', 'disable_csrf_on_links': '0', 'ai_attach_scanned_docs_as_pdf': '', 'ui_json': '{\"internal_notes\":\"\",\"default_date_format\":\"\",\"separate_non_dicom_upload_form\":0,\"always_show_advanced_search\":0,\"include_first_name_advanced_search\":0,\"add_study_dropdown_is_button\":1,\"allow_advanced_search_or\":0,\"download_studies_roche_format\":0,\"limit_query_retrieve_selected_namespace\":0,\"study_oru_report_limit\":0,\"study_edit_reason_per_field\":0,\"study_namespace_dropdown_hide_all\":1,\"create_thin_study_from_report\":0,\"study_list_send_messages\":0,\"require_guest_link_password\":0,\"enable_gateway_queue_status\":0,\"enable_patient_search_in_order_create_form\":0,\"enable_first_last_in_order_create_form\":0,\"uncheck_send_notification_by_default\":0,\"is_utility_account\":0,\"patient_default_event_share\":0,\"show_study_actions_in_user_audit_trail\":0,\"show_under_approval_reason\":0,\"show_user_analytics\":0,\"enable_study_list_context_menu\":0,\"study_list_context_menu\":[\"images\",\"download\",\"study_audit\",\"reports\",\"share\",\"change_study_stage\",\"delete\"],\"default_destination_search_action\":\"\",\"query_retrieve_form_fields\":[],\"view_study_button_action\":\"browse-study\",\"user_setting_default-user_list_sort_study_list\":\"study_date-desc,study_time-desc\",\"view_study_namespace_filter_types\":[],\"view_study_namespace_filter_types_role_id\":\"\",\"mwl_search_filters\":[],\"mwl_must_match_fields\":[],\"limit_gateway_status_queues\":[],\"enable-study-reject-predefined-messages\":0,\"enable-order-physicians-predefined-values\":0,\"enable-order-descriptions-predefined-values\":0,\"enable-order-accnum-generation\":0,\"order-default-aetitle\":\"\",\"orders_req_fields\":[],\"remove-send-status-icon-after-days\":\"\",\"activities-default-sub-tab\":\"STUDY_APPROVE\",\"enable-patient-mrn-generation\":0,\"view_study_dropdown_actions\":[\"browse-study-new-tab\"],\"order_referring_physicians\":[],\"order_descriptions\":[],\"study_reject_messages\":[],\"request_study_customfields\":[],\"utility_elements_blacklist\":[],\"advanced_search\":[],\"orders_search\":[],\"case_days_old_colors\":[]}', 'use_link_on_patient_portal_share': '', 'passwdqc': '', 'radreport_branding_from_phi_namespace': '0', 'study_status_timer_visible_at_last_status': '0', 'query_retrieve_require_criteria_min': '1', 'enable_thin_retrieve_in_patient_portal': '0', 'use_other_ingress_tags_server_side': '0', 'force_download_of_attachments': '0', 'viewer_store_extra_annotation_data': '0', 'study_push_status': '1', 'add_oru_report_to_study': '0', 'study_download_no_reports': '0', 'ai_study_manual_route': '', 'enable_patient_portal': '0', 'patients_from_hl7_adt': '', 'reverse_patient_name': '0', 'allow_drag_and_drop_in_study_uploader': '1', 'disable_user_days': '0', 'must_approve_duplicate_study_uid': '0', 'faq_text': '', 'update_patients_from_hl7': '0', 'auto_create_patient': '0', 'viewer_anon_annotations_clear': '0', 'enable_credit_card_processor': '0', 'ai_anonymize_study_hl7_dwf': '', 'enable_drchrono': '0', 'viewer_hide_ruler': '0', 'update_study_source_on_notify': '0', 'patients_from_hl7_conditions': '', 'pin_auth_text': '', 'upload_settings': '', 'from_email_name': 'UC Research - SENSE Trial', 'logout_url': '', 'add_patientid_to_hl7_query_retrieve': '0', 'sync_user_login_to_account_login': '0', 'study_int_secret': '', 'enable_radreport_attestation': '0', 'study_status_timer_suspensive_tags': '', 'viewer_single_instance_series': '0', 'enable_dicom_wrapping': '0', 'patients_from_hl7_adt_conditions': '', 'max_link_studies': '100', 'limit_query_retrieve_to_input_gateway': '0', 'hl7_fetch_filter': '', 'include_manual_orders_in_study_find_order': '0', 'mpi_allowed': '', 'appointments_from_hl7_siu': '', 'suppress_new_patient_share_event': '0', 'enable_order_lookup_in_approval': '0', 'mpi_config': '', 'auto_wrap_images': '0', 'enable_google_auth': '0', 'viewer_setting_not_diagnostic': '0', 'dicom_deidentification_at_ingress': '0', 'link_defaults': '', 'auto_enable_dicom_wrapping': '0', 'login_json': '', 'study_share_use_account_template': '0', 'work_hour_matrix': '0', 'account_hl7_map': '', 'case_notify_completed': '', 'from_email_address': 'support@ambrahealth.com', 'case_notify_submitted': '', 'paypal_account': '', 'save_original_to_pre_anon_cf': '0', 'request_join_on_vanity_registration': '0', 'auto_transcode': '0', 'orders_from_hl7': '0', 'upload_one_study': '0', 'login_location': '', 'show_hl7_report_physician_alias_regexp': '0', 'ai_delete_scanned_docs': '', 'allow_portal_pin_to_dup_addresses': '0', 'ai_classify_contrast_in_study_series': '', 'disable_link_session': '0', 'hide_patient_portal_email_regex': '', 'study_status_tags': 'Not Ready,Ready for Assignment,Ready to be Read,Do Not Read,Completed', 'enable_recaptcha': '0', 'study_edit_reason': '0', 'create_thin_study_from_oru': '0', 'limit_oru_by_storage_namespace': '', 'include_mapped_custom_fields_from_storage_ns': '0', 'mwl_search_is_cfind': '0', 'training_text': '', 'ai_ocr_study_images_google_vision': '', 'study_status_singleton_tags': '', 'ai_categorize_phi_in_study_images_google_vision_then_dlp': '', 'saml_redirect_url': '', 'enable_dicomdir_scan': '0', 'enable_masshiway': '0', 'try_update_original_study': '', 'include_date_in_smart_search': '0', 'saml_sync_on_create_only': '0', 'only_this_account_in_vanity': '0', 'allow_phr_upload': '0', 'mwl_sending_facility_filter': '', 'viewer_link_series': '0', 'render_wrapped_avi': '0', 'force_new_study_on_upload': '0', 'create_thin_study_from_orm': '0', 'create_thin_study_from_oru_study_uid': '', 'viewer_show_std_dev': '0', 'upload_event_on_study_sync': '0', 'viewer_hide_active_measurement_info': '0', 'link_first_study_only': '0', 'batch_encode_cine': '0', 'radreport_sign': '', 'consolidate_wrapped_jpegs': '0', 'cerner_patient_lookup_info': '', 'enable_namespace_ai_questions': '', 'load_ack_as_hl7': '0', 'ai_delete_duplicate_images': '', 'sso_second_opinion_workflow': '0', 'sso_share_phr_workflow': '0', 'upload_select_none': '0', 'include_in_global_purge': '0', 'encapsulate_wrapped_pdf': '0', 'mrn_qr': '', 'query_retrieve_require_regexp': '', 'max_match_study_hl7': '100', 'enable_doximity_auth': '0', 'users_from_hl7_mfn': '', 'study_share_email_confirm': '0', 'include_mapped_custom_fields_from_last_share': '0', 'enable_click_to_filter': '1', 'mwl_filter_if_matching_study': '0', 'external_viewer': '', 'patient_unique_email_phone': '0', 'sr_render_css': '', 'show_study_copy_push_status': '1', 'link_external_whitelist': '', 'exclude_from_ai_share': '0', 'enable_dicom_tag_customfields': '0', 'viewer_hide_thumbnails_datetime': '0', 'enable_v3_viewer': '0', 'study_status_mutex_tags': '', 'ai_anonymize_study_images_aws_textract': '', 'customfields_last_on_search': '0', 'update_phi_hl7_namespaces': '', 'ai_run_custom_code_namespace_scripts': '', 'disable_external_viewer_for_links': '0', 'auto_fill_patient_in_activity': '1', 'epic_upload_match': '', 'include_adt_in_study_find_order': '0', 'see_all_destination_search_in_activity': '0', 'customcode_can_share': '0', 'query_retrieve_require_regexp_mwl': '', 'epic_patient_lookup_info': '', 'baa_text': '', 'ai_anonymize_study_images': '', 'single_file_dicom_wrapping': '0', 'viewer_study_page_link_url': '', 'enable_viewer_toggle_annotations': '1', 'set_phantom_on_reload': '0', 'refresh_data_on_reshare': '0', 'report_csv_download_concat': '1', 'study_int_secret_direct': '', 'render_wrapped_pdf': '0', 'ai_anonymize_study_hl7': '', 'enable_epic_patient_lookup': '0', 'ai_anonymize_attached_pdf_google_dlp': '', 'namespace_child_study_defaults': '0', 'confirm_before_upload': '0', 'allow_multiple_use_of_orders': '0', 'orders_from_hl7_adt': '0', 'athena_orders_filter': '', 'group_local_pushes_by': '[]', 'viewer_show_priors_worklist_only': '0', 'ai_anonymize_study_images_tensorflow_east': '', 'expose_patient_portal': '0', 'study_view_phr_delay': '', 'ai_run_custom_code_scripts': '', 'hide_help_tool': '0', 'viewer_multiframe_split_method': '0', 'use_namespace_name_on_upload_request': '0', 'update_study_status_in_all_versions': '0', 'welcome_password_reset_token_ttl': '0', 'is_ai': '0', 'study_status_timer_attributes': '[]', 'update_phi_syngo_match': '0', 'report_from_hl7': '', 'update_all_studies': '', 'invite_ttl': '0', 'duplicate_study_check': '0', 'radreport_attestation_signature': '0', 'send_oru_instead_of_orm': '0', 'ai_detect_phi_in_study_images_google_dlp': '', 'upload_hold': '0', 'viewer_study_page_link_visible': '1', 'disable_mobile_dicom_wrapping': '0', 'show_study_same_uid_push_status': '1'}, 'must_approve': 0, 'share_via_gateway': None, 'namespace_id': 'fb792ca0-c032-4c10-bfa9-dacaa1e28ea6', 'share_description': '', 'search_threshold': 1000, 'role_name': '', 'hl7_template': '', 'css': None, 'share_code': '', 'role_id': None, 'uuid': '934eeb18-a618-4a5f-bf31-2be57c7c7b10', 'must_approve_upload': 0, 'must_approve_harvest': 0, 'must_approve_move': 0, 'name': 'SENSE', 'password_expire': 90, 'no_share': 0, 'vendor': 'UC Health', 'can_request': 0, 'share_settings': '{\"study_custom_field_customization\":[],\"pixel_de_id_by_default\":0,\"allow_multiple_share_upload\":0,\"prompt_card_owner_name\":0,\"autoAttachFileTypes\":[]}', 'vanity': '', 'connected': 0}>,\n",
       " <Box: {'must_approve_move': 0, 'name': 'AI-BAC', 'password_expire': 0, 'vendor': '', 'no_share': 0, 'can_request': 0, 'vanity': '', 'share_settings': '{\"pixel_de_id_by_default\":0,\"allow_multiple_share_upload\":0,\"prompt_card_owner_name\":0,\"autoAttachFileTypes\":[],\"study_custom_field_customization\":[]}', 'connected': 0, 'role_id': None, 'uuid': 'c9733518-453b-4ddb-beab-e86210849346', 'must_approve_upload': 0, 'must_approve_harvest': 0, 'share_description': '', 'search_threshold': 1000, 'role_name': '', 'hl7_template': '', 'css': None, 'share_code': '', 'session_expire': 0, 'must_approve': 0, 'settings': {'link_external_referer': '', 'exclude_load_dicom_tag': '1', 'appointments_from_hl7_adt': '', 'suppress_new_report_event_in_phr_for_patients': '0', 'study_search_modifiers': '{}', 'no_default_study_date_time': '0', 'other_ingress_tags': '', 'athena_unsolicited_namespace': '', 'disable_csrf_on_links': '0', 'ai_attach_scanned_docs_as_pdf': '', 'allow_user_password_for_account_login': '0', 'bundle_notify_destination_search': '0', 'show_radreport_in_all_namespaces': '0', 'passwdqc': '', 'query_retrieve_require_criteria_min': '1', 'enable_thin_retrieve_in_patient_portal': '0', 'radreport_branding_from_phi_namespace': '0', 'study_status_timer_visible_at_last_status': '0', 'use_link_on_patient_portal_share': '', 'ui_json': '{\"internal_notes\":\"\",\"default_date_format\":\"\",\"separate_non_dicom_upload_form\":0,\"always_show_advanced_search\":0,\"include_first_name_advanced_search\":0,\"add_study_dropdown_is_button\":1,\"allow_advanced_search_or\":0,\"download_studies_roche_format\":0,\"limit_query_retrieve_selected_namespace\":0,\"study_oru_report_limit\":0,\"study_edit_reason_per_field\":0,\"study_namespace_dropdown_hide_all\":1,\"create_thin_study_from_report\":0,\"study_list_send_messages\":0,\"require_guest_link_password\":0,\"enable_gateway_queue_status\":0,\"enable_patient_search_in_order_create_form\":0,\"enable_first_last_in_order_create_form\":0,\"uncheck_send_notification_by_default\":0,\"is_utility_account\":0,\"patient_default_event_share\":0,\"show_study_actions_in_user_audit_trail\":0,\"show_under_approval_reason\":0,\"show_user_analytics\":0,\"enable_study_list_context_menu\":0,\"study_list_context_menu\":[\"images\",\"edit\",\"download\",\"study_audit\",\"send\",\"share\",\"remove_share\",\"change_study_stage\",\"delete\"],\"default_destination_search_action\":\"\",\"query_retrieve_form_fields\":[],\"view_study_button_action\":\"browse-study\",\"user_setting_default-user_list_sort_study_list\":\"study_date-desc,study_time-desc\",\"view_study_namespace_filter_types\":[],\"view_study_namespace_filter_types_role_id\":\"\",\"mwl_search_filters\":[],\"mwl_must_match_fields\":[],\"limit_gateway_status_queues\":[],\"enable-study-reject-predefined-messages\":0,\"enable-order-physicians-predefined-values\":0,\"enable-order-descriptions-predefined-values\":0,\"enable-order-accnum-generation\":0,\"order-default-aetitle\":\"\",\"orders_req_fields\":[],\"remove-send-status-icon-after-days\":\"\",\"activities-default-sub-tab\":\"\",\"enable-patient-mrn-generation\":0,\"view_study_dropdown_actions\":[\"browse-study-new-tab\",\"browse-study-dashboard\"],\"order_referring_physicians\":[],\"order_descriptions\":[],\"study_reject_messages\":[],\"request_study_customfields\":[],\"utility_elements_blacklist\":[],\"advanced_search\":[],\"orders_search\":[],\"case_days_old_colors\":[]}', 'study_download_no_reports': '0', 'force_download_of_attachments': '0', 'viewer_store_extra_annotation_data': '0', 'study_push_status': '1', 'use_other_ingress_tags_server_side': '0', 'add_oru_report_to_study': '0', 'reverse_patient_name': '0', 'patients_from_hl7_adt': '', 'enable_patient_portal': '0', 'ai_study_manual_route': '', 'auto_create_patient': '0', 'viewer_anon_annotations_clear': '0', 'update_patients_from_hl7': '0', 'allow_drag_and_drop_in_study_uploader': '0', 'must_approve_duplicate_study_uid': '0', 'faq_text': '', 'disable_user_days': '0', 'viewer_hide_ruler': '0', 'enable_credit_card_processor': '0', 'ai_anonymize_study_hl7_dwf': '', 'enable_drchrono': '0', 'patients_from_hl7_conditions': '', 'upload_settings': '', 'pin_auth_text': '', 'update_study_source_on_notify': '0', 'logout_url': '', 'add_patientid_to_hl7_query_retrieve': '0', 'from_email_name': '', 'viewer_single_instance_series': '0', 'enable_dicom_wrapping': '0', 'study_int_secret': '', 'sync_user_login_to_account_login': '0', 'enable_radreport_attestation': '0', 'study_status_timer_suspensive_tags': '', 'patients_from_hl7_adt_conditions': '', 'include_manual_orders_in_study_find_order': '0', 'limit_query_retrieve_to_input_gateway': '0', 'max_link_studies': '100', 'hl7_fetch_filter': '', 'auto_wrap_images': '0', 'mpi_config': '', 'mpi_allowed': '', 'appointments_from_hl7_siu': '', 'enable_order_lookup_in_approval': '0', 'suppress_new_patient_share_event': '0', 'link_defaults': '', 'dicom_deidentification_at_ingress': '1', 'viewer_setting_not_diagnostic': '0', 'enable_google_auth': '0', 'study_share_use_account_template': '0', 'work_hour_matrix': '0', 'account_hl7_map': '', 'auto_enable_dicom_wrapping': '0', 'login_json': '', 'patients_from_hl7': '', 'logo_action': '', 'priority_notifications': '', 'auto_update_patient_studies': '0', 'audit_failed_logins': '0', 'ai_bodypart_abdomen_chest_pelvis': '', 'account_time_zone': '0', 'reencode_dicom_mp4': '0', 'enable_v2_viewer': '0', 'enable_viewer_print': '1', 'ai_anonymize_study_images_google_dlp': '', 'link_external_whitelist_all_links': '0', 'suppress_hl7_eom_sep': '0', 'require_mrn_for_patient_portal': '0', 'athena_subscribe_orders': '0', 'saml_saasid': '', 'viewer_enable_mpr': '0', 'helpscout_beacon_id': '', 'link_sticky_anon_users': '0', 'epic_name_format': '', 'viewer_default_drop_shape_width': '0', 'vanity_registration_customfields': '', 'update_phi_hl7': '0', 'study_stat_filter': '', 'customcode_accounts': '', 'pixel_anonymize_color': '', 'viewer_show_reports': '1', 'sso_share_phr_workflow_options': '0', 'apply_settings_to_owned_phr': '0', 'ai_anonymize_study_images_aws_rekognition': '', 'accession_number_for_study_uid': '0', 'case_status_tags': '', 'viewer_default_mouse_tool': 'Scroll', 'report_view_phr_delay': '0', 'create_thin_study_from_hl7_data_map': '', 'hl7_delay_route': '', 'ip_whitelist': '', 'include_patientid_in_hl7_match': '1', 'search_qr': '', 'ai_search_and_replace_study_tags': '', 'viewer3_config': '', 'compress_audio_recordings': '0', 'disable_duplicate_study_upload': '0', 'bypass_study_oversized_threshold': '0', 'study_status_tags_attributes': '', 'enable_dicom_deidentification': '1', 'enable_link_charging': '0', 'ai_anonymize_attached_pdf': '', 'auto_transcode_modalities': '', 'ignore_blank_accession_number': '0', 'viewer_hide_thumbnails': '0', 'ai_lookup_billing_code': '', 'anonymize_at_ingress': '1', 'study_search_require_regexp': '', 'cloud_storage_config': '', 'include_patientid_other_in_hl7_match': '0', 'viewer_preload_diagnostic_images': '0', 'add_on_invite': '1', 'study_status_role_tags': '{\\n\\t\"Not Ready\": [\"3e6cf700-6832-4558-902d-6e1f695b90e2\", \"48e3a893-7a91-4ac0-aa9b-09bb056890b4\"],\\n\\t\"Ready to be Read\": [\"3e6cf700-6832-4558-902d-6e1f695b90e2\", \"48e3a893-7a91-4ac0-aa9b-09bb056890b4\"],\\n\\t\"Ready for Assignment\": [\"3e6cf700-6832-4558-902d-6e1f695b90e2\", \"48e3a893-7a91-4ac0-aa9b-09bb056890b4\"],\\n    \"Do Not Read\": [\"3e6cf700-6832-4558-902d-6e1f695b90e2\", \"48e3a893-7a91-4ac0-aa9b-09bb056890b4\"],\\n\\t\"Completed\": [\"3e6cf700-6832-4558-902d-6e1f695b90e2\", \"48e3a893-7a91-4ac0-aa9b-09bb056890b4\"]\\n}', 'render_wrapped_video': '0', 'default_list_view': '', 'viewer_enable_tap_navigation': '0', 'suppress_all_patient_emails': '0', 'other_manual_text': '', 'epic_prompt_for_anonymize': '0', 'case_status_mutex_tags': '', 'enable_multipart_uploader': '1', 'homepage_links': '[]', 'viewer_diagnostic_quality': '0', 'viewer_diagnostic_quality_always': '0', 'probe_for_accelerator': '0', 'ignore_mrn_on_thin_retrieve': '0', 'study_status_timer': '0', 'mwl_filter_expression': '', 'disable_sticky_phi': '0', 'enable_viewer_export': '1', 'passwd_regexp': '', 'multiple_sso_connections': '0', 'sr_render_css': '', 'show_study_copy_push_status': '1', 'link_external_whitelist': '', 'patient_unique_email_phone': '0', 'exclude_from_ai_share': '0', 'external_viewer': '', 'enable_click_to_filter': '1', 'include_mapped_custom_fields_from_last_share': '0', 'mwl_filter_if_matching_study': '0', 'ai_anonymize_study_images_aws_textract': '', 'study_status_mutex_tags': '', 'customfields_last_on_search': '0', 'viewer_hide_thumbnails_datetime': '0', 'enable_dicom_tag_customfields': '0', 'enable_v3_viewer': '0', 'see_all_destination_search_in_activity': '0', 'include_adt_in_study_find_order': '0', 'query_retrieve_require_regexp_mwl': '', 'customcode_can_share': '0', 'epic_upload_match': '', 'auto_fill_patient_in_activity': '1', 'disable_external_viewer_for_links': '0', 'update_phi_hl7_namespaces': '', 'ai_run_custom_code_namespace_scripts': '', 'baa_text': '', 'epic_patient_lookup_info': '', 'enable_viewer_toggle_annotations': '1', 'viewer_study_page_link_url': '', 'single_file_dicom_wrapping': '0', 'set_phantom_on_reload': '0', 'ai_anonymize_study_images': '', 'render_wrapped_pdf': '0', 'refresh_data_on_reshare': '0', 'report_csv_download_concat': '0', 'study_int_secret_direct': '', 'enable_epic_patient_lookup': '0', 'ai_anonymize_study_hl7': '', 'confirm_before_upload': '0', 'athena_orders_filter': '', 'orders_from_hl7_adt': '0', 'allow_multiple_use_of_orders': '0', 'ai_anonymize_attached_pdf_google_dlp': '', 'namespace_child_study_defaults': '0', 'expose_patient_portal': '0', 'group_local_pushes_by': '[]', 'ai_anonymize_study_images_tensorflow_east': '', 'viewer_show_priors_worklist_only': '0', 'study_view_phr_delay': '', 'use_namespace_name_on_upload_request': '0', 'update_study_status_in_all_versions': '0', 'welcome_password_reset_token_ttl': '0', 'ai_run_custom_code_scripts': '', 'viewer_multiframe_split_method': '0', 'hide_help_tool': '0', 'study_status_timer_attributes': '[]', 'is_ai': '0', 'update_phi_syngo_match': '0', 'update_all_studies': '', 'report_from_hl7': '', 'ai_detect_phi_in_study_images_google_dlp': '', 'upload_hold': '0', 'viewer_study_page_link_visible': '1', 'radreport_attestation_signature': '0', 'duplicate_study_check': '1', 'invite_ttl': '0', 'send_oru_instead_of_orm': '0', 'show_study_same_uid_push_status': '1', 'disable_mobile_dicom_wrapping': '0', 'request_join_on_vanity_registration': '0', 'save_original_to_pre_anon_cf': 0, 'case_notify_submitted': '', 'from_email_address': '', 'case_notify_completed': '', 'paypal_account': '', 'upload_one_study': '0', 'show_hl7_report_physician_alias_regexp': '0', 'login_location': '', 'orders_from_hl7': '0', 'auto_transcode': '0', 'allow_portal_pin_to_dup_addresses': '0', 'ai_delete_scanned_docs': '', 'ai_classify_contrast_in_study_series': '', 'enable_recaptcha': '0', 'study_status_tags': 'Not Ready,Ready for Assignment,Ready to be Read,Do Not Read,Completed', 'disable_link_session': '0', 'hide_patient_portal_email_regex': '', 'training_text': '', 'ai_ocr_study_images_google_vision': '', 'study_edit_reason': '0', 'create_thin_study_from_oru': '0', 'limit_oru_by_storage_namespace': '', 'mwl_search_is_cfind': '0', 'include_mapped_custom_fields_from_storage_ns': '0', 'try_update_original_study': '', 'enable_masshiway': '0', 'enable_dicomdir_scan': '0', 'include_date_in_smart_search': '0', 'study_status_singleton_tags': '', 'ai_categorize_phi_in_study_images_google_vision_then_dlp': '', 'saml_redirect_url': '', 'only_this_account_in_vanity': '0', 'saml_sync_on_create_only': '0', 'mwl_sending_facility_filter': '', 'allow_phr_upload': '0', 'viewer_link_series': '0', 'force_new_study_on_upload': '0', 'create_thin_study_from_oru_study_uid': '', 'create_thin_study_from_orm': '0', 'render_wrapped_avi': '0', 'viewer_show_std_dev': '0', 'viewer_hide_active_measurement_info': '0', 'upload_event_on_study_sync': '0', 'batch_encode_cine': '0', 'radreport_sign': '', 'consolidate_wrapped_jpegs': '0', 'cerner_patient_lookup_info': '', 'link_first_study_only': '0', 'ai_delete_duplicate_images': '', 'upload_select_none': '0', 'sso_share_phr_workflow': '0', 'sso_second_opinion_workflow': '0', 'enable_namespace_ai_questions': '', 'load_ack_as_hl7': '0', 'mrn_qr': '', 'query_retrieve_require_regexp': '', 'include_in_global_purge': '0', 'encapsulate_wrapped_pdf': '0', 'enable_doximity_auth': '0', 'max_match_study_hl7': '100', 'users_from_hl7_mfn': '', 'study_share_email_confirm': '0'}, 'share_via_gateway': None, 'namespace_id': 'be5cc873-1fb6-4cc0-99d6-c692359dae14'}>]"
      ]
     },
     "execution_count": 45,
     "metadata": {},
     "output_type": "execute_result"
    }
   ],
   "source": [
    "list(accounts)"
   ]
  },
  {
   "cell_type": "code",
   "execution_count": 10,
   "metadata": {},
   "outputs": [],
   "source": [
    "#anonymize_at_ingress"
   ]
  },
  {
   "cell_type": "markdown",
   "metadata": {},
   "source": [
    "# User Permissions"
   ]
  },
  {
   "cell_type": "code",
   "execution_count": 11,
   "metadata": {
    "scrolled": false
   },
   "outputs": [
    {
     "name": "stdout",
     "output_type": "stream",
     "text": [
      "study_manual_route 0\n",
      "role_edit 0\n",
      "user_modify_notifications 1\n",
      "link_view 0\n",
      "study_browse 1\n",
      "webhook_edit 0\n",
      "study_field_study_date F\n",
      "study_sync 0\n",
      "study_duplicate 0\n",
      "study_share_rsna 0\n",
      "study_field_patient_name F\n",
      "study_report_upload 1\n",
      "study_merge 0\n",
      "hl7_transform_view 0\n",
      "study_delete_image 0\n",
      "study_audio_play 0\n",
      "user_modify_others_email 0\n",
      "customfield_edit 0\n",
      "channel_study 1\n",
      "study_search_require_patientid 0\n",
      "destination_view 0\n",
      "order_view 0\n",
      "study_tag 0\n",
      "study_field_patient_sex F\n",
      "study_field_patientid F\n",
      "namespace_question 0\n",
      "study_report_hl7_view_unapproved 0\n",
      "study_thin 0\n",
      "study_comment_edit 0\n",
      "destination_search_mwl 0\n",
      "user_modify_defaults 1\n",
      "purge_edit 0\n",
      "hl7_transform_edit 0\n",
      "study_comment_view 0\n",
      "dicomdata_edit 0\n",
      "customcode_deploy 0\n",
      "study_field_accession_number F\n",
      "study_report_detail 1\n",
      "appointment_edit 0\n",
      "study_star 0\n",
      "viewer_config \n",
      "can_proxy_login 0\n",
      "study_share_npi 0\n",
      "study_share_email 1\n",
      "study_status_manual_edit 1\n",
      "destination_search 0\n",
      "webhook_view 0\n",
      "appointment_view 0\n",
      "study_report_hl7_view_approved 1\n",
      "study_field_study_description F\n",
      "customcode_view 0\n",
      "order_edit 0\n",
      "study_field_referring_physician F\n",
      "node_edit 0\n",
      "study_share 1\n",
      "case_edit_only_own 0\n",
      "ui_json \n",
      "study_report_view_approved 1\n",
      "group_edit 0\n",
      "study_push 0\n",
      "dictionary_edit 0\n",
      "keyimage_edit 1\n",
      "annotation_edit 1\n",
      "account_view 0\n",
      "user_modify_sharecode 1\n",
      "study_report_delete 1\n",
      "study_report_hl7_view 1\n",
      "study_view 1\n",
      "study_edit_unapproved 1\n",
      "study_upload 0\n",
      "group_view 0\n",
      "study_audio_record 0\n",
      "role_view 0\n",
      "case_view 0\n",
      "study_share_location 1\n",
      "validate_edit 0\n",
      "node_view 0\n",
      "hl7_message_view 0\n",
      "study_report_view 1\n",
      "account_user_invite 0\n",
      "keyimage_view 1\n",
      "case_edit 0\n",
      "study_approve 1\n",
      "account_edit 0\n",
      "study_share_user 1\n",
      "filter_share 1\n",
      "user_request_access 1\n",
      "study_report_delete_unapproved 0\n",
      "account_user_edit 0\n",
      "case_delete 0\n",
      "channel_activity 1\n",
      "user_view_others_notifications 0\n",
      "radreport_view_only_own 0\n",
      "study_share_share_code 1\n",
      "study_field_patient_birth_date F\n",
      "study_move 0\n",
      "study_split 0\n",
      "message_view 1\n",
      "hl7_template_view 0\n",
      "node_edit_own 0\n",
      "analytics_view 0\n",
      "location_edit 0\n",
      "case_view_only_own 0\n",
      "link_edit_pin 0\n",
      "message_edit 1\n",
      "purge_view 0\n",
      "radreport_html_format 0\n",
      "user_modify_others_notifications 0\n",
      "study_search_require_accession_number 0\n",
      "study_freeze 0\n",
      "audit_view 1\n",
      "meeting_edit 0\n",
      "study_edit_approved 1\n",
      "route_edit 0\n",
      "appointment_view_only_own 0\n",
      "link_direct 0\n",
      "dictionary_view 0\n",
      "study_search_require_patient_birth_date 0\n",
      "customcode_edit 0\n",
      "hl7_message_delete 0\n",
      "study_search_require_patient_name 0\n",
      "user_edit 0\n",
      "study_report_delete_approved 1\n",
      "validate_view 0\n",
      "study_report_view_unapproved 0\n",
      "study_upload_validate 0\n",
      "study_share_group 1\n",
      "study_search_require_patient_sex 0\n",
      "route_view 0\n",
      "link_edit_upload 0\n",
      "study_report_view_only_own 0\n",
      "location_view 0\n",
      "study_edit 1\n",
      "radreport_view 0\n",
      "node_connect 0\n",
      "account_user_view 0\n",
      "study_timing_view 0\n",
      "annotation_view_only_own 0\n",
      "patient_view 0\n",
      "study_share_account 1\n",
      "node_approve_connect 0\n",
      "study_status_view 0\n",
      "annotation_view 1\n",
      "study_delete 1\n",
      "study_download_iso 1\n",
      "study_report_upload_approved 1\n",
      "study_download_viewer 1\n",
      "destination_edit 0\n",
      "radreport_edit 0\n",
      "study_download 1\n",
      "patient_edit 0\n",
      "meeting_view 1\n",
      "dicomdata_view 0\n",
      "study_report_upload_unapproved 0\n",
      "customfield_view 0\n",
      "viewer3_config \n",
      "link_edit 0\n",
      "study_field_modality F\n",
      "study_status_edit 0\n",
      "hl7_template_edit 0\n"
     ]
    }
   ],
   "source": [
    "permissions = api.Session.permissions(namespace_id=user_info.namespace_id).get()\n",
    "\n",
    "for permission in permissions.keys():\n",
    "    print(permission, permissions[permission])"
   ]
  },
  {
   "cell_type": "markdown",
   "metadata": {},
   "source": [
    "# Namespaces"
   ]
  },
  {
   "cell_type": "code",
   "execution_count": null,
   "metadata": {},
   "outputs": [],
   "source": [
    "namespaces = api.Namespace#.anonymize(user_info.uuid).get()"
   ]
  },
  {
   "cell_type": "markdown",
   "metadata": {},
   "source": [
    "# Location"
   ]
  },
  {
   "cell_type": "code",
   "execution_count": 33,
   "metadata": {},
   "outputs": [
    {
     "name": "stdout",
     "output_type": "stream",
     "text": [
      "ROSE\n"
     ]
    }
   ],
   "source": [
    "account = api.Account.list().filter_by(\n",
    "       Filter(\n",
    "           'name',\n",
    "           FilterCondition.equals,\n",
    "           'ROSE',\n",
    "       ),\n",
    "    ).first()\n",
    "\n",
    "\n",
    "print(account.name)\n",
    "loc_query = api.Location.list(account.uuid)"
   ]
  },
  {
   "cell_type": "code",
   "execution_count": 31,
   "metadata": {},
   "outputs": [
    {
     "name": "stdout",
     "output_type": "stream",
     "text": [
      "Rejected Studies\n",
      "Clinical\n",
      "DTI\n",
      "Volumetric\n"
     ]
    }
   ],
   "source": [
    "for loc in loc_query.all():\n",
    "    print(loc.name)"
   ]
  },
  {
   "cell_type": "markdown",
   "metadata": {},
   "source": [
    "# Study\n",
    "\n",
    "Study refers to a series of images belonging to a single patient."
   ]
  },
  {
   "cell_type": "code",
   "execution_count": 51,
   "metadata": {},
   "outputs": [
    {
     "data": {
      "text/plain": [
       "<Box: {'uuid': '74c3e511-2dcd-4c49-9e83-863094fc84fa', 'name': 'University of Cincinnati - Site 21'}>"
      ]
     },
     "execution_count": 51,
     "metadata": {},
     "output_type": "execute_result"
    }
   ],
   "source": [
    "user_info.namespace_id\n",
    "user_info.namespaces[1]"
   ]
  },
  {
   "cell_type": "code",
   "execution_count": 50,
   "metadata": {},
   "outputs": [
    {
     "name": "stdout",
     "output_type": "stream",
     "text": [
      "21-394140 1.2.840.113619.2.40.9485.4.1695212545.1544732336.412236 5044\n",
      "21-394201 1.2.840.113711.8204.4.52528.571779352.26.2116281012.1619940 5157\n",
      "21-394184 1.2.840.113711.8204.4.52528.571779352.26.2116281012.1582670 5214\n",
      "21-394199 1.2.840.113619.2.25.4.2147483647.1553014725.914 5319\n",
      "21-394028 1.2.840.113711.8204.4.11180.551635771.26.2116281012.112440 12257\n",
      "21-394049 1.2.840.113619.2.25.4.1415629.1538506961.937 5050\n",
      "21-394546 1.2.840.113711.3008204.4.2196.528135558.26.2116281012.11167900 5292\n",
      "21-394020 1.2.840.113711.3008204.4.6684.543351760.26.2116281012.1548710 12327\n",
      "21-394016 1.2.840.113711.3008204.4.6684.543351760.26.2116281012.1856590 12292\n",
      "21-394029 1.2.840.113711.8204.4.11180.551635771.26.2116281012.1118960 12310\n",
      "21-394040 1.2.840.113711.3008204.4.2044.556264771.26.2116281012.1164200 12109\n",
      "21-394054 1.2.840.113711.8204.4.41512.562030600.26.2116281012.1453350 12257\n",
      "21-394094 1.2.840.113619.6.322.62397435005660896320737394312410863012 5050\n",
      "21-394098 1.2.840.113619.2.25.4.2147483647.1548881300.891 5173\n",
      "21-394164 1.2.840.113711.8204.4.52528.571779352.26.2116281012.1102190 4974\n",
      "21-394182 1.2.840.113619.2.25.4.2147483647.1551894885.103 5440\n",
      "21-394208 1.2.840.113711.3008204.4.6240.575915209.26.2116281012.1151950 4521\n",
      "21-394197 1.2.840.113711.8204.4.84488.578297944.26.2116281012.1176130 5058\n",
      "21-394194 1.2.840.113711.8204.4.84488.578297944.26.2116281012.123710 5058\n",
      "21-394217 1.2.840.113711.8204.4.67816.579287766.26.2116281012.1248980 5058\n",
      "21-394226 1.2.840.113619.2.25.4.2147483647.1563487865.300 4535\n",
      "21-394282 1.2.840.113619.2.25.4.2147483647.1565878390.510 4535\n",
      "21-394282 2.16.840.1.114444.637014731662031001.1699008207 197\n",
      "21-394282 2.16.840.1.114444.637014731374598309.2748814257 1396\n",
      "21-394282 2.16.840.1.114444.637014731106495699.643213112 1164\n",
      "21-394283 1.2.840.113711.8204.4.141372.585209389.26.2116281012.1204390 5058\n",
      "21-394251 1.2.840.113619.2.25.4.2147483647.1565206275.773 4685\n",
      "21-394280 1.2.840.113619.2.25.4.2147483647.1568225949.653 5314\n",
      "21-394251 2.16.840.1.114444.637008535311961782.2092098777 1228\n",
      "21-394251 2.16.840.1.114444.637008535167101056.1275328078 680\n",
      "21-394251 2.16.840.1.114444.637008534905058550.3738148357 1339\n",
      "21-394280 2.16.840.1.114444.637002666777261902.1014644225 2091\n",
      "21-394280 2.16.840.1.114444.637002666520763362.4292298850 1134\n",
      "21-394280 2.16.840.1.114444.637002666479241868.3537574630 194\n",
      "21-394280 1.2.276.0.7230010.3.1.4.3388956830.7600.1564681489.3948 292\n",
      "21-394226 2.16.840.1.114444.636991301695475134.2251515183 1563\n",
      "21-394226 2.16.840.1.114444.636991301404919884.900845337 1563\n",
      "21-394226 2.16.840.1.114444.636991301352223010.2197536985 293\n",
      "21-394226 2.16.840.1.114444.636991301333955584.841750068 101\n",
      "21-394226 2.16.840.1.114444.636991301032811504.2634132515 1269\n",
      "21-394226 2.16.840.1.114444.636991300991881233.3180416128 197\n",
      "21-394226 2.16.840.1.114444.636991300952393557.7516817 205\n",
      "21-394217 1.2.840.113619.2.404.3.3624543282.172.1557736124.600 260\n",
      "21-394217 1.2.840.113619.2.438.3.3406449970.681.1557802293.76 3847\n",
      "21-394217 1.2.840.113619.2.438.3.3406449970.681.1557802292.977 353\n",
      "21-394197 2.16.840.1.114444.636921308361727432.1801614865 178\n",
      "21-394197 2.16.840.1.114444.636921308319899184.2335642547 214\n",
      "21-394194 2.16.840.1.114444.636922242740045701.2578535241 793\n",
      "21-394194 2.16.840.1.114444.636922242441552089.3987152666 1572\n",
      "21-394194 2.16.840.1.114444.636922242280839751.3126855322 794\n",
      "21-394194 2.16.840.1.114444.636922242012873224.4013336820 1198\n",
      "21-394194 2.16.840.1.114444.636922241966893588.3124340638 228\n",
      "21-394194 2.16.840.1.114444.636922241794996609.1471455858 772\n",
      "21-394208 2.16.840.1.114444.636906522811902006.4230938101 234\n",
      "21-394208 2.16.840.1.114444.636906522531956054.4012302141 1214\n",
      "21-394208 2.16.840.1.114444.636906522145773648.299025360 2008\n",
      "21-394199 2.16.840.1.114444.636885199413996022.830535240 699\n",
      "21-394199 2.16.840.1.114444.636885199108847964.2952691928 1198\n",
      "21-394199 2.16.840.1.114444.636885199073020349.3724434368 176\n",
      "21-394182 1.2.276.0.7230010.3.1.4.1143195769.3688.1555087615.5331 196\n",
      "21-394182 1.2.276.0.7230010.3.1.4.1143195769.3688.1555087613.4474 281\n",
      "21-394182 1.2.276.0.7230010.3.1.4.1143195769.3688.1555087612.3898 190\n",
      "21-394182 1.2.276.0.7230010.3.1.4.1143195769.3688.1555087611.3277 205\n",
      "21-394098 2.16.840.1.114444.636886824357520577.2977637163 1977\n",
      "21-394098 2.16.840.1.114444.636886824305481080.221406787 242\n",
      "21-394098 2.16.840.1.114444.636886823899087892.3330417945 1877\n",
      "21-394094 2.16.840.1.114444.636801113611201381.156154844 1544\n",
      "21-394094 2.16.840.1.114444.636801113571076866.1796347111 193\n",
      "21-394094 2.16.840.1.114444.636801113531879464.2355357445 184\n",
      "21-394094 2.16.840.1.114444.636801113495092200.1372933788 176\n",
      "21-394094 2.16.840.1.114444.636801113191213093.3896272586 1167\n",
      "21-394140 1.2.276.0.7230010.3.1.4.1143195769.3408.1552067707.20349 196\n",
      "21-394140 1.2.276.0.7230010.3.1.4.1143195769.3408.1552067707.19855 163\n",
      "21-394040 1.2.840.113711.8204.4.11180.551635771.26.2116281012.1300100 476\n",
      "21-394040 1.2.840.113711.8204.4.11180.551635771.26.2116281012.1301670 1955\n",
      "21-394040 1.2.840.113619.2.55.3.497824456.164.1531682537.897 147\n",
      "21-394040 1.2.840.113711.8204.4.11180.551635771.26.2116281012.1320550 1220\n",
      "21-394054 2.16.840.1.114444.636771790253759795.4253046669 188\n",
      "21-394054 2.16.840.1.114444.636771790069088937.1713613432 883\n",
      "21-394054 2.16.840.1.114444.636771789891804625.2283883515 883\n",
      "21-394054 2.16.840.1.114444.636771789657322344.2011003390 970\n",
      "21-394546 1.2.276.0.7230010.3.1.4.1143195769.2164.1517336148.4231 293\n",
      "21-394546 1.2.276.0.7230010.3.1.4.1143195769.2164.1517336145.2385 610\n",
      "21-394546 1.2.276.0.7230010.3.1.4.1143195769.2164.1517336144.2379 2\n",
      "21-394546 1.2.276.0.7230010.3.1.4.1143195769.2164.1517336143.2373 2\n",
      "21-394546 1.2.276.0.7230010.3.1.4.1143195769.2164.1517336141.1806 187\n",
      "21-394546 1.2.276.0.7230010.3.1.4.1143195769.2164.1517336139.1139 219\n",
      "21-394016 1.2.276.0.7230010.3.1.4.1143195769.3924.1525735414.16861 574\n",
      "21-394016 1.2.276.0.7230010.3.1.4.1143195769.3924.1525735411.16204 217\n",
      "21-394016 1.2.276.0.7230010.3.1.4.1143195769.3924.1525735410.15634 188\n",
      "21-394028 1.2.840.113711.3008204.4.6684.543351760.26.2116281012.1465480 1761\n",
      "21-394028 1.2.840.113619.2.55.3.497824456.999.1524534066.64 177\n",
      "21-394028 1.2.840.113711.3008204.4.6684.543351760.26.2116281012.1487830 1222\n",
      "21-394029 1.2.840.113711.3008204.4.6684.543351760.26.2116281012.1576160 1452\n",
      "21-394029 1.2.840.113711.3008204.4.6684.543351760.26.2116281012.1591720 1880\n",
      "21-394020 1.2.840.113711.8.101913.33368.543433485.26.2116281012.111250 247\n",
      "21-394020 1.2.840.113619.2.404.3.3624543282.9.1521707019.293 259\n",
      "21-394020 1.2.840.113619.2.55.3.3372892722.66.1521668276.678 383\n",
      "21-394020 1.2.840.113619.2.411.3.3372895026.257.1521632211.543 287\n",
      "21-394164 1.2.276.0.7230010.3.1.4.1143195769.3232.1553708278.3801 222\n",
      "21-394164 1.2.276.0.7230010.3.1.4.1143195769.3232.1553708277.3243 184\n",
      "21-394184 1.2.276.0.7230010.3.1.4.1143195769.3232.1553800645.10871 42\n",
      "21-394184 1.2.276.0.7230010.3.1.4.1143195769.3232.1553800627.10038 274\n",
      "21-394184 1.2.276.0.7230010.3.1.4.1143195769.3232.1553800614.9341 230\n",
      "21-394184 1.2.276.0.7230010.3.1.4.1143195769.3232.1553800605.7074 805\n",
      "21-394184 1.2.276.0.7230010.3.1.4.1143195769.3232.1553800604.6483 195\n",
      "21-394201 1.2.276.0.7230010.3.1.4.1143195769.1588.1556580178.2994 233\n",
      "21-394201 1.2.276.0.7230010.3.1.4.1143195769.1588.1556580173.2517 157\n",
      "21-394201 1.2.276.0.7230010.3.1.4.1143195769.1588.1556580169.1109 546\n",
      "21-394201 1.2.276.0.7230010.3.1.4.1143195769.1588.1556580168.451 217\n",
      "21-394283 1.2.276.0.7230010.3.1.4.3388956830.7784.1568657812.103349 299\n",
      "21-394283 1.2.276.0.7230010.3.1.4.3388956830.7784.1568657789.102409 311\n",
      "21-394283 1.2.276.0.7230010.3.1.4.3388956830.7784.1568657690.99778 872\n",
      "21-394283 1.3.46.670589.33.1.63698617653110566000001.5658728682189217519.987654321 2763\n",
      "21-394256 1.2.840.113711.8204.4.11100.590088163.26.2116281012.166610 5058\n",
      "21-394303 1.2.840.113711.8204.4.11100.590088163.26.2116281012.1124030 4712\n",
      "21-394291 1.2.840.113711.8204.4.11100.590088163.26.2116281012.1115600 4712\n",
      "21-394284 1.2.840.113711.8204.4.26804.591202012.26.2116281012.1105100 5058\n",
      "21-394309 1.2.840.113711.8204.4.26804.591202012.26.2116281012.174670 4881\n",
      "21-394289 1.2.840.113711.8204.4.26804.591202012.26.2116281012.1224220 5058\n",
      "21-394295 1.2.840.113711.8204.4.26804.591202012.26.2116281012.1324180 4712\n",
      "21-000002 1.2.840.113619.6.322.250052298808732787363955386943633119071 20562\n",
      "21-000003 1.2.840.113619.6.408.197000008824065395813631441568328526188 23378\n",
      "21-000004 1.2.840.113619.6.408.13133559014670234543857014738816939170 4796\n",
      "21-000005 1.2.840.113619.6.408.67802650800318225512750906442398456020 10325\n",
      "21-000006 1.2.840.113619.6.408.105094391670293597333074171017466992471 9417\n",
      "21-394308 1.2.840.113711.8204.4.42024.593071723.26.2116281012.1190940 4712\n",
      "21-394258 1.2.840.113711.8204.4.42024.593071723.26.2116281012.1149690 5051\n",
      "21-394335 1.2.840.113711.8204.4.77716.595840015.26.2116281012.110760 5338\n",
      "21-394338 1.2.840.113711.8204.4.110268.596273828.26.2116281012.1113090 4712\n",
      "21-394330 1.2.840.113711.8204.4.110268.596273828.26.2116281012.1133110 4705\n",
      "21-394342 1.2.840.113711.8204.4.153004.597827639.26.2116281012.141060 4712\n",
      "21-394349 1.2.840.113711.3008204.4.9976.598296857.26.2116281012.1180960 774\n",
      "21-394349 1.2.840.113711.3008204.4.9976.598296857.26.2116281012.1180950 5058\n",
      "21-394337 1.2.840.113711.3008204.4.9976.598296857.26.2116281012.1231230 924\n",
      "21-394337 1.2.840.113711.3008204.4.9976.598296857.26.2116281012.1231990 4917\n",
      "21-394340 1.2.840.113711.3008204.4.9976.598296857.26.2116281012.1239780 4712\n",
      "21-394289 2.16.840.1.114444.637142515483115397.1775419194 434\n",
      "21-394289 2.16.840.1.114444.637142515030877671.80310915 2037\n",
      " 2.16.840.1.114444.637142514986513128.2419342714 223\n",
      "21-394295 2.16.840.1.114444.637146106280849874.2791710252 230\n",
      "21-394295 2.16.840.1.114444.637146106219926648.1503082933 282\n",
      "21-394295 2.16.840.1.114444.637146106009507280.2303418302 853\n",
      "21-394295 2.16.840.1.114444.637146105956082314.1178507830 223\n",
      "21-394295 2.16.840.1.114444.637146105900782784.1788038444 215\n",
      "21-394295 2.16.840.1.114444.637146105613350248.2191727246 1226\n",
      "21-394295 2.16.840.1.114444.637146105565392754.1227905497 226\n",
      "21-394356 2.16.840.1.114444.637165913734900139.1818356626 1198\n",
      "21-394356 2.16.840.1.114444.637165913266729241.1384191651 2154\n",
      "21-394356 2.16.840.1.114444.637165913203931544.3670698189 214\n",
      "21-394303 2.16.840.1.114444.637182150849522990.119920433 1428\n",
      "21-394303 2.16.840.1.114444.637182150771885079.668451969 213\n",
      "21-394303 2.16.840.1.114444.637182150516632403.3784351215 904\n",
      "21-394362 1.2.840.113711.8204.4.41976.600074166.26.2116281012.142460 5018\n",
      "21-394356 1.2.840.113711.8204.4.84272.601472628.26.2116281012.1203200 4762\n",
      "21-394355 1.2.840.113711.8204.4.84272.601472628.26.2116281012.129480 4840\n",
      "21-394363 1.2.840.113711.8204.4.84272.601472628.26.2116281012.1570 5019\n",
      "21-394363 1.2.840.113619.2.416.101662330317302230227902872731458640679 1490\n",
      "21-394363 1.2.840.113619.2.416.117953551822916398027923195803208035857 909\n",
      "21-394354 1.2.840.113711.8204.4.31156.603834099.26.2116281012.1203300 5058\n",
      "21-394363 1.2.840.113711.8204.4.74688.600780296.26.2116281012.118010 441\n",
      "21-394308 2.16.840.1.114444.637196864331972067.1961014392 199\n",
      "21-394308 2.16.840.1.114444.637196864004236789.3176762637 1278\n",
      "21-394226 1.2.840.113711.8204.4.129524.581756656.26.2116281012.1514350 1269\n",
      "21-394226 1.2.840.113619.2.416.333221277154164878307178867893848929738 1563\n",
      "21-394226 1.2.840.113619.2.416.42795770832220652472872950812876756625 293\n",
      "21-394226 1.2.840.113619.2.416.192196479079239254504389877847420579328 101\n",
      "21-394226 1.2.840.113619.2.416.10663932139828503642190539319560049328 197\n",
      "21-394208 1.2.840.113711.3008204.4.6240.575915209.26.2116281012.177890 1214\n",
      "21-394208 1.2.840.113619.2.416.181407098678553300593623664661128084456 2008\n",
      "21-394208 1.2.840.113619.2.416.333431915609288014546877765987520946569 234\n",
      "21-394282 1.2.840.113711.8204.4.171344.586937623.26.2116281012.170850 1164\n",
      "21-394282 1.2.840.113619.2.416.202585400604409883449649317134825416463 197\n",
      "21-394282 1.2.840.113619.2.416.57710996381249210759276184730392974374 1396\n",
      "21-394291 1.2.840.113711.8204.4.11100.590088163.26.2116281012.142000 936\n",
      "21-394291 1.2.840.113619.2.416.69732245444626568258485306157873512092 1478\n",
      "21-394291 1.2.840.113619.2.416.324709620761598384962151878312000982703 203\n",
      "21-394291 1.2.840.113619.2.416.180367164726471197355147120178587870562 229\n",
      "21-394291 1.2.840.113619.2.416.163962961632316643567756650530471934813 213\n",
      "21-394303 1.2.840.113711.8204.4.11100.590088163.26.2116281012.181140 904\n",
      "21-394303 1.2.840.113619.2.416.337592080144874708030021793862237567838 1428\n",
      "21-394303 1.2.840.113619.2.416.297313794751469037723037423372597699036 213\n",
      "21-394295 1.2.840.113711.8204.4.26804.591202012.26.2116281012.1286940 853\n",
      "21-394338 1.2.840.113711.8204.4.110268.596273828.26.2116281012.186110 1166\n",
      "21-394338 1.2.840.113619.2.416.275916710791499654555211911186115440580 1377\n",
      "21-394330 1.2.840.113711.8204.4.110268.596273828.26.2116281012.176470 902\n",
      "21-394330 1.2.840.113619.2.416.171694685214780357300010144072371244777 1510\n",
      "21-394330 1.2.840.113619.2.416.201010260284844596051142015962355673568 202\n",
      "21-394340 1.2.840.113711.3008204.4.9976.598296857.26.2116281012.1177780 1150\n",
      "21-394340 1.2.392.200036.9116.2.6.1.3268.2051738948.1577624263.958230 2270\n",
      "21-394340 1.2.840.113619.2.416.266750016422507918355714485968541677653 700\n",
      "21-394340 1.2.840.113619.2.416.48944223945281226228040893731246013305 216\n",
      "21-394340 1.2.840.113619.2.416.277813237819239250429736161625169344612 204\n",
      "21-394362 1.2.840.113711.8204.4.41976.600074166.26.2116281012.118110 1032\n",
      "21-394362 1.2.840.113619.2.416.286971194573244251676383067269622545834 220\n",
      "21-394342 1.2.840.113619.2.416.58868283218693805039844297716509916915 235\n",
      "21-394355 1.2.840.113711.8204.4.75276.601331049.26.2116281012.121180 1174\n",
      "21-394355 1.2.840.113711.8204.4.74688.600780296.26.2116281012.178000 860\n",
      "21-394355 1.2.840.113619.2.416.20195033204749292463315934001888251097 218\n",
      "21-394355 1.2.840.113619.2.416.287433473392839382210559133849195002013 221\n"
     ]
    },
    {
     "name": "stdout",
     "output_type": "stream",
     "text": [
      "21-394355 1.2.840.113619.2.416.48378590212684471798638022764392501886 220\n",
      "21-394356 1.2.840.113711.8204.4.84272.601472628.26.2116281012.182100 1198\n",
      "21-394356 1.2.840.113619.2.416.130481230394195372413082186344821967544 2154\n",
      "21-394356 1.2.840.113619.2.416.289569722373638271965487218812674616118 214\n",
      "21-394251 1.2.840.113711.8204.4.141372.585209389.26.2116281012.1267580 1228\n",
      "21-394251 1.2.840.113619.2.416.40238295769653989751676659995447512477 1339\n",
      "21-394440 1.2.840.113711.3008204.4.8452.607762519.26.2116281012.143540 774\n",
      "21-394440 1.2.840.113619.2.416.169965115367106632318245898374550074813 207\n",
      "21-394440 1.2.840.113619.2.416.288832621467440600889403693459108077538 1424\n",
      "21-394440 1.2.840.113619.2.416.322521089028600420630205611512555275793 174\n",
      "21-394440 1.2.840.113711.3008204.4.8452.607762519.26.2116281012.143550 4762\n",
      "21-394354 1.2.840.113711.8204.4.31156.603834099.26.2116281012.1186490 722\n",
      "21-394354 1.2.840.113619.2.416.121768190512432018495923268561729353616 388\n",
      "21-394354 1.2.840.113619.2.416.227287313599286989240045729600602053937 292\n",
      "21-394354 1.2.840.113619.2.416.68270039446116837343320984488224383938 197\n",
      "21-394354 1.2.840.113619.2.416.30515813771859973639829238690701752508 218\n",
      "21-394337 1.2.840.113619.2.416.295823135370086365836607812856261507135 324\n",
      "21-394337 1.2.840.113619.2.416.337503224070635811044444930841572291181 219\n",
      "21-394337 1.2.840.113619.2.416.69602801878811462646139785296711038727 215\n",
      "21-394349 1.2.840.113619.2.416.48195400240976492301920454541431228162 1418\n",
      "21-394349 1.2.840.113711.3008204.4.9976.598296857.26.2116281012.1157470 194\n",
      "21-394349 1.2.840.113711.3008204.4.9976.598296857.26.2116281012.1180960 774\n",
      "21-394337 1.2.840.113711.3008204.4.9976.598296857.26.2116281012.1231230 796\n",
      "21-394335 1.2.840.113711.8204.4.42024.593071723.26.2116281012.1188760 1198\n",
      "21-394335 1.2.840.113619.2.416.162036364288861838638836313402108619543 822\n",
      "21-394295 1.2.840.113619.2.416.299154001201592255193341600477830285673 226\n",
      "21-394295 1.2.840.113619.2.416.213152473613036101049642628105006976606 1226\n",
      "21-394295 1.2.840.113619.2.416.54839347067435386959643621062198209210 215\n",
      "21-394295 1.2.840.113619.2.416.253903639901599344583525464462083940972 223\n",
      "21-394295 1.2.840.113619.2.416.3259246345805118880403384397161830409 282\n",
      "21-394289 1.2.840.113619.2.416.27589412078192661649302356777992969315 2037\n",
      "21-394289 1.2.840.113619.2.416.335690461079569105756359765850739250026 223\n",
      "21-394309 1.2.840.113619.2.416.188914104090582253021388507812167374510 217\n",
      "21-394309 1.2.840.113619.2.416.248420335563753474270119717346970794632 222\n",
      "21-394256 1.2.840.113619.2.416.10714605295782476270091784770934780993 753\n",
      "21-394256 1.2.840.113619.2.416.252057865661343995452310316402078486685 222\n",
      "21-394256 1.2.392.200036.9116.2.6.1.3268.2051738948.1565225295.689116 2497\n",
      "21-394256 1.2.840.113619.2.428.3.279712918.438.1565696121.462 182\n",
      "21-394280 1.2.840.113711.8204.4.141372.585209389.26.2116281012.1109280 1134\n",
      "21-394280 1.2.840.113711.8204.4.141372.585209389.26.2116281012.191780 2091\n",
      "21-394280 1.2.840.113619.2.416.259243838294751114437226229774749907471 194\n",
      "21-394308 1.2.840.113619.2.416.289620178496612647528667438292398447941 199\n",
      "21-394308 1.2.840.113619.2.416.128709376203317534402766852069506381342 1278\n",
      "21-394194 1.2.840.113619.2.416.284875073766664257025733171973931939897 772\n",
      "21-394194 1.2.840.113619.2.416.46881288242486792986825427252735681444 228\n",
      "21-394194 1.2.840.113619.2.416.74512928534315783326455014432780990289 1572\n",
      "21-394194 1.2.840.113619.2.416.259628645000743154155885079068146784535 793\n",
      "21-394194 1.2.840.113619.2.416.201067757159364189426922904141446989854 794\n",
      "21-394194 1.2.840.113711.3008204.4.6240.575915209.26.2116281012.1362280 1198\n",
      "21-394028 1.2.840.113619.2.55.3.497824456.999.1524534066.64 178\n",
      "21-394028 1.2.840.113711.3008204.4.6684.543351760.26.2116281012.1487830 1222\n",
      "21-394029 1.2.840.113711.3008204.4.6684.543351760.26.2116281012.1576160 1454\n",
      "21-394029 1.2.840.113711.3008204.4.6684.543351760.26.2116281012.1591720 1880\n",
      "21-394028 1.2.840.113711.3008204.4.6684.543351760.26.2116281012.1465450 1763\n",
      "21-394040 1.2.840.113619.2.55.3.497824456.164.1531682537.897 148\n",
      "21-394040 1.2.840.113711.8204.4.11180.551635771.26.2116281012.1300100 477\n",
      "21-394040 1.2.840.113711.8204.4.11180.551635771.26.2116281012.1320550 1220\n",
      "21-394094 1.2.840.113711.8204.4.41512.562030600.26.2116281012.1472920 176\n",
      "21-394094 1.2.840.113711.8204.4.41512.562030600.26.2116281012.1470190 184\n",
      "21-394094 1.2.840.113619.2.416.168824553147623340647607280947460351437 1544\n",
      "21-394094 1.2.840.113711.8204.4.41512.562030600.26.2116281012.1544640 1167\n",
      "21-394094 1.2.840.113711.8204.4.41512.562030600.26.2116281012.1468030 193\n",
      "21-394098 1.2.840.113711.8204.4.119988.566326994.26.2116281012.1157180 1877\n",
      "21-394098 1.2.840.113711.8204.4.119988.566326994.26.2116281012.1159360 242\n",
      "21-394098 1.2.840.113711.8204.4.119988.566326994.26.2116281012.1156990 1410\n",
      "21-394098 1.2.840.113711.8204.4.119988.566326994.26.2116281012.1163060 1977\n",
      "21-394197 1.2.840.113711.3008204.4.6240.575915209.26.2116281012.129900 178\n",
      "21-394197 1.2.840.113619.2.416.40288508605849247629558584922718180240 214\n",
      "21-394199 1.2.840.113619.2.416.140024432907670551472745046653598745837 699\n",
      "21-394199 1.2.840.113711.8204.4.52528.571779352.26.2116281012.1354010 176\n",
      "21-394199 1.2.840.113711.8204.4.52528.571779352.26.2116281012.1354520 1198\n",
      "21-394251 1.2.840.113619.2.416.331370386501331906894631778923382300001 680\n",
      "21-394226 1.2.840.113619.2.416.2448805645592198330324285105966546607 205\n",
      "21-394346 1.2.840.113711.8204.4.100464.617696121.26.2116281012.115850 4537\n",
      "21-394373 1.2.840.113711.8204.4.95356.615571796.26.2116281012.1250720 4537\n",
      "21-394357 1.2.840.113711.8204.4.100164.613501762.26.2116281012.1189230 4585\n",
      "21-394434 1.2.840.113711.8204.4.65020.620202035.26.2116281012.1212090 4462\n",
      "21-394054 1.2.840.113711.8204.4.22492.560393453.26.2116281012.1158190 970\n",
      "21-394054 1.2.392.200036.9116.2.6.1.3268.2051738948.1539575987.379724 188\n",
      "21-394054 1.2.840.113619.2.416.204584235172299376143149414768120480112 883\n",
      "21-394386 1.2.840.113711.8204.4.100464.617696121.26.2116281012.1235670 5648\n",
      "21-394388 1.2.840.113711.8204.4.65020.620202035.26.2116281012.1184020 4585\n",
      "21-394383 1.2.840.113711.8204.4.65020.620202035.26.2116281012.1124060 1140\n",
      "21-394383 1.2.840.113711.8204.4.65020.620202035.26.2116281012.1124070 4462\n",
      "21-394390 1.2.840.113711.3008204.4.8148.623830498.26.2116281012.141910 4537\n",
      "21-394447 1.2.840.113711.8204.4.28132.625471578.26.2116281012.1148910 5771\n"
     ]
    }
   ],
   "source": [
    "uc_namespace_uuid = '74c3e511-2dcd-4c49-9e83-863094fc84fa'\n",
    "\n",
    "studies = api \\\n",
    "    .Study \\\n",
    "    .list() \\\n",
    "    .filter_by(\n",
    "       Filter(\n",
    "           'phi_namespace',\n",
    "           FilterCondition.equals,\n",
    "           uc_namespace_uuid,\n",
    "       ),\n",
    "    ) \\\n",
    "    .only([Study.patientid ,Study.study_uid, Study.image_count]) \\\n",
    "    .sort_by(\n",
    "        Sorter(\n",
    "            'created',\n",
    "            SortingOrder.ascending,\n",
    "        ),\n",
    "    ) \\\n",
    "    .all()\n",
    "\n",
    "for study in studies:\n",
    "    print(study.patientid, study.study_uid, study.image_count)"
   ]
  },
  {
   "cell_type": "code",
   "execution_count": 15,
   "metadata": {},
   "outputs": [
    {
     "data": {
      "text/plain": [
       "'12391962-5d49-4b23-88e1-1cb499db56fe'"
      ]
     },
     "execution_count": 15,
     "metadata": {},
     "output_type": "execute_result"
    }
   ],
   "source": [
    "user_info.namespace_id"
   ]
  },
  {
   "cell_type": "code",
   "execution_count": 25,
   "metadata": {},
   "outputs": [],
   "source": [
    "# Create a study query object\n",
    "q_obj = api.Study.list()"
   ]
  },
  {
   "cell_type": "code",
   "execution_count": 39,
   "metadata": {
    "scrolled": false
   },
   "outputs": [
    {
     "name": "stdout",
     "output_type": "stream",
     "text": [
      "local_storage_vm:\tNone\n",
      "patient_name_other:\tNone\n",
      "patient_mother_birthname:\tNone\n",
      "modality:\tMR\n",
      "patient_birth_date:\t\n",
      "storage_namespace:\tc467600d-889f-409a-8475-48a6177ec727\n",
      "patient_size:\t\n",
      "must_approve:\t1\n",
      "thin:\t0\n",
      "is_locked:\t0\n",
      "patient_weight:\t\n",
      "viewer_link:\thttps://access.dicomgrid.com/viewer/#study/c467600d-889f-409a-8475-48a6177ec727/1.2.840.114350.2.535.2.798268.2.257865531.1/c467600d-889f-409a-8475-48a6177ec727\n",
      "integration_key:\tNone\n",
      "patientid:\t25-415184\n",
      "referring_physician:\t\n",
      "patient_additional_history:\t\n",
      "is_dicom_wrapped:\t0\n",
      "is_being_retrieved:\t0\n",
      "attachment_count:\t0\n",
      "destination_ae_title:\tNone\n",
      "study_date:\t20200901\n",
      "study_status:\tNone\n",
      "patient_birth_time:\tNone\n",
      "image_count:\t586\n",
      "source_ae_title:\tNone\n",
      "phi_namespace_name:\tColumbia University - Site 25\n",
      "has_external_viewer:\t0\n",
      "uuid:\t34a5bd61-1332-4284-9613-76389799502a\n",
      "patient_phone:\tNone\n",
      "patient_address:\tNone\n",
      "patient_institution_residence:\tNone\n",
      "accession_number:\t\n",
      "star:\t0\n",
      "study_description:\t3TNICU IP MR BRAIN WITHOUT IV CONTRAST\n",
      "is_frozen:\t0\n",
      "phi_namespace:\tc467600d-889f-409a-8475-48a6177ec727\n",
      "patientid_other:\t\n",
      "hl7:\t[]\n",
      "study_time:\t184143\n",
      "study_push_status:\t[]\n",
      "patient_comments:\t\n",
      "patient_age:\t\n",
      "created:\t2020-11-09 12:10:46.371981-07\n",
      "phantom:\t0\n",
      "engine_fqdn:\tstorelpp51.dicomgrid.com\n",
      "medical_record_locator:\tNone\n",
      "patient_name:\t25-415184\n",
      "compressed_size:\tNone\n",
      "customfields:\t[{'options': '{\"values\":[\"\"],\"show_when\":{},\"validate\":\"\",\"validate_error\":\"\",\"hint\":\"\",\"max_length\":\"\",\"field_label\":\"\",\"admin_only\":\"\",\"search_source\":\"\"}', 'type': 'number', 'uuid': 'ba7aef15-af21-4523-9af3-16cf54913dc4', 'required': 0, 'name': 'Site Number', 'value': '25'}, {'required': 1, 'name': 'Subject Number', 'value': '25-415184', 'options': '{\"values\":[],\"suggested_values\":[],\"hint_values\":[],\"show_when\":{},\"validate\":\"/^\\\\\\\\d{2}-\\\\\\\\d{6}$/\",\"validate_error\":\"Must be in format 00-000000\",\"hint\":\"Subject number is 8 digits, 2 digit site number and a 6 digit subject number, separated by a hyphen\",\"max_length\":\"\",\"field_label\":\"\",\"admin_only\":\"\",\"search_source\":\"\"}', 'type': 'text', 'uuid': 'ed171501-32d7-460d-9068-f8c9ae37f952'}, {'required': 0, 'name': 'Comments', 'value': '', 'options': '{\"values\":[\"\"],\"show_when\":{},\"validate\":\"\",\"validate_error\":\"\",\"hint\":\"Please enter any deviations here.\",\"max_length\":\"\",\"field_label\":\"\",\"admin_only\":\"\",\"search_source\":\"\"}', 'type': 'memo', 'uuid': '22fd4222-f387-4938-a622-ebed9bc63b97'}, {'uuid': '2c1d145e-d4ec-4ac1-8806-c80f1003bb23', 'options': '{\"values\":[\"\"],\"show_when\":{},\"validate\":\"\",\"validate_error\":\"\",\"hint\":\"\",\"max_length\":\"\",\"field_label\":\"\",\"admin_only\":\"\",\"search_source\":\"\"}', 'type': 'text', 'value': '', 'name': 'reject_message', 'required': 0}]\n",
      "patient_current_location:\tNone\n",
      "patient_birthname:\tNone\n",
      "source:\tupload\n",
      "study_uid:\t1.2.840.114350.2.535.2.798268.2.257865531.1\n",
      "updated:\t2020-11-09 12:15:32.533757-07\n",
      "patient_religious_preference:\tNone\n",
      "patient_ethnic_group:\tNone\n",
      "size:\t112400942\n",
      "patient_sex:\t\n",
      "patient_occupation:\tNone\n",
      "permissions:\t{'webhook_view': 0, 'study_tag': 0, 'study_share_user': 0, 'purge_view': 0, 'case_view': 0, 'study_delete_image': 0, 'analytics_view': 1, 'study_status_edit': 0, 'namespace_question': 0, 'study_browse': 1, 'study_download_viewer': 0, 'purge_edit': 0, 'link_direct': 0, 'study_edit': 0, 'route_edit': 0, 'study_field_customfield_ba7aef15-af21-4523-9af3-16cf54913dc4': 'O', 'study_search_require_patient_sex': 0, 'user_modify_sharecode': 1, 'annotation_view_only_own': 0, 'study_upload': 0, 'node_edit_own': 0, 'patient_view': 0, 'hl7_template_edit': 0, 'audit_view': 1, 'study_report_hl7_view': 0, 'channel_study': 1, 'study_freeze': 0, 'study_sync': 0, 'radreport_view': 0, 'radreport_html_format': 0, 'user_view_others_notifications': 0, 'study_report_hl7_view_approved': 0, 'study_search_require_patientid': 0, 'study_report_view': 0, 'study_report_view_unapproved': 0, 'message_edit': 0, 'study_field_customfield_22fd4222-f387-4938-a622-ebed9bc63b97': 'F', 'account_user_invite': 0, 'customfield_edit': 0, 'viewer3_config': '', 'validate_view': 0, 'study_timing_view': 0, 'node_approve_connect': 0, 'webhook_edit': 0, 'viewer_config': '', 'radreport_view_only_own': 0, 'study_field_referring_physician': 'F', 'destination_search_mwl': 0, 'study_delete': 0, 'customcode_deploy': 0, 'route_view': 0, 'study_share_rsna': 0, 'appointment_edit': 0, 'case_delete': 0, 'study_share_npi': 0, 'account_user_edit': 0, 'study_field_study_date': 'F', 'dicomdata_view': 0, 'order_view': 0, 'hl7_message_view': 0, 'study_download': 1, 'study_field_customfield_ed171501-32d7-460d-9068-f8c9ae37f952': 'F', 'customfield_view': 1, 'study_share_account': 0, 'hl7_message_delete': 0, 'location_edit': 0, 'customcode_edit': 0, 'study_field_customfield_2c1d145e-d4ec-4ac1-8806-c80f1003bb23': 'H', 'message_view': 0, 'study_manual_route': 0, 'link_edit_upload': 0, 'link_view': 0, 'user_edit': 0, 'role_view': 1, 'study_field_patient_sex': 'F', 'study_field_patientid': 'F', 'study_report_hl7_view_unapproved': 0, 'hl7_transform_view': 0, 'role_edit': 0, 'user_modify_notifications': 1, 'user_request_access': 0, 'study_edit_approved': 0, 'study_download_iso': 0, 'keyimage_view': 1, 'study_share_location': 0, 'study_report_upload': 0, 'study_report_view_approved': 0, 'study_status_manual_edit': 0, 'can_proxy_login': 0, 'radreport_edit': 0, 'hl7_transform_edit': 0, 'dictionary_edit': 0, 'study_report_delete_approved': 0, 'study_report_delete_unapproved': 0, 'destination_view': 0, 'keyimage_edit': 1, 'hl7_template_view': 0, 'study_audio_record': 0, 'study_merge': 0, 'study_field_patient_name': 'F', 'destination_search': 0, 'case_edit': 0, 'study_search_require_patient_name': 0, 'account_view': 1, 'study_push': 0, 'study_share_email': 0, 'meeting_edit': 0, 'group_view': 1, 'annotation_edit': 1, 'study_view': 1, 'order_edit': 0, 'study_report_delete': 0, 'dicomdata_edit': 0, 'node_edit': 0, 'validate_edit': 0, 'destination_edit': 0, 'study_field_modality': 'F', 'account_edit': 0, 'study_status_view': 0, 'study_split': 0, 'user_modify_others_email': 0, 'study_approve': 0, 'user_modify_defaults': 1, 'study_comment_edit': 0, 'study_share': 1, 'node_view': 0, 'study_share_share_code': 0, 'study_thin': 0, 'study_report_upload_unapproved': 0, 'case_edit_only_own': 0, 'meeting_view': 0, 'case_view_only_own': 0, 'channel_activity': 1, 'study_field_patient_birth_date': 'F', 'appointment_view_only_own': 0, 'study_report_detail': 1, 'study_move': 0, 'link_edit_pin': 0, 'ui_json': '', 'study_report_view_only_own': 0, 'annotation_view': 1, 'link_edit': 0, 'study_duplicate': 0, 'study_star': 0, 'account_user_view': 1, 'appointment_view': 0, 'study_report_upload_approved': 0, 'user_modify_others_notifications': 0, 'study_share_group': 1, 'study_edit_unapproved': 0, 'customcode_view': 0, 'node_connect': 0, 'study_field_accession_number': 'F', 'study_audio_play': 0, 'patient_edit': 0, 'study_comment_view': 0, 'study_upload_validate': 0, 'filter_share': 0, 'dictionary_view': 0, 'study_search_require_accession_number': 0, 'study_field_study_description': 'F', 'location_view': 1, 'group_edit': 0, 'study_search_require_patient_birth_date': 0}\n"
     ]
    }
   ],
   "source": [
    "# Get the first study in the query\n",
    "study_info = q_obj.first()\n",
    "for key in study_info.keys():\n",
    "    print(f'{key}:\\t{study_info[key]}')"
   ]
  },
  {
   "cell_type": "code",
   "execution_count": 64,
   "metadata": {},
   "outputs": [],
   "source": [
    "# for this in q_obj.all():\n",
    "#     print(this['study_description'])\n"
   ]
  },
  {
   "cell_type": "markdown",
   "metadata": {},
   "source": [
    "# Webhooks"
   ]
  },
  {
   "cell_type": "code",
   "execution_count": 51,
   "metadata": {},
   "outputs": [],
   "source": [
    "wh_query = api.Webhook.list(account.uuid)"
   ]
  },
  {
   "cell_type": "code",
   "execution_count": 52,
   "metadata": {},
   "outputs": [
    {
     "data": {
      "text/plain": [
       "<Box: {'webhooks': [], 'page': {'number': 1, 'rows': 5000, 'more': 0}}>"
      ]
     },
     "execution_count": 52,
     "metadata": {},
     "output_type": "execute_result"
    }
   ],
   "source": [
    "wh_query.get()"
   ]
  },
  {
   "cell_type": "markdown",
   "metadata": {},
   "source": [
    "# Messages"
   ]
  },
  {
   "cell_type": "code",
   "execution_count": 75,
   "metadata": {},
   "outputs": [
    {
     "data": {
      "text/plain": [
       "<Box: {'uuid': 'bbd1608a-3f67-42e7-bd34-00ad2dc6a5fe'}>"
      ]
     },
     "execution_count": 75,
     "metadata": {},
     "output_type": "execute_result"
    }
   ],
   "source": [
    "msg = api.Message.add(\"test2\", namespace_id=user_info.namespace_id, subject=\"test\").get()"
   ]
  },
  {
   "cell_type": "code",
   "execution_count": 76,
   "metadata": {},
   "outputs": [
    {
     "name": "stdout",
     "output_type": "stream",
     "text": [
      "{'namespace_name': 'Thomas Maloney', 'study_id': None, 'namespace_id': '6ee6c8db-658f-4a9c-8ac9-a1fb181663f4', 'user_id': 'da1c9cf8-bdab-4edc-a62a-28b5d4aaa230', 'is_mine': 1, 'subject': 'test', 'created': '2020-11-10 14:24:15.694847-07', 'body': 'test2', 'user_name': 'Thomas Maloney', 'parent_id': None, 'uuid': 'bbd1608a-3f67-42e7-bd34-00ad2dc6a5fe'}\n",
      "{'parent_id': None, 'uuid': '89776404-4cad-49c0-a89e-7852bf329298', 'user_id': 'da1c9cf8-bdab-4edc-a62a-28b5d4aaa230', 'namespace_id': '6ee6c8db-658f-4a9c-8ac9-a1fb181663f4', 'study_id': None, 'namespace_name': 'Thomas Maloney', 'created': '2020-11-10 14:24:12.37934-07', 'body': 'test2', 'subject': 'test', 'user_name': 'Thomas Maloney', 'is_mine': 1}\n",
      "{'uuid': 'cb994178-a39a-462b-8660-57592f2ae31f', 'parent_id': None, 'user_name': 'Thomas Maloney', 'created': '2020-11-10 14:21:03.449973-07', 'subject': 'test', 'body': 'test', 'is_mine': 1, 'user_id': 'da1c9cf8-bdab-4edc-a62a-28b5d4aaa230', 'namespace_id': '6ee6c8db-658f-4a9c-8ac9-a1fb181663f4', 'study_id': None, 'namespace_name': 'Thomas Maloney'}\n",
      "{'uuid': '86a310d8-d67a-4795-b68d-2e9bdbf0d167', 'parent_id': None, 'is_mine': 1, 'user_name': 'Thomas Maloney', 'subject': 'test', 'created': '2020-11-10 14:20:55.239382-07', 'body': 'test', 'namespace_id': '6ee6c8db-658f-4a9c-8ac9-a1fb181663f4', 'study_id': None, 'namespace_name': 'Thomas Maloney', 'user_id': 'da1c9cf8-bdab-4edc-a62a-28b5d4aaa230'}\n"
     ]
    }
   ],
   "source": [
    "for msg in api.Message.list().all():\n",
    "    print(msg)"
   ]
  },
  {
   "cell_type": "code",
   "execution_count": null,
   "metadata": {},
   "outputs": [],
   "source": []
  }
 ],
 "metadata": {
  "kernelspec": {
   "display_name": "Python 3",
   "language": "python",
   "name": "python3"
  },
  "language_info": {
   "codemirror_mode": {
    "name": "ipython",
    "version": 3
   },
   "file_extension": ".py",
   "mimetype": "text/x-python",
   "name": "python",
   "nbconvert_exporter": "python",
   "pygments_lexer": "ipython3",
   "version": "3.8.3"
  }
 },
 "nbformat": 4,
 "nbformat_minor": 4
}
