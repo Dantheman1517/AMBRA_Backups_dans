{
 "cells": [
  {
   "cell_type": "code",
   "execution_count": null,
   "metadata": {},
   "outputs": [],
   "source": [
    "from pathlib import Path\n",
    "import json\n",
    "\n",
    "from ambra_sdk.api import Api\n",
    "\n",
    "import ipywidgets as wdg\n",
    "from IPython.display import display"
   ]
  },
  {
   "cell_type": "markdown",
   "metadata": {},
   "source": [
    "# Login"
   ]
  },
  {
   "cell_type": "code",
   "execution_count": null,
   "metadata": {},
   "outputs": [],
   "source": [
    "url = 'https://access.dicomgrid.com/api/v3'\n",
    "# service_url = 'https://uchealth.ambrahealth.com/api/v3/bundle'"
   ]
  },
  {
   "cell_type": "code",
   "execution_count": null,
   "metadata": {},
   "outputs": [],
   "source": [
    "uname_wdg = wdg.Text(placeholder='Username', value='thomas.maloney@cchmc.org')\n",
    "pwd_wdg = wdg.Password(placeholder='Password')\n",
    "\n",
    "login_box = wdg.VBox([uname_wdg, pwd_wdg])\n",
    "\n",
    "display(login_box)"
   ]
  },
  {
   "cell_type": "code",
   "execution_count": null,
   "metadata": {},
   "outputs": [],
   "source": [
    "username = uname_wdg.value\n",
    "user_pwd = pwd_wdg.value\n",
    "\n",
    "api = Api.with_creds(url, username, user_pwd)\n",
    "# service_api = Api.with_creds(service_url, username, user_pwd)"
   ]
  },
  {
   "cell_type": "markdown",
   "metadata": {},
   "source": [
    "# User info"
   ]
  },
  {
   "cell_type": "code",
   "execution_count": null,
   "metadata": {},
   "outputs": [],
   "source": [
    "user_info = api.Session.user().get()"
   ]
  },
  {
   "cell_type": "code",
   "execution_count": null,
   "metadata": {},
   "outputs": [],
   "source": [
    "user_info.email"
   ]
  },
  {
   "cell_type": "raw",
   "metadata": {},
   "source": [
    "for key in user_info.keys():\n",
    "    value = user_info[key]\n",
    "    if isinstance(value, dict):\n",
    "        print(f'{key}')\n",
    "        for vkey in value:\n",
    "            vvalue = value[vkey]\n",
    "            print(f'\\t{vkey}\\t{vvalue}')\n",
    "    if isinstance(value, list):\n",
    "        print(f'{key}')\n",
    "        for item in value:\n",
    "            print(f'\\t{item}')\n",
    "    else:\n",
    "        print(f'{key}\\t{value}')"
   ]
  },
  {
   "cell_type": "markdown",
   "metadata": {},
   "source": [
    "# Account info"
   ]
  },
  {
   "cell_type": "code",
   "execution_count": null,
   "metadata": {},
   "outputs": [],
   "source": [
    "account = api.Account.list().first()"
   ]
  },
  {
   "cell_type": "code",
   "execution_count": null,
   "metadata": {},
   "outputs": [],
   "source": [
    "accounts = api.Account.list().all()\n",
    "\n",
    "for account in accounts:\n",
    "    print(account.name)"
   ]
  },
  {
   "cell_type": "code",
   "execution_count": null,
   "metadata": {},
   "outputs": [],
   "source": [
    "#anonymize_at_ingress"
   ]
  },
  {
   "cell_type": "markdown",
   "metadata": {},
   "source": [
    "# User Permissions"
   ]
  },
  {
   "cell_type": "code",
   "execution_count": null,
   "metadata": {
    "scrolled": false
   },
   "outputs": [],
   "source": [
    "permissions = api.Session.permissions(namespace_id=user_info.namespace_id).get()\n",
    "\n",
    "for permission in permissions.keys():\n",
    "    print(permission, permissions[permission])"
   ]
  },
  {
   "cell_type": "markdown",
   "metadata": {},
   "source": [
    "# Namespaces"
   ]
  },
  {
   "cell_type": "code",
   "execution_count": null,
   "metadata": {},
   "outputs": [],
   "source": [
    "namespaces = api.Namespace#.anonymize(user_info.uuid).get()"
   ]
  },
  {
   "cell_type": "code",
   "execution_count": null,
   "metadata": {},
   "outputs": [],
   "source": []
  }
 ],
 "metadata": {
  "kernelspec": {
   "display_name": "Python 3",
   "language": "python",
   "name": "python3"
  },
  "language_info": {
   "codemirror_mode": {
    "name": "ipython",
    "version": 3
   },
   "file_extension": ".py",
   "mimetype": "text/x-python",
   "name": "python",
   "nbconvert_exporter": "python",
   "pygments_lexer": "ipython3",
   "version": "3.8.3"
  }
 },
 "nbformat": 4,
 "nbformat_minor": 4
}
