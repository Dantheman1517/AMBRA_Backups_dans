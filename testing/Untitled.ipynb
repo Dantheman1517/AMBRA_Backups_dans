{
 "cells": [
  {
   "cell_type": "code",
   "execution_count": 128,
   "metadata": {},
   "outputs": [
    {
     "name": "stdout",
     "output_type": "stream",
     "text": [
      "The autoreload extension is already loaded. To reload it, use:\n",
      "  %reload_ext autoreload\n"
     ]
    }
   ],
   "source": [
    "import json\n",
    "\n",
    "# import sys\n",
    "# sys.path.append('../../')\n",
    "\n",
    "from AMBRA_Utils import Api\n",
    "\n",
    "\n",
    "\n",
    "import ipywidgets as wdg\n",
    "from IPython.display import display\n",
    "\n",
    "%load_ext autoreload\n",
    "%autoreload 2"
   ]
  },
  {
   "cell_type": "code",
   "execution_count": 2,
   "metadata": {},
   "outputs": [
    {
     "data": {
      "application/vnd.jupyter.widget-view+json": {
       "model_id": "0e909e5a9f6049c8a720338e40697a84",
       "version_major": 2,
       "version_minor": 0
      },
      "text/plain": [
       "VBox(children=(Text(value='malonetc@ucmail.uc.edu', placeholder='Username'), Password(placeholder='Password'))…"
      ]
     },
     "metadata": {},
     "output_type": "display_data"
    }
   ],
   "source": [
    "uname_wdg = wdg.Text(placeholder='Username', value='malonetc@ucmail.uc.edu')\n",
    "pwd_wdg = wdg.Password(placeholder='Password')\n",
    "\n",
    "login_box = wdg.VBox([uname_wdg, pwd_wdg])\n",
    "    \n",
    "display(login_box)"
   ]
  },
  {
   "cell_type": "code",
   "execution_count": 221,
   "metadata": {},
   "outputs": [],
   "source": [
    "ambra = Api.Api(uname_wdg.value, pwd_wdg.value)"
   ]
  },
  {
   "cell_type": "code",
   "execution_count": 222,
   "metadata": {},
   "outputs": [
    {
     "name": "stdout",
     "output_type": "stream",
     "text": [
      "You are logged in as Thomas Maloney.\n"
     ]
    }
   ],
   "source": [
    "print(ambra)"
   ]
  },
  {
   "cell_type": "code",
   "execution_count": 211,
   "metadata": {},
   "outputs": [],
   "source": [
    "aprise = ambra.get_account_by_name('APRISE')"
   ]
  },
  {
   "cell_type": "code",
   "execution_count": 212,
   "metadata": {},
   "outputs": [],
   "source": [
    "group_vagal = aprise.get_group_by_name('Dr. Vagal')"
   ]
  },
  {
   "cell_type": "code",
   "execution_count": 214,
   "metadata": {},
   "outputs": [],
   "source": [
    "ap_test_study = group_vagal.get_studies_by_id('460568617')"
   ]
  },
  {
   "cell_type": "code",
   "execution_count": 220,
   "metadata": {},
   "outputs": [
    {
     "data": {
      "text/plain": [
       "[Patient ID: 460568617;\n",
       "               Modality: CT;\n",
       "               Study Date: 20170829;\n",
       "               Created: 2020-09-15 06:40:40.658516-07;\n",
       "              Description: CT-HEAD W/O,\n",
       " Patient ID: 460568617;\n",
       "               Modality: MR;\n",
       "               Study Date: 20170809;\n",
       "               Created: 2020-09-15 06:40:40.647207-07;\n",
       "              Description: MRI-HEAD W/WO,\n",
       " Patient ID: 460568617;\n",
       "               Modality: CT;\n",
       "               Study Date: 20170809;\n",
       "               Created: 2020-09-15 06:40:40.645783-07;\n",
       "              Description: CT-HEAD W/O_Follow Up,\n",
       " Patient ID: 460568617;\n",
       "               Modality: CT;\n",
       "               Study Date: 20170822;\n",
       "               Created: 2020-09-15 06:40:40.634566-07;\n",
       "              Description: CT-HEAD W/O,\n",
       " Patient ID: 460568617;\n",
       "               Modality: CT;\n",
       "               Study Date: 20170808;\n",
       "               Created: 2020-09-15 06:40:40.633931-07;\n",
       "              Description: CT HEAD WO_CT ANGIO HEAD-NECK_BASELINE]"
      ]
     },
     "execution_count": 220,
     "metadata": {},
     "output_type": "execute_result"
    }
   ],
   "source": [
    "ap_test_study"
   ]
  },
  {
   "cell_type": "code",
   "execution_count": null,
   "metadata": {},
   "outputs": [],
   "source": []
  },
  {
   "cell_type": "code",
   "execution_count": null,
   "metadata": {},
   "outputs": [],
   "source": []
  },
  {
   "cell_type": "code",
   "execution_count": null,
   "metadata": {},
   "outputs": [],
   "source": []
  },
  {
   "cell_type": "code",
   "execution_count": 131,
   "metadata": {},
   "outputs": [],
   "source": [
    "account = ambra.get_account_by_name('ROSE')"
   ]
  },
  {
   "cell_type": "code",
   "execution_count": 132,
   "metadata": {},
   "outputs": [],
   "source": [
    "groups = account.get_groups()"
   ]
  },
  {
   "cell_type": "code",
   "execution_count": 133,
   "metadata": {},
   "outputs": [
    {
     "data": {
      "text/plain": [
       "Site 21 - University of Cincinnati"
      ]
     },
     "execution_count": 133,
     "metadata": {},
     "output_type": "execute_result"
    }
   ],
   "source": [
    "groups[0]"
   ]
  },
  {
   "cell_type": "code",
   "execution_count": 134,
   "metadata": {},
   "outputs": [],
   "source": [
    "group = Api.Group( ambra, groups[0])"
   ]
  },
  {
   "cell_type": "code",
   "execution_count": 135,
   "metadata": {},
   "outputs": [
    {
     "name": "stdout",
     "output_type": "stream",
     "text": [
      "Site 21 - University of Cincinnati\n"
     ]
    }
   ],
   "source": [
    "print(group)"
   ]
  },
  {
   "cell_type": "code",
   "execution_count": 136,
   "metadata": {},
   "outputs": [],
   "source": [
    "studies = group.get_studies()"
   ]
  },
  {
   "cell_type": "code",
   "execution_count": null,
   "metadata": {},
   "outputs": [],
   "source": []
  },
  {
   "cell_type": "code",
   "execution_count": 137,
   "metadata": {},
   "outputs": [
    {
     "name": "stdout",
     "output_type": "stream",
     "text": [
      "ROSE\n"
     ]
    }
   ],
   "source": [
    "print(account)"
   ]
  },
  {
   "cell_type": "code",
   "execution_count": 138,
   "metadata": {},
   "outputs": [
    {
     "data": {
      "text/plain": [
       "[Site 21 - University of Cincinnati,\n",
       " Site 22 - University of Maryland,\n",
       " Site 23 - MGH,\n",
       " Site 24 - Duke University,\n",
       " Site 25 - Columbia University,\n",
       " Site 26 - UIC,\n",
       " All Approved Studies,\n",
       " UC Scanners / PACS Studies,\n",
       " Site 27 - Baptist Health Louisville]"
      ]
     },
     "execution_count": 138,
     "metadata": {},
     "output_type": "execute_result"
    }
   ],
   "source": [
    "account.get_groups()"
   ]
  },
  {
   "cell_type": "code",
   "execution_count": 139,
   "metadata": {},
   "outputs": [],
   "source": [
    "uc_group = account.get_group_by_name('Site 21 - University of Cincinnati')"
   ]
  },
  {
   "cell_type": "code",
   "execution_count": 140,
   "metadata": {},
   "outputs": [
    {
     "name": "stdout",
     "output_type": "stream",
     "text": [
      "Site 21 - University of Cincinnati\n",
      "287\n"
     ]
    }
   ],
   "source": [
    "print(uc_group)\n",
    "print(uc_group.study_count())"
   ]
  },
  {
   "cell_type": "code",
   "execution_count": 141,
   "metadata": {},
   "outputs": [
    {
     "data": {
      "text/plain": [
       "{'Site 21 - University of Cincinnati': 287,\n",
       " 'Site 22 - University of Maryland': 104,\n",
       " 'Site 23 - MGH': 25,\n",
       " 'Site 24 - Duke University': 30,\n",
       " 'Site 25 - Columbia University': 11,\n",
       " 'Site 26 - UIC': 10,\n",
       " 'All Approved Studies': 451,\n",
       " 'UC Scanners / PACS Studies': 132,\n",
       " 'Site 27 - Baptist Health Louisville': 2}"
      ]
     },
     "execution_count": 141,
     "metadata": {},
     "output_type": "execute_result"
    }
   ],
   "source": [
    "account.counts_by_group()"
   ]
  },
  {
   "cell_type": "code",
   "execution_count": 142,
   "metadata": {},
   "outputs": [
    {
     "data": {
      "text/plain": [
       "{'Rejected Studies': 5, 'Clinical': 420, 'DTI': 420, 'Volumetric': 420}"
      ]
     },
     "execution_count": 142,
     "metadata": {},
     "output_type": "execute_result"
    }
   ],
   "source": [
    "account.counts_by_location()"
   ]
  },
  {
   "cell_type": "code",
   "execution_count": null,
   "metadata": {},
   "outputs": [],
   "source": []
  },
  {
   "cell_type": "code",
   "execution_count": null,
   "metadata": {},
   "outputs": [],
   "source": []
  },
  {
   "cell_type": "code",
   "execution_count": 143,
   "metadata": {},
   "outputs": [],
   "source": [
    "studies = uc_group.get_studies_by_id('21-394546')"
   ]
  },
  {
   "cell_type": "code",
   "execution_count": 144,
   "metadata": {},
   "outputs": [],
   "source": [
    "this_study = studies[1]"
   ]
  },
  {
   "cell_type": "code",
   "execution_count": 145,
   "metadata": {},
   "outputs": [
    {
     "data": {
      "text/plain": [
       "Patient ID: 21-394546;\n",
       "              Modality: CT;\n",
       "              Study Date: 20171106;\n",
       "              Description: "
      ]
     },
     "execution_count": 145,
     "metadata": {},
     "output_type": "execute_result"
    }
   ],
   "source": [
    "this_study"
   ]
  },
  {
   "cell_type": "code",
   "execution_count": 207,
   "metadata": {},
   "outputs": [
    {
     "data": {
      "text/plain": [
       "'2019-09-16 15:21:07.259031-07'"
      ]
     },
     "execution_count": 207,
     "metadata": {},
     "output_type": "execute_result"
    }
   ],
   "source": [
    "this_study.created"
   ]
  },
  {
   "cell_type": "code",
   "execution_count": 210,
   "metadata": {},
   "outputs": [
    {
     "data": {
      "text/plain": [
       "'20171106'"
      ]
     },
     "execution_count": 210,
     "metadata": {},
     "output_type": "execute_result"
    }
   ],
   "source": [
    "this_study.study_date"
   ]
  },
  {
   "cell_type": "code",
   "execution_count": 146,
   "metadata": {},
   "outputs": [],
   "source": [
    "# this_dict = this_study.to_dict()\n",
    "\n",
    "# non_key_args = ['_api', '_schema', 'logger', '__class__']\n",
    "\n",
    "# for non_key_arg in non_key_args:\n",
    "#     _ = this_dict.pop(non_key_arg)\n",
    "#     \n",
    "# json.dumps(this_dict)"
   ]
  },
  {
   "cell_type": "code",
   "execution_count": 148,
   "metadata": {
    "scrolled": true
   },
   "outputs": [
    {
     "data": {
      "text/plain": [
       "'{\"patient_age\": \"\", \"star\": 0, \"radreports\": [], \"study_status_tags\": [\"Ready to be Read\", \"Completed\"], \"patient_institution_residence\": null, \"patient_size\": null, \"patient_birth_time\": null, \"created\": \"2019-09-16 15:21:07.259031-07\", \"must_approve\": 0, \"phantom\": 0, \"attachment_count\": 0, \"source\": \"upload\", \"phi_namespace\": \"74c3e511-2dcd-4c49-9e83-863094fc84fa\", \"is_frozen\": 0, \"hl7\": [], \"engine_fqdn\": \"storelpp45.dicomgrid.com\", \"patient_comments\": \"Clinical Sequences\", \"size\": \"107437066\", \"local_storage_vm\": null, \"is_dicom_wrapped\": 0, \"is_being_retrieved\": 0, \"patient_ethnic_group\": \"\", \"study_date\": \"20171106\", \"patient_birthname\": null, \"phi_namespace_name\": \"Site 21 - University of Cincinnati\", \"patient_additional_history\": null, \"patient_sex\": \"\", \"study_status\": null, \"customfields\": [{\"options\": \"{\\\\\"values\\\\\":[\\\\\"\\\\\"],\\\\\"show_when\\\\\":{},\\\\\"validate\\\\\":\\\\\"\\\\\",\\\\\"validate_error\\\\\":\\\\\"\\\\\",\\\\\"hint\\\\\":\\\\\"\\\\\",\\\\\"max_length\\\\\":\\\\\"\\\\\",\\\\\"field_label\\\\\":\\\\\"\\\\\",\\\\\"admin_only\\\\\":\\\\\"\\\\\",\\\\\"search_source\\\\\":\\\\\"\\\\\"}\", \"name\": \"Site Number\", \"value\": \"21\", \"required\": 0, \"uuid\": \"ba7aef15-af21-4523-9af3-16cf54913dc4\", \"type\": \"number\"}, {\"type\": \"text\", \"uuid\": \"ed171501-32d7-460d-9068-f8c9ae37f952\", \"name\": \"Subject Number\", \"value\": \"21-394546\", \"options\": \"{\\\\\"values\\\\\":[],\\\\\"suggested_values\\\\\":[],\\\\\"hint_values\\\\\":[],\\\\\"show_when\\\\\":{},\\\\\"validate\\\\\":\\\\\"/^\\\\\\\\\\\\\\\\d{2}-\\\\\\\\\\\\\\\\d{6}$/\\\\\",\\\\\"validate_error\\\\\":\\\\\"Must be in format 00-000000\\\\\",\\\\\"hint\\\\\":\\\\\"Subject number is 8 digits, 2 digit site number and a 6 digit subject number, separated by a hyphen\\\\\",\\\\\"max_length\\\\\":\\\\\"\\\\\",\\\\\"field_label\\\\\":\\\\\"\\\\\",\\\\\"admin_only\\\\\":\\\\\"\\\\\",\\\\\"search_source\\\\\":\\\\\"\\\\\"}\", \"required\": 1}, {\"uuid\": \"22fd4222-f387-4938-a622-ebed9bc63b97\", \"type\": \"memo\", \"name\": \"Comments\", \"value\": \"Clinical Sequences\", \"options\": \"{\\\\\"values\\\\\":[\\\\\"\\\\\"],\\\\\"show_when\\\\\":{},\\\\\"validate\\\\\":\\\\\"\\\\\",\\\\\"validate_error\\\\\":\\\\\"\\\\\",\\\\\"hint\\\\\":\\\\\"Please enter any deviations here.\\\\\",\\\\\"max_length\\\\\":\\\\\"\\\\\",\\\\\"field_label\\\\\":\\\\\"\\\\\",\\\\\"admin_only\\\\\":\\\\\"\\\\\",\\\\\"search_source\\\\\":\\\\\"\\\\\"}\", \"required\": 0}, {\"type\": \"text\", \"uuid\": \"2c1d145e-d4ec-4ac1-8806-c80f1003bb23\", \"name\": \"reject_message\", \"value\": \"\", \"options\": \"{\\\\\"values\\\\\":[\\\\\"\\\\\"],\\\\\"show_when\\\\\":{},\\\\\"validate\\\\\":\\\\\"\\\\\",\\\\\"validate_error\\\\\":\\\\\"\\\\\",\\\\\"hint\\\\\":\\\\\"\\\\\",\\\\\"max_length\\\\\":\\\\\"\\\\\",\\\\\"field_label\\\\\":\\\\\"\\\\\",\\\\\"admin_only\\\\\":\\\\\"\\\\\",\\\\\"search_source\\\\\":\\\\\"\\\\\"}\", \"required\": 0}], \"patient_name_other\": null, \"destination_ae_title\": null, \"compressed_size\": null, \"source_ae_title\": null, \"uuid\": \"937de202-7566-4dcc-851a-16a958d313b7\", \"patient_religious_preference\": null, \"patient_current_location\": null, \"updated\": \"2019-12-11 15:36:27.331745-07\", \"is_locked\": 0, \"accession_number\": \"\", \"storage_namespace\": \"74c3e511-2dcd-4c49-9e83-863094fc84fa\", \"modality\": \"CT\", \"patient_weight\": null, \"study_push_status\": [], \"patientid_other\": null, \"study_description\": \"\", \"study_uid\": \"1.2.276.0.7230010.3.1.4.1143195769.2164.1517336141.1806\", \"image_count\": 187, \"thin\": 0, \"study_time\": \"145358.906000\", \"viewer_link\": \"https://access.dicomgrid.com/viewer/#study/74c3e511-2dcd-4c49-9e83-863094fc84fa/1.2.276.0.7230010.3.1.4.1143195769.2164.1517336141.1806/74c3e511-2dcd-4c49-9e83-863094fc84fa\", \"patient_phone\": \"\", \"referring_physician\": \"\", \"patient_mother_birthname\": null, \"permissions\": {\"study_report_view_only_own\": 0, \"destination_search\": 0, \"radreport_html_format\": 1, \"study_view\": 1, \"hl7_transform_edit\": 0, \"node_view\": 0, \"node_connect\": 0, \"study_share_user\": 0, \"dicomdata_view\": 0, \"study_timing_view\": 0, \"appointment_view\": 0, \"radreport_view_only_own\": 0, \"hl7_transform_view\": 0, \"message_edit\": 0, \"webhook_edit\": 0, \"group_view\": 1, \"user_modify_others_email\": 0, \"study_status_view\": 1, \"analytics_view\": 1, \"webhook_view\": 0, \"study_sync\": 1, \"study_share_share_code\": 0, \"study_search_require_patient_name\": 0, \"study_search_require_patient_sex\": 0, \"study_share_email\": 0, \"purge_edit\": 0, \"study_share\": 1, \"account_user_invite\": 1, \"customcode_edit\": 0, \"radreport_edit\": 1, \"study_share_rsna\": 0, \"study_share_account\": 0, \"can_proxy_login\": 0, \"study_report_upload_approved\": 1, \"study_delete\": 1, \"study_edit_unapproved\": 1, \"location_view\": 1, \"case_view_only_own\": 0, \"case_edit\": 0, \"study_report_delete\": 0, \"study_download\": 1, \"study_field_accession_number\": \"F\", \"study_share_group\": 1, \"study_report_view\": 1, \"link_edit\": 0, \"hl7_template_view\": 0, \"route_view\": 0, \"study_report_hl7_view_approved\": 1, \"study_push\": 1, \"hl7_template_edit\": 0, \"study_search_require_accession_number\": 0, \"study_report_view_approved\": 1, \"study_report_delete_approved\": 0, \"study_comment_edit\": 0, \"study_field_customfield_ba7aef15-af21-4523-9af3-16cf54913dc4\": \"O\", \"user_modify_notifications\": 1, \"audit_view\": 1, \"validate_edit\": 0, \"dictionary_edit\": 0, \"study_freeze\": 0, \"order_edit\": 0, \"study_browse\": 1, \"account_view\": 1, \"study_field_patient_name\": \"F\", \"group_edit\": 1, \"dicomdata_edit\": 0, \"study_report_detail\": 1, \"study_edit_approved\": 1, \"user_modify_sharecode\": 1, \"namespace_question\": 0, \"link_direct\": 0, \"ui_json\": \"\", \"study_report_view_unapproved\": 0, \"user_view_others_notifications\": 0, \"study_audio_record\": 0, \"user_request_access\": 0, \"study_manual_route\": 0, \"study_upload\": 1, \"study_move\": 0, \"node_edit\": 0, \"link_view\": 0, \"study_field_patientid\": \"F\", \"link_edit_pin\": 0, \"radreport_view\": 1, \"study_field_patient_birth_date\": \"F\", \"node_edit_own\": 0, \"study_share_location\": 0, \"study_field_study_date\": \"F\", \"study_search_require_patient_birth_date\": 0, \"study_share_npi\": 0, \"study_audio_play\": 0, \"route_edit\": 0, \"study_field_customfield_ed171501-32d7-460d-9068-f8c9ae37f952\": \"F\", \"dictionary_view\": 0, \"study_field_modality\": \"F\", \"role_edit\": 0, \"destination_edit\": 0, \"study_report_upload\": 1, \"study_field_customfield_2c1d145e-d4ec-4ac1-8806-c80f1003bb23\": \"H\", \"meeting_view\": 0, \"customcode_view\": 0, \"study_comment_view\": 0, \"study_status_manual_edit\": 1, \"study_tag\": 0, \"validate_view\": 0, \"annotation_edit\": 1, \"study_split\": 0, \"annotation_view_only_own\": 0, \"study_download_iso\": 0, \"study_approve\": 1, \"patient_edit\": 0, \"study_edit\": 1, \"study_search_require_patientid\": 0, \"study_report_delete_unapproved\": 1, \"hl7_message_view\": 0, \"study_report_upload_unapproved\": 1, \"customfield_edit\": 0, \"study_field_referring_physician\": \"F\", \"case_edit_only_own\": 0, \"annotation_view\": 1, \"viewer_config\": \"\", \"customcode_deploy\": 0, \"destination_view\": 0, \"link_edit_upload\": 0, \"location_edit\": 0, \"study_status_edit\": 1, \"study_field_patient_sex\": \"F\", \"filter_share\": 0, \"hl7_message_delete\": 0, \"purge_view\": 0, \"study_merge\": 0, \"study_duplicate\": 0, \"study_field_study_description\": \"F\", \"account_edit\": 1, \"channel_study\": 1, \"user_modify_others_notifications\": 0, \"study_download_viewer\": 0, \"case_delete\": 0, \"keyimage_view\": 1, \"study_upload_validate\": 0, \"channel_activity\": 1, \"study_report_hl7_view_unapproved\": 0, \"user_edit\": 1, \"node_approve_connect\": 0, \"account_user_view\": 1, \"role_view\": 1, \"patient_view\": 0, \"study_thin\": 0, \"study_report_hl7_view\": 1, \"user_modify_defaults\": 1, \"appointment_edit\": 0, \"viewer3_config\": \"\", \"message_view\": 0, \"study_delete_image\": 1, \"destination_search_mwl\": 0, \"keyimage_edit\": 1, \"order_view\": 0, \"study_star\": 0, \"study_field_customfield_22fd4222-f387-4938-a622-ebed9bc63b97\": \"F\", \"appointment_view_only_own\": 0, \"account_user_edit\": 1, \"meeting_edit\": 0, \"case_view\": 0, \"customfield_view\": 1}, \"patient_name\": \"21-394546\", \"patient_birth_date\": \"\", \"integration_key\": null, \"has_external_viewer\": 0, \"patient_occupation\": null, \"medical_record_locator\": null, \"patient_address\": \"\", \"patientid\": \"21-394546\"}'"
      ]
     },
     "execution_count": 148,
     "metadata": {},
     "output_type": "execute_result"
    }
   ],
   "source": [
    "this_study.toJson()"
   ]
  },
  {
   "cell_type": "code",
   "execution_count": null,
   "metadata": {},
   "outputs": [],
   "source": []
  },
  {
   "cell_type": "code",
   "execution_count": null,
   "metadata": {
    "collapsed": true
   },
   "outputs": [],
   "source": []
  },
  {
   "cell_type": "code",
   "execution_count": null,
   "metadata": {},
   "outputs": [],
   "source": []
  },
  {
   "cell_type": "code",
   "execution_count": 149,
   "metadata": {},
   "outputs": [],
   "source": [
    "series = this_study.get_series()"
   ]
  },
  {
   "cell_type": "code",
   "execution_count": 150,
   "metadata": {},
   "outputs": [],
   "source": [
    "# for key in series[0].keys():\n",
    "#     print(key, series[0][key])"
   ]
  },
  {
   "cell_type": "code",
   "execution_count": 152,
   "metadata": {},
   "outputs": [
    {
     "name": "stdout",
     "output_type": "stream",
     "text": [
      " 1\n",
      " 44\n",
      " 44\n",
      " 57\n",
      " 39\n",
      " 1\n",
      " 1\n"
     ]
    }
   ],
   "source": [
    "for this_series in series:\n",
    "    print(this_series.description, this_series.count)"
   ]
  },
  {
   "cell_type": "code",
   "execution_count": 153,
   "metadata": {},
   "outputs": [],
   "source": [
    "this_series = series[2]"
   ]
  },
  {
   "cell_type": "code",
   "execution_count": 154,
   "metadata": {},
   "outputs": [
    {
     "data": {
      "text/plain": [
       "44"
      ]
     },
     "execution_count": 154,
     "metadata": {},
     "output_type": "execute_result"
    }
   ],
   "source": [
    "this_series.count"
   ]
  },
  {
   "cell_type": "code",
   "execution_count": 70,
   "metadata": {},
   "outputs": [
    {
     "data": {
      "text/plain": [
       "<Box: {'id': '1.2.276.0.7230010.3.1.4.1143195769.2164.1517336141.2053', 'version': 'b7riLYu1BaH-OWGYD_18hRRnplM', 'rank': 44, 'frame_count': 1, 'sop_class': '1.2.840.10008.5.1.4.1.1.2', 'transfer_syntax': '1.2.840.10008.1.2.1'}>"
      ]
     },
     "execution_count": 70,
     "metadata": {},
     "output_type": "execute_result"
    }
   ],
   "source": [
    "this_series.images[43]#.version"
   ]
  },
  {
   "cell_type": "code",
   "execution_count": 121,
   "metadata": {},
   "outputs": [],
   "source": [
    "engine = this_series.study.engine_fqdn\n",
    "namespace = this_series.study.storage_namespace\n",
    "study_uid = this_series.study.study_uid\n",
    "phi_namespace = this_series.study.phi_namespace\n",
    "\n",
    "image_number = 25\n",
    "image_uid = this_series.images[image_number].id\n",
    "image_version = this_series.images[image_number].version\n",
    "\n",
    "# How do I find if the dicom has an encapsulated pdf??\n",
    "#this = this_series._api.Storage.Study.pdf(engine_fqdn=engine, namespace=namespace, study_uid=study_uid, image_uid=image_uid,image_version=image_version)\n",
    "\n",
    "this = this_series._api.Storage.Study.thumbnail(frame_number = 0, engine_fqdn=engine, namespace=namespace, study_uid=study_uid, image_uid=image_uid,image_version=image_version)\n",
    "\n",
    "#this = this_series._api.Storage.Study.tag(engine_fqdn=engine, namespace=namespace, study_uid=study_uid, phi_namespace=phi_namespace)\n",
    "\n"
   ]
  },
  {
   "cell_type": "code",
   "execution_count": 124,
   "metadata": {},
   "outputs": [],
   "source": [
    "from IPython.display import Image, display"
   ]
  },
  {
   "cell_type": "code",
   "execution_count": 177,
   "metadata": {},
   "outputs": [
    {
     "data": {
      "image/jpeg": "[encoded data removed]",
      "text/plain": [
       "<IPython.core.display.Image object>"
      ]
     },
     "metadata": {
      "image/jpeg": {
       "width": 200
      }
     },
     "output_type": "display_data"
    }
   ],
   "source": [
    "display(Image(data=this_series.get_frame(27), width=200))"
   ]
  },
  {
   "cell_type": "code",
   "execution_count": null,
   "metadata": {},
   "outputs": [],
   "source": []
  },
  {
   "cell_type": "code",
   "execution_count": 200,
   "metadata": {
    "scrolled": true
   },
   "outputs": [
    {
     "name": "stdout",
     "output_type": "stream",
     "text": [
      "File Meta Information Version -- Binary Data\n",
      "Media Storage SOP Class UID -- 1.2.840.10008.5.1.4.1.1.2\n",
      "Media Storage SOP Instance UID -- 1.3.12.2.1107.5.1.4.54589.30000017110614250426500002497\n",
      "Transfer Syntax UID -- 1.2.840.10008.1.2.1\n",
      "Implementation Class UID -- 1.2.276.0.7230010.3.0.3.6.0\n",
      "Implementation Version Name -- NAUTILUS_V4\n",
      "Source Application Entity Title -- GEPACS\n",
      "Specific Character Set -- ISO_IR 100\n",
      "Image Type -- ORIGINAL\\PRIMARY\\AXIAL\\CT_SOM5 SPI\n",
      "SOP Class UID -- 1.2.840.10008.5.1.4.1.1.2\n",
      "SOP Instance UID -- 1.2.276.0.7230010.3.1.4.1143195769.2164.1517336141.1951\n",
      "Study Date -- 20171106\n",
      "Series Date -- 20171106\n",
      "Acquisition Date -- 20171106\n",
      "Content Date -- \n",
      "Study Time -- 145358.906000\n",
      "Series Time -- 145558.984000\n",
      "Acquisition Time -- 145455.487711\n",
      "Content Time -- 145455.487711\n",
      "Accession Number -- \n",
      "Modality -- CT\n",
      "Manufacturer -- SIEMENS\n",
      "Institution Name -- \n",
      "Institution Address -- \n",
      "Referring Physician’s Name -- \n",
      "Station Name -- \n",
      "Study Description -- \n",
      "Procedure Code Sequence -- Sequence Element\n",
      "Series Description -- \n",
      "Physician(s) of Record -- \n",
      "Operators’ Name -- \n",
      "Manufacturer’s Model Name -- Sensation Cardiac 64\n",
      "Private Creator Data Element -- SIEMENS CT VA1 DUMMY\n",
      "Private Creator Data Element -- GEIIS\n",
      "Patient’s Name -- \n",
      "Patient ID -- \n",
      "Issuer of Patient ID -- \n",
      "Patient’s Birth Date -- \n",
      "Patient’s Sex -- \n",
      "Patient’s Age -- \n",
      "Patient’s Address -- \n",
      "Patient’s Telephone Numbers -- \n",
      "Ethnic Group -- \n",
      "Body Part Examined -- HEAD\n",
      "Slice Thickness -- 4\n",
      "KVP -- 120\n",
      "Data Collection Diameter -- 500\n",
      "Device Serial Number -- \n",
      "Software Version(s) -- syngo CT 2014A\n",
      "Protocol Name -- \n",
      "Reconstruction Diameter -- 239\n",
      "Distance Source to Detector -- 1040\n",
      "Distance Source to Patient -- 570\n",
      "Gantry/Detector Tilt -- 0\n",
      "Table Height -- 232\n",
      "Rotation Direction -- CW\n",
      "Exposure Time -- 1000\n",
      "X-Ray Tube Current -- 336\n",
      "Exposure -- 353\n",
      "Filter Type -- 0\n",
      "Generator Power -- 34\n",
      "Focal Spot(s) -- 1.2\n",
      "Date of Last Calibration -- 20171106\n",
      "Time of Last Calibration -- 061927.000000\n",
      "Convolution Kernel -- H31s\n",
      "Patient Position -- HFS\n",
      "Single Collimation Width -- 0.6\n",
      "Total Collimation Width -- 6.0\n",
      "Table Speed -- 5.0\n",
      "Table Feed per Rotation -- 5.7\n",
      "Spiral Pitch Factor -- 0.95\n",
      "Exposure Modulation Type -- Z_EC\n",
      "Estimated Dose Saving -- 17.5648\n",
      "CTDIvol -- 57.509052631578946\n",
      "Private Creator Data Element -- SIEMENS CT VA0  COAD\n",
      "? -- 5.7\n",
      "? -- 4.30000017110614151798400000010\n",
      "Study Instance UID -- 1.2.276.0.7230010.3.1.4.1143195769.2164.1517336141.1806\n",
      "Series Instance UID -- 1.2.276.0.7230010.3.1.4.1143195769.2164.1517336141.1810\n",
      "Study ID -- 1.2.276.0.7230010.3.1.4.1143195769.2164.1517336141.1806\n",
      "Series Number -- 4\n",
      "Acquisition Number -- 2\n",
      "Instance Number -- 1\n",
      "Image Position (Patient) -- -102.2666015625\\-341.2666015625\\525.5\n",
      "Image Orientation (Patient) -- 1\\0\\0\\0\\1\\0\n",
      "Frame of Reference UID -- 1.2.276.0.7230010.3.1.4.1143195769.2164.1517336141.1953\n",
      "Position Reference Indicator -- \n",
      "Slice Location -- 525.5\n",
      "Image Comments -- \n",
      "Private Creator Data Element -- SIEMENS MED\n",
      "? -- 17\\10\n",
      "Samples per Pixel -- 1\n",
      "Photometric Interpretation -- MONOCHROME2\n",
      "Rows -- 512\n",
      "Columns -- 512\n",
      "Pixel Spacing -- 0.466796875\\0.466796875\n",
      "Bits Allocated -- 16\n",
      "Bits Stored -- 12\n",
      "High Bit -- 11\n",
      "Pixel Representation -- 0\n",
      "Smallest Image Pixel Value -- 0\n",
      "Largest Image Pixel Value -- 3993\n",
      "Window Center -- 35\\250\n",
      "Window Width -- 80\\3000\n",
      "Rescale Intercept -- -1024\n",
      "Rescale Slope -- 1\n",
      "Window Center & Width Explanation -- WINDOW1\\WINDOW2\n",
      "Private Creator Data Element -- SIEMENS CSA HEADER\n",
      "Private Creator Data Element -- SIEMENS MEDCOM HEADER\n",
      "? -- SOM 5\n",
      "? -- \n",
      "? -- Binary Data\n",
      "? -- Sequence Element\n",
      "Requesting Physician -- \n",
      "Requesting Service -- \n",
      "Requested Procedure Description -- \n",
      "Performed Procedure Step Start Date -- \n",
      "Performed Procedure Step Start Time -- 145359.031000\n",
      "Performed Procedure Step ID -- CT171106-3025\n",
      "Performed Procedure Step Description -- CT HEAD WO CONTRAST\n",
      "Request Attributes Sequence -- Sequence Element\n",
      "Filler Order Number / Imaging Service Request -- \n",
      "Private Creator Data Element -- GEIIS PACS\n",
      "? -- 0\n",
      "? -- 0\n",
      "? -- 0\n",
      "Private Creator Data Element -- GEIIS\n",
      "? -- \n",
      "Private Creator Data Element -- GEIIS\n",
      "? -- 0\n"
     ]
    }
   ],
   "source": [
    "these_tags = this_series.get_tags(0)\n",
    "\n",
    "for tag in these_tags['tags']:\n",
    "    print(f'{tag.name} -- {tag.value}')"
   ]
  },
  {
   "cell_type": "code",
   "execution_count": 78,
   "metadata": {},
   "outputs": [],
   "source": [
    "this_storage = this_series._api.Storage"
   ]
  },
  {
   "cell_type": "code",
   "execution_count": null,
   "metadata": {},
   "outputs": [],
   "source": [
    "this_storage.Study.json()"
   ]
  },
  {
   "cell_type": "code",
   "execution_count": null,
   "metadata": {},
   "outputs": [],
   "source": []
  },
  {
   "cell_type": "code",
   "execution_count": null,
   "metadata": {},
   "outputs": [],
   "source": []
  },
  {
   "cell_type": "markdown",
   "metadata": {},
   "source": [
    "# Downloading data"
   ]
  },
  {
   "cell_type": "code",
   "execution_count": null,
   "metadata": {},
   "outputs": [],
   "source": [
    "#series[0].download('test1.zip')"
   ]
  },
  {
   "cell_type": "code",
   "execution_count": null,
   "metadata": {},
   "outputs": [],
   "source": [
    "#series[1].download('test2.zip')"
   ]
  },
  {
   "cell_type": "code",
   "execution_count": null,
   "metadata": {},
   "outputs": [],
   "source": [
    "#this_study.download('test_all.zip')"
   ]
  },
  {
   "cell_type": "code",
   "execution_count": null,
   "metadata": {},
   "outputs": [],
   "source": [
    "#import zipfile\n",
    "\n",
    "#this_zip = zipfile.ZipFile('test_all.zip', mode='r')"
   ]
  },
  {
   "cell_type": "code",
   "execution_count": null,
   "metadata": {},
   "outputs": [],
   "source": [
    "#this_zip.printdir()"
   ]
  },
  {
   "cell_type": "markdown",
   "metadata": {},
   "source": [
    "# DICOM Tags"
   ]
  },
  {
   "cell_type": "code",
   "execution_count": 183,
   "metadata": {
    "scrolled": false
   },
   "outputs": [],
   "source": [
    "these_tags = this_study.get_tags_json()"
   ]
  },
  {
   "cell_type": "code",
   "execution_count": 194,
   "metadata": {},
   "outputs": [],
   "source": [
    "import pandas as pd\n",
    "from io import StringIO"
   ]
  },
  {
   "cell_type": "code",
   "execution_count": 196,
   "metadata": {
    "scrolled": true
   },
   "outputs": [
    {
     "data": {
      "text/html": [
       "<div>\n",
       "<style scoped>\n",
       "    .dataframe tbody tr th:only-of-type {\n",
       "        vertical-align: middle;\n",
       "    }\n",
       "\n",
       "    .dataframe tbody tr th {\n",
       "        vertical-align: top;\n",
       "    }\n",
       "\n",
       "    .dataframe thead th {\n",
       "        text-align: right;\n",
       "    }\n",
       "</style>\n",
       "<table border=\"1\" class=\"dataframe\">\n",
       "  <thead>\n",
       "    <tr style=\"text-align: right;\">\n",
       "      <th></th>\n",
       "      <th>name</th>\n",
       "      <th>group</th>\n",
       "      <th>element</th>\n",
       "      <th>vr</th>\n",
       "      <th>vl</th>\n",
       "      <th>initialTagValue</th>\n",
       "      <th>simpleValue</th>\n",
       "      <th>value</th>\n",
       "      <th>items</th>\n",
       "    </tr>\n",
       "  </thead>\n",
       "  <tbody>\n",
       "    <tr>\n",
       "      <th>0</th>\n",
       "      <td>File Meta Information Version</td>\n",
       "      <td>2</td>\n",
       "      <td>1</td>\n",
       "      <td>OB</td>\n",
       "      <td>2</td>\n",
       "      <td>131073</td>\n",
       "      <td>Binary Data</td>\n",
       "      <td>Binary Data</td>\n",
       "      <td>NaN</td>\n",
       "    </tr>\n",
       "    <tr>\n",
       "      <th>1</th>\n",
       "      <td>Media Storage SOP Class UID</td>\n",
       "      <td>2</td>\n",
       "      <td>2</td>\n",
       "      <td>UI</td>\n",
       "      <td>26</td>\n",
       "      <td>131074</td>\n",
       "      <td>1.2.840.10008.5.1.4.1.1.2</td>\n",
       "      <td>1.2.840.10008.5.1.4.1.1.2</td>\n",
       "      <td>NaN</td>\n",
       "    </tr>\n",
       "    <tr>\n",
       "      <th>2</th>\n",
       "      <td>Media Storage SOP Instance UID</td>\n",
       "      <td>2</td>\n",
       "      <td>3</td>\n",
       "      <td>UI</td>\n",
       "      <td>56</td>\n",
       "      <td>131075</td>\n",
       "      <td>1.3.12.2.1107.5.1.4.54589.30000017110611154951...</td>\n",
       "      <td>1.3.12.2.1107.5.1.4.54589.30000017110611154951...</td>\n",
       "      <td>NaN</td>\n",
       "    </tr>\n",
       "    <tr>\n",
       "      <th>3</th>\n",
       "      <td>Transfer Syntax UID</td>\n",
       "      <td>2</td>\n",
       "      <td>16</td>\n",
       "      <td>UI</td>\n",
       "      <td>20</td>\n",
       "      <td>131088</td>\n",
       "      <td>1.2.840.10008.1.2.1</td>\n",
       "      <td>1.2.840.10008.1.2.1</td>\n",
       "      <td>NaN</td>\n",
       "    </tr>\n",
       "    <tr>\n",
       "      <th>4</th>\n",
       "      <td>Implementation Class UID</td>\n",
       "      <td>2</td>\n",
       "      <td>18</td>\n",
       "      <td>UI</td>\n",
       "      <td>28</td>\n",
       "      <td>131090</td>\n",
       "      <td>1.2.276.0.7230010.3.0.3.6.0</td>\n",
       "      <td>1.2.276.0.7230010.3.0.3.6.0</td>\n",
       "      <td>NaN</td>\n",
       "    </tr>\n",
       "    <tr>\n",
       "      <th>...</th>\n",
       "      <td>...</td>\n",
       "      <td>...</td>\n",
       "      <td>...</td>\n",
       "      <td>...</td>\n",
       "      <td>...</td>\n",
       "      <td>...</td>\n",
       "      <td>...</td>\n",
       "      <td>...</td>\n",
       "      <td>...</td>\n",
       "    </tr>\n",
       "    <tr>\n",
       "      <th>116</th>\n",
       "      <td>?</td>\n",
       "      <td>2307</td>\n",
       "      <td>4114</td>\n",
       "      <td>US</td>\n",
       "      <td>2</td>\n",
       "      <td>151195666</td>\n",
       "      <td>0</td>\n",
       "      <td>0</td>\n",
       "      <td>NaN</td>\n",
       "    </tr>\n",
       "    <tr>\n",
       "      <th>117</th>\n",
       "      <td>Private Creator Data Element</td>\n",
       "      <td>2309</td>\n",
       "      <td>16</td>\n",
       "      <td>LO</td>\n",
       "      <td>6</td>\n",
       "      <td>151322640</td>\n",
       "      <td>GEIIS</td>\n",
       "      <td>GEIIS</td>\n",
       "      <td>NaN</td>\n",
       "    </tr>\n",
       "    <tr>\n",
       "      <th>118</th>\n",
       "      <td>?</td>\n",
       "      <td>2309</td>\n",
       "      <td>4144</td>\n",
       "      <td>LO</td>\n",
       "      <td>2</td>\n",
       "      <td>151326768</td>\n",
       "      <td>NaN</td>\n",
       "      <td>NaN</td>\n",
       "      <td>NaN</td>\n",
       "    </tr>\n",
       "    <tr>\n",
       "      <th>119</th>\n",
       "      <td>Private Creator Data Element</td>\n",
       "      <td>32721</td>\n",
       "      <td>16</td>\n",
       "      <td>LO</td>\n",
       "      <td>6</td>\n",
       "      <td>2144403472</td>\n",
       "      <td>GEIIS</td>\n",
       "      <td>GEIIS</td>\n",
       "      <td>NaN</td>\n",
       "    </tr>\n",
       "    <tr>\n",
       "      <th>120</th>\n",
       "      <td>?</td>\n",
       "      <td>32721</td>\n",
       "      <td>4112</td>\n",
       "      <td>UL</td>\n",
       "      <td>4</td>\n",
       "      <td>2144407568</td>\n",
       "      <td>0</td>\n",
       "      <td>0</td>\n",
       "      <td>NaN</td>\n",
       "    </tr>\n",
       "  </tbody>\n",
       "</table>\n",
       "<p>121 rows × 9 columns</p>\n",
       "</div>"
      ],
      "text/plain": [
       "                               name  ...  items\n",
       "0     File Meta Information Version  ...    NaN\n",
       "1       Media Storage SOP Class UID  ...    NaN\n",
       "2    Media Storage SOP Instance UID  ...    NaN\n",
       "3               Transfer Syntax UID  ...    NaN\n",
       "4          Implementation Class UID  ...    NaN\n",
       "..                              ...  ...    ...\n",
       "116                               ?  ...    NaN\n",
       "117    Private Creator Data Element  ...    NaN\n",
       "118                               ?  ...    NaN\n",
       "119    Private Creator Data Element  ...    NaN\n",
       "120                               ?  ...    NaN\n",
       "\n",
       "[121 rows x 9 columns]"
      ]
     },
     "execution_count": 196,
     "metadata": {},
     "output_type": "execute_result"
    }
   ],
   "source": [
    "pd.read_csv(StringIO(these_tags[0]['tags'].to_csv()))"
   ]
  },
  {
   "cell_type": "code",
   "execution_count": 197,
   "metadata": {},
   "outputs": [
    {
     "data": {
      "text/plain": [
       "187"
      ]
     },
     "execution_count": 197,
     "metadata": {},
     "output_type": "execute_result"
    }
   ],
   "source": [
    "len(these_tags)"
   ]
  },
  {
   "cell_type": "code",
   "execution_count": null,
   "metadata": {
    "scrolled": false
   },
   "outputs": [],
   "source": [
    "# prints all the dicom tags and values in the first slice\n",
    "#json[0]\n"
   ]
  },
  {
   "cell_type": "code",
   "execution_count": null,
   "metadata": {},
   "outputs": [],
   "source": []
  },
  {
   "cell_type": "markdown",
   "metadata": {},
   "source": [
    "# Reports\n"
   ]
  },
  {
   "cell_type": "code",
   "execution_count": null,
   "metadata": {},
   "outputs": [],
   "source": [
    "this_study.phi_namespace_name"
   ]
  },
  {
   "cell_type": "code",
   "execution_count": null,
   "metadata": {},
   "outputs": [],
   "source": []
  },
  {
   "cell_type": "code",
   "execution_count": null,
   "metadata": {},
   "outputs": [],
   "source": []
  },
  {
   "cell_type": "code",
   "execution_count": null,
   "metadata": {},
   "outputs": [],
   "source": []
  },
  {
   "cell_type": "code",
   "execution_count": null,
   "metadata": {},
   "outputs": [],
   "source": [
    "from datetime import datetime"
   ]
  },
  {
   "cell_type": "code",
   "execution_count": null,
   "metadata": {},
   "outputs": [],
   "source": [
    "min_date = datetime(2020, 11, 1)"
   ]
  },
  {
   "cell_type": "code",
   "execution_count": null,
   "metadata": {},
   "outputs": [],
   "source": [
    "isinstance(min_date, datetime)"
   ]
  },
  {
   "cell_type": "code",
   "execution_count": null,
   "metadata": {},
   "outputs": [],
   "source": []
  },
  {
   "cell_type": "raw",
   "metadata": {},
   "source": []
  },
  {
   "cell_type": "code",
   "execution_count": null,
   "metadata": {},
   "outputs": [],
   "source": []
  }
 ],
 "metadata": {
  "kernelspec": {
   "display_name": "Python 3",
   "language": "python",
   "name": "python3"
  },
  "language_info": {
   "codemirror_mode": {
    "name": "ipython",
    "version": 3
   },
   "file_extension": ".py",
   "mimetype": "text/x-python",
   "name": "python",
   "nbconvert_exporter": "python",
   "pygments_lexer": "ipython3",
   "version": "3.7.6"
  }
 },
 "nbformat": 4,
 "nbformat_minor": 4
}
